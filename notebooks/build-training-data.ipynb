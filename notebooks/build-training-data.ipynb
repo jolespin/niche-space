{
 "cells": [
  {
   "cell_type": "code",
   "execution_count": 1,
   "id": "1cedfcc7-65a5-4fea-b0ca-4f105d963792",
   "metadata": {},
   "outputs": [
    {
     "name": "stderr",
     "output_type": "stream",
     "text": [
      "/home/ec2-user/SageMaker/environments/mns/lib/python3.9/site-packages/tqdm/auto.py:21: TqdmWarning: IProgress not found. Please update jupyter and ipywidgets. See https://ipywidgets.readthedocs.io/en/stable/user_install.html\n",
      "  from .autonotebook import tqdm as notebook_tqdm\n"
     ]
    }
   ],
   "source": [
    "import pandas as pd\n",
    "import os\n",
    "from pyexeggutor import read_list\n",
    "from metabolic_niche_space.utils import fast_groupby\n"
   ]
  },
  {
   "cell_type": "code",
   "execution_count": 4,
   "id": "a1c37740-f8ef-41ee-ad17-2486400cf402",
   "metadata": {},
   "outputs": [
    {
     "name": "stderr",
     "output_type": "stream",
     "text": [
      "Grouping rows by: 100%|██████████| 2124/2124 [00:00<00:00, 11274.30 column/s]\n"
     ]
    },
    {
     "name": "stdout",
     "output_type": "stream",
     "text": [
      "CPU times: user 10.1 s, sys: 604 ms, total: 10.7 s\n",
      "Wall time: 10.7 s\n"
     ]
    }
   ],
   "source": [
    "%%time\n",
    "# Data\n",
    "output_directory=\"../data/training\"\n",
    "df_quality = pd.read_csv(\"../data/quality.tsv.gz\", sep=\"\\t\", index_col=0)\n",
    "quality_label=\"completeness_gte90.contamination_lt5\"\n",
    "# quality_label=\"completeness_gte50.contamination_lt10\"\n",
    "\n",
    "genome_to_clusterani = pd.read_csv(os.path.join(output_directory, quality_label, \"genome_to_ani-cluster.tsv.gz\"), sep=\"\\t\", index_col=0).iloc[:,0].astype(\"category\")\n",
    "X_genomic_traits = pd.read_csv(os.path.join(output_directory, \"global.genomic_traits.kofam.bool-int.pathway_subset.tsv.gz\"), sep=\"\\t\", index_col=0).astype(bool)\n",
    "X_genomic_traits = X_genomic_traits.loc[X_genomic_traits.sum(axis=1)[lambda x: x > 0].index]\n",
    "genomes = sorted(set(genome_to_clusterani.index) & set(X_genomic_traits.index))\n",
    "X_genomic_traits = X_genomic_traits.loc[genomes]\n",
    "genome_to_clusterani = genome_to_clusterani.loc[genomes]\n",
    "# X_genomic_traits_clusterani_prevalence_ratio = fast_groupby(X_genomic_traits, genome_to_clusterani, method=\"mean\")\n",
    "X_genomic_traits_clusterani = fast_groupby(X_genomic_traits, genome_to_clusterani, method=\"sum\").astype(bool)\n",
    "\n",
    "\n",
    "eukaryotes = read_list(f\"../data/cluster/ani/eukaryotic/{quality_label}/organisms.list\", set)\n",
    "prokaryotes = read_list(f\"../data/cluster/ani/prokaryotic/{quality_label}/organisms.list\", set)\n",
    "\n",
    "\n",
    "# CPU times: user 11.6 s, sys: 1.22 s, total: 12.8 s\n",
    "# Wall time: 12.8 s"
   ]
  },
  {
   "cell_type": "code",
   "execution_count": 3,
   "id": "c294624f-818d-4b85-9673-79e1fa453c1b",
   "metadata": {},
   "outputs": [],
   "source": [
    "X_genomic_traits.astype(int).to_csv(f\"../data/training/{quality_label}/X.tsv.gz\", sep=\"\\t\")\n",
    "X_genomic_traits_clusterani.astype(int).to_csv(f\"../data/training/{quality_label}/X_grouped.tsv.gz\", sep=\"\\t\")\n",
    "genome_to_clusterani.to_frame().to_csv(f\"../data/training/{quality_label}/y.tsv.gz\", sep=\"\\t\", header=None)"
   ]
  },
  {
   "cell_type": "code",
   "execution_count": 6,
   "id": "28558cc6-cc38-46b3-a19c-febea477ff0b",
   "metadata": {
    "tags": []
   },
   "outputs": [
    {
     "data": {
      "text/plain": [
       "0.1629830127286115"
      ]
     },
     "execution_count": 6,
     "metadata": {},
     "output_type": "execute_result"
    }
   ],
   "source": [
    "X_genomic_traits_clusterani.values.ravel().mean()"
   ]
  },
  {
   "cell_type": "code",
   "execution_count": null,
   "id": "a5fc6c17-9f61-44ce-931f-160a998a4890",
   "metadata": {},
   "outputs": [],
   "source": []
  }
 ],
 "metadata": {
  "kernelspec": {
   "display_name": "conda_mns",
   "language": "python",
   "name": "conda_mns"
  },
  "language_info": {
   "codemirror_mode": {
    "name": "ipython",
    "version": 3
   },
   "file_extension": ".py",
   "mimetype": "text/x-python",
   "name": "python",
   "nbconvert_exporter": "python",
   "pygments_lexer": "ipython3",
   "version": "3.9.21"
  }
 },
 "nbformat": 4,
 "nbformat_minor": 5
}
