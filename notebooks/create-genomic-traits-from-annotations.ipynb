{
 "cells": [
  {
   "cell_type": "code",
   "execution_count": 1,
   "id": "d4a63e6e-5b85-4a0f-9d66-439f8c5eaaf3",
   "metadata": {
    "tags": []
   },
   "outputs": [],
   "source": [
    "import os,sys,glob\n",
    "from collections import defaultdict\n",
    "from tqdm import tqdm\n",
    "import numpy as np\n",
    "import pandas as pd # 'v2.2.3'\n",
    "\n",
    "import pyexeggutor as exe"
   ]
  },
  {
   "cell_type": "code",
   "execution_count": 2,
   "id": "69642721-a706-4c45-99e9-070d351d32da",
   "metadata": {
    "tags": []
   },
   "outputs": [],
   "source": [
    "genomic_databases = ['EnsemblFungi',\n",
    " 'EnsemblProtists',\n",
    " 'Haroon_2016-PRJNA289734-RedSea',\n",
    " 'JGI-MycoCosm',\n",
    " 'JGI-PhycoCosm',\n",
    " 'Jungbluth_2017-PRJNA269163-JuanDeFucaRidgeSubsurface',\n",
    " 'Li_2024-PRJNA1111327-KermadecDiamantinaTrench',\n",
    " 'Liu_2024-PRJNA1081583-EastChinaSeaLowOxygenRegion',\n",
    " 'MMP-MarFun',\n",
    " 'MMP-MarRef',\n",
    " 'Nathani_2021-PRJEB26614_PRJEB26615-GulfKuthiawarPeninsula',\n",
    " 'Nenasheva_2024-10.5281_zenodo.13933292-Diatoms',\n",
    " 'OceanDNA',\n",
    " 'TARA-BAC_ARC_MAGs',\n",
    " 'TARA-Delmont_2018',\n",
    " 'TARA-SAGv1',\n",
    " 'TARA-SMAGv1',\n",
    " 'TARA-TOPAZ',\n",
    " 'Xu_2024-PRJNA880762-SouthChinaSea',\n",
    " 'Zhang_2022-PRJNA707313-ColdSeepSouthChinaSea',\n",
    " 'Zhang_2023-PRJNA808646-CCFZ',\n",
    " 'Zhang_2024-PRJNA113162029-YapMarianaTrenchSediment',\n",
    " 'Zhou_2022-PRJNA730330-SouthChinaEstuary']\n",
    "# for filepath_gene_to_genome in glob.glob(\"/home/ec2-user/SageMaker/s3/newatlantis-genomics-db-prod/SourceDatabases/*/Metadata/gene_to_genome.pkl.gz\"):\n",
    "#     id_database = filepath_gene_to_genome.split(\"/\")[-3]\n",
    "#     genomic_databases.append(id_database)\n",
    "    \n"
   ]
  },
  {
   "cell_type": "code",
   "execution_count": 22,
   "id": "d6020a4c-92f3-4c83-b289-264581411cc9",
   "metadata": {
    "tags": []
   },
   "outputs": [
    {
     "name": "stderr",
     "output_type": "stream",
     "text": [
      "Building genomic traits matrix: EnsemblFungi: 100%|██████████| 5703801/5703801 [00:11<00:00, 496428.12it/s]\n"
     ]
    },
    {
     "name": "stdout",
     "output_type": "stream",
     "text": [
      "EnsemblFungi: Memory before: 100.66 MB, after: 22.96 MB, reduction: 77.19%\n"
     ]
    },
    {
     "name": "stderr",
     "output_type": "stream",
     "text": [
      "Building genomic traits matrix: EnsemblProtists: 100%|██████████| 568245/568245 [00:01<00:00, 533150.03it/s]\n"
     ]
    },
    {
     "name": "stdout",
     "output_type": "stream",
     "text": [
      "EnsemblProtists: Memory before: 12.99 MB, after: 2.06 MB, reduction: 84.12%\n"
     ]
    },
    {
     "name": "stderr",
     "output_type": "stream",
     "text": [
      "Building genomic traits matrix: Haroon_2016-PRJNA289734-RedSea: 100%|██████████| 144598/144598 [00:00<00:00, 613390.45it/s]\n"
     ]
    },
    {
     "name": "stdout",
     "output_type": "stream",
     "text": [
      "Haroon_2016-PRJNA289734-RedSea: Memory before: 5.21 MB, after: 0.64 MB, reduction: 87.68%\n"
     ]
    },
    {
     "name": "stderr",
     "output_type": "stream",
     "text": [
      "Building genomic traits matrix: JGI-MycoCosm: 100%|██████████| 9893803/9893803 [00:19<00:00, 511522.02it/s]\n"
     ]
    },
    {
     "name": "stdout",
     "output_type": "stream",
     "text": [
      "JGI-MycoCosm: Memory before: 162.00 MB, after: 39.19 MB, reduction: 75.81%\n"
     ]
    },
    {
     "name": "stderr",
     "output_type": "stream",
     "text": [
      "Building genomic traits matrix: JGI-PhycoCosm: 100%|██████████| 645327/645327 [00:01<00:00, 539859.98it/s]\n"
     ]
    },
    {
     "name": "stdout",
     "output_type": "stream",
     "text": [
      "JGI-PhycoCosm: Memory before: 13.14 MB, after: 2.38 MB, reduction: 81.88%\n"
     ]
    },
    {
     "name": "stderr",
     "output_type": "stream",
     "text": [
      "Building genomic traits matrix: Jungbluth_2017-PRJNA269163-JuanDeFucaRidgeSubsurface: 100%|██████████| 78073/78073 [00:00<00:00, 622241.20it/s]\n"
     ]
    },
    {
     "name": "stdout",
     "output_type": "stream",
     "text": [
      "Jungbluth_2017-PRJNA269163-JuanDeFucaRidgeSubsurface: Memory before: 3.97 MB, after: 0.35 MB, reduction: 91.29%\n"
     ]
    },
    {
     "name": "stderr",
     "output_type": "stream",
     "text": [
      "Building genomic traits matrix: Li_2024-PRJNA1111327-KermadecDiamantinaTrench: 100%|██████████| 1465998/1465998 [00:02<00:00, 540026.09it/s]\n"
     ]
    },
    {
     "name": "stdout",
     "output_type": "stream",
     "text": [
      "Li_2024-PRJNA1111327-KermadecDiamantinaTrench: Memory before: 61.87 MB, after: 6.33 MB, reduction: 89.76%\n"
     ]
    },
    {
     "name": "stderr",
     "output_type": "stream",
     "text": [
      "Building genomic traits matrix: Liu_2024-PRJNA1081583-EastChinaSeaLowOxygenRegion: 100%|██████████| 1488219/1488219 [00:02<00:00, 567288.16it/s]\n"
     ]
    },
    {
     "name": "stdout",
     "output_type": "stream",
     "text": [
      "Liu_2024-PRJNA1081583-EastChinaSeaLowOxygenRegion: Memory before: 84.59 MB, after: 6.55 MB, reduction: 92.25%\n"
     ]
    },
    {
     "name": "stderr",
     "output_type": "stream",
     "text": [
      "Building genomic traits matrix: MMP-MarFun: 100%|██████████| 67173/67173 [00:00<00:00, 578325.48it/s]\n"
     ]
    },
    {
     "name": "stdout",
     "output_type": "stream",
     "text": [
      "MMP-MarFun: Memory before: 0.92 MB, after: 0.28 MB, reduction: 68.95%\n"
     ]
    },
    {
     "name": "stderr",
     "output_type": "stream",
     "text": [
      "Building genomic traits matrix: MMP-MarRef: 100%|██████████| 884664/884664 [00:01<00:00, 584171.48it/s]\n"
     ]
    },
    {
     "name": "stdout",
     "output_type": "stream",
     "text": [
      "MMP-MarRef: Memory before: 32.89 MB, after: 3.51 MB, reduction: 89.34%\n"
     ]
    },
    {
     "name": "stderr",
     "output_type": "stream",
     "text": [
      "Building genomic traits matrix: Nathani_2021-PRJEB26614_PRJEB26615-GulfKuthiawarPeninsula: 100%|██████████| 416359/416359 [00:00<00:00, 606581.36it/s]\n"
     ]
    },
    {
     "name": "stdout",
     "output_type": "stream",
     "text": [
      "Nathani_2021-PRJEB26614_PRJEB26615-GulfKuthiawarPeninsula: Memory before: 13.17 MB, after: 1.62 MB, reduction: 87.66%\n"
     ]
    },
    {
     "name": "stderr",
     "output_type": "stream",
     "text": [
      "Building genomic traits matrix: Nenasheva_2024-10.5281_zenodo.13933292-Diatoms: 100%|██████████| 192127/192127 [00:00<00:00, 576512.68it/s]\n"
     ]
    },
    {
     "name": "stdout",
     "output_type": "stream",
     "text": [
      "Nenasheva_2024-10.5281_zenodo.13933292-Diatoms: Memory before: 1.81 MB, after: 0.59 MB, reduction: 67.12%\n"
     ]
    },
    {
     "name": "stderr",
     "output_type": "stream",
     "text": [
      "Building genomic traits matrix: OceanDNA: 100%|██████████| 49915369/49915369 [01:46<00:00, 467585.88it/s]\n"
     ]
    },
    {
     "name": "stdout",
     "output_type": "stream",
     "text": [
      "OceanDNA: Memory before: 3834.36 MB, after: 221.91 MB, reduction: 94.21%\n"
     ]
    },
    {
     "name": "stderr",
     "output_type": "stream",
     "text": [
      "Building genomic traits matrix: TARA-BAC_ARC_MAGs: 100%|██████████| 2049601/2049601 [00:04<00:00, 511524.29it/s]\n"
     ]
    },
    {
     "name": "stdout",
     "output_type": "stream",
     "text": [
      "TARA-BAC_ARC_MAGs: Memory before: 125.69 MB, after: 8.97 MB, reduction: 92.86%\n"
     ]
    },
    {
     "name": "stderr",
     "output_type": "stream",
     "text": [
      "Building genomic traits matrix: TARA-Delmont_2018: 100%|██████████| 426766/426766 [00:00<00:00, 547704.96it/s]\n"
     ]
    },
    {
     "name": "stdout",
     "output_type": "stream",
     "text": [
      "TARA-Delmont_2018: Memory before: 32.61 MB, after: 1.87 MB, reduction: 94.25%\n"
     ]
    },
    {
     "name": "stderr",
     "output_type": "stream",
     "text": [
      "Building genomic traits matrix: TARA-SAGv1: 100%|██████████| 10593/10593 [00:00<00:00, 726316.98it/s]\n"
     ]
    },
    {
     "name": "stdout",
     "output_type": "stream",
     "text": [
      "TARA-SAGv1: Memory before: 0.18 MB, after: 0.04 MB, reduction: 76.16%\n"
     ]
    },
    {
     "name": "stderr",
     "output_type": "stream",
     "text": [
      "Building genomic traits matrix: TARA-SMAGv1: 100%|██████████| 1257612/1257612 [00:02<00:00, 497913.97it/s]\n"
     ]
    },
    {
     "name": "stdout",
     "output_type": "stream",
     "text": [
      "TARA-SMAGv1: Memory before: 53.22 MB, after: 5.00 MB, reduction: 90.61%\n"
     ]
    },
    {
     "name": "stderr",
     "output_type": "stream",
     "text": [
      "Building genomic traits matrix: TARA-TOPAZ: 100%|██████████| 6090596/6090596 [00:12<00:00, 485005.79it/s]\n"
     ]
    },
    {
     "name": "stdout",
     "output_type": "stream",
     "text": [
      "TARA-TOPAZ: Memory before: 560.51 MB, after: 25.55 MB, reduction: 95.44%\n"
     ]
    },
    {
     "name": "stderr",
     "output_type": "stream",
     "text": [
      "Building genomic traits matrix: Xu_2024-PRJNA880762-SouthChinaSea: 100%|██████████| 1559302/1559302 [00:02<00:00, 553393.89it/s]\n"
     ]
    },
    {
     "name": "stdout",
     "output_type": "stream",
     "text": [
      "Xu_2024-PRJNA880762-SouthChinaSea: Memory before: 106.73 MB, after: 6.88 MB, reduction: 93.56%\n"
     ]
    },
    {
     "name": "stderr",
     "output_type": "stream",
     "text": [
      "Building genomic traits matrix: Zhang_2022-PRJNA707313-ColdSeepSouthChinaSea: 100%|██████████| 601976/601976 [00:01<00:00, 569651.76it/s]\n"
     ]
    },
    {
     "name": "stdout",
     "output_type": "stream",
     "text": [
      "Zhang_2022-PRJNA707313-ColdSeepSouthChinaSea: Memory before: 41.26 MB, after: 2.55 MB, reduction: 93.83%\n"
     ]
    },
    {
     "name": "stderr",
     "output_type": "stream",
     "text": [
      "Building genomic traits matrix: Zhang_2023-PRJNA808646-CCFZ: 100%|██████████| 207906/207906 [00:00<00:00, 606790.02it/s]\n"
     ]
    },
    {
     "name": "stdout",
     "output_type": "stream",
     "text": [
      "Zhang_2023-PRJNA808646-CCFZ: Memory before: 6.93 MB, after: 0.88 MB, reduction: 87.34%\n"
     ]
    },
    {
     "name": "stderr",
     "output_type": "stream",
     "text": [
      "Building genomic traits matrix: Zhang_2024-PRJNA113162029-YapMarianaTrenchSediment: 100%|██████████| 123249/123249 [00:00<00:00, 602850.58it/s]\n"
     ]
    },
    {
     "name": "stdout",
     "output_type": "stream",
     "text": [
      "Zhang_2024-PRJNA113162029-YapMarianaTrenchSediment: Memory before: 3.72 MB, after: 0.54 MB, reduction: 85.50%\n"
     ]
    },
    {
     "name": "stderr",
     "output_type": "stream",
     "text": [
      "Building genomic traits matrix: Zhou_2022-PRJNA730330-SouthChinaEstuary: 100%|██████████| 461193/461193 [00:00<00:00, 582296.30it/s]\n"
     ]
    },
    {
     "name": "stdout",
     "output_type": "stream",
     "text": [
      "Zhou_2022-PRJNA730330-SouthChinaEstuary: Memory before: 26.53 MB, after: 2.03 MB, reduction: 92.35%\n"
     ]
    }
   ],
   "source": [
    "# Creating per-database genomic traits matrices\n",
    "# =============================================\n",
    "# for id_database in ['Jungbluth_2017-PRJNA269163-JuanDeFucaRidgeSubsurface']:\n",
    "for id_database in genomic_databases:\n",
    "    output_directory = f\"/home/ec2-user/SageMaker/s3/newatlantis-genomics-db-prod/SourceDatabases/{id_database}/Traits\"\n",
    "    if not os.path.exists(output_directory):\n",
    "        os.makedirs(output_directory)\n",
    "    genomic_traits = defaultdict(lambda: defaultdict(int))\n",
    "    gene_to_genome = exe.read_pickle(f\"/home/ec2-user/SageMaker/s3/newatlantis-genomics-db-prod/SourceDatabases/{id_database}/Metadata/gene_to_genome.pkl.gz\")\n",
    "    protein_annotations = exe.read_pickle(f\"/home/ec2-user/SageMaker/s3/newatlantis-genomics-db-prod/SourceDatabases/{id_database}/Metadata/protein_annotations.pkl.gz\")\n",
    "    for id_gene, annotations in tqdm(protein_annotations.items(), desc=f\"Building genomic traits matrix: {id_database}\"):\n",
    "        id_genome = gene_to_genome[id_gene]\n",
    "        for id_ko in annotations[\"KOfam\"]:\n",
    "            genomic_traits[id_ko][id_genome] += 1\n",
    "    X_genomic_traits = pd.DataFrame(genomic_traits).fillna(0).astype(int)\n",
    "    memory_before = X_genomic_traits.memory_usage(deep=True).sum()\n",
    "    X_genomic_traits = X_genomic_traits.astype(pd.SparseDtype(dtype=int, fill_value=0))\n",
    "    X_genomic_traits.index.name = \"id_genome\"\n",
    "    X_genomic_traits.columns.name = \"id_feature\"\n",
    "    X_genomic_traits.to_pickle(os.path.join(output_directory, \"genomic_traits.kofam.int.pkl.gz\"))\n",
    "    X_genomic_traits = X_genomic_traits > 0\n",
    "    X_genomic_traits = X_genomic_traits.astype(pd.SparseDtype(dtype=bool, fill_value=False))\n",
    "    X_genomic_traits.to_pickle(os.path.join(output_directory, \"genomic_traits.kofam.bool.pkl.gz\"))    \n",
    "    memory_after = X_genomic_traits.memory_usage(deep=True).sum()\n",
    "    print(f\"{id_database}: Memory before: {memory_before / 1e6:.2f} MB, after: {memory_after / 1e6:.2f} MB, reduction: {100 * (memory_before - memory_after) / memory_before:.2f}%\")\n"
   ]
  },
  {
   "cell_type": "code",
   "execution_count": null,
   "id": "a704139a-984b-4d1a-8b54-e426815605bd",
   "metadata": {
    "tags": []
   },
   "outputs": [],
   "source": [
    "ls ../data/training/"
   ]
  },
  {
   "cell_type": "code",
   "execution_count": 24,
   "id": "5cf465f0-97b5-4a83-b7bb-93202f0e2763",
   "metadata": {
    "tags": []
   },
   "outputs": [
    {
     "name": "stderr",
     "output_type": "stream",
     "text": [
      "Building genomic traits matrix: EnsemblFungi: 100%|██████████| 5703801/5703801 [00:11<00:00, 497211.63it/s]\n",
      "Building genomic traits matrix: EnsemblProtists: 100%|██████████| 568245/568245 [00:01<00:00, 496999.58it/s]\n",
      "Building genomic traits matrix: Haroon_2016-PRJNA289734-RedSea: 100%|██████████| 144598/144598 [00:00<00:00, 567287.28it/s]\n",
      "Building genomic traits matrix: JGI-MycoCosm: 100%|██████████| 9893803/9893803 [00:20<00:00, 487394.26it/s]\n",
      "Building genomic traits matrix: JGI-PhycoCosm: 100%|██████████| 645327/645327 [00:01<00:00, 518319.21it/s]\n",
      "Building genomic traits matrix: Jungbluth_2017-PRJNA269163-JuanDeFucaRidgeSubsurface: 100%|██████████| 78073/78073 [00:00<00:00, 545903.57it/s]\n",
      "Building genomic traits matrix: Li_2024-PRJNA1111327-KermadecDiamantinaTrench: 100%|██████████| 1465998/1465998 [00:02<00:00, 515112.63it/s]\n",
      "Building genomic traits matrix: Liu_2024-PRJNA1081583-EastChinaSeaLowOxygenRegion: 100%|██████████| 1488219/1488219 [00:03<00:00, 488871.12it/s]\n",
      "Building genomic traits matrix: MMP-MarFun: 100%|██████████| 67173/67173 [00:00<00:00, 507934.19it/s]\n",
      "Building genomic traits matrix: MMP-MarRef: 100%|██████████| 884664/884664 [00:01<00:00, 518931.52it/s]\n",
      "Building genomic traits matrix: Nathani_2021-PRJEB26614_PRJEB26615-GulfKuthiawarPeninsula: 100%|██████████| 416359/416359 [00:00<00:00, 501986.49it/s]\n",
      "Building genomic traits matrix: Nenasheva_2024-10.5281_zenodo.13933292-Diatoms: 100%|██████████| 192127/192127 [00:00<00:00, 523761.86it/s]\n",
      "Building genomic traits matrix: OceanDNA: 100%|██████████| 49915369/49915369 [01:49<00:00, 457551.74it/s]\n",
      "Building genomic traits matrix: TARA-BAC_ARC_MAGs: 100%|██████████| 2049601/2049601 [00:04<00:00, 425087.15it/s]\n",
      "Building genomic traits matrix: TARA-Delmont_2018: 100%|██████████| 426766/426766 [00:00<00:00, 431224.75it/s]\n",
      "Building genomic traits matrix: TARA-SAGv1: 100%|██████████| 10593/10593 [00:00<00:00, 588761.03it/s]\n",
      "Building genomic traits matrix: TARA-SMAGv1: 100%|██████████| 1257612/1257612 [00:02<00:00, 455021.33it/s]\n",
      "Building genomic traits matrix: TARA-TOPAZ: 100%|██████████| 6090596/6090596 [00:14<00:00, 426014.21it/s]\n",
      "Building genomic traits matrix: Xu_2024-PRJNA880762-SouthChinaSea: 100%|██████████| 1559302/1559302 [00:03<00:00, 441657.68it/s]\n",
      "Building genomic traits matrix: Zhang_2022-PRJNA707313-ColdSeepSouthChinaSea: 100%|██████████| 601976/601976 [00:01<00:00, 448012.27it/s]\n",
      "Building genomic traits matrix: Zhang_2023-PRJNA808646-CCFZ: 100%|██████████| 207906/207906 [00:00<00:00, 442045.29it/s]\n",
      "Building genomic traits matrix: Zhang_2024-PRJNA113162029-YapMarianaTrenchSediment: 100%|██████████| 123249/123249 [00:00<00:00, 377980.13it/s]\n",
      "Building genomic traits matrix: Zhou_2022-PRJNA730330-SouthChinaEstuary: 100%|██████████| 461193/461193 [00:01<00:00, 409541.41it/s]\n"
     ]
    },
    {
     "name": "stdout",
     "output_type": "stream",
     "text": [
      "Global: Memory before: 9885.71 MB, after: 362.68 MB, reduction: 96.33%\n"
     ]
    }
   ],
   "source": [
    "# Creating global genomic traits matrices\n",
    "# =============================================\n",
    "genomic_traits = defaultdict(lambda: defaultdict(int))\n",
    "output_directory=\"../data/training/\"\n",
    "for id_database in genomic_databases:\n",
    "    gene_to_genome = exe.read_pickle(f\"/home/ec2-user/SageMaker/s3/newatlantis-genomics-db-prod/SourceDatabases/{id_database}/Metadata/gene_to_genome.pkl.gz\")\n",
    "    protein_annotations = exe.read_pickle(f\"/home/ec2-user/SageMaker/s3/newatlantis-genomics-db-prod/SourceDatabases/{id_database}/Metadata/protein_annotations.pkl.gz\")\n",
    "    for id_gene, annotations in tqdm(protein_annotations.items(), desc=f\"Building genomic traits matrix: {id_database}\"):\n",
    "        id_genome = gene_to_genome[id_gene]\n",
    "        for id_ko in annotations[\"KOfam\"]:\n",
    "            genomic_traits[id_ko][id_genome] += 1\n",
    "X_genomic_traits = pd.DataFrame(genomic_traits).fillna(0).astype(int)\n",
    "memory_before = X_genomic_traits.memory_usage(deep=True).sum()\n",
    "X_genomic_traits = X_genomic_traits.astype(pd.SparseDtype(dtype=int, fill_value=0))\n",
    "X_genomic_traits.index.name = \"id_genome\"\n",
    "X_genomic_traits.columns.name = \"id_feature\"\n",
    "X_genomic_traits.to_pickle(os.path.join(output_directory, \"global.genomic_traits.kofam.int.pkl.gz\"))\n",
    "X_genomic_traits = X_genomic_traits > 0\n",
    "X_genomic_traits = X_genomic_traits.astype(pd.SparseDtype(dtype=bool, fill_value=False))\n",
    "X_genomic_traits.to_pickle(os.path.join(output_directory, \"global.genomic_traits.kofam.bool.pkl.gz\"))    \n",
    "memory_after = X_genomic_traits.memory_usage(deep=True).sum()\n",
    "# print(f\"Global: Memory before: {memory_before / 1e6:.2f} MB, after: {memory_after / 1e6:.2f} MB, reduction: {100 * (memory_before - memory_after) / memory_before:.2f}%\")\n",
    "\n",
    "# Building genomic traits matrix: EnsemblFungi: 100%|██████████| 5703801/5703801 [00:11<00:00, 497211.63it/s]\n",
    "# Building genomic traits matrix: EnsemblProtists: 100%|██████████| 568245/568245 [00:01<00:00, 496999.58it/s]\n",
    "# Building genomic traits matrix: Haroon_2016-PRJNA289734-RedSea: 100%|██████████| 144598/144598 [00:00<00:00, 567287.28it/s]\n",
    "# Building genomic traits matrix: JGI-MycoCosm: 100%|██████████| 9893803/9893803 [00:20<00:00, 487394.26it/s]\n",
    "# Building genomic traits matrix: JGI-PhycoCosm: 100%|██████████| 645327/645327 [00:01<00:00, 518319.21it/s]\n",
    "# Building genomic traits matrix: Jungbluth_2017-PRJNA269163-JuanDeFucaRidgeSubsurface: 100%|██████████| 78073/78073 [00:00<00:00, 545903.57it/s]\n",
    "# Building genomic traits matrix: Li_2024-PRJNA1111327-KermadecDiamantinaTrench: 100%|██████████| 1465998/1465998 [00:02<00:00, 515112.63it/s]\n",
    "# Building genomic traits matrix: Liu_2024-PRJNA1081583-EastChinaSeaLowOxygenRegion: 100%|██████████| 1488219/1488219 [00:03<00:00, 488871.12it/s]\n",
    "# Building genomic traits matrix: MMP-MarFun: 100%|██████████| 67173/67173 [00:00<00:00, 507934.19it/s]\n",
    "# Building genomic traits matrix: MMP-MarRef: 100%|██████████| 884664/884664 [00:01<00:00, 518931.52it/s]\n",
    "# Building genomic traits matrix: Nathani_2021-PRJEB26614_PRJEB26615-GulfKuthiawarPeninsula: 100%|██████████| 416359/416359 [00:00<00:00, 501986.49it/s]\n",
    "# Building genomic traits matrix: Nenasheva_2024-10.5281_zenodo.13933292-Diatoms: 100%|██████████| 192127/192127 [00:00<00:00, 523761.86it/s]\n",
    "# Building genomic traits matrix: OceanDNA: 100%|██████████| 49915369/49915369 [01:49<00:00, 457551.74it/s]\n",
    "# Building genomic traits matrix: TARA-BAC_ARC_MAGs: 100%|██████████| 2049601/2049601 [00:04<00:00, 425087.15it/s]\n",
    "# Building genomic traits matrix: TARA-Delmont_2018: 100%|██████████| 426766/426766 [00:00<00:00, 431224.75it/s]\n",
    "# Building genomic traits matrix: TARA-SAGv1: 100%|██████████| 10593/10593 [00:00<00:00, 588761.03it/s]\n",
    "# Building genomic traits matrix: TARA-SMAGv1: 100%|██████████| 1257612/1257612 [00:02<00:00, 455021.33it/s]\n",
    "# Building genomic traits matrix: TARA-TOPAZ: 100%|██████████| 6090596/6090596 [00:14<00:00, 426014.21it/s]\n",
    "# Building genomic traits matrix: Xu_2024-PRJNA880762-SouthChinaSea: 100%|██████████| 1559302/1559302 [00:03<00:00, 441657.68it/s]\n",
    "# Building genomic traits matrix: Zhang_2022-PRJNA707313-ColdSeepSouthChinaSea: 100%|██████████| 601976/601976 [00:01<00:00, 448012.27it/s]\n",
    "# Building genomic traits matrix: Zhang_2023-PRJNA808646-CCFZ: 100%|██████████| 207906/207906 [00:00<00:00, 442045.29it/s]\n",
    "# Building genomic traits matrix: Zhang_2024-PRJNA113162029-YapMarianaTrenchSediment: 100%|██████████| 123249/123249 [00:00<00:00, 377980.13it/s]\n",
    "# Building genomic traits matrix: Zhou_2022-PRJNA730330-SouthChinaEstuary: 100%|██████████| 461193/461193 [00:01<00:00, 409541.41it/s]\n",
    "# Global: Memory before: 9885.71 MB, after: 362.68 MB, reduction: 96.33%\n",
    "\n",
    "X_genomic_traits.shape\n",
    "# (71706, 17225)"
   ]
  },
  {
   "cell_type": "code",
   "execution_count": 57,
   "id": "ae115e3b-6ab8-4f5e-9336-de0be7b801ae",
   "metadata": {
    "tags": []
   },
   "outputs": [
    {
     "name": "stderr",
     "output_type": "stream",
     "text": [
      "100%|██████████| 23/23 [00:26<00:00,  1.15s/it]\n",
      "100%|██████████| 23/23 [00:05<00:00,  3.91it/s]\n"
     ]
    }
   ],
   "source": [
    "# Prokaryotic\n",
    "with exe.open_file_writer(\"../data/cluster/ani/genome_filepaths.prokaryotic.list\") as f:\n",
    "    for id_database in tqdm(genomic_databases):\n",
    "        for filepath in glob.glob(f\"/home/ec2-user/SageMaker/s3/newatlantis-genomics-db-prod/SourceDatabases/{id_database}/Genomes/Prokaryotic/*.fa.gz\"):\n",
    "            id_database = filepath.split(\"/\")[-4]\n",
    "            print(filepath, file=f)\n",
    "\n",
    "# Eukaryotic\n",
    "with exe.open_file_writer(\"../data/cluster/ani/genome_filepaths.eukaryotic.list\") as f:\n",
    "    for id_database in tqdm(genomic_databases):\n",
    "        for filepath in glob.glob(f\"/home/ec2-user/SageMaker/s3/newatlantis-genomics-db-prod/SourceDatabases/{id_database}/Genomes/Eukaryotic/*.fa.gz\"):\n",
    "            id_database = filepath.split(\"/\")[-4]\n",
    "            print(filepath, file=f)"
   ]
  },
  {
   "cell_type": "code",
   "execution_count": 3,
   "id": "de314dc6-fdff-4962-9a38-505ae04b938a",
   "metadata": {
    "tags": []
   },
   "outputs": [],
   "source": [
    "output_directory=\"../data/training\"\n",
    "X_genomic_traits = pd.read_pickle(os.path.join(output_directory, \"global.genomic_traits.kofam.int.pkl.gz\"))\n",
    "# genome_to_clusterani = pd.concat([\n",
    "#     pd.read_csv(\"../data/cluster/ani/prokaryotic/genome_clusters.tsv\", sep=\"\\t\", index_col=0, header=None).iloc[:,0],\n",
    "#     pd.read_csv(\"../data/cluster/ani/eukaryotic/genome_clusters.tsv\", sep=\"\\t\", index_col=0, header=None).iloc[:,0],\n",
    "# ])\n",
    "# genome_to_clusterani.index.name = \"id_genome\"\n",
    "# genome_to_clusterani.name = \"id_cluster-ani\"\n",
    "# genome_to_clusterani.to_csv(os.path.join(output_directory, \"genome_to_ani-cluster.tsv.gz\"), sep=\"\\t\")\n",
    "genome_to_clusterani = pd.read_csv(os.path.join(output_directory, \"genome_to_ani-cluster.tsv.gz\"), sep=\"\\t\", index_col=0).iloc[:,0].astype(\"category\").loc[X_genomic_traits.index]\n"
   ]
  },
  {
   "cell_type": "code",
   "execution_count": 4,
   "id": "bb3e8cb1-3b79-4329-aaa9-2c3c0dc2068a",
   "metadata": {
    "tags": []
   },
   "outputs": [],
   "source": [
    "def fast_groupby_sum(X:pd.DataFrame, y:pd.Series):\n",
    "    if not np.all(X.index == y.index):\n",
    "        raise IndexError(\"X.index must equal y.index\")\n",
    "    if not isinstance(y, pd.CategoricalDtype):\n",
    "        y = y.astype(\"category\")\n",
    "    # Convert y to numeric indices\n",
    "    unique_classes, y_indices = np.unique(y, return_inverse=True)\n",
    "\n",
    "    # Use np.bincount to sum efficiently for each feature\n",
    "    arrays = list()\n",
    "    for col in tqdm(X.columns, \"Summing rows by groups\", unit=\" column\"):\n",
    "        summed_values = np.bincount(y_indices, weights=X[col].values, minlength=len(unique_classes))\n",
    "        arrays.append(summed_values)\n",
    "    X_grouped = np.vstack(arrays).T\n",
    "\n",
    "    # Convert to DataFrame\n",
    "    return pd.DataFrame(X_grouped, index=unique_classes, columns=X.columns)\n"
   ]
  },
  {
   "cell_type": "code",
   "execution_count": null,
   "id": "69047b03-905d-459e-9ae3-2494f089433d",
   "metadata": {
    "tags": []
   },
   "outputs": [],
   "source": []
  },
  {
   "cell_type": "code",
   "execution_count": null,
   "id": "6b264521-7377-493b-877f-5f515f8c34e2",
   "metadata": {
    "tags": []
   },
   "outputs": [],
   "source": []
  },
  {
   "cell_type": "code",
   "execution_count": 5,
   "id": "e41bf349-d6df-4600-abb5-95676bbb1241",
   "metadata": {
    "tags": []
   },
   "outputs": [
    {
     "name": "stderr",
     "output_type": "stream",
     "text": [
      "Summing rows by groups: 100%|██████████| 17225/17225 [00:05<00:00, 2987.23 column/s]\n"
     ]
    },
    {
     "name": "stdout",
     "output_type": "stream",
     "text": [
      "CPU times: user 5.47 s, sys: 3.43 s, total: 8.9 s\n",
      "Wall time: 9.02 s\n"
     ]
    }
   ],
   "source": [
    "%%time\n",
    "X_genomic_traits_clusterani = fast_groupby_sum(X_genomic_traits, genome_to_clusterani).astype(int)\n",
    "# Summing rows by groups: 100%|██████████| 17225/17225 [00:03<00:00, 4318.08 column/s]\n",
    "# CPU times: user 4.33 s, sys: 1.88 s, total: 6.21 s\n",
    "# Wall time: 6.21 s"
   ]
  },
  {
   "cell_type": "code",
   "execution_count": 7,
   "id": "d1c01aad-e03b-4437-8ced-e0206489c7b8",
   "metadata": {
    "tags": []
   },
   "outputs": [
    {
     "name": "stdout",
     "output_type": "stream",
     "text": [
      "CPU times: user 1min 15s, sys: 165 ms, total: 1min 16s\n",
      "Wall time: 1min 16s\n"
     ]
    }
   ],
   "source": [
    "%%time\n",
    "X_genomic_traits_clusterani = X_genomic_traits_clusterani.astype(pd.SparseDtype(dtype=int, fill_value=0))\n",
    "X_genomic_traits_clusterani.to_pickle(os.path.join(output_directory, \"global.genomic_traits.kofam.int.cluster-ani.pkl.gz\"))"
   ]
  },
  {
   "cell_type": "code",
   "execution_count": 8,
   "id": "b6304dcb-cb5e-421b-94e0-4544a1ffaacb",
   "metadata": {
    "tags": []
   },
   "outputs": [
    {
     "name": "stdout",
     "output_type": "stream",
     "text": [
      "CPU times: user 2.95 s, sys: 0 ns, total: 2.95 s\n",
      "Wall time: 2.95 s\n"
     ]
    }
   ],
   "source": [
    "%%time\n",
    "X_genomic_traits_clusterani = (X_genomic_traits_clusterani > 0).astype(pd.SparseDtype(dtype=bool, fill_value=False))\n",
    "X_genomic_traits_clusterani.to_pickle(os.path.join(output_directory, \"global.genomic_traits.kofam.bool.cluster-ani.pkl.gz\"))"
   ]
  },
  {
   "cell_type": "code",
   "execution_count": 9,
   "id": "b98ba3d6-9aa2-48a6-bcbe-f2dca5fdda1b",
   "metadata": {
    "tags": []
   },
   "outputs": [],
   "source": []
  },
  {
   "cell_type": "code",
   "execution_count": 12,
   "id": "ef637c8a-cd46-4e0c-8409-a46610a0ee7e",
   "metadata": {
    "tags": []
   },
   "outputs": [
    {
     "data": {
      "text/html": [
       "<div>\n",
       "<style scoped>\n",
       "    .dataframe tbody tr th:only-of-type {\n",
       "        vertical-align: middle;\n",
       "    }\n",
       "\n",
       "    .dataframe tbody tr th {\n",
       "        vertical-align: top;\n",
       "    }\n",
       "\n",
       "    .dataframe thead th {\n",
       "        text-align: right;\n",
       "    }\n",
       "</style>\n",
       "<table border=\"1\" class=\"dataframe\">\n",
       "  <thead>\n",
       "    <tr style=\"text-align: right;\">\n",
       "      <th>id_feature</th>\n",
       "      <th>K00003</th>\n",
       "      <th>K00004</th>\n",
       "      <th>K00006</th>\n",
       "      <th>K00008</th>\n",
       "      <th>K05351</th>\n",
       "      <th>K25880</th>\n",
       "      <th>K00009</th>\n",
       "      <th>K00010</th>\n",
       "      <th>K00013</th>\n",
       "      <th>K14152</th>\n",
       "      <th>...</th>\n",
       "      <th>K04086</th>\n",
       "      <th>K08728</th>\n",
       "      <th>K10353</th>\n",
       "      <th>K22393</th>\n",
       "      <th>K22394</th>\n",
       "      <th>K20112</th>\n",
       "      <th>K25641</th>\n",
       "      <th>K24454</th>\n",
       "      <th>K20138</th>\n",
       "      <th>K26920</th>\n",
       "    </tr>\n",
       "  </thead>\n",
       "  <tbody>\n",
       "    <tr>\n",
       "      <th>NAL-ESLC_00045683b92daedb002220d52bbda9fd</th>\n",
       "      <td>False</td>\n",
       "      <td>False</td>\n",
       "      <td>False</td>\n",
       "      <td>True</td>\n",
       "      <td>True</td>\n",
       "      <td>True</td>\n",
       "      <td>False</td>\n",
       "      <td>False</td>\n",
       "      <td>True</td>\n",
       "      <td>True</td>\n",
       "      <td>...</td>\n",
       "      <td>False</td>\n",
       "      <td>False</td>\n",
       "      <td>False</td>\n",
       "      <td>False</td>\n",
       "      <td>False</td>\n",
       "      <td>False</td>\n",
       "      <td>False</td>\n",
       "      <td>False</td>\n",
       "      <td>False</td>\n",
       "      <td>False</td>\n",
       "    </tr>\n",
       "    <tr>\n",
       "      <th>NAL-ESLC_006afe0e5f8d7c0842250533643c833a</th>\n",
       "      <td>False</td>\n",
       "      <td>False</td>\n",
       "      <td>False</td>\n",
       "      <td>False</td>\n",
       "      <td>False</td>\n",
       "      <td>False</td>\n",
       "      <td>False</td>\n",
       "      <td>False</td>\n",
       "      <td>False</td>\n",
       "      <td>False</td>\n",
       "      <td>...</td>\n",
       "      <td>False</td>\n",
       "      <td>False</td>\n",
       "      <td>False</td>\n",
       "      <td>False</td>\n",
       "      <td>False</td>\n",
       "      <td>False</td>\n",
       "      <td>False</td>\n",
       "      <td>False</td>\n",
       "      <td>False</td>\n",
       "      <td>False</td>\n",
       "    </tr>\n",
       "    <tr>\n",
       "      <th>NAL-ESLC_006e500052464c108064a94078e3ba0f</th>\n",
       "      <td>False</td>\n",
       "      <td>False</td>\n",
       "      <td>True</td>\n",
       "      <td>True</td>\n",
       "      <td>True</td>\n",
       "      <td>True</td>\n",
       "      <td>True</td>\n",
       "      <td>True</td>\n",
       "      <td>True</td>\n",
       "      <td>True</td>\n",
       "      <td>...</td>\n",
       "      <td>False</td>\n",
       "      <td>False</td>\n",
       "      <td>False</td>\n",
       "      <td>False</td>\n",
       "      <td>False</td>\n",
       "      <td>False</td>\n",
       "      <td>False</td>\n",
       "      <td>False</td>\n",
       "      <td>False</td>\n",
       "      <td>False</td>\n",
       "    </tr>\n",
       "    <tr>\n",
       "      <th>NAL-ESLC_0086aaed51baf1e518acd08b5f0365e0</th>\n",
       "      <td>False</td>\n",
       "      <td>False</td>\n",
       "      <td>False</td>\n",
       "      <td>False</td>\n",
       "      <td>False</td>\n",
       "      <td>False</td>\n",
       "      <td>False</td>\n",
       "      <td>True</td>\n",
       "      <td>False</td>\n",
       "      <td>False</td>\n",
       "      <td>...</td>\n",
       "      <td>False</td>\n",
       "      <td>False</td>\n",
       "      <td>False</td>\n",
       "      <td>False</td>\n",
       "      <td>False</td>\n",
       "      <td>False</td>\n",
       "      <td>False</td>\n",
       "      <td>False</td>\n",
       "      <td>False</td>\n",
       "      <td>False</td>\n",
       "    </tr>\n",
       "    <tr>\n",
       "      <th>NAL-ESLC_00a497cd8b369af17a9fec5cd6110f48</th>\n",
       "      <td>False</td>\n",
       "      <td>False</td>\n",
       "      <td>False</td>\n",
       "      <td>False</td>\n",
       "      <td>False</td>\n",
       "      <td>False</td>\n",
       "      <td>False</td>\n",
       "      <td>False</td>\n",
       "      <td>False</td>\n",
       "      <td>False</td>\n",
       "      <td>...</td>\n",
       "      <td>False</td>\n",
       "      <td>False</td>\n",
       "      <td>False</td>\n",
       "      <td>False</td>\n",
       "      <td>False</td>\n",
       "      <td>False</td>\n",
       "      <td>False</td>\n",
       "      <td>False</td>\n",
       "      <td>False</td>\n",
       "      <td>False</td>\n",
       "    </tr>\n",
       "    <tr>\n",
       "      <th>...</th>\n",
       "      <td>...</td>\n",
       "      <td>...</td>\n",
       "      <td>...</td>\n",
       "      <td>...</td>\n",
       "      <td>...</td>\n",
       "      <td>...</td>\n",
       "      <td>...</td>\n",
       "      <td>...</td>\n",
       "      <td>...</td>\n",
       "      <td>...</td>\n",
       "      <td>...</td>\n",
       "      <td>...</td>\n",
       "      <td>...</td>\n",
       "      <td>...</td>\n",
       "      <td>...</td>\n",
       "      <td>...</td>\n",
       "      <td>...</td>\n",
       "      <td>...</td>\n",
       "      <td>...</td>\n",
       "      <td>...</td>\n",
       "      <td>...</td>\n",
       "    </tr>\n",
       "    <tr>\n",
       "      <th>NAL-PSLC_ffdfa3aca04e718fbb1d833dc4fbf540</th>\n",
       "      <td>True</td>\n",
       "      <td>True</td>\n",
       "      <td>False</td>\n",
       "      <td>False</td>\n",
       "      <td>False</td>\n",
       "      <td>False</td>\n",
       "      <td>False</td>\n",
       "      <td>False</td>\n",
       "      <td>True</td>\n",
       "      <td>False</td>\n",
       "      <td>...</td>\n",
       "      <td>False</td>\n",
       "      <td>False</td>\n",
       "      <td>False</td>\n",
       "      <td>False</td>\n",
       "      <td>False</td>\n",
       "      <td>False</td>\n",
       "      <td>False</td>\n",
       "      <td>False</td>\n",
       "      <td>False</td>\n",
       "      <td>False</td>\n",
       "    </tr>\n",
       "    <tr>\n",
       "      <th>NAL-PSLC_ffe776aad3a3cd5ae5237b0d66af4048</th>\n",
       "      <td>True</td>\n",
       "      <td>False</td>\n",
       "      <td>False</td>\n",
       "      <td>False</td>\n",
       "      <td>False</td>\n",
       "      <td>False</td>\n",
       "      <td>False</td>\n",
       "      <td>False</td>\n",
       "      <td>True</td>\n",
       "      <td>False</td>\n",
       "      <td>...</td>\n",
       "      <td>False</td>\n",
       "      <td>False</td>\n",
       "      <td>False</td>\n",
       "      <td>False</td>\n",
       "      <td>False</td>\n",
       "      <td>False</td>\n",
       "      <td>False</td>\n",
       "      <td>False</td>\n",
       "      <td>False</td>\n",
       "      <td>False</td>\n",
       "    </tr>\n",
       "    <tr>\n",
       "      <th>NAL-PSLC_ffec697fdd32a03692f2dcb88b5fa9ea</th>\n",
       "      <td>False</td>\n",
       "      <td>False</td>\n",
       "      <td>False</td>\n",
       "      <td>False</td>\n",
       "      <td>False</td>\n",
       "      <td>False</td>\n",
       "      <td>False</td>\n",
       "      <td>False</td>\n",
       "      <td>False</td>\n",
       "      <td>False</td>\n",
       "      <td>...</td>\n",
       "      <td>False</td>\n",
       "      <td>False</td>\n",
       "      <td>False</td>\n",
       "      <td>False</td>\n",
       "      <td>False</td>\n",
       "      <td>False</td>\n",
       "      <td>False</td>\n",
       "      <td>False</td>\n",
       "      <td>False</td>\n",
       "      <td>False</td>\n",
       "    </tr>\n",
       "    <tr>\n",
       "      <th>NAL-PSLC_ffedbc30575e734d3df3003b8a419d48</th>\n",
       "      <td>True</td>\n",
       "      <td>False</td>\n",
       "      <td>False</td>\n",
       "      <td>False</td>\n",
       "      <td>False</td>\n",
       "      <td>False</td>\n",
       "      <td>False</td>\n",
       "      <td>False</td>\n",
       "      <td>True</td>\n",
       "      <td>False</td>\n",
       "      <td>...</td>\n",
       "      <td>False</td>\n",
       "      <td>False</td>\n",
       "      <td>False</td>\n",
       "      <td>False</td>\n",
       "      <td>False</td>\n",
       "      <td>False</td>\n",
       "      <td>False</td>\n",
       "      <td>False</td>\n",
       "      <td>False</td>\n",
       "      <td>False</td>\n",
       "    </tr>\n",
       "    <tr>\n",
       "      <th>NAL-PSLC_fff3775b6337d3839d8b9c0570d45db2</th>\n",
       "      <td>False</td>\n",
       "      <td>False</td>\n",
       "      <td>False</td>\n",
       "      <td>False</td>\n",
       "      <td>False</td>\n",
       "      <td>False</td>\n",
       "      <td>False</td>\n",
       "      <td>False</td>\n",
       "      <td>True</td>\n",
       "      <td>False</td>\n",
       "      <td>...</td>\n",
       "      <td>False</td>\n",
       "      <td>False</td>\n",
       "      <td>False</td>\n",
       "      <td>False</td>\n",
       "      <td>False</td>\n",
       "      <td>False</td>\n",
       "      <td>False</td>\n",
       "      <td>False</td>\n",
       "      <td>False</td>\n",
       "      <td>False</td>\n",
       "    </tr>\n",
       "  </tbody>\n",
       "</table>\n",
       "<p>14876 rows × 17225 columns</p>\n",
       "</div>"
      ],
      "text/plain": [
       "id_feature                                 K00003  K00004  K00006  K00008  \\\n",
       "NAL-ESLC_00045683b92daedb002220d52bbda9fd   False   False   False    True   \n",
       "NAL-ESLC_006afe0e5f8d7c0842250533643c833a   False   False   False   False   \n",
       "NAL-ESLC_006e500052464c108064a94078e3ba0f   False   False    True    True   \n",
       "NAL-ESLC_0086aaed51baf1e518acd08b5f0365e0   False   False   False   False   \n",
       "NAL-ESLC_00a497cd8b369af17a9fec5cd6110f48   False   False   False   False   \n",
       "...                                           ...     ...     ...     ...   \n",
       "NAL-PSLC_ffdfa3aca04e718fbb1d833dc4fbf540    True    True   False   False   \n",
       "NAL-PSLC_ffe776aad3a3cd5ae5237b0d66af4048    True   False   False   False   \n",
       "NAL-PSLC_ffec697fdd32a03692f2dcb88b5fa9ea   False   False   False   False   \n",
       "NAL-PSLC_ffedbc30575e734d3df3003b8a419d48    True   False   False   False   \n",
       "NAL-PSLC_fff3775b6337d3839d8b9c0570d45db2   False   False   False   False   \n",
       "\n",
       "id_feature                                 K05351  K25880  K00009  K00010  \\\n",
       "NAL-ESLC_00045683b92daedb002220d52bbda9fd    True    True   False   False   \n",
       "NAL-ESLC_006afe0e5f8d7c0842250533643c833a   False   False   False   False   \n",
       "NAL-ESLC_006e500052464c108064a94078e3ba0f    True    True    True    True   \n",
       "NAL-ESLC_0086aaed51baf1e518acd08b5f0365e0   False   False   False    True   \n",
       "NAL-ESLC_00a497cd8b369af17a9fec5cd6110f48   False   False   False   False   \n",
       "...                                           ...     ...     ...     ...   \n",
       "NAL-PSLC_ffdfa3aca04e718fbb1d833dc4fbf540   False   False   False   False   \n",
       "NAL-PSLC_ffe776aad3a3cd5ae5237b0d66af4048   False   False   False   False   \n",
       "NAL-PSLC_ffec697fdd32a03692f2dcb88b5fa9ea   False   False   False   False   \n",
       "NAL-PSLC_ffedbc30575e734d3df3003b8a419d48   False   False   False   False   \n",
       "NAL-PSLC_fff3775b6337d3839d8b9c0570d45db2   False   False   False   False   \n",
       "\n",
       "id_feature                                 K00013  K14152  ...  K04086  \\\n",
       "NAL-ESLC_00045683b92daedb002220d52bbda9fd    True    True  ...   False   \n",
       "NAL-ESLC_006afe0e5f8d7c0842250533643c833a   False   False  ...   False   \n",
       "NAL-ESLC_006e500052464c108064a94078e3ba0f    True    True  ...   False   \n",
       "NAL-ESLC_0086aaed51baf1e518acd08b5f0365e0   False   False  ...   False   \n",
       "NAL-ESLC_00a497cd8b369af17a9fec5cd6110f48   False   False  ...   False   \n",
       "...                                           ...     ...  ...     ...   \n",
       "NAL-PSLC_ffdfa3aca04e718fbb1d833dc4fbf540    True   False  ...   False   \n",
       "NAL-PSLC_ffe776aad3a3cd5ae5237b0d66af4048    True   False  ...   False   \n",
       "NAL-PSLC_ffec697fdd32a03692f2dcb88b5fa9ea   False   False  ...   False   \n",
       "NAL-PSLC_ffedbc30575e734d3df3003b8a419d48    True   False  ...   False   \n",
       "NAL-PSLC_fff3775b6337d3839d8b9c0570d45db2    True   False  ...   False   \n",
       "\n",
       "id_feature                                 K08728  K10353  K22393  K22394  \\\n",
       "NAL-ESLC_00045683b92daedb002220d52bbda9fd   False   False   False   False   \n",
       "NAL-ESLC_006afe0e5f8d7c0842250533643c833a   False   False   False   False   \n",
       "NAL-ESLC_006e500052464c108064a94078e3ba0f   False   False   False   False   \n",
       "NAL-ESLC_0086aaed51baf1e518acd08b5f0365e0   False   False   False   False   \n",
       "NAL-ESLC_00a497cd8b369af17a9fec5cd6110f48   False   False   False   False   \n",
       "...                                           ...     ...     ...     ...   \n",
       "NAL-PSLC_ffdfa3aca04e718fbb1d833dc4fbf540   False   False   False   False   \n",
       "NAL-PSLC_ffe776aad3a3cd5ae5237b0d66af4048   False   False   False   False   \n",
       "NAL-PSLC_ffec697fdd32a03692f2dcb88b5fa9ea   False   False   False   False   \n",
       "NAL-PSLC_ffedbc30575e734d3df3003b8a419d48   False   False   False   False   \n",
       "NAL-PSLC_fff3775b6337d3839d8b9c0570d45db2   False   False   False   False   \n",
       "\n",
       "id_feature                                 K20112  K25641  K24454  K20138  \\\n",
       "NAL-ESLC_00045683b92daedb002220d52bbda9fd   False   False   False   False   \n",
       "NAL-ESLC_006afe0e5f8d7c0842250533643c833a   False   False   False   False   \n",
       "NAL-ESLC_006e500052464c108064a94078e3ba0f   False   False   False   False   \n",
       "NAL-ESLC_0086aaed51baf1e518acd08b5f0365e0   False   False   False   False   \n",
       "NAL-ESLC_00a497cd8b369af17a9fec5cd6110f48   False   False   False   False   \n",
       "...                                           ...     ...     ...     ...   \n",
       "NAL-PSLC_ffdfa3aca04e718fbb1d833dc4fbf540   False   False   False   False   \n",
       "NAL-PSLC_ffe776aad3a3cd5ae5237b0d66af4048   False   False   False   False   \n",
       "NAL-PSLC_ffec697fdd32a03692f2dcb88b5fa9ea   False   False   False   False   \n",
       "NAL-PSLC_ffedbc30575e734d3df3003b8a419d48   False   False   False   False   \n",
       "NAL-PSLC_fff3775b6337d3839d8b9c0570d45db2   False   False   False   False   \n",
       "\n",
       "id_feature                                 K26920  \n",
       "NAL-ESLC_00045683b92daedb002220d52bbda9fd   False  \n",
       "NAL-ESLC_006afe0e5f8d7c0842250533643c833a   False  \n",
       "NAL-ESLC_006e500052464c108064a94078e3ba0f   False  \n",
       "NAL-ESLC_0086aaed51baf1e518acd08b5f0365e0   False  \n",
       "NAL-ESLC_00a497cd8b369af17a9fec5cd6110f48   False  \n",
       "...                                           ...  \n",
       "NAL-PSLC_ffdfa3aca04e718fbb1d833dc4fbf540   False  \n",
       "NAL-PSLC_ffe776aad3a3cd5ae5237b0d66af4048   False  \n",
       "NAL-PSLC_ffec697fdd32a03692f2dcb88b5fa9ea   False  \n",
       "NAL-PSLC_ffedbc30575e734d3df3003b8a419d48   False  \n",
       "NAL-PSLC_fff3775b6337d3839d8b9c0570d45db2   False  \n",
       "\n",
       "[14876 rows x 17225 columns]"
      ]
     },
     "execution_count": 12,
     "metadata": {},
     "output_type": "execute_result"
    }
   ],
   "source": [
    "X_genomic_traits_clusterani"
   ]
  },
  {
   "cell_type": "code",
   "execution_count": null,
   "id": "8c1c9d14-6ca8-4d49-a43d-30e84dc0002b",
   "metadata": {},
   "outputs": [],
   "source": []
  },
  {
   "cell_type": "code",
   "execution_count": null,
   "id": "fbf4e9d3-d662-478c-a4bf-bfec357bf74e",
   "metadata": {},
   "outputs": [],
   "source": []
  },
  {
   "cell_type": "code",
   "execution_count": null,
   "id": "ee68856d-a868-48d5-a53d-eb50b49e63e0",
   "metadata": {},
   "outputs": [],
   "source": []
  },
  {
   "cell_type": "code",
   "execution_count": null,
   "id": "5af78966-b521-4e07-b9b2-873d237ef463",
   "metadata": {},
   "outputs": [],
   "source": []
  },
  {
   "cell_type": "code",
   "execution_count": null,
   "id": "744d1fbc-ea2f-4420-ac0a-537153008cd4",
   "metadata": {},
   "outputs": [],
   "source": []
  },
  {
   "cell_type": "code",
   "execution_count": null,
   "id": "22cc580e-7655-4b50-b55b-578a4c5ea9e2",
   "metadata": {},
   "outputs": [],
   "source": []
  },
  {
   "cell_type": "code",
   "execution_count": null,
   "id": "a55da52e-d1de-4f07-99b9-895d19a3e6a5",
   "metadata": {},
   "outputs": [],
   "source": []
  },
  {
   "cell_type": "code",
   "execution_count": null,
   "id": "6f42ffb4-f533-4acf-bc50-e964e97c13e8",
   "metadata": {},
   "outputs": [],
   "source": []
  },
  {
   "cell_type": "markdown",
   "id": "a7327499-1933-40f6-80b8-263baa02584d",
   "metadata": {},
   "source": [
    "# Fixing database discrepancies"
   ]
  },
  {
   "cell_type": "code",
   "execution_count": 35,
   "id": "faa60c2d-2bb0-4ca4-a9bd-29a336515ecd",
   "metadata": {
    "tags": []
   },
   "outputs": [
    {
     "name": "stderr",
     "output_type": "stream",
     "text": [
      "100%|██████████| 23/23 [00:03<00:00,  6.36it/s]\n"
     ]
    },
    {
     "data": {
      "text/plain": [
       "(71654, 9, 52, False)"
      ]
     },
     "execution_count": 35,
     "metadata": {},
     "output_type": "execute_result"
    }
   ],
   "source": [
    "# with exe.open_file_writer(\"../data/cluster/ani/genome_filepaths.prokaryotic.list\") as f:\n",
    "#     for id_database in genomic_databases:\n",
    "        \n",
    "#         for glob.glob(\"/home/ec2-user/SageMaker/s3/newatlantis-genomics-db-prod/SourceDatabases/\n",
    "\n",
    "genome_identifiers = set(X_genomic_traits.index)\n",
    "query = set()\n",
    "genome_to_database = dict()\n",
    "for id_database in tqdm(genomic_databases):\n",
    "    filepaths = glob.glob(f\"/home/ec2-user/SageMaker/s3/newatlantis-genomics-db-prod/SourceDatabases/{id_database}/organisms.prokaryotic.list\") + \\\n",
    "                glob.glob(f\"/home/ec2-user/SageMaker/s3/newatlantis-genomics-db-prod/SourceDatabases/{id_database}/organisms.eukaryotic.list\")\n",
    "    for filepath in filepaths:\n",
    "        with open(filepath, \"r\") as f:\n",
    "            for line in f:\n",
    "                line = line.strip()\n",
    "                if line:\n",
    "                    query.add(line)\n",
    "                    genome_to_database[line] = id_database\n",
    "len(query & genome_identifiers), len(query - genome_identifiers), len(genome_identifiers - query), genome_identifiers < query\n",
    "\n",
    "# query - genome_identifiers: ids that are in organisms.list but not genomic traits matrix\n",
    "{\n",
    " # Poor quality   \n",
    " 'GCA_041246275.1',\n",
    " # Fixed\n",
    " 'TARA_CHRYSOPHYTE-H1', \n",
    " 'TARA_CHRYSOPHYTE-H2',\n",
    " 'TARA_MAST-3A',\n",
    " 'TARA_MAST-3F',\n",
    " 'TARA_MAST-4A1',\n",
    " 'TARA_MAST-4A2',\n",
    " 'TARA_MAST-4C',\n",
    " 'TARA_MAST-4E'}\n",
    "\n",
    "genome_identifiers - query\n",
    "{'Amoce1_1',\n",
    " 'Aspfu_P4SB_1',\n",
    " 'Auxpr25_1_1',\n",
    " 'Bigna1',\n",
    " 'ChlNC64A_1',\n",
    " 'Chleu1_1',\n",
    " 'ChloDOE1412_1_1',\n",
    " 'Chloso1228_1_1',\n",
    " 'Chloso1230_1_1',\n",
    " 'Chloso1602_1_1',\n",
    " 'Chrpa1_1',\n",
    " 'Corcom2',\n",
    " 'Diptot1',\n",
    " 'Fisso2',\n",
    " 'Graco1_1',\n",
    " 'Hetan2',\n",
    " 'Ldo8726_1',\n",
    " 'Liparx1',\n",
    " 'Lipchi1',\n",
    " 'Lipjap1',\n",
    " 'Lipmes1',\n",
    " 'Lipodoor1',\n",
    " 'Lipokono1',\n",
    " 'Lipoli1',\n",
    " 'Lipotetr1',\n",
    " 'Lst7536_1',\n",
    " 'Lst7851_1',\n",
    " 'Lst8064_1',\n",
    " 'Micco1_1',\n",
    " 'Nanoce84910_1',\n",
    " 'Ost9901_3',\n",
    " 'OstRCC809_2',\n",
    " 'Penrib_P3SB_1',\n",
    " 'Phyca11',\n",
    " 'Praco1_1',\n",
    " 'Pyrye1_1',\n",
    " 'Semro1_1',\n",
    " 'Treb6682_1',\n",
    " 'Trebou4402_1',\n",
    " 'Trebou4966_1',\n",
    " 'Trebou978_1',\n",
    " 'Ulvmu1_1',\n",
    " 'Undpi1_1',\n",
    " 'Zymtr1',\n",
    " 'chryh1',\n",
    " 'chryh2',\n",
    " 'm3a',\n",
    " 'm3f',\n",
    " 'm4a1',\n",
    " 'm4a2',\n",
    " 'm4c',\n",
    " 'm4e'}\n",
    "\n",
    "# d = {\n",
    "#     'chryh1':'TARA_CHRYSOPHYTE-H1',\n",
    "#  'chryh2':'TARA_CHRYSOPHYTE-H2',\n",
    "#  'm3a':'TARA_MAST-3A',\n",
    "#  'm3f':'TARA_MAST-3F',\n",
    "#  'm4a1':'TARA_MAST-4A1',\n",
    "#  'm4a2':'TARA_MAST-4A2',\n",
    "#  'm4c':'TARA_MAST-4C',\n",
    "#  'm4e':'TARA_MAST-4E',\n",
    "# }"
   ]
  },
  {
   "cell_type": "code",
   "execution_count": 81,
   "id": "4e0db9c3-0235-4994-8c94-d068ba23d356",
   "metadata": {
    "tags": []
   },
   "outputs": [
    {
     "name": "stderr",
     "output_type": "stream",
     "text": [
      "JGI-MycoCosm: 100%|██████████| 17849/17849 [00:00<00:00, 245044.82it/s]\n",
      "JGI-PhycoCosm: 100%|██████████| 1123/1123 [00:00<00:00, 417053.60it/s]\n"
     ]
    }
   ],
   "source": [
    "# errors = defaultdict(list)\n",
    "# working = defaultdict(set)\n",
    "# for id_database in [\"JGI-MycoCosm\", \"JGI-PhycoCosm\"]:\n",
    "#     file_count = defaultdict(lambda: defaultdict(bool))\n",
    "    \n",
    "#     for filepath in tqdm(glob.glob(f\"/home/ec2-user/SageMaker/s3/newatlantis-genomics-db-prod/SourceDatabases/{id_database}/Genomes/Eukaryotic/*.*.gz\"), desc=id_database):\n",
    "#         if (\"orphaned\" not in filepath) and (\"MODIFIED\" not in filepath):\n",
    "#             fields = filepath.rsplit(\"/\", maxsplit=1)[1].rsplit(\".\", maxsplit=2)\n",
    "#             try:\n",
    "#                 id_genome, ext, gz = fields\n",
    "\n",
    "#                 if ext in {\"fa\", \"faa\", \"ffn\", \"gff\"}:\n",
    "#                     file_count[id_genome][ext] = True\n",
    "\n",
    "#             except ValueError as e:\n",
    "#                 print(fields, e)\n",
    "#                 break\n",
    "#     for id_genome, file_check in file_count.items():\n",
    "#         if len(file_check) == 4:\n",
    "#             working[id_database].add(id_genome)\n",
    "#         else:\n",
    "#             errors[id_database].append((id_genome, file_check.keys()))\n",
    "# for id_database, genomes in working.items():\n",
    "#     with exe.open_file_writer(f\"/home/ec2-user/SageMaker/s3/newatlantis-genomics-db-prod/SourceDatabases/{id_database}/organisms.eukaryotic.list\") as f:\n",
    "#         for id_genome in genomes:\n",
    "#             print(id_genome, file=f)"
   ]
  },
  {
   "cell_type": "code",
   "execution_count": null,
   "id": "d22ef7aa-9348-4c94-ad81-f2d9b8d2fd51",
   "metadata": {
    "tags": []
   },
   "outputs": [],
   "source": [
    "X_genomic_"
   ]
  },
  {
   "cell_type": "code",
   "execution_count": null,
   "id": "61b8e41a-b2cc-4865-a810-d357ce177905",
   "metadata": {
    "tags": []
   },
   "outputs": [],
   "source": []
  },
  {
   "cell_type": "code",
   "execution_count": null,
   "id": "d1855976-1d80-4bbc-a7f1-bce9aae92c76",
   "metadata": {
    "tags": []
   },
   "outputs": [],
   "source": []
  },
  {
   "cell_type": "code",
   "execution_count": null,
   "id": "85c4b744-8d74-4e64-b654-1c7d234a4835",
   "metadata": {
    "tags": []
   },
   "outputs": [],
   "source": []
  },
  {
   "cell_type": "code",
   "execution_count": null,
   "id": "7dbaf632-7855-411c-b8dd-63a0f22d6449",
   "metadata": {},
   "outputs": [],
   "source": []
  }
 ],
 "metadata": {
  "kernelspec": {
   "display_name": "conda_mns",
   "language": "python",
   "name": "conda_mns"
  },
  "language_info": {
   "codemirror_mode": {
    "name": "ipython",
    "version": 3
   },
   "file_extension": ".py",
   "mimetype": "text/x-python",
   "name": "python",
   "nbconvert_exporter": "python",
   "pygments_lexer": "ipython3",
   "version": "3.9.21"
  }
 },
 "nbformat": 4,
 "nbformat_minor": 5
}
