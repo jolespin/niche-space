{
 "cells": [
  {
   "cell_type": "code",
   "execution_count": 1,
   "id": "c60662bf-2081-4a83-8c78-a4cb46f035fd",
   "metadata": {
    "tags": []
   },
   "outputs": [
    {
     "name": "stderr",
     "output_type": "stream",
     "text": [
      "/home/ec2-user/SageMaker/environments/mns/lib/python3.9/site-packages/tqdm/auto.py:21: TqdmWarning: IProgress not found. Please update jupyter and ipywidgets. See https://ipywidgets.readthedocs.io/en/stable/user_install.html\n",
      "  from .autonotebook import tqdm as notebook_tqdm\n"
     ]
    }
   ],
   "source": [
    "import numpy as np\n",
    "import pandas as pd\n",
    "from sklearn.model_selection import train_test_split\n",
    "from pyexeggutor import read_pickle\n",
    "\n",
    "from nichespace.neighbors import (\n",
    "    pairwise_distances_kneighbors,\n",
    "    KNeighborsLeidenClustering,\n",
    ")\n",
    "\n",
    "from nichespace.manifold import (\n",
    "    HierarchicalNicheSpace,\n",
    "    QualitativeSpace,\n",
    "    EmbeddingAnnotator,\n",
    ")\n",
    "\n",
    "\n"
   ]
  },
  {
   "cell_type": "code",
   "execution_count": 2,
   "id": "c9d202d3-7885-4b80-8cf4-437ec0da0f26",
   "metadata": {
    "tags": []
   },
   "outputs": [],
   "source": [
    "def conversion(src, obj):\n",
    "    src = read_pickle(src)\n",
    "    dst = obj()\n",
    "    dst.__dict__ = src.__dict__\n",
    "    return dst"
   ]
  },
  {
   "cell_type": "code",
   "execution_count": 18,
   "id": "a0710767-76b0-4731-abc0-667e2cc9442a",
   "metadata": {
    "tags": []
   },
   "outputs": [],
   "source": [
    "# # HierarchicalNicheSpace\n",
    "# dst = conversion(\"../data/training/completeness_gte90.contamination_lt5/NAL-GDB_MNS_v2.SLC-MFC.HierarchicalNicheSpace.pkl\", HierarchicalNicheSpace)\n",
    "# dst.to_file(\"../data/training/completeness_gte90.contamination_lt5/NAL-GDB_MNS_v2.SLC-MFC.HierarchicalNicheSpace.pkl\")"
   ]
  },
  {
   "cell_type": "code",
   "execution_count": 3,
   "id": "f346ebc0-0866-4fbc-8f32-6a860e4c1a73",
   "metadata": {
    "tags": []
   },
   "outputs": [],
   "source": [
    "# # QualitativeSpace\n",
    "# dst = conversion(\"../data/training/completeness_gte90.contamination_lt5/NAL-GDB_MNS_v2.SLC-MFC.QualitativeSpace.pkl\", QualitativeSpace)\n",
    "# dst.to_file(\"../data/training/completeness_gte90.contamination_lt5/NAL-GDB_MNS_v2.SLC-MFC.QualitativeSpace.pkl\")"
   ]
  },
  {
   "cell_type": "code",
   "execution_count": 16,
   "id": "66da05fb-54fb-44a3-9766-2dede2f81f16",
   "metadata": {
    "tags": []
   },
   "outputs": [],
   "source": [
    "\n",
    "# # EmbeddingAnnotator\n",
    "# dst = conversion(\"../data/training/completeness_gte90.contamination_lt5/NAL-GDB_MNS_v2.SLC-MFC.EmbeddingAnnotator.pkl\", EmbeddingAnnotator)\n",
    "# dst.to_file(\"../data/training/completeness_gte90.contamination_lt5/NAL-GDB_MNS_v2.SLC-MFC.EmbeddingAnnotator.pkl\")"
   ]
  },
  {
   "cell_type": "code",
   "execution_count": 18,
   "id": "d0b723cc-68f4-4d2f-ae8a-47e3f075f341",
   "metadata": {
    "tags": []
   },
   "outputs": [
    {
     "name": "stdout",
     "output_type": "stream",
     "text": [
      "genome_to_ani-cluster.tsv.gz\n",
      "\u001b[0m\u001b[01;34mNAL-GDB_MNS_v2.SLC-MFC.EmbeddingAnnotator-objects\u001b[0m/\n",
      "NAL-GDB_MNS_v2.SLC-MFC.EmbeddingAnnotator.pkl\n",
      "NAL-GDB_MNS_v2.SLC-MFC.HierarchicalNicheSpace.pkl\n",
      "NAL-GDB_MNS_v2.SLC-MFC.QualitativeSpace.annoy.ann\n",
      "NAL-GDB_MNS_v2.SLC-MFC.QualitativeSpace.pkl\n",
      "NUMPY_VERSION\n",
      "X_grouped.tsv.gz\n",
      "X.tsv.gz\n",
      "y.tsv.gz\n"
     ]
    }
   ],
   "source": [
    "ls ../data/training/completeness_gte90.contamination_lt5/"
   ]
  },
  {
   "cell_type": "code",
   "execution_count": null,
   "id": "45dd2604-f68f-4276-b11a-8e2ae41c98c7",
   "metadata": {
    "tags": []
   },
   "outputs": [],
   "source": []
  },
  {
   "cell_type": "code",
   "execution_count": null,
   "id": "8450166d-f519-4649-ab8c-00999e4f7bf0",
   "metadata": {},
   "outputs": [],
   "source": []
  }
 ],
 "metadata": {
  "kernelspec": {
   "display_name": "conda_mns",
   "language": "python",
   "name": "conda_mns"
  },
  "language_info": {
   "codemirror_mode": {
    "name": "ipython",
    "version": 3
   },
   "file_extension": ".py",
   "mimetype": "text/x-python",
   "name": "python",
   "nbconvert_exporter": "python",
   "pygments_lexer": "ipython3",
   "version": "3.9.21"
  }
 },
 "nbformat": 4,
 "nbformat_minor": 5
}
