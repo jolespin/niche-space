{
 "cells": [
  {
   "cell_type": "code",
   "execution_count": 2,
   "id": "b8d6b229-6aae-4689-b811-8525e03028ec",
   "metadata": {
    "tags": []
   },
   "outputs": [
    {
     "name": "stderr",
     "output_type": "stream",
     "text": [
      "/home/ec2-user/SageMaker/environments/mns/lib/python3.9/site-packages/tqdm/auto.py:21: TqdmWarning: IProgress not found. Please update jupyter and ipywidgets. See https://ipywidgets.readthedocs.io/en/stable/user_install.html\n",
      "  from .autonotebook import tqdm as notebook_tqdm\n"
     ]
    }
   ],
   "source": [
    "import os\n",
    "import sys\n",
    "import glob\n",
    "from io import StringIO\n",
    "import json\n",
    "from collections import defaultdict\n",
    "from tqdm import tqdm\n",
    "from itertools import combinations\n",
    "import numpy as np # Can't install NumPy 2.2.2 which is what the pkls were saved with\n",
    "import pandas as pd # 'v2.2.3'\n",
    "import anndata as ad\n",
    "from joblib import delayed, Parallel\n",
    "\n",
    "from scipy.spatial.distance import (\n",
    "    pdist,\n",
    "    squareform,\n",
    ")\n",
    "from pyexeggutor import (\n",
    "    build_logger,\n",
    "    write_pickle,\n",
    "    read_pickle,\n",
    "    write_json,\n",
    "    read_json,\n",
    "    read_list,\n",
    "    check_argument_choice,\n",
    "    format_header, \n",
    ")\n",
    "\n",
    "from sklearn.metrics import (\n",
    "    pairwise_distances,\n",
    "    silhouette_score,\n",
    ")\n",
    "# from clairvoyance.utils import ( \n",
    "#     compile_parameter_space, # Can this be in Clairvoyance\n",
    "# )\n",
    "# from sklearn.cluster import (\n",
    "#     HDBSCAN, # Not included in sklearn <1.3\n",
    "# )\n",
    "import ensemble_networkx as enx\n",
    "import networkx as nx\n",
    "import igraph as ig\n",
    "\n",
    "import matplotlib.pyplot as plt\n",
    "\n",
    "# Metabolic Niche Space\n",
    "from metabolic_niche_space.utils import fast_groupby\n",
    "from metabolic_niche_space.neighbors import (\n",
    "    pairwise_distances_kneighbors,\n",
    "    convert_distance_matrix_to_kneighbors_matrix,\n",
    ")\n",
    "\n",
    "import optuna\n",
    "# from metabolic_niche_space.metabolic_niche_space.neighbors import \n",
    "\n",
    "%load_ext memory_profiler"
   ]
  },
  {
   "cell_type": "code",
   "execution_count": null,
   "id": "b039d02a-165b-49f0-af47-49533a4d92e4",
   "metadata": {},
   "outputs": [],
   "source": []
  },
  {
   "cell_type": "code",
   "execution_count": 3,
   "id": "9f6d98e0-902c-4332-bc74-6a04f50db024",
   "metadata": {
    "tags": []
   },
   "outputs": [],
   "source": [
    "pd.set_option('max_colwidth', 400)\n",
    "pd.set_option('display.max_rows', 200)"
   ]
  },
  {
   "cell_type": "code",
   "execution_count": 140,
   "id": "a7349c22-8559-42b9-8193-68c338c1b9f8",
   "metadata": {
    "tags": []
   },
   "outputs": [],
   "source": [
    "# OpenAI\n",
    "# !pip install dotenv\n",
    "# from dotenv import load_dotenv\n",
    "from openai import OpenAI\n",
    "\n",
    "openai_api_key = open(\"/home/ec2-user/SageMaker/.openai\").read().strip().split(\"=\", maxsplit=1)[-1]\n",
    "\n",
    "# client = OpenAI(\n",
    "#   api_key=openai_api_key,\n",
    "# )\n",
    "client = OpenAI(\n",
    "    api_key=openai_api_key,\n",
    "    organization='org-Ez60DuNFqA22CtJjM2PpXQxa',\n",
    "    project='proj_qCFyUKcDinIaUNIwuHRtNxpL',\n",
    ")\n",
    "\n",
    "# completion = client.chat.completions.create(\n",
    "#   model=\"gpt-4o-mini\",\n",
    "#   store=True,\n",
    "#   messages=[\n",
    "#     {\"role\": \"user\", \"content\": \"write a haiku about ai\"}\n",
    "#   ]\n",
    "# )\n",
    "# print(completion.choices[0].message)\n",
    "\n",
    "def submit_openai_prompt(client, prompt, model=\"gpt-4o-mini\", store=False):\n",
    "    \"\"\"\n",
    "    Submits a prompt to the OpenAI API using the provided client and returns the response content as a string.\n",
    "    \n",
    "    Parameters:\n",
    "        client: OpenAI client instance\n",
    "            The initialized OpenAI client object.\n",
    "        model: str\n",
    "            The model to use for the completion (e.g., \"gpt-4o-mini\").\n",
    "        prompt: str\n",
    "            The user prompt to send to the OpenAI API.\n",
    "        store: bool\n",
    "            Whether to store the completion request (default is False).\n",
    "    \n",
    "    Returns:\n",
    "        str: The content of the response from the OpenAI API.\n",
    "    \"\"\"\n",
    "    try:\n",
    "        # Submit the prompt to OpenAI\n",
    "        completion = client.chat.completions.create(\n",
    "            model=model,\n",
    "            store=store,\n",
    "            messages=[\n",
    "                {\"role\": \"user\", \"content\": prompt}\n",
    "            ]\n",
    "        )\n",
    "        # Return the response content\n",
    "        return completion.choices[0].message\n",
    "    except Exception as e:\n",
    "        # Handle exceptions and provide meaningful error messages\n",
    "        print(f\"An error occurred: {e}\")\n",
    "        return None\n"
   ]
  },
  {
   "cell_type": "code",
   "execution_count": 2,
   "id": "3a2bb359-7fd6-45ba-afe5-b0e9086e7459",
   "metadata": {
    "tags": []
   },
   "outputs": [],
   "source": [
    "## ANI-Clusters\n",
    "# genome_to_clusterani = pd.concat([\n",
    "#     pd.read_csv(\"../data/cluster/ani/prokaryotic/completeness_gte90.contamination_lt5/genome_clusters.tsv\", sep=\"\\t\", index_col=0, header=None).iloc[:,0],\n",
    "#     pd.read_csv(\"../data/cluster/ani/eukaryotic/completeness_gte90.contamination_lt5/genome_clusters.tsv\", sep=\"\\t\", index_col=0, header=None).iloc[:,0],\n",
    "# ])\n",
    "# genome_to_clusterani.index.name = \"id_genome\"\n",
    "# genome_to_clusterani.name = \"id_cluster-ani\"\n",
    "\n",
    "# genome_to_clusterani.to_csv(os.path.join(output_directory, \"completeness_gte90.contamination_lt5\", \"genome_to_ani-cluster.tsv.gz\"), sep=\"\\t\")\n",
    "\n",
    "## Taxonomy\n",
    "# data = list()\n",
    "\n",
    "# for fp in glob.glob(\"/home/ec2-user/SageMaker/s3/newatlantis-genomics-db-prod/SourceDatabases/*/Metadata/taxonomy.tsv\"):\n",
    "#     try:\n",
    "#         df = pd.read_csv(fp, sep=\"\\t\", index_col=0, header=None, comment=\"#\")\n",
    "#         data.append(df.iloc[:,0])\n",
    "#     except (pd.errors.EmptyDataError, pd.errors.ParserError):\n",
    "#         print(fp)\n",
    "# genome_to_taxonomy = pd.concat(data)\n",
    "# genome_to_taxonomy.index.name = \"id_genome\"\n",
    "# genome_to_taxonomy.to_csv(\"../data/taxonomy.tsv.gz\", sep=\"\\t\")\n",
    "\n",
    "# # Assigning taxonomy to clusters without taxonomy scores\n",
    "# clusterani_without_taxonomy = set()\n",
    "# clusterani_to_taxonomy = dict()\n",
    "# for id_clusterani, genomes in tqdm(genome_to_clusterani.groupby(genome_to_clusterani).groups.items()):\n",
    "#     taxonomy = genome_to_taxonomy.loc[genomes.intersection(genome_to_taxonomy.index)]\n",
    "#     if taxonomy.empty:\n",
    "#         clusterani_without_taxonomy.add(id_clusterani)\n",
    "#         clusterani_to_taxonomy[id_clusterani] = pd.NA\n",
    "#     else:\n",
    "#         value_counts = taxonomy.value_counts()\n",
    "#         n_most_common = value_counts.max()\n",
    "#         value_counts = value_counts[lambda v: v == n_most_common]\n",
    "#         label = sorted(value_counts.index, key=len, reverse=True)[0]\n",
    "#         clusterani_to_taxonomy[id_clusterani] = label\n",
    "# clusterani_to_taxonomy = pd.Series(clusterani_to_taxonomy)\n",
    "# clusterani_to_taxonomy.to_csv(\"../data/cluster/ani/cluster-ani_to_taxonomy.tsv.gz\", sep=\"\\t\")"
   ]
  },
  {
   "cell_type": "code",
   "execution_count": 4,
   "id": "88ce0031-d092-4253-9d65-5abc3eb9eb0e",
   "metadata": {
    "tags": []
   },
   "outputs": [
    {
     "name": "stdout",
     "output_type": "stream",
     "text": [
      "Number of genomes: 20377, Number of features: 2124, Number of SLCs: 6719\n",
      "CPU times: user 4.69 s, sys: 321 ms, total: 5.01 s\n",
      "Wall time: 5.46 s\n"
     ]
    }
   ],
   "source": [
    "%%time\n",
    "# Data\n",
    "df_quality = pd.read_csv(\"../data/quality.tsv.gz\",sep=\"\\t\", index_col=0)\n",
    "\n",
    "quality_label=\"completeness_gte90.contamination_lt5\"\n",
    "# quality_label=\"completeness_gte50.contamination_lt10\"\n",
    "output_directory=f\"../data/cluster/mfc/{quality_label}\"\n",
    "os.makedirs(output_directory, exist_ok=True)\n",
    "\n",
    "genome_to_clusterani = pd.read_csv(f\"../data/training/{quality_label}/y.tsv.gz\", sep=\"\\t\", index_col=0, header=None).iloc[:,0].astype(\"category\")\n",
    "X_genomic_traits = pd.read_csv(f\"../data/training/{quality_label}/X.tsv.gz\", sep=\"\\t\", index_col=0).astype(bool)\n",
    "X_genomic_traits_clusterani = pd.read_csv(f\"../data/training/{quality_label}/X_grouped.tsv.gz\", sep=\"\\t\", index_col=0).astype(bool)\n",
    "eukaryotes = read_list(f\"../data/cluster/ani/eukaryotic/{quality_label}/organisms.list\", set)\n",
    "prokaryotes = read_list(f\"../data/cluster/ani/prokaryotic/{quality_label}/organisms.list\", set)\n",
    "\n",
    "genome_to_taxonomy = pd.read_csv(\"../data/taxonomy.tsv.gz\", sep=\"\\t\", index_col=0).iloc[:,0]\n",
    "clusterani_to_taxonomy = pd.read_csv(\"../data/cluster/ani/cluster-ani_to_taxonomy.tsv.gz\", sep=\"\\t\", index_col=0, header=None).iloc[:,0]\n",
    "df_meta_mfc__genomes = pd.read_csv(f\"../data/cluster/mfc/{quality_label}/identifier_mapping.mfc.genomes.with_openai.tsv.gz\", sep=\"\\t\", index_col=0)\n",
    "df_meta_mfc__slc = pd.read_csv(f\"../data/cluster/mfc/{quality_label}/identifier_mapping.mfc.genome_clusters.with_openai.tsv.gz\", sep=\"\\t\", index_col=0)\n",
    "\n",
    "X_genomic_traits_mfc = X_genomic_traits_clusterani.groupby(df_meta_mfc__slc[\"id_cluster-mfc\"]).sum() > 0\n",
    "df_kegg = pd.read_csv(\"/home/ec2-user/SageMaker/s3/newatlantis-raw-veba-db-prod/VDB_v8.1/Annotate/KOfam/kegg-ortholog_metadata.tsv\", sep=\"\\t\", index_col=0)\n",
    "ko_to_description = df_kegg[\"definition\"]\n",
    "\n",
    "print(\"Number of genomes: {}, Number of features: {}, Number of SLCs: {}\".format(*X_genomic_traits.shape, X_genomic_traits_clusterani.shape[0]))\n",
    "# Number of genomes: 20377, Number of features: 2124, Number of SLCs: 6719\n",
    "\n",
    "# CPU times: user 3.41 s, sys: 87.8 ms, total: 3.5 s\n",
    "# Wall time: 3.5 s"
   ]
  },
  {
   "cell_type": "code",
   "execution_count": 80,
   "id": "f596b2fa-d3ed-47fc-8bf0-140f744a231d",
   "metadata": {
    "tags": []
   },
   "outputs": [
    {
     "name": "stdout",
     "output_type": "stream",
     "text": [
      "peak memory: 1164.06 MiB, increment: 344.76 MiB\n"
     ]
    }
   ],
   "source": [
    "%%memit\n",
    "# %time jaccard_distances = pairwise_distances_kneighbors(X_genomic_traits_clusterani, metric=\"jaccard\", n_jobs=-1)\n",
    "# # CPU times: user 1h 4min 32s, sys: 32min, total: 1h 36min 32s\n",
    "# # Wall time: 50min 23s\n",
    "\n",
    "\n",
    "# %time jaccard_distances.to_pickle(f\"{output_directory}/genomic_traits_clusterani.jaccard_distance.dataframe.pkl\")\n",
    "# # CPU times: user 0 ns, sys: 219 ms, total: 219 ms\n",
    "# # Wall time: 215 ms\n",
    "jaccard_distances = read_pickle(f\"{output_directory}/genomic_traits_clusterani.jaccard_distance.dataframe.pkl\")"
   ]
  },
  {
   "cell_type": "code",
   "execution_count": 81,
   "id": "78ab2aca-3cfd-43b8-b213-f753abac6a77",
   "metadata": {
    "tags": []
   },
   "outputs": [
    {
     "name": "stderr",
     "output_type": "stream",
     "text": [
      "Community detection: 100%|██████████| 100/100 [01:07<00:00,  1.47it/s]\n"
     ]
    },
    {
     "name": "stdout",
     "output_type": "stream",
     "text": [
      "0.1876902450677286\n",
      "peak memory: 14834.20 MiB, increment: 13670.06 MiB\n"
     ]
    }
   ],
   "source": [
    "%%memit\n",
    "\n",
    "n_neighbors = 15\n",
    "\n",
    "#     # Convert distance matrix to non-redundant KNN\n",
    "knn = convert_distance_matrix_to_kneighbors_matrix(jaccard_distances, n_neighbors=n_neighbors, redundant_form=False)\n",
    "# CPU times: user 42.5 s, sys: 782 ms, total: 43.2 s\n",
    "# Wall time: 43.2 s\n",
    "\n",
    "#     # Remove disconnected nodes and convert to similarity\n",
    "knn_similarity = 1 - knn[knn > 0]\n",
    "# CPU times: user 13.7 s, sys: 0 ns, total: 13.7 s\n",
    "# Wall time: 13.6 s\n",
    "\n",
    "#     # Convert KNN to iGraph\n",
    "graph = enx.convert_network(knn_similarity, ig.Graph)\n",
    "# CPU times: user 41.7 s, sys: 444 µs, total: 41.7 s\n",
    "# Wall time: 41.7 s\n",
    "\n",
    "#     # Identify leiden communities using multiple seeds\n",
    "df_communities = enx.community_detection(graph, n_iter=100, converge_iter=-1, n_jobs=1)\n",
    "# CPU times: user 293 ms, sys: 3.14 s, total: 3.43 s\n",
    "# Wall time: 4.25 s\n",
    "\n",
    "#     # Identify membership co-occurrence ratios\n",
    "node_pair_membership_cooccurrences = enx.community_membership_cooccurrence(df_communities).mean(axis=1)\n",
    "# CPU times: user 1min 6s, sys: 3.66 s, total: 1min 10s\n",
    "# Wall time: 1min 10s\n",
    "\n",
    "#     # Identify node pairs that have co-membership 100% of the time\n",
    "node_pairs_with_consistent_membership = set(node_pair_membership_cooccurrences[lambda x: x == 1.0].index)\n",
    "# CPU times: user 13.4 s, sys: 325 ms, total: 13.8 s\n",
    "# Wall time: 13.7 s\n",
    "\n",
    "#     # Get list of clustered edges\n",
    "clustered_edgelist = enx.get_undirected_igraph_edgelist_indices(graph, node_pairs_with_consistent_membership)\n",
    "# CPU times: user 678 ms, sys: 3.88 ms, total: 682 ms\n",
    "# Wall time: 680 ms\n",
    "\n",
    "#     # Get clustered graph\n",
    "graph_clustered = graph.subgraph_edges(clustered_edgelist, delete_vertices=True)\n",
    "# CPU times: user 8.86 ms, sys: 45 µs, total: 8.9 ms\n",
    "# Wall time: 8.89 ms\n",
    "\n",
    "#     # Build MFC clusters based on Leiden communities\n",
    "node_to_cluster = pd.Series(enx.get_undirected_igraph_connected_components(graph_clustered, cluster_prefix=\"MFC-\"))\n",
    "\n",
    "# Calculate silhouette scores\n",
    "clustered_nodes = node_to_cluster.index\n",
    "index = clustered_nodes.map(lambda x: jaccard_distances.index.get_loc(x)).values\n",
    "dist = jaccard_distances.values[index,:][:,index]\n",
    "score = silhouette_score(dist, node_to_cluster.values, metric=\"precomputed\", sample_size=None, random_state=None) \n",
    "print(score)\n",
    "# 0.18769024506772863"
   ]
  },
  {
   "cell_type": "code",
   "execution_count": 83,
   "id": "567247f6-65b9-4e11-a872-84a3ca9febba",
   "metadata": {
    "tags": []
   },
   "outputs": [
    {
     "data": {
      "text/plain": [
       "MFC-1     414\n",
       "MFC-2     409\n",
       "MFC-3     326\n",
       "MFC-4     314\n",
       "MFC-5     309\n",
       "         ... \n",
       "MFC-61     17\n",
       "MFC-62     15\n",
       "MFC-63      5\n",
       "MFC-64      4\n",
       "MFC-65      3\n",
       "Name: count, Length: 65, dtype: int64"
      ]
     },
     "execution_count": 83,
     "metadata": {},
     "output_type": "execute_result"
    }
   ],
   "source": [
    "node_to_cluster.value_counts()\n",
    "# MFC-1     414\n",
    "# MFC-2     409\n",
    "# MFC-3     326\n",
    "# MFC-4     314\n",
    "# MFC-5     309\n",
    "#          ... \n",
    "# MFC-61     17\n",
    "# MFC-62     15\n",
    "# MFC-63      5\n",
    "# MFC-64      4\n",
    "# MFC-65      3\n",
    "# Name: count, Length: 65, dtype: int64"
   ]
  },
  {
   "cell_type": "code",
   "execution_count": 207,
   "id": "831c8512-5510-44f1-afde-bb1e18f55900",
   "metadata": {
    "tags": []
   },
   "outputs": [
    {
     "name": "stdout",
     "output_type": "stream",
     "text": [
      "taxonomy\n",
      "Eukaryota;Viridiplantae;-;Chlorophyta;Mamiellophyceae;-;Mamiellales;Bathycoccaceae;Ostreococcus sp- 'lucimarinus'                        10\n",
      "d__Eukaryota;p__Chlorophyta;c__Trebouxiophyceae;o__Trebouxiales;f__Trebouxiaceae;g__Symbiochloris;s__Symbiochloris reticulata             5\n",
      "d__Eukaryota;p__Chlorophyta;c__Chlorophyceae;o__Sphaeropleales;f__Scenedesmaceae;g__Tetradesmus;s__Tetradesmus obliquus                   4\n",
      "Eukaryota;Viridiplantae;-;Chlorophyta;Mamiellophyceae;-;Mamiellales;Mamiellaceae;Micromonas pusilla                                       3\n",
      "d__Eukaryota;p__Chlorophyta;c__Mamiellophyceae;o__Mamiellales;f__Bathycoccaceae;g__Ostreococcus;s__Ostreococcus tauri                     2\n",
      "d__Eukaryota;p__Chlorophyta;c__Trebouxiophyceae;o__Chlorellales;f__Chlorellaceae;g__Auxenochlorella;s__Auxenochlorella protothecoides     2\n",
      "d__Eukaryota;p__Chlorophyta;c__Chlorophyceae;o__Chlamydomonadales;f__Chlamydomonadaceae;g__Chlamydomonas;s__Chlamydomonas reinhardtii     2\n",
      "d__Eukaryota;p__Chlorophyta;c__Mamiellophyceae;o__Mamiellales;f__Bathycoccaceae;g__Bathycoccus;s__Bathycoccus prasinos                    2\n",
      "d__Eukaryota;p__Chlorophyta;c__Trebouxiophyceae;o__Chlorellales;f__Chlorellaceae;g__Chlorella;s__Chlorella sorokiniana                    2\n",
      "d__Eukarya;p__Chlorophyta;c__Mamiellophyceae;o__Mamiellales;f__Bathycoccaceae;g__Bathycoccus;s__                                          2\n",
      "d__Eukaryota;p__Chlorophyta;c__Mamiellophyceae;o__Mamiellales;f__Mamiellaceae;g__Micromonas;s__                                           2\n",
      "d__Eukaryota;p__Chlorophyta;c__Chlorophyceae;o__Chlamydomonadales;f__Chlamydomonadaceae;g__Chlamydomonas;s__Chlamydomonas incerta         1\n",
      "d__Eukaryota;p__Chlorophyta;c__Trebouxiophyceae;o__Chlorellales;f__Chlorellaceae;g__Chlorella;s__Chlorella sp. A99                        1\n",
      "d__Eukaryota;p__Chlorophyta;c__Chloropicophyceae;o__Chloropicales;f__Chloropicaceae;g__Chloropicon;s__Chloropicon primus                  1\n",
      "d__Eukaryota;p__Chlorophyta;c__Chlorophyceae;o__Sphaeropleales;f__Scenedesmaceae;g__Scenedesmus;s__                                       1\n",
      "d__Eukaryota;p__Chlorophyta;c__Chlorophyceae;o__Chlamydomonadales;f__Chlamydomonadaceae;g__Chlamydomonas;s__Chlamydomonas schloesseri     1\n",
      "d__Eukaryota;p__Chlorophyta;c__Trebouxiophyceae;o__;f__;g__Coccomyxa;s__Coccomyxa subellipsoidea                                          1\n",
      "d__Eukaryota;p__Chlorophyta;c__Chlorophyceae;o__Sphaeropleales;f__Scenedesmaceae;g__Enallax;s__Enallax costatus                           1\n",
      "d__Eukaryota;p__Chlorophyta;c__Chlorophyceae;o__Chlamydomonadales;f__Volvocaceae;g__Gonium;s__Gonium pectorale                            1\n",
      "d__Eukaryota;p__Chlorophyta;c__Mamiellophyceae;o__Mamiellales;f__Mamiellaceae;g__Micromonas;s__Micromonas pusilla                         1\n"
     ]
    },
    {
     "data": {
      "text/plain": [
       "openai|gpt-4o-mini|enriched-taxa                                                                 Enriched in Chlorophyta, includes Ostreococcus, Micromonas, and Chlorella.\n",
       "openai|gpt-4o-mini|metabolism-description            Known for photosynthesis, carbon fixation, and diverse metabolic pathways including lipid and carbohydrate metabolism.\n",
       "openai|gpt-4o-mini|ecological-description    Occupies marine and freshwater ecosystems, contributes to primary production and nutrient cycling, while supporting food webs.\n",
       "Name: Ostta1115_2, dtype: object"
      ]
     },
     "execution_count": 207,
     "metadata": {},
     "output_type": "execute_result"
    }
   ],
   "source": [
    "# Preview clusters\n",
    "id_mfc = \"MFC-52\"\n",
    "df = df_meta_mfc__genomes.loc[df_meta_mfc__genomes[\"id_cluster-mfc\"].map(lambda x: x == id_mfc)]\n",
    "print(df[\"taxonomy\"].value_counts().iloc[:20].to_string())\n",
    "df.iloc[0,-3:]"
   ]
  },
  {
   "cell_type": "code",
   "execution_count": 206,
   "id": "993f6cf3-4167-4925-b753-8370147e10cc",
   "metadata": {
    "tags": []
   },
   "outputs": [
    {
     "data": {
      "text/html": [
       "<div>\n",
       "<style scoped>\n",
       "    .dataframe tbody tr th:only-of-type {\n",
       "        vertical-align: middle;\n",
       "    }\n",
       "\n",
       "    .dataframe tbody tr th {\n",
       "        vertical-align: top;\n",
       "    }\n",
       "\n",
       "    .dataframe thead th {\n",
       "        text-align: right;\n",
       "    }\n",
       "</style>\n",
       "<table border=\"1\" class=\"dataframe\">\n",
       "  <thead>\n",
       "    <tr style=\"text-align: right;\">\n",
       "      <th></th>\n",
       "      <th>id_cluster-ani</th>\n",
       "      <th>taxonomy</th>\n",
       "      <th>id_cluster-mfc</th>\n",
       "    </tr>\n",
       "    <tr>\n",
       "      <th>id_genome</th>\n",
       "      <th></th>\n",
       "      <th></th>\n",
       "      <th></th>\n",
       "    </tr>\n",
       "  </thead>\n",
       "  <tbody>\n",
       "    <tr>\n",
       "      <th>Sceobl1450_1</th>\n",
       "      <td>NAL-ESLC_c024a186812da372b24e9af4a411cfd1</td>\n",
       "      <td>d__Eukaryota;p__Chlorophyta;c__Chlorophyceae;o__Sphaeropleales;f__Scenedesmaceae;g__Tetradesmus;s__Tetradesmus obliquus</td>\n",
       "      <td>MFC-52</td>\n",
       "    </tr>\n",
       "    <tr>\n",
       "      <th>Sceobl2630_1</th>\n",
       "      <td>NAL-ESLC_c024a186812da372b24e9af4a411cfd1</td>\n",
       "      <td>d__Eukaryota;p__Chlorophyta;c__Chlorophyceae;o__Sphaeropleales;f__Scenedesmaceae;g__Tetradesmus;s__Tetradesmus obliquus</td>\n",
       "      <td>MFC-52</td>\n",
       "    </tr>\n",
       "    <tr>\n",
       "      <th>SceoblDOE13_1</th>\n",
       "      <td>NAL-ESLC_c024a186812da372b24e9af4a411cfd1</td>\n",
       "      <td>d__Eukaryota;p__Chlorophyta;c__Chlorophyceae;o__Sphaeropleales;f__Scenedesmaceae;g__Tetradesmus;s__Tetradesmus obliquus</td>\n",
       "      <td>MFC-52</td>\n",
       "    </tr>\n",
       "    <tr>\n",
       "      <th>Scesp_1</th>\n",
       "      <td>NAL-ESLC_c7f26194ec93d2d6ea840c4313c92a62</td>\n",
       "      <td>d__Eukaryota;p__Chlorophyta;c__Chlorophyceae;o__Sphaeropleales;f__Scenedesmaceae;g__Scenedesmus;s__</td>\n",
       "      <td>MFC-52</td>\n",
       "    </tr>\n",
       "    <tr>\n",
       "      <th>Chlin1</th>\n",
       "      <td>NAL-ESLC_0f0457a3dd0c248fa5bf16bfdfdb215a</td>\n",
       "      <td>d__Eukaryota;p__Chlorophyta;c__Chlorophyceae;o__Chlamydomonadales;f__Chlamydomonadaceae;g__Chlamydomonas;s__Chlamydomonas incerta</td>\n",
       "      <td>MFC-52</td>\n",
       "    </tr>\n",
       "    <tr>\n",
       "      <th>Chlre5_6</th>\n",
       "      <td>NAL-ESLC_f61e13a694055602a5c72f2d3989c86a</td>\n",
       "      <td>d__Eukaryota;p__Chlorophyta;c__Chlorophyceae;o__Chlamydomonadales;f__Chlamydomonadaceae;g__Chlamydomonas;s__Chlamydomonas reinhardtii</td>\n",
       "      <td>MFC-52</td>\n",
       "    </tr>\n",
       "    <tr>\n",
       "      <th>ChlreiCC4532_1</th>\n",
       "      <td>NAL-ESLC_f61e13a694055602a5c72f2d3989c86a</td>\n",
       "      <td>d__Eukaryota;p__Chlorophyta;c__Chlorophyceae;o__Chlamydomonadales;f__Chlamydomonadaceae;g__Chlamydomonas;s__Chlamydomonas reinhardtii</td>\n",
       "      <td>MFC-52</td>\n",
       "    </tr>\n",
       "    <tr>\n",
       "      <th>Chlsc1</th>\n",
       "      <td>NAL-ESLC_e6c854979caa9cc44148a154e4bed33a</td>\n",
       "      <td>d__Eukaryota;p__Chlorophyta;c__Chlorophyceae;o__Chlamydomonadales;f__Chlamydomonadaceae;g__Chlamydomonas;s__Chlamydomonas schloesseri</td>\n",
       "      <td>MFC-52</td>\n",
       "    </tr>\n",
       "    <tr>\n",
       "      <th>Enacos1_1</th>\n",
       "      <td>NAL-ESLC_7a91c84648eb411eb56fa576d6a57758</td>\n",
       "      <td>d__Eukaryota;p__Chlorophyta;c__Chlorophyceae;o__Sphaeropleales;f__Scenedesmaceae;g__Enallax;s__Enallax costatus</td>\n",
       "      <td>MFC-52</td>\n",
       "    </tr>\n",
       "    <tr>\n",
       "      <th>Gonpec1</th>\n",
       "      <td>NAL-ESLC_eacde8faf37a7ce207a707b2dc3abd2e</td>\n",
       "      <td>d__Eukaryota;p__Chlorophyta;c__Chlorophyceae;o__Chlamydomonadales;f__Volvocaceae;g__Gonium;s__Gonium pectorale</td>\n",
       "      <td>MFC-52</td>\n",
       "    </tr>\n",
       "    <tr>\n",
       "      <th>TetrdesSNI2_1</th>\n",
       "      <td>NAL-ESLC_ed05a7bef43e34a48a3a066b4e686be8</td>\n",
       "      <td>d__Eukaryota;p__Chlorophyta;c__Chlorophyceae;o__Sphaeropleales;f__Scenedesmaceae;g__Tetradesmus;s__Tetradesmus deserticola</td>\n",
       "      <td>MFC-52</td>\n",
       "    </tr>\n",
       "    <tr>\n",
       "      <th>Tetrobl72_1</th>\n",
       "      <td>NAL-ESLC_c024a186812da372b24e9af4a411cfd1</td>\n",
       "      <td>d__Eukaryota;p__Chlorophyta;c__Chlorophyceae;o__Sphaeropleales;f__Scenedesmaceae;g__Tetradesmus;s__Tetradesmus obliquus</td>\n",
       "      <td>MFC-52</td>\n",
       "    </tr>\n",
       "    <tr>\n",
       "      <th>Volca2_1</th>\n",
       "      <td>NAL-ESLC_d6ffb9910864eb27773585459f7501af</td>\n",
       "      <td>d__Eukaryota;p__Chlorophyta;c__Chlorophyceae;o__Chlamydomonadales;f__Volvocaceae;g__Volvox;s__Volvox carteri</td>\n",
       "      <td>MFC-52</td>\n",
       "    </tr>\n",
       "  </tbody>\n",
       "</table>\n",
       "</div>"
      ],
      "text/plain": [
       "                                           id_cluster-ani  \\\n",
       "id_genome                                                   \n",
       "Sceobl1450_1    NAL-ESLC_c024a186812da372b24e9af4a411cfd1   \n",
       "Sceobl2630_1    NAL-ESLC_c024a186812da372b24e9af4a411cfd1   \n",
       "SceoblDOE13_1   NAL-ESLC_c024a186812da372b24e9af4a411cfd1   \n",
       "Scesp_1         NAL-ESLC_c7f26194ec93d2d6ea840c4313c92a62   \n",
       "Chlin1          NAL-ESLC_0f0457a3dd0c248fa5bf16bfdfdb215a   \n",
       "Chlre5_6        NAL-ESLC_f61e13a694055602a5c72f2d3989c86a   \n",
       "ChlreiCC4532_1  NAL-ESLC_f61e13a694055602a5c72f2d3989c86a   \n",
       "Chlsc1          NAL-ESLC_e6c854979caa9cc44148a154e4bed33a   \n",
       "Enacos1_1       NAL-ESLC_7a91c84648eb411eb56fa576d6a57758   \n",
       "Gonpec1         NAL-ESLC_eacde8faf37a7ce207a707b2dc3abd2e   \n",
       "TetrdesSNI2_1   NAL-ESLC_ed05a7bef43e34a48a3a066b4e686be8   \n",
       "Tetrobl72_1     NAL-ESLC_c024a186812da372b24e9af4a411cfd1   \n",
       "Volca2_1        NAL-ESLC_d6ffb9910864eb27773585459f7501af   \n",
       "\n",
       "                                                                                                                                             taxonomy  \\\n",
       "id_genome                                                                                                                                               \n",
       "Sceobl1450_1                  d__Eukaryota;p__Chlorophyta;c__Chlorophyceae;o__Sphaeropleales;f__Scenedesmaceae;g__Tetradesmus;s__Tetradesmus obliquus   \n",
       "Sceobl2630_1                  d__Eukaryota;p__Chlorophyta;c__Chlorophyceae;o__Sphaeropleales;f__Scenedesmaceae;g__Tetradesmus;s__Tetradesmus obliquus   \n",
       "SceoblDOE13_1                 d__Eukaryota;p__Chlorophyta;c__Chlorophyceae;o__Sphaeropleales;f__Scenedesmaceae;g__Tetradesmus;s__Tetradesmus obliquus   \n",
       "Scesp_1                                           d__Eukaryota;p__Chlorophyta;c__Chlorophyceae;o__Sphaeropleales;f__Scenedesmaceae;g__Scenedesmus;s__   \n",
       "Chlin1              d__Eukaryota;p__Chlorophyta;c__Chlorophyceae;o__Chlamydomonadales;f__Chlamydomonadaceae;g__Chlamydomonas;s__Chlamydomonas incerta   \n",
       "Chlre5_6        d__Eukaryota;p__Chlorophyta;c__Chlorophyceae;o__Chlamydomonadales;f__Chlamydomonadaceae;g__Chlamydomonas;s__Chlamydomonas reinhardtii   \n",
       "ChlreiCC4532_1  d__Eukaryota;p__Chlorophyta;c__Chlorophyceae;o__Chlamydomonadales;f__Chlamydomonadaceae;g__Chlamydomonas;s__Chlamydomonas reinhardtii   \n",
       "Chlsc1          d__Eukaryota;p__Chlorophyta;c__Chlorophyceae;o__Chlamydomonadales;f__Chlamydomonadaceae;g__Chlamydomonas;s__Chlamydomonas schloesseri   \n",
       "Enacos1_1                             d__Eukaryota;p__Chlorophyta;c__Chlorophyceae;o__Sphaeropleales;f__Scenedesmaceae;g__Enallax;s__Enallax costatus   \n",
       "Gonpec1                                d__Eukaryota;p__Chlorophyta;c__Chlorophyceae;o__Chlamydomonadales;f__Volvocaceae;g__Gonium;s__Gonium pectorale   \n",
       "TetrdesSNI2_1              d__Eukaryota;p__Chlorophyta;c__Chlorophyceae;o__Sphaeropleales;f__Scenedesmaceae;g__Tetradesmus;s__Tetradesmus deserticola   \n",
       "Tetrobl72_1                   d__Eukaryota;p__Chlorophyta;c__Chlorophyceae;o__Sphaeropleales;f__Scenedesmaceae;g__Tetradesmus;s__Tetradesmus obliquus   \n",
       "Volca2_1                                 d__Eukaryota;p__Chlorophyta;c__Chlorophyceae;o__Chlamydomonadales;f__Volvocaceae;g__Volvox;s__Volvox carteri   \n",
       "\n",
       "               id_cluster-mfc  \n",
       "id_genome                      \n",
       "Sceobl1450_1           MFC-52  \n",
       "Sceobl2630_1           MFC-52  \n",
       "SceoblDOE13_1          MFC-52  \n",
       "Scesp_1                MFC-52  \n",
       "Chlin1                 MFC-52  \n",
       "Chlre5_6               MFC-52  \n",
       "ChlreiCC4532_1         MFC-52  \n",
       "Chlsc1                 MFC-52  \n",
       "Enacos1_1              MFC-52  \n",
       "Gonpec1                MFC-52  \n",
       "TetrdesSNI2_1          MFC-52  \n",
       "Tetrobl72_1            MFC-52  \n",
       "Volca2_1               MFC-52  "
      ]
     },
     "execution_count": 206,
     "metadata": {},
     "output_type": "execute_result"
    }
   ],
   "source": [
    "# Preview clusters\n",
    "query = \"Chlorophyceae\" # ['MFC-17', 'MFC-27', 'MFC-50']\n",
    "df = df_meta_mfc__genomes.loc[df_meta_mfc__genomes[\"taxonomy\"].map(lambda x: query in str(x))]\n",
    "df.loc[:,[\"id_cluster-ani\", \"taxonomy\", \"id_cluster-mfc\"]]"
   ]
  },
  {
   "cell_type": "code",
   "execution_count": 137,
   "id": "e419b729-7506-4980-a81d-847c3112907d",
   "metadata": {
    "tags": []
   },
   "outputs": [
    {
     "name": "stdout",
     "output_type": "stream",
     "text": [
      "taxonomy\n",
      "d__Bacteria;p__Desulfobacterota_D;c__UBA1144;o__UBA1144;f__UBA1144;g__TMED58;s__                                     11\n",
      "d__Bacteria;p__Spirochaetota;c__Leptospirae;o__Leptospirales;f__Leptonemataceae;g__UBA3465;s__UBA3465 sp002730875    10\n",
      "d__Bacteria;p__Desulfobacterota_D;c__UBA1144;o__UBA1144;f__UBA1144;g__TMED126;s__TMED126 sp002701605                  8\n",
      "d__Bacteria;p__Desulfobacterota_D;c__UBA1144;o__UBA1144;f__UBA1144;g__TMED58;s__TMED58 sp002167555                    8\n",
      "d__Bacteria;p__Spirochaetota;c__Leptospirae;o__Leptospirales;f__;g__;s__                                              7\n",
      "d__Bacteria;p__Spirochaetota;c__Leptospirae;o__Leptospirales;f__Leptonemataceae;g__UBA3465;s__UBA3465 sp002729885     5\n",
      "d__Bacteria;p__Desulfobacterota_D;c__UBA1144;o__UBA1144;f__UBA1144;g__GCA-002715585;s__GCA-002715585 sp002697665      5\n",
      "d__Bacteria;p__Methylomirabilota;c__Methylomirabilia;o__Methylomirabilales;f__CSP1-5;g__CSP1-5;s__sp001643535         4\n",
      "d__Bacteria;p__Methylomirabilota;c__Methylomirabilia;o__Methylomirabilales;f__CSP1-5;g__CSP1-5;s__                    4\n",
      "d__Bacteria;p__Desulfobacterota_D;c__UBA1144;o__UBA1144;f__UBA1144;g__;s__                                            4\n",
      "d__Bacteria;p__Desulfobacterota_D;c__UBA1144;o__UBA2774;f__UBA2774;g__CR02bin9;s__CR02bin9                            3\n",
      "d__Bacteria;p__Desulfobacterota_D;c__UBA1144;o__UBA1144;f__UBA1144;g__GCA-002715585;s__                               3\n",
      "d__Bacteria;p__Nitrospinota_A;c__UBA8248;o__UBA8248;f__UBA3496;g__UBA3496;s__                                         3\n",
      "d__Bacteria;p__Desulfobacterota_D;c__UBA1144;o__UBA1144;f__UBA1144;g__GCA-2701925;s__GCA-2701925 sp002701925          3\n",
      "d__Bacteria;p__Nitrospinota_A;c__UBA8248;o__UBA8248;f__UBA8248;g__UBA8248;s__                                         2\n",
      "d__Bacteria;p__Desulfobacterota_D;c__UBA1144;o__UBA1144;f__UBA1144;g__UBA1144;s__UBA1144 sp002311855                  2\n",
      "d__Bacteria;p__Nitrospinota_A;c__UBA8248;o__UBA8248;f__UBA3496;g__UBA3496;s__UBA3496 sp002377645                      2\n",
      "d__Bacteria;p__Tectomicrobia;c__;o__;f__;g__;s__                                                                      2\n",
      "d__Bacteria;p__Spirochaetota;c__Leptospirae;o__Leptospirales;f__Leptonemataceae;g__UBA3465;s__UBA3465 sp002717505     2\n",
      "d__Bacteria;p__Desulfobacterota_D;c__UBA1144;o__UBA1144;f__UBA1144;g__TMED58;s__TMED58 sp002701865                    1\n"
     ]
    }
   ],
   "source": [
    " # ['MFC-17', 'MFC-27', 'MFC-50']\n",
    "id_mfc = \"MFC-50\"\n",
    "df = df_meta_mfc__genomes.loc[df_meta_mfc__genomes[\"id_cluster-mfc\"].map(lambda x: x == id_mfc)]\n",
    "print(df[\"taxonomy\"].value_counts().iloc[:20].to_string())\n",
    "# df[\"taxonomy\"].value_counts().to_dict()\n"
   ]
  },
  {
   "cell_type": "code",
   "execution_count": 126,
   "id": "7f1a506c-9cc5-4803-a096-575191ea45a4",
   "metadata": {
    "tags": []
   },
   "outputs": [
    {
     "data": {
      "text/plain": [
       "Text(0, 0.5, 'Number of genomes')"
      ]
     },
     "execution_count": 126,
     "metadata": {},
     "output_type": "execute_result"
    },
    {
     "data": {
      "image/png": "[encoded data removed]",
      "text/plain": [
       "<Figure size 2100x300 with 1 Axes>"
      ]
     },
     "metadata": {},
     "output_type": "display_data"
    }
   ],
   "source": [
    "ax = df_meta_mfc__genomes[\"id_cluster-mfc\"].value_counts().plot(kind=\"bar\", color=\"teal\", figsize=(21,3))\n",
    "ax.set_ylabel(\"Number of genomes\")"
   ]
  },
  {
   "cell_type": "code",
   "execution_count": 87,
   "id": "c87ad7c4-c24a-4af5-8987-f75549cb8bf1",
   "metadata": {
    "tags": []
   },
   "outputs": [
    {
     "data": {
      "text/plain": [
       "Text(0.5, 0, 'number of nodes')"
      ]
     },
     "execution_count": 87,
     "metadata": {},
     "output_type": "execute_result"
    },
    {
     "data": {
      "image/png": "[encoded data removed]",
      "text/plain": [
       "<Figure size 500x300 with 1 Axes>"
      ]
     },
     "metadata": {},
     "output_type": "display_data"
    }
   ],
   "source": [
    "import numpy as np\n",
    "u = pd.Series(np.arange(1,6719), np.arange(1,6719))\n",
    "u = ((u**2 - u)*0.5).astype(int)\n",
    "\n",
    "ax = u.plot(marker=\"o\", color=\"black\", figsize=(5,3))\n",
    "ax.set_ylabel(\"number of edges (fully-connected)\")\n",
    "# ax.axvline(15, color=\"red\")\n",
    "ax.set_title(\"Metabolic Functional Class Optimization\\nJaccard Similarity -> Leiden\")\n",
    "ax.set_xlabel(\"number of nodes\")\n"
   ]
  },
  {
   "cell_type": "code",
   "execution_count": 127,
   "id": "b4ef4053-a6ad-4d6c-8c43-fae28f6b6018",
   "metadata": {
    "tags": []
   },
   "outputs": [
    {
     "data": {
      "text/plain": [
       "Text(0.5, 1.0, 'Metabolic Functional Class Optimization\\nJaccard Similarity -> Leiden')"
      ]
     },
     "execution_count": 127,
     "metadata": {},
     "output_type": "execute_result"
    },
    {
     "data": {
      "image/png": "[encoded data removed]",
      "text/plain": [
       "<Figure size 500x300 with 1 Axes>"
      ]
     },
     "metadata": {},
     "output_type": "display_data"
    }
   ],
   "source": [
    "import pandas as pd\n",
    "import re\n",
    "\n",
    "# Log data as a multi-line string\n",
    "log_data = \"\"\"\n",
    "2025-02-13 08:04:57,458 - MetabolicFunctionalClass Detection - INFO - [n_neighbors = 3] [score = 0.14827895414889997] [n_nodes = 6709] [n_edges = 15004\n",
    "2025-02-13 08:08:56,462 - MetabolicFunctionalClass Detection - INFO - [n_neighbors = 4] [score = 0.14250146219957047] [n_nodes = 6704] [n_edges = 19737\n",
    "2025-02-13 08:12:50,017 - MetabolicFunctionalClass Detection - INFO - [n_neighbors = 5] [score = 0.1496272928261032] [n_nodes = 6711] [n_edges = 24428\n",
    "2025-02-13 08:16:54,362 - MetabolicFunctionalClass Detection - INFO - [n_neighbors = 6] [score = 0.14431727808225794] [n_nodes = 6715] [n_edges = 29105\n",
    "2025-02-13 08:21:12,929 - MetabolicFunctionalClass Detection - INFO - [n_neighbors = 7] [score = 0.15032502410999418] [n_nodes = 6713] [n_edges = 33624\n",
    "2025-02-13 08:25:37,678 - MetabolicFunctionalClass Detection - INFO - [n_neighbors = 8] [score = 0.1544862507691734] [n_nodes = 6710] [n_edges = 38336\n",
    "2025-02-13 08:30:18,903 - MetabolicFunctionalClass Detection - INFO - [n_neighbors = 9] [score = 0.17105763725862652] [n_nodes = 6713] [n_edges = 42960\n",
    "2025-02-13 08:34:52,962 - MetabolicFunctionalClass Detection - INFO - [n_neighbors = 10] [score = 0.169025490008705] [n_nodes = 6717] [n_edges = 47624\n",
    "2025-02-13 08:39:49,783 - MetabolicFunctionalClass Detection - INFO - [n_neighbors = 11] [score = 0.17196930722711523] [n_nodes = 6715] [n_edges = 52129\n",
    "2025-02-13 08:44:58,716 - MetabolicFunctionalClass Detection - INFO - [n_neighbors = 12] [score = 0.18315405021928527] [n_nodes = 6707] [n_edges = 56558\n",
    "2025-02-13 08:50:17,413 - MetabolicFunctionalClass Detection - INFO - [n_neighbors = 13] [score = 0.17427951828168595] [n_nodes = 6712] [n_edges = 61221\n",
    "2025-02-13 08:55:43,940 - MetabolicFunctionalClass Detection - INFO - [n_neighbors = 14] [score = 0.17447455334080886] [n_nodes = 6705] [n_edges = 65543\n",
    "2025-02-13 09:01:38,520 - MetabolicFunctionalClass Detection - INFO - [n_neighbors = 15] [score = 0.1876902450677286] [n_nodes = 6710] [n_edges = 70196\n",
    "2025-02-13 09:25:40,455 - MetabolicFunctionalClass Detection - INFO - [n_neighbors = 16] [score = 0.1759867529612348] [n_nodes = 6706] [n_edges = 74857]\n",
    "2025-02-13 09:31:56,277 - MetabolicFunctionalClass Detection - INFO - [n_neighbors = 17] [score = 0.1706909386694163] [n_nodes = 6710] [n_edges = 79316]\n",
    "2025-02-13 09:38:21,437 - MetabolicFunctionalClass Detection - INFO - [n_neighbors = 18] [score = 0.17033265772667766] [n_nodes = 6712] [n_edges = 83995]\n",
    "2025-02-13 09:44:55,023 - MetabolicFunctionalClass Detection - INFO - [n_neighbors = 19] [score = 0.17455404626584417] [n_nodes = 6715] [n_edges = 88290]\n",
    "2025-02-13 09:51:55,227 - MetabolicFunctionalClass Detection - INFO - [n_neighbors = 20] [score = 0.17340072924903233] [n_nodes = 6710] [n_edges = 92662]\n",
    "2025-02-13 09:59:30,346 - MetabolicFunctionalClass Detection - INFO - [n_neighbors = 21] [score = 0.16371395246767542] [n_nodes = 6709] [n_edges = 96915]\n",
    "2025-02-13 10:07:06,607 - MetabolicFunctionalClass Detection - INFO - [n_neighbors = 22] [score = 0.1639701260232878] [n_nodes = 6707] [n_edges = 100869]\n",
    "2025-02-13 10:15:08,038 - MetabolicFunctionalClass Detection - INFO - [n_neighbors = 23] [score = 0.15434847225756584] [n_nodes = 6708] [n_edges = 105171]\n",
    "2025-02-13 10:23:28,642 - MetabolicFunctionalClass Detection - INFO - [n_neighbors = 24] [score = 0.1605279453881246] [n_nodes = 6707] [n_edges = 109781]\n",
    "2025-02-13 10:31:55,392 - MetabolicFunctionalClass Detection - INFO - [n_neighbors = 25] [score = 0.16453712198859935] [n_nodes = 6704] [n_edges = 114333]\n",
    "2025-02-13 10:40:55,606 - MetabolicFunctionalClass Detection - INFO - [n_neighbors = 26] [score = 0.16191904797162412] [n_nodes = 6709] [n_edges = 118703]\n",
    "2025-02-13 10:50:13,455 - MetabolicFunctionalClass Detection - INFO - [n_neighbors = 27] [score = 0.15271056758307056] [n_nodes = 6708] [n_edges = 123395]\n",
    "2025-02-13 10:59:47,180 - MetabolicFunctionalClass Detection - INFO - [n_neighbors = 28] [score = 0.1489448709270961] [n_nodes = 6712] [n_edges = 127582]\n",
    "2025-02-13 11:09:55,890 - MetabolicFunctionalClass Detection - INFO - [n_neighbors = 29] [score = 0.1514311625109161] [n_nodes = 6714] [n_edges = 131723]\n",
    "2025-02-13 11:20:21,135 - MetabolicFunctionalClass Detection - INFO - [n_neighbors = 30] [score = 0.1544918014211842] [n_nodes = 6708] [n_edges = 135785]\n",
    "2025-02-13 11:31:14,397 - MetabolicFunctionalClass Detection - INFO - [n_neighbors = 31] [score = 0.16102032824703968] [n_nodes = 6707] [n_edges = 139897]\n",
    "2025-02-13 11:42:41,624 - MetabolicFunctionalClass Detection - INFO - [n_neighbors = 32] [score = 0.1580161985274517] [n_nodes = 6701] [n_edges = 144107]\n",
    "2025-02-13 11:54:22,116 - MetabolicFunctionalClass Detection - INFO - [n_neighbors = 33] [score = 0.1591727464585174] [n_nodes = 6707] [n_edges = 148476]\n",
    "2025-02-13 12:07:02,156 - MetabolicFunctionalClass Detection - INFO - [n_neighbors = 34] [score = 0.15392005845204768] [n_nodes = 6709] [n_edges = 152515]\n",
    "2025-02-13 12:19:59,885 - MetabolicFunctionalClass Detection - INFO - [n_neighbors = 35] [score = 0.14606661123542003] [n_nodes = 6705] [n_edges = 156576]\n",
    "2025-02-13 12:33:03,842 - MetabolicFunctionalClass Detection - INFO - [n_neighbors = 36] [score = 0.1529812796890363] [n_nodes = 6707] [n_edges = 160365]\n",
    "2025-02-13 12:47:11,898 - MetabolicFunctionalClass Detection - INFO - [n_neighbors = 37] [score = 0.1467584872288237] [n_nodes = 6706] [n_edges = 164671]\n",
    "2025-02-13 13:01:49,074 - MetabolicFunctionalClass Detection - INFO - [n_neighbors = 38] [score = 0.1314497736496415] [n_nodes = 6702] [n_edges = 169272]\n",
    "2025-02-13 13:16:51,173 - MetabolicFunctionalClass Detection - INFO - [n_neighbors = 39] [score = 0.15127179177602582] [n_nodes = 6708] [n_edges = 172491]\n",
    "2025-02-13 17:27:49,090 - MetabolicFunctionalClass Detection - INFO - [n_neighbors = 80] [score = 0.129897018080212] [n_nodes = 6712] [n_edges = 345257]\n",
    "2025-02-13 18:06:05,019 - MetabolicFunctionalClass Detection - INFO - [n_neighbors = 70] [score = 0.14426080947656697] [n_nodes = 6712] [n_edges = 310227]\n",
    "2025-02-13 18:36:23,740 - MetabolicFunctionalClass Detection - INFO - [n_neighbors = 60] [score = 0.1351558481997871] [n_nodes = 6711] [n_edges = 265089]\n",
    "\"\"\"\n",
    "\n",
    "# Updated regex pattern to tolerate missing closing brackets\n",
    "pattern = r\"\\[n_neighbors = (\\d+)\\] \\[score = ([0-9.]+)\\] \\[n_nodes = (\\d+)\\] \\[n_edges = (\\d+)\"\n",
    "data = []\n",
    "\n",
    "for match in re.finditer(pattern, log_data):\n",
    "    n_neighbors, score, n_nodes, n_edges = match.groups()\n",
    "    data.append({\n",
    "        \"n_neighbors\": int(n_neighbors),\n",
    "        \"score\": float(score),\n",
    "        \"n_nodes\": int(n_nodes),\n",
    "        \"n_edges\": int(n_edges)\n",
    "    })\n",
    "\n",
    "# Convert to a DataFrame\n",
    "df = pd.DataFrame(data).set_index(\"n_neighbors\")\n",
    "ax = df[\"score\"].plot(marker=\"o\", color=\"black\", figsize=(5,3))\n",
    "ax.set_ylabel(\"Silhouette Score\")\n",
    "ax.axvline(15, color=\"red\")\n",
    "ax.set_title(\"Metabolic Functional Class Optimization\\nJaccard Similarity -> Leiden\")\n"
   ]
  },
  {
   "cell_type": "code",
   "execution_count": 85,
   "id": "c8fa8969-c19e-4d92-b8e9-9f75bf274776",
   "metadata": {
    "tags": []
   },
   "outputs": [
    {
     "data": {
      "text/plain": [
       "Text(0.5, 1.0, 'Metabolic Functional Class Optimization\\nJaccard Similarity -> Leiden')"
      ]
     },
     "execution_count": 85,
     "metadata": {},
     "output_type": "execute_result"
    },
    {
     "data": {
      "image/png": "[encoded data removed]",
      "text/plain": [
       "<Figure size 500x300 with 1 Axes>"
      ]
     },
     "metadata": {},
     "output_type": "display_data"
    }
   ],
   "source": [
    "ax = df[\"n_edges\"].plot(marker=\"o\", color=\"black\", figsize=(5,3))\n",
    "ax.set_ylabel(\"number of edges\")\n",
    "ax.axvline(15, color=\"red\")\n",
    "ax.set_title(\"Metabolic Functional Class Optimization\\nJaccard Similarity -> Leiden\")\n"
   ]
  },
  {
   "cell_type": "code",
   "execution_count": 86,
   "id": "d06b556e-0f9b-43c7-ac86-67d4b872d3ba",
   "metadata": {
    "tags": []
   },
   "outputs": [
    {
     "data": {
      "text/plain": [
       "Text(0.5, 1.0, 'Metabolic Functional Class Optimization\\nJaccard Similarity -> Leiden')"
      ]
     },
     "execution_count": 86,
     "metadata": {},
     "output_type": "execute_result"
    },
    {
     "data": {
      "image/png": "[encoded data removed]",
      "text/plain": [
       "<Figure size 500x300 with 1 Axes>"
      ]
     },
     "metadata": {},
     "output_type": "display_data"
    }
   ],
   "source": [
    "ax = df[\"n_nodes\"].plot(marker=\"o\", color=\"black\", figsize=(5,3))\n",
    "ax.set_ylabel(\"number of nodes\")\n",
    "ax.axvline(15, color=\"red\")\n",
    "ax.set_title(\"Metabolic Functional Class Optimization\\nJaccard Similarity -> Leiden\")\n"
   ]
  },
  {
   "cell_type": "code",
   "execution_count": null,
   "id": "d885e1ae-aed7-4e5e-a0e2-3a470ee11ffb",
   "metadata": {},
   "outputs": [],
   "source": []
  },
  {
   "cell_type": "code",
   "execution_count": null,
   "id": "76fe0cd8-2106-4ca6-abd7-9e9d6664f648",
   "metadata": {},
   "outputs": [],
   "source": []
  },
  {
   "cell_type": "code",
   "execution_count": null,
   "id": "918c9d5b-4f08-46de-8712-fc82a80ef0d4",
   "metadata": {},
   "outputs": [],
   "source": []
  },
  {
   "cell_type": "code",
   "execution_count": null,
   "id": "3280e966-95bd-40eb-a58b-757cf5867cde",
   "metadata": {},
   "outputs": [],
   "source": []
  },
  {
   "cell_type": "code",
   "execution_count": 171,
   "id": "f86f2019-78ee-4818-83e8-6421acfdc832",
   "metadata": {
    "tags": []
   },
   "outputs": [
    {
     "name": "stderr",
     "output_type": "stream",
     "text": [
      "100%|██████████| 65/65 [00:00<00:00, 2132.50it/s]\n"
     ]
    }
   ],
   "source": [
    "# # Annotating MFCs\n",
    "\n",
    "# # mfc_to_response = dict()\n",
    "# mfc_to_prompt = dict()\n",
    "# for id_cluster_mfc, df in tqdm(df_meta_mfc__slc.groupby(\"id_cluster-mfc\")):\n",
    "#     taxa = df[\"taxonomy\"].dropna().value_counts().to_dict()\n",
    "#     prompt = \"I have clustered prokaryotes and microeukaryotes by presence/absence of enzymes to yield Metabolic Functional Classes (MFC). \" \\\n",
    "#              \"For additional context, I have used jaccard similarity --> leiden community detection. \" \\\n",
    "#              \"Each MFC is exepected to contain groups of taxa that occupy similar metabolic niches in the environment. \" \\\n",
    "#              \"I need assistance in providing succinct descriptions about 1) what taxonomic groups are enriched in the MFC; 2) what metabolic\" \\\n",
    "#              \"functions this group of organisms is known for; and 3) what ecological niches this MFC may be occupying or ecosystem services this MFC may be providing. \" \\\n",
    "#              \"Please output a Python dictionary with the following keys: enriched_taxa, metabolic_niche_description, ecological_niche_description where values are the responses to the prompt. \" \\\n",
    "#              \"Instead of using terms like `This MFC is enriched in` use less words like `Enriched in`.  Instead of saying `The organisms in this MFC occupy` say `Occupies` this will make the responses more succinct. \" \\\n",
    "#              \"Please output the content without any additional text around it.  Please output the content without a variable name so I can load this into Python without parsing. \"\\\n",
    "#              f\"Here is the taxonomy for a MFC in a Python dict format where the key is a taxonomic lineage and the contains the number of genomes within the MFC:\\n\" \\\n",
    "#              f\"{taxa}\"\n",
    "#     mfc_to_prompt[id_cluster_mfc] = prompt\n",
    "#     # response = submit_openai_prompt(client, prompt)\n",
    "\n",
    "#     # mfc_to_response[id_cluster_mfc] = response\n",
    "# # 100%|██████████| 65/65 [02:14<00:00,  2.06s/it]\n",
    "# # write_pickle(mfc_to_response, f\"../data/cluster/mfc/{quality_label}/mfc_to_openai-response.dict.pkl\")\n",
    "# write_json(mfc_to_prompt, f\"../data/cluster/mfc/{quality_label}/mfc_to_openai-prompt.json\")"
   ]
  },
  {
   "cell_type": "code",
   "execution_count": 6,
   "id": "22bb568a-0e48-427a-9bf6-7ed5a57ad900",
   "metadata": {
    "tags": []
   },
   "outputs": [
    {
     "name": "stderr",
     "output_type": "stream",
     "text": [
      "100%|██████████| 65/65 [00:00<00:00, 549.99it/s]\n"
     ]
    }
   ],
   "source": [
    "# Annotating MFCs\n",
    "\n",
    "\n",
    "mfc_to_info = dict()\n",
    "for id_cluster_mfc, df in tqdm(df_meta_mfc__slc.groupby(\"id_cluster-mfc\")):\n",
    "    taxa = df[\"taxonomy\"].dropna().value_counts().to_dict()\n",
    "    kos = X_genomic_traits_mfc.columns[X_genomic_traits_mfc.loc[id_cluster_mfc]]\n",
    "    kos = ko_to_description.loc[kos].dropna().to_dict()\n",
    "    mfc_to_info[id_cluster_mfc] = {\"taxonomy_count\":taxa, \"kegg_orthologs\":kos}\n",
    "write_json(mfc_to_info, f\"../data/cluster/mfc/{quality_label}/mfc_to_info.json\")"
   ]
  },
  {
   "cell_type": "code",
   "execution_count": 4,
   "id": "f0376f1d-75ca-4d7d-a8c4-12a5501d810b",
   "metadata": {
    "tags": []
   },
   "outputs": [
    {
     "name": "stdout",
     "output_type": "stream",
     "text": [
      "I have clustered prokaryotes and microeukaryotes by presence/absence of enzymes to yield Metabolic Functional Classes (MFC). For additional context, I have used jaccard similarity --> leiden community detection. Each MFC is exepected to contain groups of taxa that occupy similar metabolic niches in the environment. I need assistance in providing succinct descriptions about 1) what taxonomic groups are enriched in the MFC; 2) what metabolicfunctions this group of organisms is known for; and 3) what ecological niches this MFC may be occupying or ecosystem services this MFC may be providing. Please output a Python dictionary with the following keys: enriched_taxa, metabolic_niche_description, ecological_niche_description where values are the responses to the prompt. Instead of using terms like `This MFC is enriched in` use less words like `Enriched in`.  Instead of saying `The organisms in this MFC occupy` say `Occupies` this will make the responses more succinct. Please output the content without any additional text around it.  Please output the content without a variable name so I can load this into Python without parsing. Here is the taxonomy for a MFC in a Python dict format where the key is a taxonomic lineage and the contains the number of genomes within the MFC:\n",
      "\n"
     ]
    }
   ],
   "source": [
    "prompt = \"I have clustered prokaryotes and microeukaryotes by presence/absence of enzymes to yield Metabolic Functional Classes (MFC). \" \\\n",
    "         \"For additional context, I have used jaccard similarity --> leiden community detection. \" \\\n",
    "         \"Each MFC is exepected to contain groups of taxa that occupy similar metabolic niches in the environment. \" \\\n",
    "         \"I need assistance in providing succinct descriptions about 1) what taxonomic groups are enriched in the MFC; 2) what metabolic\" \\\n",
    "         \"functions this group of organisms is known for; and 3) what ecological niches this MFC may be occupying or ecosystem services this MFC may be providing. \" \\\n",
    "         \"Please output a Python dictionary with the following keys: enriched_taxa, metabolic_niche_description, ecological_niche_description where values are the responses to the prompt. \" \\\n",
    "         \"Instead of using terms like `This MFC is enriched in` use less words like `Enriched in`.  Instead of saying `The organisms in this MFC occupy` say `Occupies` this will make the responses more succinct. \" \\\n",
    "         \"Please output the content without any additional text around it.  Please output the content without a variable name so I can load this into Python without parsing. \"\\\n",
    "         f\"Here is the taxonomy for a MFC in a Python dict format where the key is a taxonomic lineage and the contains the number of genomes within the MFC:\\n\" \n",
    "print(prompt)"
   ]
  },
  {
   "cell_type": "code",
   "execution_count": 182,
   "id": "24694960-22ba-445f-9c36-8b886fa31e60",
   "metadata": {
    "tags": []
   },
   "outputs": [
    {
     "name": "stderr",
     "output_type": "stream",
     "text": [
      "100%|██████████| 65/65 [03:43<00:00,  3.44s/it]\n"
     ]
    }
   ],
   "source": [
    "# Annotating MFCs\n",
    "\n",
    "\n",
    "mfc_to_response = dict()\n",
    "mfc_to_prompt = dict()\n",
    "for id_cluster_mfc, df in tqdm(df_meta_mfc__slc.groupby(\"id_cluster-mfc\")):\n",
    "    taxa = df[\"taxonomy\"].dropna().value_counts().to_dict()\n",
    "    kos = X_genomic_traits_mfc.columns[X_genomic_traits_mfc.loc[id_cluster_mfc]]\n",
    "    kos = ko_to_description.loc[kos].dropna().to_dict()\n",
    "    prompt = \"I have clustered prokaryotes and microeukaryotes by presence/absence of enzymes to yield Metabolic Functional Classes (MFC). \" \\\n",
    "             \"For additional context, I have used jaccard similarity --> leiden community detection. \" \\\n",
    "             \"Each MFC is exepected to contain groups of taxa that occupy similar metabolic niches in the environment. \" \\\n",
    "             \"I need assistance in providing succinct descriptions about 1) what taxonomic groups are enriched in the MFC; 2) what metabolic\" \\\n",
    "             \"functions this group of organisms is known for; and 3) what ecological niches this MFC may be occupying or ecosystem services this MFC may be providing. \" \\\n",
    "             \"Please output a Python dictionary with the following keys: enriched_taxa, metabolic_niche_description, ecological_niche_description where values are the responses to the prompt. \" \\\n",
    "             \"Instead of using terms like `This MFC is enriched in` use less words like `Enriched in`.  Instead of saying `The organisms in this MFC occupy` say `Occupies` this will make the responses more succinct. \" \\\n",
    "             \"Please output the content without any additional text around it.  Please output the content without a variable name so I can load this into Python without parsing. \"\\\n",
    "             \"Here is the taxonomy for a MFC in a Python dict format where the key is a taxonomic lineage and the contains the number of genomes within the MFC:\\n\" \\\n",
    "             f\"{taxa}\\n\" \\\n",
    "             \"Here is a Python dictionary of detected protein orthologs in the MFC where the key is a KEGG ortholog and value is the protein product description (including enzyme commission [EC] numbers when available) formatted: \\n\" \\\n",
    "             f\"{kos}\"\n",
    "    response = submit_openai_prompt(client, prompt)\n",
    "    mfc_to_response[id_cluster_mfc] = response\n",
    "    mfc_to_prompt[id_cluster_mfc] = prompt\n",
    "write_pickle(mfc_to_response, f\"../data/cluster/mfc/{quality_label}/mfc_to_openai-response.with_kegg.dict.pkl\")\n",
    "write_json(mfc_to_prompt, f\"../data/cluster/mfc/{quality_label}/mfc_to_openai-prompt.with_kegg.json\")"
   ]
  },
  {
   "cell_type": "code",
   "execution_count": 188,
   "id": "06c4a11a-d936-4eb6-8091-c6bc18244505",
   "metadata": {
    "tags": []
   },
   "outputs": [],
   "source": [
    "\n",
    "mfc_to_description = dict()\n",
    "for id_mfc, info in mfc_to_response.items():\n",
    "    mfc_to_description[id_mfc] = json.load(StringIO(info.content))\n",
    "df_mfc_description = pd.DataFrame(mfc_to_description).T\n",
    "df_meta_mfc__genomes[\"openai|gpt-4o-mini|enriched-taxa\"] = df_meta_mfc__genomes[\"id_cluster-mfc\"].map(lambda x: mfc_to_description[x][\"enriched_taxa\"] if x in mfc_to_description else np.nan)\n",
    "df_meta_mfc__genomes[\"openai|gpt-4o-mini|metabolism-description\"] = df_meta_mfc__genomes[\"id_cluster-mfc\"].map(lambda x: mfc_to_description[x][\"metabolic_niche_description\"] if x in mfc_to_description else np.nan)\n",
    "df_meta_mfc__genomes[\"openai|gpt-4o-mini|ecological-description\"] = df_meta_mfc__genomes[\"id_cluster-mfc\"].map(lambda x: mfc_to_description[x][\"ecological_niche_description\"] if x in mfc_to_description else np.nan)\n",
    "df_meta_mfc__genomes.to_csv(f\"../data/cluster/mfc/{quality_label}/identifier_mapping.mfc.genomes.with_openai.tsv.gz\", sep=\"\\t\")\n",
    "\n",
    "df_meta_mfc__slc[\"openai|gpt-4o-mini|enriched-taxa\"] = df_meta_mfc__slc[\"id_cluster-mfc\"].map(lambda x: mfc_to_description[x][\"enriched_taxa\"] if x in mfc_to_description else np.nan)\n",
    "df_meta_mfc__slc[\"openai|gpt-4o-mini|metabolism-description\"] = df_meta_mfc__slc[\"id_cluster-mfc\"].map(lambda x: mfc_to_description[x][\"metabolic_niche_description\"] if x in mfc_to_description else np.nan)\n",
    "df_meta_mfc__slc[\"openai|gpt-4o-mini|ecological-description\"] = df_meta_mfc__slc[\"id_cluster-mfc\"].map(lambda x: mfc_to_description[x][\"ecological_niche_description\"] if x in mfc_to_description else np.nan)\n",
    "df_meta_mfc__slc.to_csv(f\"../data/cluster/mfc/{quality_label}/identifier_mapping.mfc.genome_clusters.with_openai.tsv.gz\", sep=\"\\t\")\n",
    "\n"
   ]
  },
  {
   "cell_type": "code",
   "execution_count": 191,
   "id": "80f50bca-f828-4f74-b53b-440bd3da2774",
   "metadata": {
    "tags": []
   },
   "outputs": [
    {
     "data": {
      "text/plain": [
       "taxonomy                                                                              d__Bacteria;p__Bacteroidota;c__Bacteroidia;o__Chitinophagales;f__Saprospiraceae;g__;s__\n",
       "id_cluster-mfc                                                                                                                                                          MFC-1\n",
       "openai|gpt-4o-mini|enriched-taxa                                                                                              Bacteroidota, Acidobacteriota, Bdellovibrionota\n",
       "openai|gpt-4o-mini|metabolism-description                                                    Known for metabolizing organic compounds, carbon cycling, and nitrogen fixation.\n",
       "openai|gpt-4o-mini|ecological-description    Occupies marine and freshwater ecosystems, provides essential nutrients through organic matter degradation and nitrogen cycling.\n",
       "Name: NAL-PSLC_014e8a57fc2dcfd95edce5f3d7e0bc7e, dtype: object"
      ]
     },
     "execution_count": 191,
     "metadata": {},
     "output_type": "execute_result"
    }
   ],
   "source": [
    "df_meta_mfc__slc.iloc[0]"
   ]
  },
  {
   "cell_type": "code",
   "execution_count": null,
   "id": "be299cff-0265-4ebf-afcc-01e9ee874790",
   "metadata": {},
   "outputs": [],
   "source": []
  },
  {
   "cell_type": "code",
   "execution_count": null,
   "id": "365c33b3-96bb-469a-a0cb-e46077db6b4d",
   "metadata": {},
   "outputs": [],
   "source": []
  },
  {
   "cell_type": "code",
   "execution_count": null,
   "id": "ee9566aa-497b-4bd2-9b4d-96c09513b67c",
   "metadata": {},
   "outputs": [],
   "source": []
  },
  {
   "cell_type": "code",
   "execution_count": null,
   "id": "a1fa4219-56f6-40ed-99bd-669bef195204",
   "metadata": {},
   "outputs": [],
   "source": []
  },
  {
   "cell_type": "code",
   "execution_count": 45,
   "id": "5f6b1376-93e6-4418-b36b-fe3d31a1f5bf",
   "metadata": {
    "tags": []
   },
   "outputs": [
    {
     "name": "stdout",
     "output_type": "stream",
     "text": [
      "Li_2024-PRJNA1111327-KermadecDiamantinaTrench\n",
      "\t {'Kermadec_Trench_FDZ134_9415_24-26cm_bin.85', 'Kermadec_Trench_FDZ134_9415_16-18cm_bin.53', 'Kermadec_Trench_FDZ134_9415_0-2cm_bin.1', 'Kermadec_Trench_FDZ134_9415_16-18cm_bin.3', 'Kermadec_Trench_FDZ134_9415_16-18cm_bin.110', 'Kermadec_Trench_FDZ134_9415_28-30cm_bin.47', 'Kermadec_Trench_FDZ134_9415_16-18cm_bin.59', 'Kermadec_Trench_FDZ134_9415_24-26cm_bin.108', 'Kermadec_Trench_FDZ130_5861_8-10cm_bin.22', 'Kermadec_Trench_FDZ134_9415_24-26cm_bin.69', 'Kermadec_Trench_FDZ134_9415_28-30cm_bin.118', 'Kermadec_Trench_FDZ134_9415_28-30cm_bin.17', 'Kermadec_Trench_FDZ134_9415_16-18cm_bin.5'}\n",
      "\n",
      "TARA-BAC_ARC_MAGs\n",
      "\t {'TARA_ANE_MAG_00001'}\n",
      "\n",
      "Zhang_2024-PRJNA113162029-YapMarianaTrenchSediment\n",
      "\t {'SY223-base_bin17', 'SY223-base_bin14', 'SY206-sub_bin7', 'SY223-base_bin5', 'SY212-flank_bin6', 'SY220-base-sub_bin9'}\n",
      "\n"
     ]
    }
   ],
   "source": [
    "\n",
    "missing_taxonomy = set(genome_to_clusterani.index) - set(genome_to_taxonomy.index)\n",
    "\n",
    "for fp in glob.glob(\"/home/ec2-user/SageMaker/s3/newatlantis-genomics-db-prod/SourceDatabases/*/organisms.*.list\"):\n",
    "    query = missing_taxonomy & read_list(fp, into=set)\n",
    "    if query:\n",
    "        print(fp.split(\"/\")[-2])\n",
    "        print(\"\\t\", query)\n",
    "        print()\n",
    "# Li_2024-PRJNA1111327-KermadecDiamantinaTrench\n",
    "# \t {'Kermadec_Trench_FDZ134_9415_24-26cm_bin.85', 'Kermadec_Trench_FDZ134_9415_16-18cm_bin.53', 'Kermadec_Trench_FDZ134_9415_0-2cm_bin.1', 'Kermadec_Trench_FDZ134_9415_16-18cm_bin.3', 'Kermadec_Trench_FDZ134_9415_16-18cm_bin.110', 'Kermadec_Trench_FDZ134_9415_28-30cm_bin.47', 'Kermadec_Trench_FDZ134_9415_16-18cm_bin.59', 'Kermadec_Trench_FDZ134_9415_24-26cm_bin.108', 'Kermadec_Trench_FDZ130_5861_8-10cm_bin.22', 'Kermadec_Trench_FDZ134_9415_24-26cm_bin.69', 'Kermadec_Trench_FDZ134_9415_28-30cm_bin.118', 'Kermadec_Trench_FDZ134_9415_28-30cm_bin.17', 'Kermadec_Trench_FDZ134_9415_16-18cm_bin.5'}\n",
    "\n",
    "# TARA-BAC_ARC_MAGs\n",
    "# \t {'TARA_ANE_MAG_00001'}\n",
    "\n",
    "# Zhang_2024-PRJNA113162029-YapMarianaTrenchSediment\n",
    "# \t {'SY223-base_bin17', 'SY223-base_bin14', 'SY206-sub_bin7', 'SY223-base_bin5', 'SY212-flank_bin6', 'SY220-base-sub_bin9'}\n",
    "\n"
   ]
  },
  {
   "cell_type": "code",
   "execution_count": 124,
   "id": "2312f517-5419-4710-8f5d-d348bfe6d24f",
   "metadata": {
    "tags": []
   },
   "outputs": [
    {
     "data": {
      "text/html": [
       "<div>\n",
       "<style scoped>\n",
       "    .dataframe tbody tr th:only-of-type {\n",
       "        vertical-align: middle;\n",
       "    }\n",
       "\n",
       "    .dataframe tbody tr th {\n",
       "        vertical-align: top;\n",
       "    }\n",
       "\n",
       "    .dataframe thead th {\n",
       "        text-align: right;\n",
       "    }\n",
       "</style>\n",
       "<table border=\"1\" class=\"dataframe\">\n",
       "  <thead>\n",
       "    <tr style=\"text-align: right;\">\n",
       "      <th></th>\n",
       "      <th>taxonomy</th>\n",
       "      <th>id_cluster-mfc</th>\n",
       "    </tr>\n",
       "    <tr>\n",
       "      <th>id_cluster-ani</th>\n",
       "      <th></th>\n",
       "      <th></th>\n",
       "    </tr>\n",
       "  </thead>\n",
       "  <tbody>\n",
       "    <tr>\n",
       "      <th>NAL-PSLC_014e8a57fc2dcfd95edce5f3d7e0bc7e</th>\n",
       "      <td>d__Bacteria;p__Bacteroidota;c__Bacteroidia;o__...</td>\n",
       "      <td>MFC-1</td>\n",
       "    </tr>\n",
       "    <tr>\n",
       "      <th>NAL-PSLC_017564e37cb813c7c06aa83178eea5db</th>\n",
       "      <td>d__Bacteria;p__Bacteroidota;c__Bacteroidia;o__...</td>\n",
       "      <td>MFC-1</td>\n",
       "    </tr>\n",
       "    <tr>\n",
       "      <th>NAL-PSLC_02bd22c795fb63fdff41d099e83d9046</th>\n",
       "      <td>d__Bacteria;p__Bacteroidota;c__Bacteroidia;o__...</td>\n",
       "      <td>MFC-1</td>\n",
       "    </tr>\n",
       "    <tr>\n",
       "      <th>NAL-PSLC_02d8717e9eab0cf9e14f34c69893cf01</th>\n",
       "      <td>d__Bacteria;p__Bacteroidota;c__Bacteroidia;o__...</td>\n",
       "      <td>MFC-1</td>\n",
       "    </tr>\n",
       "    <tr>\n",
       "      <th>NAL-PSLC_031d83494875744ae301c870cbbb752c</th>\n",
       "      <td>d__Bacteria;p__Bacteroidota;c__Flavobacteriia;...</td>\n",
       "      <td>MFC-1</td>\n",
       "    </tr>\n",
       "    <tr>\n",
       "      <th>...</th>\n",
       "      <td>...</td>\n",
       "      <td>...</td>\n",
       "    </tr>\n",
       "    <tr>\n",
       "      <th>NAL-PSLC_cf7886b6ed3dfd25ee4cacca4f7fe10e</th>\n",
       "      <td>d__Bacteria;p__SAR324;c__SAR324;o__SAR324;f__N...</td>\n",
       "      <td>MFC-62</td>\n",
       "    </tr>\n",
       "    <tr>\n",
       "      <th>NAL-PSLC_e3159b4ef3773fca52a3be3ea1000774</th>\n",
       "      <td>d__Bacteria;p__SAR324;c__SAR324;o__SAR324;f__N...</td>\n",
       "      <td>MFC-62</td>\n",
       "    </tr>\n",
       "    <tr>\n",
       "      <th>NAL-PSLC_eef4495d6089179331feede261956df9</th>\n",
       "      <td>d__Bacteria;p__;c__Deltaproteobacteria;o__;f__...</td>\n",
       "      <td>MFC-62</td>\n",
       "    </tr>\n",
       "    <tr>\n",
       "      <th>NAL-PSLC_bc51eb2d9d041de80fb2918f70e50365</th>\n",
       "      <td>d__Bacteria;p__Proteobacteria;c__Alphaproteoba...</td>\n",
       "      <td>MFC-63</td>\n",
       "    </tr>\n",
       "    <tr>\n",
       "      <th>NAL-PSLC_dc664026a19323a43d29882e2ee33216</th>\n",
       "      <td>d__Bacteria;p__Proteobacteria;c__Alphaproteoba...</td>\n",
       "      <td>MFC-63</td>\n",
       "    </tr>\n",
       "  </tbody>\n",
       "</table>\n",
       "<p>6719 rows × 2 columns</p>\n",
       "</div>"
      ],
      "text/plain": [
       "                                                                                    taxonomy  \\\n",
       "id_cluster-ani                                                                                 \n",
       "NAL-PSLC_014e8a57fc2dcfd95edce5f3d7e0bc7e  d__Bacteria;p__Bacteroidota;c__Bacteroidia;o__...   \n",
       "NAL-PSLC_017564e37cb813c7c06aa83178eea5db  d__Bacteria;p__Bacteroidota;c__Bacteroidia;o__...   \n",
       "NAL-PSLC_02bd22c795fb63fdff41d099e83d9046  d__Bacteria;p__Bacteroidota;c__Bacteroidia;o__...   \n",
       "NAL-PSLC_02d8717e9eab0cf9e14f34c69893cf01  d__Bacteria;p__Bacteroidota;c__Bacteroidia;o__...   \n",
       "NAL-PSLC_031d83494875744ae301c870cbbb752c  d__Bacteria;p__Bacteroidota;c__Flavobacteriia;...   \n",
       "...                                                                                      ...   \n",
       "NAL-PSLC_cf7886b6ed3dfd25ee4cacca4f7fe10e  d__Bacteria;p__SAR324;c__SAR324;o__SAR324;f__N...   \n",
       "NAL-PSLC_e3159b4ef3773fca52a3be3ea1000774  d__Bacteria;p__SAR324;c__SAR324;o__SAR324;f__N...   \n",
       "NAL-PSLC_eef4495d6089179331feede261956df9  d__Bacteria;p__;c__Deltaproteobacteria;o__;f__...   \n",
       "NAL-PSLC_bc51eb2d9d041de80fb2918f70e50365  d__Bacteria;p__Proteobacteria;c__Alphaproteoba...   \n",
       "NAL-PSLC_dc664026a19323a43d29882e2ee33216  d__Bacteria;p__Proteobacteria;c__Alphaproteoba...   \n",
       "\n",
       "                                          id_cluster-mfc  \n",
       "id_cluster-ani                                            \n",
       "NAL-PSLC_014e8a57fc2dcfd95edce5f3d7e0bc7e          MFC-1  \n",
       "NAL-PSLC_017564e37cb813c7c06aa83178eea5db          MFC-1  \n",
       "NAL-PSLC_02bd22c795fb63fdff41d099e83d9046          MFC-1  \n",
       "NAL-PSLC_02d8717e9eab0cf9e14f34c69893cf01          MFC-1  \n",
       "NAL-PSLC_031d83494875744ae301c870cbbb752c          MFC-1  \n",
       "...                                                  ...  \n",
       "NAL-PSLC_cf7886b6ed3dfd25ee4cacca4f7fe10e         MFC-62  \n",
       "NAL-PSLC_e3159b4ef3773fca52a3be3ea1000774         MFC-62  \n",
       "NAL-PSLC_eef4495d6089179331feede261956df9         MFC-62  \n",
       "NAL-PSLC_bc51eb2d9d041de80fb2918f70e50365         MFC-63  \n",
       "NAL-PSLC_dc664026a19323a43d29882e2ee33216         MFC-63  \n",
       "\n",
       "[6719 rows x 2 columns]"
      ]
     },
     "execution_count": 124,
     "metadata": {},
     "output_type": "execute_result"
    }
   ],
   "source": [
    "# # Assigning taxonomy to clusters without taxonomy scores\n",
    "# clusterani_without_taxonomy = set()\n",
    "# clusterani_to_taxonomy = dict()\n",
    "# for id_clusterani, genomes in tqdm(genome_to_clusterani.groupby(genome_to_clusterani).groups.items()):\n",
    "#     taxonomy = genome_to_taxonomy.loc[genomes.intersection(genome_to_taxonomy.index)]\n",
    "#     if taxonomy.empty:\n",
    "#         clusterani_without_taxonomy.add(id_clusterani)\n",
    "#         clusterani_to_taxonomy[id_clusterani] = pd.NA\n",
    "#     else:\n",
    "#         value_counts = taxonomy.value_counts()\n",
    "#         n_most_common = value_counts.max()\n",
    "#         value_counts = value_counts[lambda v: v == n_most_common]\n",
    "#         label = sorted(value_counts.index, key=len, reverse=True)[0]\n",
    "#         clusterani_to_taxonomy[id_clusterani] = label\n",
    "# clusterani_to_taxonomy = pd.Series(clusterani_to_taxonomy)\n",
    "\n",
    "\n",
    "# df_mfc = clusterani_to_taxonomy.to_frame(\"taxonomy\")\n",
    "# df_mfc.index.name = \"id_cluster-ani\"\n",
    "# df_mfc[\"id_cluster-mfc\"] = node_to_cluster.reindex(df_mfc.index)\n",
    "# index = list(map(lambda x: x[0], sorted(df_mfc[\"id_cluster-mfc\"].items(), key=lambda x: np.nan if not isinstance(x[1], str) else int(x[1].split(\"-\")[-1]))))\n",
    "# df_mfc = df_mfc.loc[index]\n",
    "# df_mfc.to_csv(f\"../data/cluster/mfc/{quality_label}/identifier_mapping.mfc.tsv.gz\", sep=\"\\t\")\n",
    "\n",
    "# df_mfc"
   ]
  },
  {
   "cell_type": "code",
   "execution_count": 121,
   "id": "c0329e76-4a06-49d0-87b5-b203fe549ac1",
   "metadata": {
    "tags": []
   },
   "outputs": [
    {
     "data": {
      "text/plain": [
       "'d__Bacteria;p__Cyanobacteria;c__Vampirovibrionia;o__Vampirovibrionales;f__Vampirovibrionaceae;g__;s__'"
      ]
     },
     "execution_count": 121,
     "metadata": {},
     "output_type": "execute_result"
    }
   ],
   "source": [
    "# print(df_mfc.loc[df_mfc[\"id_cluster-mfc\"] == 'MFC-4'][\"taxonomy\"].value_counts().to_string())\n",
    "# list(df_mfc.loc[df_mfc[\"id_cluster-mfc\"] == 'MFC-2'][\"taxonomy\"].value_counts().index)\n",
    "\n",
    "df_mfc.loc[df_mfc[\"taxonomy\"].map(lambda x: \"Cyano\" in str(x))].iloc[1][\"taxonomy\"]"
   ]
  },
  {
   "cell_type": "code",
   "execution_count": 146,
   "id": "fc247acb-11e9-48d6-8ede-3ca774823b60",
   "metadata": {
    "tags": []
   },
   "outputs": [],
   "source": [
    "# # MFC wrt genome\n",
    "# df_meta_genomes = pd.read_csv(\"/home/ec2-user/SageMaker/s3/newatlantis-genomics-db-prod/Metadata/genome_data.tsv\", sep=\"\\t\", index_col=0)\n",
    "# df_mfc_wrt_genomes = genome_to_clusterani.to_frame(\"id_cluster-ani\")\n",
    "# df_mfc_wrt_genomes = pd.merge(df_mfc_wrt_genomes, df_mfc, left_on=\"id_cluster-ani\", right_index=True)\n",
    "# df_mfc_wrt_genomes = pd.concat([\n",
    "#     df_mfc_wrt_genomes, \n",
    "#     df_meta_genomes.loc[df_mfc_wrt_genomes.index],\n",
    "#     df_quality[[\"completeness\", \"contamination\"]].loc[df_mfc_wrt_genomes.index],\n",
    "\n",
    "# ], axis=1)\n",
    "# index = list(map(lambda x: x[0], sorted(df_mfc_wrt_genomes[\"id_cluster-mfc\"].items(), key=lambda x: np.nan if not isinstance(x[1], str) else int(x[1].split(\"-\")[-1]))))\n",
    "# df_mfc_wrt_genomes = df_mfc_wrt_genomes.loc[index]\n",
    "\n",
    "# df_mfc_wrt_genomes.index.name = \"id_genome\"\n",
    "# # df_mfc_wrt_genomes.to_csv(f\"../data/cluster/mfc/{quality_label}/identifier_mapping.mfc.genomes.tsv.gz\", sep=\"\\t\")"
   ]
  },
  {
   "cell_type": "code",
   "execution_count": 149,
   "id": "a83c7acc-26e6-41c1-b6cc-84f2d4c31234",
   "metadata": {
    "tags": []
   },
   "outputs": [
    {
     "data": {
      "text/plain": [
       "database\n",
       "OceanDNA                                                     52325\n",
       "TARA-TOPAZ                                                    4707\n",
       "JGI-MycoCosm                                                  2441\n",
       "TARA-BAC_ARC_MAGs                                             1888\n",
       "Xu_2024-PRJNA880762-SouthChinaSea                             1887\n",
       "EnsemblFungi                                                  1501\n",
       "Liu_2024-PRJNA1081583-EastChinaSeaLowOxygenRegion             1498\n",
       "Li_2024-PRJNA1111327-KermadecDiamantinaTrench                 1263\n",
       "Zhang_2022-PRJNA707313-ColdSeepSouthChinaSea                   768\n",
       "TARA-SMAGv1                                                    711\n",
       "Zhou_2022-PRJNA730330-SouthChinaEstuary                        500\n",
       "MMP-MarRef                                                     451\n",
       "TARA-Delmont_2018                                              434\n",
       "Nathani_2021-PRJEB26614_PRJEB26615-GulfKuthiawarPeninsula      311\n",
       "EnsemblProtists                                                232\n",
       "JGI-PhycoCosm                                                  188\n",
       "Zhang_2023-PRJNA808646-CCFZ                                    179\n",
       "Haroon_2016-PRJNA289734-RedSea                                 136\n",
       "Zhang_2024-PRJNA113162029-YapMarianaTrenchSediment             107\n",
       "Jungbluth_2017-PRJNA269163-JuanDeFucaRidgeSubsurface            99\n",
       "Nenasheva_2024-10.5281_zenodo.13933292-Diatoms                  49\n",
       "MMP-MarFun                                                      26\n",
       "TARA-SAGv1                                                       8\n",
       "Name: count, dtype: int64"
      ]
     },
     "execution_count": 149,
     "metadata": {},
     "output_type": "execute_result"
    }
   ],
   "source": [
    "df_meta_genomes[\"database\"].value_counts()"
   ]
  },
  {
   "cell_type": "code",
   "execution_count": 30,
   "id": "ea4906e7-9ee3-4e4d-9810-047dea6d1aa0",
   "metadata": {
    "tags": []
   },
   "outputs": [
    {
     "data": {
      "text/plain": [
       "Text(0.5, 0, 'number of nodes')"
      ]
     },
     "execution_count": 30,
     "metadata": {},
     "output_type": "execute_result"
    },
    {
     "data": {
      "image/png": "[encoded data removed]",
      "text/plain": [
       "<Figure size 500x300 with 1 Axes>"
      ]
     },
     "metadata": {},
     "output_type": "display_data"
    }
   ],
   "source": []
  },
  {
   "cell_type": "code",
   "execution_count": 6,
   "id": "24a69819-6906-44f0-b02e-1b974cc163e3",
   "metadata": {
    "tags": []
   },
   "outputs": [],
   "source": [
    "# %time convert_distance_matrix_to_kneighbors_matrix(jaccard_distances, n_neighbors=10, redundant_form=False)\n",
    "# # peak memory: 6672.78 MiB, increment: 5569.32 MiB\n",
    "# # CPU times: user 33.1 s, sys: 2.44 s, total: 35.5 s\n",
    "# # Wall time: 35.5 s\n",
    "# %time convert_distance_matrix_to_kneighbors_matrix(jaccard_distances, n_neighbors=100, redundant_form=False)\n",
    "# # peak memory: 22435.10 MiB, increment: 5581.41 MiB\n",
    "# # CPU times: user 32.7 s, sys: 2.5 s, total: 35.2 s\n",
    "# # Wall time: 35.1 s"
   ]
  },
  {
   "cell_type": "code",
   "execution_count": 113,
   "id": "6183341c-d475-4e33-9f13-2f18ca2018e5",
   "metadata": {
    "tags": []
   },
   "outputs": [],
   "source": [
    "# %%memit\n",
    "# ======================\n",
    "# NOTE: This was not useful using Optuna.  Much faster to run iteratively and with fewer resources.  Just make sure not to use n_jobs=-1 for leiden with parallelbackend as threading\n",
    "# =====================\n",
    "# study_name = \"MetabolicFunctionalClass Detection\"\n",
    "# logger = build_logger(study_name)\n",
    "# param_history = defaultdict(set)\n",
    "\n",
    "# def objective(trial):\n",
    "#     n = jaccard_distances.shape[0]\n",
    "    \n",
    "#     low = int(np.log(n))\n",
    "#     high = int(np.sqrt(n))\n",
    "\n",
    "#     # Parameters to tune\n",
    "#     while True:\n",
    "#         n_neighbors = trial.suggest_int(\"n_neighbors\", low, high)\n",
    "#         if n_neighbors not in param_history[\"n_neighbors\"]:\n",
    "#             param_history[\"n_neighbors\"].add(n_neighbors)\n",
    "#             break\n",
    "#         else:\n",
    "#             # Log the redundancy for debugging or informational purposes\n",
    "#             logger.warning(f\"[Trial {trial.number}] Redundant parameter {n_neighbors} detected. Retrying...\")\n",
    "\n",
    "#     # Convert distance matrix to non-redundant KNN\n",
    "#     logger.info(f\"[Trial {trial.number}] Convert distance matrix to non-redundant KNN (n_neighbors = {n_neighbors})\")\n",
    "#     knn = convert_distance_matrix_to_kneighbors_matrix(jaccard_distances, n_neighbors=n_neighbors, redundant_form=False)\n",
    "    \n",
    "#     # Remove disconnected nodes and convert to similarity\n",
    "#     logger.info(f\"[Trial {trial.number}] Remove disconnected nodes and convert to similarity (n_neighbors = {n_neighbors})\")\n",
    "#     knn_similarity = 1 - knn[knn > 0]\n",
    "\n",
    "#     # Convert KNN to iGraph\n",
    "#     logger.info(f\"[Trial {trial.number}] Convert KNN to iGraph (n_neighbors = {n_neighbors})\")\n",
    "#     graph = enx.convert_network(knn_similarity, ig.Graph)\n",
    "\n",
    "#     # Identify leiden communities with multiple seeds\n",
    "#     logger.info(f\"[Trial {trial.number}] Identify leiden communities with multiple seeds (n_neighbors = {n_neighbors})\")\n",
    "#     progressbar_message = f\"[Trial {trial.number}] Community detection (n_neighbors = {n_neighbors})\"\n",
    "#     df_communities = enx.community_detection(graph, n_iter=100, converge_iter=25, n_jobs=-1, progressbar_message=progressbar_message)\n",
    "    \n",
    "#     # Identify membership co-occurrence ratios\n",
    "#     logger.info(f\"[Trial {trial.number}] Identify membership co-occurrence ratios (n_neighbors = {n_neighbors})\")\n",
    "#     node_pair_membership_cooccurrences = enx.community_membership_cooccurrence(df_communities).mean(axis=1)\n",
    "    \n",
    "#     # Identify node pairs that have co-membership 100% of the time\n",
    "#     node_pairs_with_consistent_membership = set(node_pair_membership_cooccurrences[lambda x: x == 1.0].index)\n",
    "\n",
    "#     # Get list of clustered edges\n",
    "#     clustered_edgelist = enx.get_undirected_igraph_edgelist_indices(graph, node_pairs_with_consistent_membership)\n",
    "    \n",
    "#     # Get clustered graph\n",
    "#     graph_clustered = graph.subgraph_edges(clustered_edgelist, delete_vertices=True)\n",
    "    \n",
    "#     # Clusters\n",
    "#     node_to_cluster = pd.Series(enx.get_undirected_igraph_connected_components(graph_clustered))\n",
    "    \n",
    "    \n",
    "#     # Calculate silhouette scores\n",
    "#     clustered_nodes = node_to_cluster.index\n",
    "#     index = clustered_nodes.map(lambda x: jaccard_distances.index.get_loc(x)).values\n",
    "#     logger.info(f\"[Trial {trial.number}] Calculate silhouette scores using {len(index)} nodes (n_neighbors = {n_neighbors})\")\n",
    "#     dist = jaccard_distances.values[index,:][:,index]\n",
    "#     score = silhouette_score(dist, node_to_cluster.values, metric=\"precomputed\", sample_size=None, random_state=None) \n",
    "\n",
    "#     return score\n",
    "\n",
    "\n",
    "\n",
    "\n",
    "# sampler = optuna.samplers.TPESampler(seed=0)\n",
    "\n",
    "# # Study\n",
    "# study_kws=dict()\n",
    "# study_params = {\n",
    "#     \"direction\":\"maximize\", \n",
    "#     \"study_name\":study_name, \n",
    "#     \"sampler\":sampler, \n",
    "#     **study_kws,\n",
    "# }\n",
    "\n",
    "\n",
    "# study = optuna.create_study(**study_params)\n",
    "\n",
    "# # Optimize\n",
    "# # To optimize resource usage, calculate the total memory needed for each job, then calculate how long it takes for each job\n",
    "# # If my machine has 128GB of memory, each job takes 10GB of memory, 5 minutes to run and I want at least 6 trials then I would do:\n",
    "# # * 25 n_jobs, 6*25 = 150 trials, which I would expect to take 5*6 = 30 minutes\n",
    "# study.optimize(\n",
    "#     objective, \n",
    "#     n_trials=32, # This should be dependent on time\n",
    "#     n_jobs=8, # This should maximize the amount of resources that are used\n",
    "#     # timeout=self.study_timeout, \n",
    "#     show_progress_bar=True, \n",
    "#     # callbacks=self.study_callbacks + [_stop_when_exceeding_trials], \n",
    "#     gc_after_trial=True,\n",
    "# )\n",
    "# # 31257 ec2-user  20   0   74.5g  69.2g 130228 S 100.7 37.5  87:12.02 python                                                                                                                             "
   ]
  },
  {
   "cell_type": "code",
   "execution_count": null,
   "id": "c1ea50d0-6558-443c-a7f1-37c2cbc9684a",
   "metadata": {
    "tags": []
   },
   "outputs": [],
   "source": []
  },
  {
   "cell_type": "code",
   "execution_count": null,
   "id": "27c0a222-8eba-471c-9cdf-d7634eb9b137",
   "metadata": {
    "tags": []
   },
   "outputs": [],
   "source": []
  },
  {
   "cell_type": "code",
   "execution_count": null,
   "id": "d31d6adc-ec3b-45ad-9d7a-8dee8b3daff5",
   "metadata": {
    "tags": []
   },
   "outputs": [],
   "source": [
    "# [I 2025-02-12 00:01:41,225] A new study created in memory with name: MetabolicFunctionalClass Detection\n",
    "#   0%|          | 0/10 [00:00<?, ?it/s]\n",
    "# 2025-02-12 00:01:41,232 - MetabolicFunctionalClass Detection - INFO - [Trial 0] Convert distance matrix to non-redundant KNN (n_neighbors = 62)\n",
    "# 2025-02-12 00:01:41,233 - MetabolicFunctionalClass Detection - INFO - [Trial 1] Convert distance matrix to non-redundant KNN (n_neighbors = 72)\n",
    "# 2025-02-12 00:01:41,235 - MetabolicFunctionalClass Detection - INFO - [Trial 2] Convert distance matrix to non-redundant KNN (n_neighbors = 75)\n",
    "# 2025-02-12 00:01:41,236 - MetabolicFunctionalClass Detection - INFO - [Trial 3] Convert distance matrix to non-redundant KNN (n_neighbors = 11)\n",
    "# 2025-02-12 00:02:26,236 - MetabolicFunctionalClass Detection - INFO - [Trial 0] Remove disconnected nodes and convert to similarity (n_neighbors = 62)\n",
    "# 2025-02-12 00:02:44,457 - MetabolicFunctionalClass Detection - INFO - [Trial 3] Remove disconnected nodes and convert to similarity (n_neighbors = 11)\n",
    "# 2025-02-12 00:02:45,051 - MetabolicFunctionalClass Detection - INFO - [Trial 2] Remove disconnected nodes and convert to similarity (n_neighbors = 75)\n",
    "# 2025-02-12 00:02:58,434 - MetabolicFunctionalClass Detection - INFO - [Trial 0] Convert KNN to iGraph (n_neighbors = 62)\n",
    "# 2025-02-12 00:03:25,019 - MetabolicFunctionalClass Detection - INFO - [Trial 3] Convert KNN to iGraph (n_neighbors = 11)\n",
    "# 2025-02-12 00:03:25,114 - MetabolicFunctionalClass Detection - INFO - [Trial 2] Convert KNN to iGraph (n_neighbors = 75)\n",
    "# 2025-02-12 00:04:23,490 - MetabolicFunctionalClass Detection - INFO - [Trial 1] Remove disconnected nodes and convert to similarity (n_neighbors = 72)\n",
    "# 2025-02-12 00:04:36,934 - MetabolicFunctionalClass Detection - INFO - [Trial 1] Convert KNN to iGraph (n_neighbors = 72)\n",
    "# 2025-02-12 00:07:17,953 - MetabolicFunctionalClass Detection - INFO - [Trial 3] Identify leiden communties with multiple seeds (n_neighbors = 11)\n",
    "# 2025-02-12 00:08:32,896 - MetabolicFunctionalClass Detection - INFO - [Trial 3] Identify membership co-occurrence ratios (n_neighbors = 11)\n",
    "# 2025-02-12 00:12:09,372 - MetabolicFunctionalClass Detection - INFO - [Trial 3] Calculate silhouette scores using 6708 nodes (n_neighbors = 11)\n",
    "                                      \n",
    "# [W 2025-02-12 00:12:09,539] Trial 3 failed with parameters: {'n_neighbors': 11} because of the following error: ValueError('Expected 2D array, got 1D array instead:\\narray=[0. 0. 0. ... 0. 0. 0.].\\nReshape your data either using array.reshape(-1, 1) if your data has a single feature or array.reshape(1, -1) if it contains a single sample.').\n",
    "# Traceback (most recent call last):\n",
    "#   File \"/home/ec2-user/SageMaker/environments/mns/lib/python3.9/site-packages/optuna/study/_optimize.py\", line 197, in _run_trial\n",
    "#     value_or_values = func(trial)\n",
    "#   File \"<string>\", line 50, in objective\n",
    "#   File \"/home/ec2-user/SageMaker/environments/mns/lib/python3.9/site-packages/sklearn/metrics/cluster/_unsupervised.py\", line 117, in silhouette_score\n",
    "#     return np.mean(silhouette_samples(X, labels, metric=metric, **kwds))\n",
    "#   File \"/home/ec2-user/SageMaker/environments/mns/lib/python3.9/site-packages/sklearn/metrics/cluster/_unsupervised.py\", line 212, in silhouette_samples\n",
    "#     X, labels = check_X_y(X, labels, accept_sparse=[\"csc\", \"csr\"])\n",
    "#   File \"/home/ec2-user/SageMaker/environments/mns/lib/python3.9/site-packages/sklearn/utils/validation.py\", line 1106, in check_X_y\n",
    "#     X = check_array(\n",
    "#   File \"/home/ec2-user/SageMaker/environments/mns/lib/python3.9/site-packages/sklearn/utils/validation.py\", line 902, in check_array\n",
    "#     raise ValueError(\n",
    "# ValueError: Expected 2D array, got 1D array instead:\n",
    "# array=[0. 0. 0. ... 0. 0. 0.].\n",
    "# Reshape your data either using array.reshape(-1, 1) if your data has a single feature or array.reshape(1, -1) if it contains a single sample.\n",
    "#   0%|          | 0/10 [10:29<?, ?it/s]\n",
    "# [W 2025-02-12 00:12:10,367] Trial 3 failed with value None."
   ]
  },
  {
   "cell_type": "code",
   "execution_count": null,
   "id": "8b0c5038-86f3-4227-aca1-8f8c24d17b09",
   "metadata": {},
   "outputs": [],
   "source": []
  },
  {
   "cell_type": "code",
   "execution_count": null,
   "id": "8844f6a0-ab22-416d-b8ac-2440125b82f4",
   "metadata": {},
   "outputs": [],
   "source": []
  },
  {
   "cell_type": "code",
   "execution_count": null,
   "id": "51ca7bb3-fe76-4067-8b58-a1d1cb01b32e",
   "metadata": {},
   "outputs": [],
   "source": []
  },
  {
   "cell_type": "code",
   "execution_count": null,
   "id": "922e775b-10a3-4ef7-8f48-3358990dc3af",
   "metadata": {},
   "outputs": [],
   "source": []
  },
  {
   "cell_type": "code",
   "execution_count": null,
   "id": "6eb54d5d-e31b-470a-834d-2aa54906aa96",
   "metadata": {},
   "outputs": [],
   "source": []
  },
  {
   "cell_type": "code",
   "execution_count": null,
   "id": "a2bbd557-b1be-4078-8f32-13417fc840b5",
   "metadata": {},
   "outputs": [],
   "source": []
  },
  {
   "cell_type": "code",
   "execution_count": null,
   "id": "43d7e3c1-fa29-4ead-b8c1-04dc5f810d19",
   "metadata": {},
   "outputs": [],
   "source": []
  },
  {
   "cell_type": "code",
   "execution_count": null,
   "id": "4298c5ff-be4b-4ff6-91e3-b8b7fb2d13ef",
   "metadata": {},
   "outputs": [],
   "source": []
  },
  {
   "cell_type": "code",
   "execution_count": null,
   "id": "c9b8c922-2daa-4858-886f-42c50df7ee22",
   "metadata": {},
   "outputs": [],
   "source": []
  },
  {
   "cell_type": "code",
   "execution_count": null,
   "id": "c6799564-cc74-4217-b7c8-eeca2d0c2725",
   "metadata": {},
   "outputs": [],
   "source": []
  },
  {
   "cell_type": "code",
   "execution_count": null,
   "id": "729a7b97-b847-4869-a9cf-ee989978516e",
   "metadata": {
    "tags": []
   },
   "outputs": [],
   "source": [
    "# def pairwise_cosine(X, similarity=False, into=pd.Series, **kws):\n",
    "#     values = pdist(X.values, metric=\"cosine\")\n",
    "#     if similarity:\n",
    "#         values = 1 - values\n",
    "#     if into == pd.Series:\n",
    "#         index = list(map(frozenset, combinations(X.index, 2)))\n",
    "#         return pd.Series(values, index=index, **kws)\n",
    "#     elif into == nx.Graph:\n",
    "#         graph = nx.Graph(metric=\"cosine\", similarity=similarity, **kws)\n",
    "#         for (node_a, node_b),v in zip(combinations(X.index, 2), values):\n",
    "#             graph.add_edge(node_a, node_b, weight=v)\n",
    "#         return graph\n",
    "#     elif into == ig.Graph:\n",
    "#         graph = ig.Graph()\n",
    "#         # Add nodes\n",
    "#         graph.add_vertices(X.index.tolist())  # Ensure nodes retain original labels\n",
    "\n",
    "#         # Add edges with weights\n",
    "#         edges = list(combinations(X.index, 2))  # Generate all possible node pairs\n",
    "#         graph.add_edges(edges)  # Add edges\n",
    "#         graph.es[\"weight\"] = values  # Assign weights\n",
    "#         return graph\n"
   ]
  },
  {
   "cell_type": "code",
   "execution_count": null,
   "id": "95355992-9372-4690-b967-0e51c72d22aa",
   "metadata": {
    "tags": []
   },
   "outputs": [],
   "source": []
  },
  {
   "cell_type": "code",
   "execution_count": null,
   "id": "58f294f4-46b6-4821-817b-e0f4072bba09",
   "metadata": {
    "tags": []
   },
   "outputs": [],
   "source": []
  },
  {
   "cell_type": "code",
   "execution_count": null,
   "id": "f6e32bf1-367c-41bd-b239-a79a38893411",
   "metadata": {
    "tags": []
   },
   "outputs": [],
   "source": []
  },
  {
   "cell_type": "code",
   "execution_count": null,
   "id": "3e778307-6c6d-48c8-acfc-a2972901bbee",
   "metadata": {
    "tags": []
   },
   "outputs": [],
   "source": []
  },
  {
   "cell_type": "code",
   "execution_count": null,
   "id": "ba78463a-0702-4713-a15b-449e91734f76",
   "metadata": {
    "tags": []
   },
   "outputs": [],
   "source": []
  },
  {
   "cell_type": "code",
   "execution_count": null,
   "id": "9bfdf43e-f52d-49f9-855e-85acad4c0e9d",
   "metadata": {
    "tags": []
   },
   "outputs": [],
   "source": []
  },
  {
   "cell_type": "code",
   "execution_count": null,
   "id": "16d223ee-1697-447a-b30c-8181b4a7400a",
   "metadata": {
    "tags": []
   },
   "outputs": [],
   "source": []
  },
  {
   "cell_type": "code",
   "execution_count": null,
   "id": "f3be30f3-4d6c-4606-8421-47a123a30860",
   "metadata": {
    "tags": []
   },
   "outputs": [],
   "source": []
  },
  {
   "cell_type": "code",
   "execution_count": null,
   "id": "602aadce-244e-4f82-ac63-8df1d593da1e",
   "metadata": {
    "tags": []
   },
   "outputs": [],
   "source": []
  },
  {
   "cell_type": "code",
   "execution_count": null,
   "id": "c1aebd60-7d3c-496d-9feb-fd31f693d492",
   "metadata": {},
   "outputs": [],
   "source": []
  },
  {
   "cell_type": "code",
   "execution_count": null,
   "id": "8f1e24b2-0eed-4280-8035-3bd69ff43b8f",
   "metadata": {},
   "outputs": [],
   "source": []
  },
  {
   "cell_type": "code",
   "execution_count": null,
   "id": "657c4288-00aa-4bec-8251-bd0984b67f90",
   "metadata": {},
   "outputs": [],
   "source": []
  },
  {
   "cell_type": "code",
   "execution_count": null,
   "id": "f37f3aa6-f973-4d17-9cf6-331989f447cd",
   "metadata": {},
   "outputs": [],
   "source": []
  },
  {
   "cell_type": "code",
   "execution_count": null,
   "id": "f5cfe46e-7ce6-4261-94e1-d85346f37c84",
   "metadata": {
    "tags": []
   },
   "outputs": [],
   "source": [
    "# import numpy as np\n",
    "# import pandas as pd\n",
    "# import igraph as ig\n",
    "# import optuna\n",
    "# from sklearn.metrics import silhouette_score\n",
    "# from itertools import product\n",
    "# from leidenalg import find_partition, ModularityVertexPartition\n",
    "\n",
    "# def leiden_community_detection(graph: ig.Graph, n_iter: int = 10, weight: str = \"weight\", resolution: float = 1.0):\n",
    "#     \"\"\"\n",
    "#     Runs Leiden community detection multiple times with different random seeds\n",
    "#     to identify consistent community assignments.\n",
    "\n",
    "#     Parameters:\n",
    "#     -----------\n",
    "#     graph : igraph.Graph\n",
    "#         The igraph object containing the nodes and weighted edges.\n",
    "#     n_iter : int\n",
    "#         Number of random seeds to run.\n",
    "#     weight : str\n",
    "#         Edge weight attribute in the graph.\n",
    "#     resolution : float\n",
    "#         Leiden resolution parameter.\n",
    "\n",
    "#     Returns:\n",
    "#     --------\n",
    "#     pd.DataFrame\n",
    "#         A DataFrame where rows are nodes and columns are different random seeds,\n",
    "#         with values indicating cluster membership.\n",
    "#     \"\"\"\n",
    "#     node_ids = np.array(graph.vs[\"name\"])  # Extract node names\n",
    "#     partitions = {}\n",
    "\n",
    "#     for seed in range(n_iter):\n",
    "#         partition = find_partition(\n",
    "#             graph,\n",
    "#             ModularityVertexPartition,\n",
    "#             weights=weight,\n",
    "#             seed=seed,\n",
    "#             resolution_parameter=resolution,\n",
    "#             n_iterations=-1,\n",
    "#         )\n",
    "#         node_to_cluster = {node_ids[n]: c for c, nodes in enumerate(partition) for n in nodes}\n",
    "#         partitions[seed] = pd.Series(node_to_cluster)\n",
    "\n",
    "#     return pd.DataFrame(partitions)  # Transpose to have nodes as rows"
   ]
  },
  {
   "cell_type": "code",
   "execution_count": null,
   "id": "ad71fa33-bf32-4812-93d3-6e9b0c825668",
   "metadata": {},
   "outputs": [],
   "source": [
    "# def get_undirected_igraph_edgelist_indices(graph, edge_list):\n",
    "#     name_to_index = {name: idx for idx, name in enumerate(graph.vs[\"name\"])}\n",
    "\n",
    "#     edgelist_indices = list()\n",
    "#     for node_a, node_b in map(list, edge_list):\n",
    "#         node_a_index = name_to_index[node_a]\n",
    "#         node_b_index = name_to_index[node_b]\n",
    "#         if graph.are_adjacent(node_a_index, node_b_index):\n",
    "#             edge_index = graph.get_eid(node_a_index, node_b_index, directed=False)\n",
    "#             edge = graph.es[edge_index]\n",
    "#             edgelist_indices.append(edge)\n",
    "#     return edgelist_indices\n",
    "    \n",
    "# def get_undirected_igraph_connected_components(graph, cluster_prefix=\"c\", return_mode=\"nodes\"):\n",
    "#     if isinstance(return_mode, tuple):\n",
    "#         return_mode = tuple(sorted(return_mode))\n",
    "        \n",
    "#     check_argument_choice(return_mode, {\"nodes\", \"clusters\", (\"clusters\",\"nodes\")})\n",
    "        \n",
    "#     components = enumerate(sorted(graph.connected_components(), key=len, reverse=True), start=1)\n",
    "    \n",
    "#     if return_mode == \"nodes\":\n",
    "#         node_to_cluster = {}\n",
    "\n",
    "#         for i, nodes in components:\n",
    "#             id_cluster = f\"{cluster_prefix}{i}\"\n",
    "#             node_names = {graph.vs[node][\"name\"] for node in nodes}  # Get node names in the cluster\n",
    "#             for n in node_names:\n",
    "#                 node_to_cluster[n] = id_cluster\n",
    "#         return node_to_cluster\n",
    "    \n",
    "#     elif return_mode == \"clusters\":\n",
    "#         cluster_to_nodes = {}\n",
    "#         for i, nodes in components:\n",
    "#             id_cluster = f\"{cluster_prefix}{i}\"\n",
    "#             node_names = {graph.vs[node][\"name\"] for node in nodes}  # Get node names in the cluster\n",
    "#             cluster_to_nodes[id_cluster] = node_names\n",
    "#         return cluster_to_nodes\n",
    "    \n",
    "#     elif return_mode == (\"clusters\",\"nodes\"):\n",
    "#         node_to_cluster = {}\n",
    "#         cluster_to_nodes = {}\n",
    "\n",
    "#         for i, nodes in components:\n",
    "#             id_cluster = f\"{cluster_prefix}{i}\"\n",
    "#             node_names = {graph.vs[node][\"name\"] for node in nodes}  # Get node names in the cluster\n",
    "#             cluster_to_nodes[id_cluster] = node_names\n",
    "#             for n in node_names:\n",
    "#                 node_to_cluster[n] = id_cluster\n",
    "#         return cluster_to_nodes, node_to_cluster"
   ]
  },
  {
   "cell_type": "code",
   "execution_count": null,
   "id": "8d892a61-08f6-4dd8-8766-9f4a594d2989",
   "metadata": {},
   "outputs": [],
   "source": [
    "\n",
    "# def objective(trial):\n",
    "#     n = jaccard_distances.shape[0]\n",
    "    \n",
    "#     low = int(np.log(n))\n",
    "#     high = int(np.sqrt(n))\n",
    "\n",
    "#     # Parameters to tune\n",
    "#     n_neighbors = trial.suggest_int(\"n_neighbors\", low, high)\n",
    "#     if n_neighbors not in param_history[\"n_neighbors\"]:\n",
    "#         param_history[\"n_neighbors\"].add(n_neighbors)\n",
    "#     else:\n",
    "#         # ADD CODE HERE\n",
    "#         # PLEASE SELECT A PARAMATER THAT IS NOT IN PARAM_HISTORY AND THEN UPDATE THE DICTIONARY\n",
    "#         # ADD CODE HERE\n",
    "\n",
    "#     # Convert distance matrix to non-redundant KNN\n",
    "#     logger.info(f\"[Trial {trial.number}] Convert distance matrix to non-redundant KNN (n_neighbors = {n_neighbors})\")\n",
    "#     knn = convert_distance_matrix_to_kneighbors_matrix(jaccard_distances, n_neighbors=n_neighbors, redundant_form=False)\n",
    "    \n",
    "#     # Remove disconnected nodes and convert to similarity\n",
    "#     logger.info(f\"[Trial {trial.number}] Remove disconnected nodes and convert to similarity (n_neighbors = {n_neighbors})\")\n",
    "#     knn_similarity = 1 - knn[knn > 0]\n",
    "\n",
    "#     # Convert KNN to iGraph\n",
    "#     logger.info(f\"[Trial {trial.number}] Convert KNN to iGraph (n_neighbors = {n_neighbors})\")\n",
    "#     graph = enx.convert_network(knn_similarity, ig.Graph)\n",
    "\n",
    "#     # Identify leiden communties with multiple seeds\n",
    "#     logger.info(f\"[Trial {trial.number}] Identify leiden communties with multiple seeds (n_neighbors = {n_neighbors})\")\n",
    "#     progressbar_message = f\"[Trial {trial.number}] Community detection (n_neighbors = {n_neighbors})\"\n",
    "#     df_communities = community_detection(graph, n_iter=100, converge_iter=25, n_jobs=-1, progressbar_message=progressbar_message)\n",
    "    \n",
    "#     # Identify membership co-occurrence ratios\n",
    "#     logger.info(f\"[Trial {trial.number}] Identify membership co-occurrence ratios (n_neighbors = {n_neighbors})\")\n",
    "#     node_pair_membership_cooccurrences = enx.community_membership_cooccurrence(df_communities).mean(axis=1)\n",
    "    \n",
    "#     # Identify node pairs that have co-membership 100% of the time\n",
    "#     node_pairs_with_consistent_membership = set(node_pair_membership_cooccurrences[lambda x: x == 1.0].index)\n",
    "\n",
    "#     # Get list of clustered edges\n",
    "#     clustered_edgelist = enx.get_undirected_igraph_edgelist_indices(graph, node_pairs_with_consistent_membership)\n",
    "    \n",
    "#     # Get clustered graph\n",
    "#     graph_clustered = graph.subgraph_edges(clustered_edgelist, delete_vertices=True)\n",
    "    \n",
    "#     # Clusters\n",
    "#     node_to_cluster = pd.Series(enx.get_undirected_igraph_connected_components(graph_clustered))\n",
    "    \n",
    "    \n",
    "#     # Calculate silhouette scores\n",
    "#     clustered_nodes = node_to_cluster.index\n",
    "#     index = clustered_nodes.map(lambda x: jaccard_distances.index.get_loc(x)).values\n",
    "#     logger.info(f\"[Trial {trial.number}] Calculate silhouette scores using {len(index)} nodes (n_neighbors = {n_neighbors})\")\n",
    "#     dist = jaccard_distances.values[index,:][:,index]\n",
    "#     score = silhouette_score(dist, node_to_cluster.values, metric=\"precomputed\", sample_size=None, random_state=None) \n",
    "\n",
    "#     return score"
   ]
  },
  {
   "cell_type": "code",
   "execution_count": null,
   "id": "3535d275-443c-4ba3-9a75-e9e0d5ab4a90",
   "metadata": {},
   "outputs": [],
   "source": [
    "# df_ncbi = pd.read_csv(\"/home/ec2-user/SageMaker/s3/newatlantis-genomics-db-prod/NCBITaxonomy/ncbi_accessions.tsv.gz\", sep=\"\\t\", index_col=0, usecols=[0,6])\n",
    "\n",
    "# oldid_to_taxonomy = pd.read_csv(\"/home/ec2-user/SageMaker/s3/newatlantis-genomics-db-prod/SourceDatabases/Zhang_2023-PRJNA808646-CCFZ/Metadata/tmp/taxonomy.tsv\", sep=\"\\t\", index_col=0, header=None).iloc[:,0]\n",
    "\n",
    "# df_meta = pd.read_csv(\"/home/ec2-user/SageMaker/s3/newatlantis-genomics-db-prod/SourceDatabases/Zhang_2023-PRJNA808646-CCFZ/Metadata/metadata.genomes.tsv.gz\", sep=\"\\t\", index_col=0)\n",
    "# df_meta[\"taxid\"] = df_meta[\"taxid\"].map(str)\n",
    "# output = df_meta[\"isolate\"].map(lambda x: oldid_to_taxonomy[x])\n",
    "# output.index.name = \"# GTDB_r95\"\n",
    "# output.name = None\n",
    "# output.to_csv(\"test.tsv\", sep=\"\\t\")\n",
    "# # df_taxonkit = pd.read_csv(\"/home/ec2-user/SageMaker/s3/newatlantis-genomics-db-prod/SourceDatabases/Zhang_2023-PRJNA808646-CCFZ/Metadata/id_to_taxid.taxonkit.tsv\", sep=\"\\t\", header=None, index_col=0)\n",
    "# # df_taxonkit.index = df_taxonkit.index.map(str)\n",
    "# # pd.merge(df_meta, df_taxonkit, right_index=True, left_on=\"taxid\")[3]\n"
   ]
  }
 ],
 "metadata": {
  "kernelspec": {
   "display_name": "conda_mns",
   "language": "python",
   "name": "conda_mns"
  },
  "language_info": {
   "codemirror_mode": {
    "name": "ipython",
    "version": 3
   },
   "file_extension": ".py",
   "mimetype": "text/x-python",
   "name": "python",
   "nbconvert_exporter": "python",
   "pygments_lexer": "ipython3",
   "version": "3.9.21"
  }
 },
 "nbformat": 4,
 "nbformat_minor": 5
}
