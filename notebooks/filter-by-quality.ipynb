{
 "cells": [
  {
   "cell_type": "markdown",
   "id": "a4e088f9-432d-4393-bb59-9063ffa6f69f",
   "metadata": {
    "tags": []
   },
   "source": [
    " For MAGs, genomes in this category are to be considered population genomes. 'High-quality draft' will indicate that a SAG or MAG is >90% complete with less than 5% contamination. Genomes in this category should also encode the 23S, 16S, and 5S rRNA genes, and tRNAs for at least 18 of the 20 possible amino acids, as even the reduced genomes of bacterial symbionts typically harbor the full complement of tRNAs83,84. 'Medium-quality draft' SAGs and MAGs are those genomes with completeness estimates of ≥50% and less than 10% contamination (Table 1 and Supplementary Table 1). All other SAGs and MAGs (<50% complete with <10% contamination) should be reported as 'low-quality drafts' (Table 1 and Supplementary Table 1).\n",
    " \n",
    " https://www.nature.com/articles/nbt.3893"
   ]
  },
  {
   "cell_type": "code",
   "execution_count": 3,
   "id": "0b502cce-e8c7-4a01-8ca9-b7f1fd2577da",
   "metadata": {
    "tags": []
   },
   "outputs": [],
   "source": [
    "import pandas as pd"
   ]
  },
  {
   "cell_type": "code",
   "execution_count": 9,
   "id": "e994596d-8a9e-4ac8-8a76-ec0c56db2af2",
   "metadata": {
    "tags": []
   },
   "outputs": [
    {
     "data": {
      "text/plain": [
       "method\n",
       "False    17139\n",
       "True      3283\n",
       "Name: count, dtype: int64"
      ]
     },
     "execution_count": 9,
     "metadata": {},
     "output_type": "execute_result"
    }
   ],
   "source": [
    "# Quality\n",
    "output_directory=\"../data/training\"\n",
    "df_quality = pd.read_csv(\"../data/quality.tsv.gz\", sep=\"\\t\", index_col=0)\n",
    "df_filtered = df_quality.query(\"completeness>=90\").query(\"contamination<5\")\n"
   ]
  },
  {
   "cell_type": "code",
   "execution_count": 12,
   "id": "fb12f5a0-69dc-4be3-8615-a2497f654a50",
   "metadata": {
    "tags": []
   },
   "outputs": [],
   "source": [
    "with open(\"../data/cluster/ani/eukaryotic/completeness_gte90.contamination_lt5/organisms.list\", \"w\") as f:\n",
    "    for id in df_filtered.index[df_filtered[\"method\"].map(lambda x: x.startswith(\"BUSCO\"))]:\n",
    "        print(id, file=f)\n",
    "        \n",
    "with open(\"../data/cluster/ani/prokaryotic/completeness_gte90.contamination_lt5/organisms.list\", \"w\") as f:\n",
    "    for id in df_filtered.index[df_filtered[\"method\"].map(lambda x: not x.startswith(\"BUSCO\"))]:\n",
    "        print(id, file=f)"
   ]
  },
  {
   "cell_type": "code",
   "execution_count": null,
   "id": "ae4b7ea7-658b-4d48-9b42-49e1c30ae294",
   "metadata": {},
   "outputs": [],
   "source": []
  }
 ],
 "metadata": {
  "kernelspec": {
   "display_name": "conda_mns",
   "language": "python",
   "name": "conda_mns"
  },
  "language_info": {
   "codemirror_mode": {
    "name": "ipython",
    "version": 3
   },
   "file_extension": ".py",
   "mimetype": "text/x-python",
   "name": "python",
   "nbconvert_exporter": "python",
   "pygments_lexer": "ipython3",
   "version": "3.9.21"
  }
 },
 "nbformat": 4,
 "nbformat_minor": 5
}
