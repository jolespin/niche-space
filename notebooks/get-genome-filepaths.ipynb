{
 "cells": [
  {
   "cell_type": "code",
   "execution_count": 13,
   "id": "9449007c-acb7-48a3-94db-4aefa671aad5",
   "metadata": {
    "tags": []
   },
   "outputs": [],
   "source": [
    "import os, glob\n",
    "import pandas as pd\n",
    "from collections import defaultdict\n",
    "from tqdm import tqdm\n",
    "from pyexeggutor import read_list, open_file_writer"
   ]
  },
  {
   "cell_type": "code",
   "execution_count": 2,
   "id": "d253eda9-c4c3-4ec9-a831-7672373b011a",
   "metadata": {
    "tags": []
   },
   "outputs": [],
   "source": []
  },
  {
   "cell_type": "code",
   "execution_count": 22,
   "id": "87d1001c-d963-446a-ae22-548e967c5300",
   "metadata": {
    "tags": []
   },
   "outputs": [
    {
     "name": "stderr",
     "output_type": "stream",
     "text": [
      "100%|██████████| 80736/80736 [00:00<00:00, 344970.51 genomes/s]\n"
     ]
    },
    {
     "name": "stdout",
     "output_type": "stream",
     "text": [
      "CPU times: user 1.7 s, sys: 0 ns, total: 1.7 s\n",
      "Wall time: 1.69 s\n"
     ]
    }
   ],
   "source": [
    "organisms = read_list(\"../data/training/v2025.3.3/completeness_gte50.contamination_lt10/organisms.list\", set)\n",
    "\n",
    "manifest = defaultdict(dict)\n",
    "for filepath in tqdm(glob.glob(\"/home/ec2-user/SageMaker/s3/newatlantis-genomics-db-prod/SourceDatabases/*/Genomes/*/*.fa.gz\"), unit=\" genomes\"):\n",
    "    fields = filepath.split(\"/\")\n",
    "    id_genome = fields[-1].rsplit(\".\", maxsplit=2)[0]\n",
    "    if id_genome in organisms:\n",
    "        manifest[id_genome][\"database\"] = filepath.split(\"/\")[-4]\n",
    "        manifest[id_genome][\"organism_type\"] = filepath.split(\"/\")[-2]\n",
    "        manifest[id_genome][\"filepath\"] = filepath\n",
    "%time df_manifest = pd.DataFrame(manifest).T\n",
    "df_manifest.index.name = \"id_genome\"\n",
    "df_manifest.to_csv(\"../data/training/v2025.3.3/completeness_gte50.contamination_lt10/manifest.tsv\", sep=\"\\t\")\n",
    "# CPU times: user 1.7 s, sys: 0 ns, total: 1.7 s\n",
    "# Wall time: 1.69 s"
   ]
  },
  {
   "cell_type": "code",
   "execution_count": 30,
   "id": "9bac6d72-7328-4fa7-9962-16ceea0a02fe",
   "metadata": {
    "tags": []
   },
   "outputs": [],
   "source": [
    "df_manifest.query(\"organism_type == 'Eukaryotic'\")[\"filepath\"].to_csv(\"../data/cluster/ani/v2025.3.3/eukaryotic/completeness_gte50.contamination_lt10/genome_filepaths.list\", header=None, index=None)"
   ]
  },
  {
   "cell_type": "code",
   "execution_count": 32,
   "id": "5a72d05b-74a3-42d0-bd4b-981f37d1b268",
   "metadata": {
    "tags": []
   },
   "outputs": [],
   "source": [
    "df_manifest.query(\"organism_type == 'Prokaryotic'\")[\"filepath\"].to_csv(\"../data/cluster/ani/v2025.3.3/prokaryotic/completeness_gte50.contamination_lt10/genome_filepaths.list\", header=None, index=None)"
   ]
  },
  {
   "cell_type": "code",
   "execution_count": 33,
   "id": "71a31cfa-3567-4862-b970-5606727ef95d",
   "metadata": {
    "tags": []
   },
   "outputs": [
    {
     "name": "stdout",
     "output_type": "stream",
     "text": [
      "/home/ec2-user/SageMaker/s3/newatlantis-genomics-db-prod/SourceDatabases/EnsemblFungi/Genomes/Eukaryotic/_candida_arabinofermentans_nrrl_yb_2248_gca_001661425.fa.gz\n",
      "/home/ec2-user/SageMaker/s3/newatlantis-genomics-db-prod/SourceDatabases/EnsemblFungi/Genomes/Eukaryotic/_candida_auris_gca_001189475.fa.gz\n",
      "/home/ec2-user/SageMaker/s3/newatlantis-genomics-db-prod/SourceDatabases/EnsemblFungi/Genomes/Eukaryotic/_candida_auris_gca_002775015.fa.gz\n",
      "/home/ec2-user/SageMaker/s3/newatlantis-genomics-db-prod/SourceDatabases/EnsemblFungi/Genomes/Eukaryotic/_candida_auris_gca_003013715.fa.gz\n",
      "/home/ec2-user/SageMaker/s3/newatlantis-genomics-db-prod/SourceDatabases/EnsemblFungi/Genomes/Eukaryotic/_candida_auris_gca_003014415.fa.gz\n",
      "/home/ec2-user/SageMaker/s3/newatlantis-genomics-db-prod/SourceDatabases/EnsemblFungi/Genomes/Eukaryotic/_candida_auris_gca_007168705.fa.gz\n",
      "/home/ec2-user/SageMaker/s3/newatlantis-genomics-db-prod/SourceDatabases/EnsemblFungi/Genomes/Eukaryotic/_candida_auris_gca_008275145.fa.gz\n",
      "/home/ec2-user/SageMaker/s3/newatlantis-genomics-db-prod/SourceDatabases/EnsemblFungi/Genomes/Eukaryotic/_candida_glabrata_gca_001466525.fa.gz\n",
      "/home/ec2-user/SageMaker/s3/newatlantis-genomics-db-prod/SourceDatabases/EnsemblFungi/Genomes/Eukaryotic/_candida_glabrata_gca_001466535.fa.gz\n",
      "/home/ec2-user/SageMaker/s3/newatlantis-genomics-db-prod/SourceDatabases/EnsemblFungi/Genomes/Eukaryotic/_candida_glabrata_gca_001466565.fa.gz\n",
      " \n",
      "/home/ec2-user/SageMaker/s3/newatlantis-genomics-db-prod/SourceDatabases/Haroon_2016-PRJNA289734-RedSea/Genomes/Prokaryotic/GCA_001469005.2.fa.gz\n",
      "/home/ec2-user/SageMaker/s3/newatlantis-genomics-db-prod/SourceDatabases/Haroon_2016-PRJNA289734-RedSea/Genomes/Prokaryotic/GCA_001626115.1.fa.gz\n",
      "/home/ec2-user/SageMaker/s3/newatlantis-genomics-db-prod/SourceDatabases/Haroon_2016-PRJNA289734-RedSea/Genomes/Prokaryotic/GCA_001626125.1.fa.gz\n",
      "/home/ec2-user/SageMaker/s3/newatlantis-genomics-db-prod/SourceDatabases/Haroon_2016-PRJNA289734-RedSea/Genomes/Prokaryotic/GCA_001626145.1.fa.gz\n",
      "/home/ec2-user/SageMaker/s3/newatlantis-genomics-db-prod/SourceDatabases/Haroon_2016-PRJNA289734-RedSea/Genomes/Prokaryotic/GCA_001626165.1.fa.gz\n",
      "/home/ec2-user/SageMaker/s3/newatlantis-genomics-db-prod/SourceDatabases/Haroon_2016-PRJNA289734-RedSea/Genomes/Prokaryotic/GCA_001626195.1.fa.gz\n",
      "/home/ec2-user/SageMaker/s3/newatlantis-genomics-db-prod/SourceDatabases/Haroon_2016-PRJNA289734-RedSea/Genomes/Prokaryotic/GCA_001626205.1.fa.gz\n",
      "/home/ec2-user/SageMaker/s3/newatlantis-genomics-db-prod/SourceDatabases/Haroon_2016-PRJNA289734-RedSea/Genomes/Prokaryotic/GCA_001626245.1.fa.gz\n",
      "/home/ec2-user/SageMaker/s3/newatlantis-genomics-db-prod/SourceDatabases/Haroon_2016-PRJNA289734-RedSea/Genomes/Prokaryotic/GCA_001626275.1.fa.gz\n",
      "/home/ec2-user/SageMaker/s3/newatlantis-genomics-db-prod/SourceDatabases/Haroon_2016-PRJNA289734-RedSea/Genomes/Prokaryotic/GCA_001626295.1.fa.gz\n"
     ]
    }
   ],
   "source": [
    "%%bash\n",
    "head ../data/cluster/ani/v2025.3.3/eukaryotic/genome_filepaths.list\n",
    "echo \" \"\n",
    "head ../data/cluster/ani/v2025.3.3/prokaryotic/genome_filepaths.list"
   ]
  },
  {
   "cell_type": "code",
   "execution_count": 20,
   "id": "3c74f916-5212-46ab-ab0e-e680120a6ff2",
   "metadata": {
    "tags": []
   },
   "outputs": [],
   "source": []
  },
  {
   "cell_type": "code",
   "execution_count": null,
   "id": "b3b6c757-1fe4-4c68-a72c-1e411aa163f4",
   "metadata": {},
   "outputs": [],
   "source": []
  }
 ],
 "metadata": {
  "kernelspec": {
   "display_name": "conda_mns",
   "language": "python",
   "name": "conda_mns"
  },
  "language_info": {
   "codemirror_mode": {
    "name": "ipython",
    "version": 3
   },
   "file_extension": ".py",
   "mimetype": "text/x-python",
   "name": "python",
   "nbconvert_exporter": "python",
   "pygments_lexer": "ipython3",
   "version": "3.9.21"
  }
 },
 "nbformat": 4,
 "nbformat_minor": 5
}
