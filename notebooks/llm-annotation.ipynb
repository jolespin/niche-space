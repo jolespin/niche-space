{
 "cells": [
  {
   "cell_type": "code",
   "execution_count": 49,
   "id": "c4cd3e97-5bff-41d2-8b19-3024ec0e919d",
   "metadata": {
    "tags": []
   },
   "outputs": [],
   "source": [
    "from io import StringIO\n",
    "import json\n",
    "import pandas as pd\n",
    "from pyexeggutor import read_pickle\n",
    "from dotenv import dotenv_values\n",
    "from nichespace.llm import LLMAnnotator"
   ]
  },
  {
   "cell_type": "code",
   "execution_count": 60,
   "id": "0858d714-92fc-45e2-9ac7-0f901f3d693c",
   "metadata": {
    "tags": []
   },
   "outputs": [
    {
     "data": {
      "text/plain": [
       "===========================================================\n",
       "LLMAnnotator(Description:EmbeddingAnnotator Contextualizer)\n",
       "===========================================================\n",
       "    * number of queries: 0"
      ]
     },
     "execution_count": 60,
     "metadata": {},
     "output_type": "execute_result"
    }
   ],
   "source": [
    "# Load credentials\n",
    "config = dotenv_values(\"/home/ec2-user/SageMaker/.openai\")\n",
    "\n",
    "# Setup client\n",
    "llm = LLMAnnotator(**config, description=\"EmbeddingAnnotator Contextualizer\")\n",
    "llm"
   ]
  },
  {
   "cell_type": "code",
   "execution_count": 56,
   "id": "c385fbde-5e77-4b13-a34c-153c5534447e",
   "metadata": {
    "tags": []
   },
   "outputs": [],
   "source": [
    "df_meta_keggortholog = pd.read_csv(\"/home/ec2-user/SageMaker/s3/newatlantis-raw-veba-db-prod/VEBA/VDB_v8.1/Annotate/KOfam/kegg-ortholog_metadata.tsv\", sep=\"\\t\", index_col=0)\n",
    "keggortholog_to_name = df_meta_keggortholog[\"definition\"]\n",
    "annotator = read_pickle(f\"../data/training/completeness_gte90.contamination_lt5/NAL-GDB_MNS_v2.SLC-MFC.EmbeddingAnnotator.pkl\")\n"
   ]
  },
  {
   "cell_type": "code",
   "execution_count": 61,
   "id": "52869f6e-6593-463f-814f-3d4993e58277",
   "metadata": {
    "tags": []
   },
   "outputs": [],
   "source": [
    "prompts = dict()\n",
    "prompts[\"annotate_embeddings[kegg_orthogs=True,genome_taxonomy=False]\"] = \"\"\"\n",
    "You are an AI assistant tasked with analyzing a dictionary of KEGG orthologs (features) and their corresponding weights. \n",
    "These weights indicate the predictive capacity of each ortholog for a specific dimension in a diffusion map embedding. \n",
    "Your goal is to assign high-level metabolic or ecological annotations to this embedding dimension, providing insight into\n",
    "the metabolic niche of organisms with high magnitude along this dimension.\n",
    "\n",
    "Here is the dictionary of features (KEGG orthologs) and their weights:\n",
    "<feature_weight_dict>\n",
    "%s\n",
    "</feature_weight_dict>\n",
    "\n",
    "To complete this task, follow these steps:\n",
    "1. Examine the features and weights in the dictionary. Pay attention to the magnitude and sign of the weights. \n",
    "Higher magnitude will mean these proteins will be the most influential in predicting the diffusion coordinate\n",
    "while the sign indicates a separation along some data-driven axis likely representing complex metabolic patterns.\n",
    "2. Use your knowledge of KEGG pathways and biological processes to understand the function of these orthologs \n",
    "and their roles in metabolic pathways.\n",
    "3. Contextualize your research by searching for common themes or related processes among the weighted features.\n",
    "4. Based on your analysis, formulate a high-level metabolic or ecological annotation for this embedding dimension. \n",
    "Consider what type of organisms or metabolic processes might be associated with high magnitude along this dimension.\n",
    "Provide your answer in json format that be read into a Python dictionary without additional parsing:\n",
    "{\n",
    "\"summary\":[Here, provide a consise analysis of your findings in and how the features relate to each other metabolically and ecologically.],\n",
    "\"metabolic_context\":[Provide a concise, high-level annotation of the metabolic context for the embedding dimension based on your analysis.],\n",
    "\"ecological_context\":[Provide a concise, high-level annotation of the ecological context for the embedding dimension based on your analysis.]\n",
    "\"justification\":[Explain your reasoning for the annotation, citing specific features and their weights from the dictionary. Discuss any potential limitations or uncertainties in your interpretation.]\n",
    "}\n",
    "Remember to think critically about the biological significance of these features and their weights. Consider how they might work together in metabolic pathways or ecological processes. \n",
    "If you're unsure about certain aspects, acknowledge this uncertainty in your justification.\n",
    "Your goal is to provide a well-reasoned, biologically meaningful annotation that could help researchers understand the metabolic or ecological significance of this embedding dimension.\n",
    "\"\"\""
   ]
  },
  {
   "cell_type": "code",
   "execution_count": 57,
   "id": "1a6bd362-a41c-49f2-a32c-2e93c996ff93",
   "metadata": {
    "tags": []
   },
   "outputs": [
    {
     "data": {
      "text/plain": [
       "K27188  [DsrC]-trisulfide reductase subunit K [EC:1.8.5.10]                                                                                    0.208530\n",
       "K01499  methenyltetrahydromethanopterin cyclohydrolase [EC:3.5.4.27]                                                                           0.124581\n",
       "K01690  phosphogluconate dehydratase [EC:4.2.1.12]                                                                                             0.068363\n",
       "K08093  3-hexulose-6-phosphate synthase [EC:4.1.2.43]                                                                                          0.067118\n",
       "K02502  ATP phosphoribosyltransferase regulatory subunit                                                                                       0.044294\n",
       "K17227  sulfur-oxidizing protein SoxZ                                                                                                          0.041635\n",
       "K20881  GMP/IMP 5'-nucleotidase [EC:3.1.3.-]                                                                                                   0.038450\n",
       "K02302  uroporphyrin-III C-methyltransferase / precorrin-2 dehydrogenase / sirohydrochlorin ferrochelatase [EC:2.1.1.107 1.3.1.76 4.99.1.4]    0.034528\n",
       "K03738  aldehyde:ferredoxin oxidoreductase [EC:1.2.7.5]                                                                                        0.026726\n",
       "K01438  acetylornithine deacetylase [EC:3.5.1.16]                                                                                              0.026287\n",
       "K00673  arginine N-succinyltransferase [EC:2.3.1.109]                                                                                          0.024563\n",
       "K01497  GTP cyclohydrolase II [EC:3.5.4.25]                                                                                                    0.024181\n",
       "K03270  3-deoxy-D-manno-octulosonate 8-phosphate phosphatase (KDO 8-P phosphatase) [EC:3.1.3.45]                                               0.023774\n",
       "K01624  fructose-bisphosphate aldolase, class II [EC:4.1.2.13]                                                                                 0.023636\n",
       "K03272  D-beta-D-heptose 7-phosphate kinase / D-beta-D-heptose 1-phosphate adenosyltransferase [EC:2.7.1.167 2.7.7.70]                         0.023580\n",
       "K12373  hexosaminidase [EC:3.2.1.52]                                                                                                           0.022675\n",
       "K01796  alpha-methylacyl-CoA racemase [EC:5.1.99.4]                                                                                            0.022270\n",
       "K01807  ribose 5-phosphate isomerase A [EC:5.3.1.6]                                                                                            0.019200\n",
       "K06447  succinylglutamic semialdehyde dehydrogenase [EC:1.2.1.71]                                                                              0.017134\n",
       "K00643  5-aminolevulinate synthase [EC:2.3.1.37]                                                                                               0.016619\n",
       "K00648  3-oxoacyl-[acyl-carrier-protein] synthase III [EC:2.3.1.180]                                                                           0.016297\n",
       "K03585  membrane fusion protein, multidrug efflux system                                                                                       0.016194\n",
       "K18800  2-polyprenylphenol 6-hydroxylase [EC:1.14.13.240]                                                                                      0.015766\n",
       "K11755  phosphoribosyl-AMP cyclohydrolase / phosphoribosyl-ATP pyrophosphohydrolase [EC:3.5.4.19 3.6.1.31]                                     0.013179\n",
       "K26139  nitrite reductase [NAD(P)H] large subunit [EC:1.7.1.4]                                                                                 0.010655\n",
       "K21832  glycine betaine monooxygenase B [EC:1.14.13.251]                                                                                       0.009763\n",
       "K01962  acetyl-CoA carboxylase carboxyl transferase subunit alpha [EC:6.4.1.2 2.1.3.15]                                                        0.009663\n",
       "K06001  tryptophan synthase beta chain [EC:4.2.1.20]                                                                                           0.005155\n",
       "K15894  UDP-N-acetylglucosamine 4,6-dehydratase/5-epimerase [EC:4.2.1.115 5.1.3.-]                                                             0.002651\n",
       "K15635  2,3-bisphosphoglycerate-independent phosphoglycerate mutase [EC:5.4.2.12]                                                              0.002533\n",
       "dtype: float64"
      ]
     },
     "execution_count": 57,
     "metadata": {},
     "output_type": "execute_result"
    }
   ],
   "source": [
    "info = annotator.feature_weights_[\"n35\"].sort_values(ascending=False)\n",
    "info.index = info.index.map(lambda x: (x,keggortholog_to_name[x]))\n",
    "info"
   ]
  },
  {
   "cell_type": "code",
   "execution_count": 62,
   "id": "4d2e2f03-74b6-4dd0-9d04-3259d1689f68",
   "metadata": {
    "tags": []
   },
   "outputs": [],
   "source": [
    "prompt = prompts[\"annotate_embeddings[kegg_orthogs=True,genome_taxonomy=False]\"]%(str(info.to_dict()))\n",
    "response = llm.query(prompt)"
   ]
  },
  {
   "cell_type": "code",
   "execution_count": 65,
   "id": "4677fef6-6774-4fc2-9c4a-980de175900e",
   "metadata": {
    "tags": []
   },
   "outputs": [
    {
     "data": {
      "text/plain": [
       "{'summary': 'The weighted features point to a metabolic dimension that integrates elements of sulfur compound transformations with central carbon and nitrogen metabolism. High-weight proteins such as [DsrC]-trisulfide reductase (K27188) and the sulfur-oxidizing SoxZ (K17227) indicate a significant role for sulfur redox processes, while enzymes like methenyltetrahydromethanopterin cyclohydrolase (K01499) and those involved in formaldehyde fixation (e.g., 3-hexulose-6-phosphate synthase, K08093) hint at specialized carbon assimilation pathways operative in anaerobic or microaerophilic conditions.',\n",
       " 'metabolic_context': 'Dimension associated with sulfur cycling coupled to alternative carbon assimilation pathways.',\n",
       " 'ecological_context': 'Likely reflects microbes adapted to redox‐gradient environments such as anoxic or microoxic sediments, hydrothermal systems, or niches where sulfur compounds serve as key energy sources.',\n",
       " 'justification': 'The highest weighted feature, [DsrC]-trisulfide reductase (K27188, weight 0.2085), is central to dissimilatory sulfur metabolism, while sulfur-oxidizing SoxZ (K17227, weight 0.0416) further emphasizes sulfur transformations. The presence of methenyltetrahydromethanopterin cyclohydrolase (K01499, weight 0.1246) ties this dimension to methanogenic or related one‐carbon metabolic processes, and the inclusion of enzymes involved in formaldehyde fixation (K08093) supports a link to alternate carbon assimilation routes. Additionally, components of central metabolism (e.g., phosphogluconate dehydratase, K01690; fructose-bisphosphate aldolase, K01624) and nitrogen metabolism (e.g., nitrite reductase, K26139) broaden the context. Overall, these features suggest organisms capable of versatile redox reactions supporting growth in environments where sulfur, carbon, and nitrogen sources are dynamically interrelated. Limitations include the presence of several housekeeping enzymes that are part of basic cellular functions, potentially blurring the specificity of the signal.'}"
      ]
     },
     "execution_count": 65,
     "metadata": {},
     "output_type": "execute_result"
    }
   ],
   "source": [
    "json.load(StringIO(response))"
   ]
  },
  {
   "cell_type": "code",
   "execution_count": null,
   "id": "27155b8c-bee6-4e78-bc1a-331133aa1859",
   "metadata": {},
   "outputs": [],
   "source": []
  },
  {
   "cell_type": "code",
   "execution_count": null,
   "id": "92694c1b-b392-498a-8d33-cf741aa014bf",
   "metadata": {
    "tags": []
   },
   "outputs": [],
   "source": [
    "# prompts = dict()\n",
    "# prompts[\"annotate_embeddings[kegg_orthogs=True,genome_taxonomy=False]\"] = \"\"\"\n",
    "# You are an AI assistant tasked with analyzing a dictionary of KEGG orthologs (features) and their corresponding weights. \n",
    "# These weights indicate the predictive capacity of each ortholog for a specific dimension in a diffusion map embedding. \n",
    "# Your goal is to assign high-level metabolic or ecological annotations to this embedding dimension, providing insight into\n",
    "# the metabolic niche of organisms with high magnitude along this dimension.\n",
    "\n",
    "# Here is the dictionary of features (KEGG orthologs) and their weights:\n",
    "# <feature_weight_dict>\n",
    "# {}\n",
    "# </feature_weight_dict>\n",
    "\n",
    "# To complete this task, follow these steps:\n",
    "# 1. Examine the features and weights in the dictionary. Pay attention to the magnitude and sign of the weights.\n",
    "# 2. Identify the top 5-10 features with the highest absolute weight values. These are likely the most influential in predicting the diffusion coordinate.\n",
    "# 3. Research these top KEGG orthologs. Use your knowledge of KEGG pathways and biological processes to understand the function of these orthologs and their roles in metabolic pathways.\n",
    "# 4. Synthesize the information from your research. Look for common themes or related processes among the top features.\n",
    "# 5. Based on your analysis, formulate a high-level metabolic or ecological annotation for this embedding dimension. Consider what type of organisms or metabolic processes might be associated with high magnitude along this dimension.\n",
    "# Provide your answer in the following format:\n",
    "# <analysis>\n",
    "# [Here, provide a detailed analysis of your findings, including the top features you identified, their functions, and how they relate to each other.]\n",
    "# </analysis>\n",
    "# <annotation>\n",
    "# [Provide a concise, high-level annotation for the embedding dimension based on your analysis.]\n",
    "# </annotation>\n",
    "# <justification>\n",
    "# [Explain your reasoning for the annotation, citing specific features and their weights from the dictionary. Discuss any potential limitations or uncertainties in your interpretation.]\n",
    "# </justification>\n",
    "# Remember to think critically about the biological significance of these features and their weights. Consider how they might work together in metabolic pathways or ecological processes. If you're unsure about certain aspects, acknowledge this uncertainty in your justification.\n",
    "# Your goal is to provide a well-reasoned, biologically meaningful annotation that could help researchers understand the metabolic or ecological significance of this embedding dimension.\n",
    "# \"\"\""
   ]
  },
  {
   "cell_type": "code",
   "execution_count": null,
   "id": "ab23b65b-46bc-42c7-8864-06527a18030a",
   "metadata": {
    "tags": []
   },
   "outputs": [],
   "source": []
  },
  {
   "cell_type": "code",
   "execution_count": null,
   "id": "e8edbc9a-b1ef-4c30-bc45-aa6a106079e1",
   "metadata": {
    "tags": []
   },
   "outputs": [],
   "source": []
  },
  {
   "cell_type": "code",
   "execution_count": null,
   "id": "6120bf92-f8b2-45b0-843f-4b8928911fe1",
   "metadata": {
    "tags": []
   },
   "outputs": [],
   "source": []
  },
  {
   "cell_type": "code",
   "execution_count": null,
   "id": "70b0d174-9852-4f18-b074-0a7175e46ca5",
   "metadata": {},
   "outputs": [],
   "source": []
  }
 ],
 "metadata": {
  "kernelspec": {
   "display_name": "conda_mns",
   "language": "python",
   "name": "conda_mns"
  },
  "language_info": {
   "codemirror_mode": {
    "name": "ipython",
    "version": 3
   },
   "file_extension": ".py",
   "mimetype": "text/x-python",
   "name": "python",
   "nbconvert_exporter": "python",
   "pygments_lexer": "ipython3",
   "version": "3.9.21"
  }
 },
 "nbformat": 4,
 "nbformat_minor": 5
}
