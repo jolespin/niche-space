{
 "cells": [
  {
   "cell_type": "code",
   "execution_count": 30,
   "id": "c4cd3e97-5bff-41d2-8b19-3024ec0e919d",
   "metadata": {
    "tags": []
   },
   "outputs": [],
   "source": [
    "import json\n",
    "import hashlib\n",
    "from collections import OrderedDict\n",
    "from dotenv import dotenv_values\n",
    "from pyexeggutor import (\n",
    "    format_header,\n",
    "    open_file_writer,\n",
    ")\n"
   ]
  },
  {
   "cell_type": "code",
   "execution_count": 38,
   "id": "52869f6e-6593-463f-814f-3d4993e58277",
   "metadata": {
    "tags": []
   },
   "outputs": [],
   "source": [
    "class LLMAnnotator(object):\n",
    "    def __init__(\n",
    "        self,\n",
    "        api_key:str,\n",
    "        organization_key:str,\n",
    "        project_key:str,\n",
    "        description:str=None,\n",
    "    ):\n",
    "        from openai import OpenAI\n",
    "        self.description = description\n",
    "        self.client = OpenAI(\n",
    "            api_key=api_key,\n",
    "            organization=organization_key,\n",
    "            project=project_key,\n",
    "        )\n",
    "        self.history = OrderedDict()\n",
    "        self.lookup = OrderedDict()\n",
    "\n",
    "    @staticmethod\n",
    "    def md5hash(string: str) -> str:\n",
    "        \"\"\"Compute a reproducible MD5 hash of a string.\"\"\"\n",
    "        return hashlib.md5(string.encode(\"utf-8\")).hexdigest()\n",
    "\n",
    "    def query(self, prompt:str, model=\"o3-mini\", store=True):\n",
    "        \n",
    "        \"\"\"\n",
    "        Submits a prompt to the OpenAI API using the provided client and returns the response content as a string.\n",
    "\n",
    "        Parameters:\n",
    "            client: OpenAI client instance\n",
    "                The initialized OpenAI client object.\n",
    "            model: str\n",
    "                The model to use for the completion (e.g., \"o3-mini\").\n",
    "            prompt: str\n",
    "                The user prompt to send to the OpenAI API.\n",
    "            store: bool\n",
    "                Whether to store the completion request (default is False).\n",
    "\n",
    "        Returns:\n",
    "            str: The content of the response from the OpenAI API.\n",
    "        \"\"\"\n",
    "        id_hash = self.md5hash(prompt)\n",
    "        if id_hash in self.history:\n",
    "            return self.history[id_hash]\n",
    "        else:\n",
    "            # Submit the prompt to OpenAI\n",
    "            completion = self.client.chat.completions.create(\n",
    "                model=model,\n",
    "                store=store,\n",
    "                messages=[\n",
    "                    {\"role\": \"user\", \"content\": prompt}\n",
    "                ]\n",
    "            )\n",
    "            # Return the response content\n",
    "            response = completion.choices[0].message\n",
    "            content = response.content\n",
    "            self.lookup[id_hash] = prompt\n",
    "            self.history[id_hash] = content\n",
    "            return content\n",
    "        \n",
    "    def to_json(self,filepath:str, sort_keys=True, indent=4):\n",
    "        output = OrderedDict()\n",
    "        for id_hash, prompt in self.lookup.items():\n",
    "            content = self.history[id_hash]\n",
    "            output[id_hash] = {\"prompt\":prompt, \"content\":content}\n",
    "        with open_file_writer(filepath) as f:\n",
    "            json.dump(output, f, sort_keys=sort_keys, indent=indent)\n",
    "            \n",
    "    # =======\n",
    "    # Built-in\n",
    "    # =======\n",
    "    def __repr__(self):\n",
    "        pad = 4\n",
    "        header = format_header(f\"{self.__class__.__name__}(Description:{self.description})\", line_character=\"=\")\n",
    "\n",
    "        n = len(header.split(\"\\n\")[0])\n",
    "        fields = [\n",
    "            header,\n",
    "            pad*\" \" + f\"* number of queries: {len(self.history)}\",\n",
    "        ]\n",
    "\n",
    "        return \"\\n\".join(fields)\n",
    "        \n",
    "config = dotenv_values(\"/home/ec2-user/SageMaker/.openai\")\n",
    "llm = LLMAnnotator(\n",
    "    api_key=config[\"api_key\"],\n",
    "    organization_key=config[\"organization_key\"],\n",
    "    project_key=config[\"project_key\"],\n",
    ")\n",
    "\n",
    "proteins = [\n",
    " ('K02588', 'nitrogenase iron protein NifH'),\n",
    " ('K02586', 'nitrogenase molybdenum-iron protein alpha chain [EC:1.18.6.1]'),\n",
    " ('K02591', 'nitrogenase molybdenum-iron protein beta chain [EC:1.18.6.1]'),\n",
    " ('K00531', 'nitrogenase delta subunit [EC:1.18.6.1]'),\n",
    " ('K22896', 'vanadium-dependent nitrogenase alpha chain [EC:1.18.6.2]'),\n",
    " ('K22897', 'vanadium-dependent nitrogenase beta chain [EC:1.18.6.2]'),\n",
    " ('K22898', 'vanadium nitrogenase delta subunit [EC:1.18.6.2]'),\n",
    " ('K22899', 'vanadium nitrogenase iron protein')]\n",
    "organisms = [\"d__Bacteria; p__Cyanobacteriota; c__Cyanophyceae; o__Nostocales; f__Nostocaceae; g__Nostoc\"]\n",
    "\n",
    "llm.query(prompt=f\"Can you descibe the metabolic and environmental context of a group of organisms\" \\\n",
    "                 f\"enriched in [{organisms}] genomes and [{proteins}] proteins?\" \\\n",
    "                 f\"Please make the response concise and to 100 words.\",\n",
    "          model=\"o3-mini\",\n",
    ")\n",
    "# Nostoc, a filamentous cyanobacterium from the Nostocaceae family, thrives in diverse aquatic and terrestrial ecosystems, \n",
    "# often where nitrogen is limited. Its enrichment in nitrogenase proteins—including both molybdenum-iron and vanadium-dependent \n",
    "# enzymes—indicates a robust capacity for atmospheric nitrogen fixation. This metabolic trait is crucial in converting inert N₂ \n",
    "# into biologically available forms, supporting both self-growth and symbiotic relationships with plants and other organisms. \n",
    "# By performing nitrogen fixation under microaerobic or anoxic conditions within its usually oxygen-rich habitat, Nostoc plays a \n",
    "# vital role in ecosystem nutrient cycling and soil fertility, contributing significantly to primary productivity in nutrient-poor \n",
    "# environments.\n",
    "llm.to_json(\"llm_annotations.json\")\n"
   ]
  },
  {
   "cell_type": "code",
   "execution_count": 37,
   "id": "92694c1b-b392-498a-8d33-cf741aa014bf",
   "metadata": {
    "tags": []
   },
   "outputs": [
    {
     "data": {
      "text/plain": [
       "OrderedDict([('80c36efbc158147ed1c2c6a92492afa2',\n",
       "              \"Can you descibe the metabolic and environmental context of a group of organismsenriched in [['d__Bacteria; p__Cyanobacteriota; c__Cyanophyceae; o__Nostocales; f__Nostocaceae; g__Nostoc']] genomes and [[('K02588', 'nitrogenase iron protein NifH'), ('K02586', 'nitrogenase molybdenum-iron protein alpha chain [EC:1.18.6.1]'), ('K02591', 'nitrogenase molybdenum-iron protein beta chain [EC:1.18.6.1]'), ('K00531', 'nitrogenase delta subunit [EC:1.18.6.1]'), ('K22896', 'vanadium-dependent nitrogenase alpha chain [EC:1.18.6.2]'), ('K22897', 'vanadium-dependent nitrogenase beta chain [EC:1.18.6.2]'), ('K22898', 'vanadium nitrogenase delta subunit [EC:1.18.6.2]'), ('K22899', 'vanadium nitrogenase iron protein')]] proteins?Please make the response concise and to 100 words.\")])"
      ]
     },
     "execution_count": 37,
     "metadata": {},
     "output_type": "execute_result"
    }
   ],
   "source": [
    "llm.lookup"
   ]
  },
  {
   "cell_type": "code",
   "execution_count": 39,
   "id": "ab23b65b-46bc-42c7-8864-06527a18030a",
   "metadata": {
    "tags": []
   },
   "outputs": [
    {
     "data": {
      "text/plain": [
       "OrderedDict([('80c36efbc158147ed1c2c6a92492afa2',\n",
       "              'Nostoc, a genus within the Nostocaceae, thrives in nutrient-limited freshwater, terrestrial, or symbiotic environments. These Cyanobacteria perform oxygenic photosynthesis and are notable for nitrogen fixation. Their enriched nitrogenase genes include both molybdenum- and vanadium-dependent enzymes, equipping them to convert inert atmospheric N₂ into bioavailable ammonia, especially under low-nitrogen conditions. This metabolic versatility supports growth in diverse ecosystems, contributing to nitrogen cycling and soil fertility. Their ability to balance photosynthesis and nitrogen fixation—often via specialized heterocyst cells—reflects adaptation to fluctuating environmental oxygen and nutrient levels.')])"
      ]
     },
     "execution_count": 39,
     "metadata": {},
     "output_type": "execute_result"
    }
   ],
   "source": [
    "llm.history"
   ]
  },
  {
   "cell_type": "code",
   "execution_count": 28,
   "id": "e8edbc9a-b1ef-4c30-bc45-aa6a106079e1",
   "metadata": {
    "tags": []
   },
   "outputs": [],
   "source": [
    "llm.to_json(\"test.json\")"
   ]
  },
  {
   "cell_type": "code",
   "execution_count": 33,
   "id": "6120bf92-f8b2-45b0-843f-4b8928911fe1",
   "metadata": {
    "tags": []
   },
   "outputs": [
    {
     "data": {
      "text/plain": [
       "==============================\n",
       "LLMAnnotator(Description:None)\n",
       "==============================\n",
       "    * number of queries: 1"
      ]
     },
     "execution_count": 33,
     "metadata": {},
     "output_type": "execute_result"
    }
   ],
   "source": [
    "llm"
   ]
  },
  {
   "cell_type": "code",
   "execution_count": null,
   "id": "70b0d174-9852-4f18-b074-0a7175e46ca5",
   "metadata": {},
   "outputs": [],
   "source": [
    "# # OpenAI\n",
    "# # !pip install dotenv\n",
    "# # from dotenv import load_dotenv\n",
    "# from openai import OpenAI\n",
    "\n",
    "# openai_api_key = open(\"/home/ec2-user/SageMaker/.openai\").read().strip().split(\"=\", maxsplit=1)[-1]\n",
    "\n",
    "# # client = OpenAI(\n",
    "# #   api_key=openai_api_key,\n",
    "# # )\n",
    "# client = OpenAI(\n",
    "#     api_key=openai_api_key,\n",
    "#     organization='org-Ez60DuNFqA22CtJjM2PpXQxa',\n",
    "#     project='proj_qCFyUKcDinIaUNIwuHRtNxpL',\n",
    "# )\n",
    "\n",
    "# # completion = client.chat.completions.create(\n",
    "# #   model=\"gpt-4o-mini\",\n",
    "# #   store=True,\n",
    "# #   messages=[\n",
    "# #     {\"role\": \"user\", \"content\": \"write a haiku about ai\"}\n",
    "# #   ]\n",
    "# # )\n",
    "# # print(completion.choices[0].message)\n",
    "\n",
    "# def submit_openai_prompt(client, prompt, model=\"gpt-4o-mini\", store=False):\n",
    "#     \"\"\"\n",
    "#     Submits a prompt to the OpenAI API using the provided client and returns the response content as a string.\n",
    "    \n",
    "#     Parameters:\n",
    "#         client: OpenAI client instance\n",
    "#             The initialized OpenAI client object.\n",
    "#         model: str\n",
    "#             The model to use for the completion (e.g., \"gpt-4o-mini\").\n",
    "#         prompt: str\n",
    "#             The user prompt to send to the OpenAI API.\n",
    "#         store: bool\n",
    "#             Whether to store the completion request (default is False).\n",
    "    \n",
    "#     Returns:\n",
    "#         str: The content of the response from the OpenAI API.\n",
    "#     \"\"\"\n",
    "#     try:\n",
    "#         # Submit the prompt to OpenAI\n",
    "#         completion = client.chat.completions.create(\n",
    "#             model=model,\n",
    "#             store=store,\n",
    "#             messages=[\n",
    "#                 {\"role\": \"user\", \"content\": prompt}\n",
    "#             ]\n",
    "#         )\n",
    "#         # Return the response content\n",
    "#         return completion.choices[0].message\n",
    "#     except Exception as e:\n",
    "#         # Handle exceptions and provide meaningful error messages\n",
    "#         print(f\"An error occurred: {e}\")\n",
    "#         return None\n"
   ]
  }
 ],
 "metadata": {
  "kernelspec": {
   "display_name": "conda_mns",
   "language": "python",
   "name": "conda_mns"
  },
  "language_info": {
   "codemirror_mode": {
    "name": "ipython",
    "version": 3
   },
   "file_extension": ".py",
   "mimetype": "text/x-python",
   "name": "python",
   "nbconvert_exporter": "python",
   "pygments_lexer": "ipython3",
   "version": "3.9.21"
  }
 },
 "nbformat": 4,
 "nbformat_minor": 5
}
