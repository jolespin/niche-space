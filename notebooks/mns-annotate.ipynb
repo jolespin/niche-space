{
 "cells": [
  {
   "cell_type": "code",
   "execution_count": 1,
   "id": "110522b2-0274-4f2f-a1bc-81a9285af00e",
   "metadata": {
    "tags": []
   },
   "outputs": [
    {
     "name": "stderr",
     "output_type": "stream",
     "text": [
      "/home/ec2-user/SageMaker/environments/mns/lib/python3.9/site-packages/tqdm/auto.py:21: TqdmWarning: IProgress not found. Please update jupyter and ipywidgets. See https://ipywidgets.readthedocs.io/en/stable/user_install.html\n",
      "  from .autonotebook import tqdm as notebook_tqdm\n"
     ]
    },
    {
     "name": "stdout",
     "output_type": "stream",
     "text": [
      "SUCCESS\n"
     ]
    }
   ],
   "source": [
    "import os\n",
    "import sys\n",
    "import glob\n",
    "import warnings\n",
    "import uuid\n",
    "from collections import defaultdict\n",
    "from collections import OrderedDict\n",
    "\n",
    "from tqdm import tqdm\n",
    "import numpy as np # Can't install NumPy 2.2.2 which is what the pkls were saved with\n",
    "import pandas as pd # 'v2.2.3'\n",
    "import anndata as ad\n",
    "from pyexeggutor import (\n",
    "    build_logger,\n",
    "    write_pickle,\n",
    "    read_pickle,\n",
    "    format_header,\n",
    "    read_list,\n",
    ")\n",
    "\n",
    "# Niche\n",
    "import optuna\n",
    "import joblib\n",
    "\n",
    "# # PyData\n",
    "# from scipy.spatial.distance import (\n",
    "#     pdist, \n",
    "#     squareform,\n",
    "# )\n",
    "# from sklearn.neighbors import (\n",
    "#     kneighbors_graph, \n",
    "#     KNeighborsTransformer,\n",
    "# )\n",
    "# from sklearn.metrics import (\n",
    "#     pairwise_distances,\n",
    "#     silhouette_score, \n",
    "    \n",
    "#     # silhouette_samples, \n",
    "#     # completeness_score,\n",
    "# )\n",
    "# from sklearn.model_selection import train_test_split\n",
    "\n",
    "\n",
    "\n",
    "\n",
    "import matplotlib.pyplot as plt\n",
    "\n",
    "# # Clairvoyance\n",
    "# from clairvoyance.bayesian import (\n",
    "#     BayesianClairvoyanceRegression,\n",
    "# )\n",
    "# from clairvoyance.utils import ( \n",
    "#     compile_parameter_space, # Can this be in Clairvoyance\n",
    "#     check_parameter_space,\n",
    "# )\n",
    "\n",
    "# Metabolic Niche Space\n",
    "from metabolic_niche_space.manifold import (\n",
    "    NicheSpace,\n",
    "    HierarchicalNicheSpace,\n",
    "    QualitativeSpace,\n",
    "    EmbeddingAnnotator,\n",
    "    DEFAULT_REGRESSOR, \n",
    "    DEFAULT_REGRESSOR_PARAM_SPACE,\n",
    ")\n",
    "\n",
    "from metabolic_niche_space.utils import (\n",
    "    fast_groupby,\n",
    ")\n",
    "\n",
    "print(\"SUCCESS\")"
   ]
  },
  {
   "cell_type": "code",
   "execution_count": 2,
   "id": "92939984-8abd-4829-8c15-5bf7a9adbb03",
   "metadata": {
    "tags": []
   },
   "outputs": [
    {
     "name": "stdout",
     "output_type": "stream",
     "text": [
      "Number of genomes: 20377, Number of features: 2124, Number of SLCs: 6719\n",
      "CPU times: user 4.2 s, sys: 365 ms, total: 4.57 s\n",
      "Wall time: 5.02 s\n"
     ]
    }
   ],
   "source": [
    "%%time\n",
    "# Data\n",
    "df_quality = pd.read_csv(\"../data/quality.tsv.gz\",sep=\"\\t\", index_col=0)\n",
    "\n",
    "quality_label=\"completeness_gte90.contamination_lt5\"\n",
    "# quality_label=\"completeness_gte50.contamination_lt10\"\n",
    "output_directory=f\"../data/cluster/mfc/{quality_label}\"\n",
    "os.makedirs(output_directory, exist_ok=True)\n",
    "\n",
    "genome_to_clusterani = pd.read_csv(f\"../data/training/{quality_label}/y.tsv.gz\", sep=\"\\t\", index_col=0, header=None).iloc[:,0].astype(\"category\")\n",
    "X_genomic_traits = pd.read_csv(f\"../data/training/{quality_label}/X.tsv.gz\", sep=\"\\t\", index_col=0).astype(bool)\n",
    "X_genomic_traits_clusterani = pd.read_csv(f\"../data/training/{quality_label}/X_grouped.tsv.gz\", sep=\"\\t\", index_col=0).astype(bool)\n",
    "eukaryotes = read_list(f\"../data/cluster/ani/eukaryotic/{quality_label}/organisms.list\", set)\n",
    "prokaryotes = read_list(f\"../data/cluster/ani/prokaryotic/{quality_label}/organisms.list\", set)\n",
    "\n",
    "genome_to_taxonomy = pd.read_csv(\"../data/taxonomy.tsv.gz\", sep=\"\\t\", index_col=0).iloc[:,0]\n",
    "clusterani_to_taxonomy = pd.read_csv(\"../data/cluster/ani/cluster-ani_to_taxonomy.tsv.gz\", sep=\"\\t\", index_col=0, header=None).iloc[:,0]\n",
    "df_meta_mfc__genomes = pd.read_csv(f\"../data/cluster/mfc/{quality_label}/identifier_mapping.mfc.genomes.with_openai.tsv.gz\", sep=\"\\t\", index_col=0)\n",
    "df_meta_mfc__slc = pd.read_csv(f\"../data/cluster/mfc/{quality_label}/identifier_mapping.mfc.genome_clusters.with_openai.tsv.gz\", sep=\"\\t\", index_col=0)\n",
    "\n",
    "X_genomic_traits_mfc = X_genomic_traits_clusterani.groupby(df_meta_mfc__slc[\"id_cluster-mfc\"]).sum() > 0\n",
    "df_kegg = pd.read_csv(\"/home/ec2-user/SageMaker/s3/newatlantis-raw-veba-db-prod/VDB_v8.1/Annotate/KOfam/kegg-ortholog_metadata.tsv\", sep=\"\\t\", index_col=0)\n",
    "ko_to_description = df_kegg[\"definition\"]\n",
    "\n",
    "print(\"Number of genomes: {}, Number of features: {}, Number of SLCs: {}\".format(*X_genomic_traits.shape, X_genomic_traits_clusterani.shape[0]))\n",
    "# Number of genomes: 20377, Number of features: 2124, Number of SLCs: 6719\n",
    "\n",
    "# CPU times: user 3.41 s, sys: 87.8 ms, total: 3.5 s\n",
    "# Wall time: 3.5 s"
   ]
  },
  {
   "cell_type": "code",
   "execution_count": 3,
   "id": "94d553b1-3ac0-4d2c-9a4d-415b31882dec",
   "metadata": {
    "tags": []
   },
   "outputs": [
    {
     "name": "stdout",
     "output_type": "stream",
     "text": [
      "(20355, 2124)\n"
     ]
    }
   ],
   "source": [
    "model_name=\"NAL-GDB_MNS_v2.SLC-MFC\"\n",
    "X = X_genomic_traits\n",
    "y1 = genome_to_clusterani.loc[X.index]\n",
    "y2 = df_meta_mfc__genomes[\"id_cluster-mfc\"].loc[X.index].dropna()\n",
    "y1 = y1.loc[y2.index]\n",
    "X = X.loc[y2.index]\n",
    "assert np.all(y1.notnull())\n",
    "assert np.all(y2.notnull())\n",
    "print(X.shape)\n",
    "\n",
    "# optuna_study = joblib.load(\"../commands/checkpoints/NAL-GDB_MNS_v2.SLC-MFC.pkl\")\n",
    "# mns = HierarchicalNicheSpace(\n",
    "#     observation_type=\"genome\",\n",
    "#     feature_type=\"ko\",\n",
    "#     class1_type=\"ani-cluster\",\n",
    "#     class2_type=\"mfc-cluster\",\n",
    "#     name=model_name,\n",
    "#     n_jobs=-1,\n",
    "#     verbose=3,\n",
    "#     **optuna_study.best_params,\n",
    "\n",
    "# )\n",
    "# mns.fit(X, y1, y2)\n",
    "# setattr(mns, \"study_\", optuna_study)\n",
    "# mns.to_file(f\"../data/training/{quality_label}/{model_name}.HierarchicalNicheSpace.pkl\")\n",
    "mns = read_pickle(f\"../data/training/{quality_label}/{model_name}.HierarchicalNicheSpace.pkl\")\n"
   ]
  },
  {
   "cell_type": "code",
   "execution_count": 4,
   "id": "9d952879-1c27-412e-8abb-be807f568b68",
   "metadata": {
    "tags": []
   },
   "outputs": [
    {
     "name": "stderr",
     "output_type": "stream",
     "text": [
      "Running bayesian AutoML to identify relevant features:   0%|          | 0/4 [00:00<?, ?it/s][I 2025-02-21 22:32:44,846] A new study created in memory with name: n1|n_iter=1\n",
      "/home/ec2-user/SageMaker/environments/mns/lib/python3.9/site-packages/clairvoyance/feature_selection.py:811: UserWarning: remove_zero_weighted_features=True and removed 1616/1629 features\n",
      "  warnings.warn(\"remove_zero_weighted_features=True and removed {}/{} features\".format((n_features_initial - n_features_after_zero_removal), n_features_initial))\n"
     ]
    },
    {
     "name": "stdout",
     "output_type": "stream",
     "text": [
      "Synopsis[n1|n_iter=1] Input Features: 1629, Selected Features: 5\n",
      "Initial Training Score: -0.2650102266838029, Feature Selected Training Score: -0.06559781374544464\n",
      "Initial Testing Score: -0.32181051659836485, Feature Selected Testing Score: -0.16245599988811069\n",
      "\n"
     ]
    },
    {
     "name": "stderr",
     "output_type": "stream",
     "text": [
      "/home/ec2-user/SageMaker/environments/mns/lib/python3.9/site-packages/clairvoyance/feature_selection.py:811: UserWarning: remove_zero_weighted_features=True and removed 2/5 features\n",
      "  warnings.warn(\"remove_zero_weighted_features=True and removed {}/{} features\".format((n_features_initial - n_features_after_zero_removal), n_features_initial))\n",
      "Running bayesian AutoML to identify relevant features:  25%|██▌       | 1/4 [00:04<00:14,  4.79s/it]"
     ]
    },
    {
     "name": "stdout",
     "output_type": "stream",
     "text": [
      "Synopsis[n1|n_iter=2] Input Features: 5, Selected Features: 2\n",
      "Initial Training Score: -0.5881066016011288, Feature Selected Training Score: -0.6681123046066088\n",
      "Initial Testing Score: -0.16733930869836544, Feature Selected Testing Score: -0.5376962025434061\n",
      "\n"
     ]
    },
    {
     "name": "stderr",
     "output_type": "stream",
     "text": [
      "/home/ec2-user/SageMaker/environments/mns/lib/python3.9/site-packages/clairvoyance/feature_selection.py:811: UserWarning: remove_zero_weighted_features=True and removed 1608/1629 features\n",
      "  warnings.warn(\"remove_zero_weighted_features=True and removed {}/{} features\".format((n_features_initial - n_features_after_zero_removal), n_features_initial))\n"
     ]
    },
    {
     "name": "stdout",
     "output_type": "stream",
     "text": [
      "Synopsis[n2|n_iter=1] Input Features: 1629, Selected Features: 5\n",
      "Initial Training Score: -0.3007297478506938, Feature Selected Training Score: -0.1787697908351389\n",
      "Initial Testing Score: -0.5417649168174615, Feature Selected Testing Score: -0.35279306880066785\n",
      "\n"
     ]
    },
    {
     "name": "stderr",
     "output_type": "stream",
     "text": [
      "/home/ec2-user/SageMaker/environments/mns/lib/python3.9/site-packages/clairvoyance/feature_selection.py:811: UserWarning: remove_zero_weighted_features=True and removed 3/5 features\n",
      "  warnings.warn(\"remove_zero_weighted_features=True and removed {}/{} features\".format((n_features_initial - n_features_after_zero_removal), n_features_initial))\n",
      "Running bayesian AutoML to identify relevant features:  50%|█████     | 2/4 [00:07<00:07,  3.58s/it]"
     ]
    },
    {
     "name": "stdout",
     "output_type": "stream",
     "text": [
      "Synopsis[n2|n_iter=2] Input Features: 5, Selected Features: 2\n",
      "Initial Training Score: -0.5199372414441529, Feature Selected Training Score: -0.5408117949542893\n",
      "Initial Testing Score: -0.33812649452577737, Feature Selected Testing Score: -0.6554351830635403\n",
      "\n"
     ]
    },
    {
     "name": "stderr",
     "output_type": "stream",
     "text": [
      "/home/ec2-user/SageMaker/environments/mns/lib/python3.9/site-packages/clairvoyance/feature_selection.py:811: UserWarning: remove_zero_weighted_features=True and removed 1615/1629 features\n",
      "  warnings.warn(\"remove_zero_weighted_features=True and removed {}/{} features\".format((n_features_initial - n_features_after_zero_removal), n_features_initial))\n"
     ]
    },
    {
     "name": "stdout",
     "output_type": "stream",
     "text": [
      "Synopsis[n3|n_iter=1] Input Features: 1629, Selected Features: 4\n",
      "Initial Training Score: -0.22923422205250146, Feature Selected Training Score: -0.17492068278281067\n",
      "Initial Testing Score: -0.42290817999517444, Feature Selected Testing Score: -0.2547634634432442\n",
      "\n"
     ]
    },
    {
     "name": "stderr",
     "output_type": "stream",
     "text": [
      "/home/ec2-user/SageMaker/environments/mns/lib/python3.9/site-packages/clairvoyance/feature_selection.py:811: UserWarning: remove_zero_weighted_features=True and removed 1/4 features\n",
      "  warnings.warn(\"remove_zero_weighted_features=True and removed {}/{} features\".format((n_features_initial - n_features_after_zero_removal), n_features_initial))\n",
      "Running bayesian AutoML to identify relevant features:  75%|███████▌  | 3/4 [00:10<00:03,  3.15s/it]"
     ]
    },
    {
     "name": "stdout",
     "output_type": "stream",
     "text": [
      "Synopsis[n3|n_iter=2] Input Features: 4, Selected Features: 2\n",
      "Initial Training Score: -0.17846793071537062, Feature Selected Training Score: -0.23074910908297844\n",
      "Initial Testing Score: -0.24032967281760276, Feature Selected Testing Score: -0.43431851971805335\n",
      "\n"
     ]
    },
    {
     "name": "stderr",
     "output_type": "stream",
     "text": [
      "/home/ec2-user/SageMaker/environments/mns/lib/python3.9/site-packages/clairvoyance/feature_selection.py:811: UserWarning: remove_zero_weighted_features=True and removed 1612/1629 features\n",
      "  warnings.warn(\"remove_zero_weighted_features=True and removed {}/{} features\".format((n_features_initial - n_features_after_zero_removal), n_features_initial))\n"
     ]
    },
    {
     "name": "stdout",
     "output_type": "stream",
     "text": [
      "Synopsis[n4|n_iter=1] Input Features: 1629, Selected Features: 3\n",
      "Initial Training Score: -0.48578870302121, Feature Selected Training Score: -0.4420547962357597\n",
      "Initial Testing Score: -0.991392825971339, Feature Selected Testing Score: -0.9314446203930914\n",
      "\n"
     ]
    },
    {
     "name": "stderr",
     "output_type": "stream",
     "text": [
      "/home/ec2-user/SageMaker/environments/mns/lib/python3.9/site-packages/clairvoyance/feature_selection.py:811: UserWarning: remove_zero_weighted_features=True and removed 1/3 features\n",
      "  warnings.warn(\"remove_zero_weighted_features=True and removed {}/{} features\".format((n_features_initial - n_features_after_zero_removal), n_features_initial))\n",
      "Running bayesian AutoML to identify relevant features: 100%|██████████| 4/4 [00:12<00:00,  3.21s/it]"
     ]
    },
    {
     "name": "stdout",
     "output_type": "stream",
     "text": [
      "Synopsis[n4|n_iter=2] Input Features: 3, Selected Features: 1\n",
      "Initial Training Score: -0.8145018065431143, Feature Selected Training Score: -0.8218699570706413\n",
      "Initial Testing Score: -1.4415746656670565, Feature Selected Testing Score: -1.475122281876827\n",
      "\n"
     ]
    },
    {
     "name": "stderr",
     "output_type": "stream",
     "text": [
      "\n"
     ]
    },
    {
     "data": {
      "text/plain": [
       "============================================================================================\n",
       "EmbeddingAnnotator(Name:None, ObservationType: None, FeatureType: None, EmbeddingType: None)\n",
       "============================================================================================\n",
       "    * estimator: DecisionTreeRegressor(random_state=0)\n",
       "    * param_space: {'criterion': ['categorical', ['squared_error', 'friedman_mse']], 'min_samples_leaf': [<class 'int'>, 2, 50], 'min_samples_split': [<class 'float'>, 0.0, 0.5], 'max_features': ['categorical', ['sqrt', 'log2']], 'max_depth': ['int', 5, 50], 'min_impurity_decrease': [<class 'float'>, 1e-05, 0.01, {'log': True}], 'ccp_alpha': [<class 'float'>, 1e-05, 0.01, {'log': True}]}\n",
       "    * scorer: None\n",
       "    * n_iter: 2\n",
       "    * n_trials: 3\n",
       "    * transformation: None\n",
       "    * [X] m_features = 2124\n",
       "    * [X] n_observations = 1000\n",
       "    * [Y] p_embeddings = 4\n",
       "    * [X_testing] n_observations = 1000\n",
       "    * [AutoML] successful = 4\n",
       "    * [AutoML] failed = 0"
      ]
     },
     "execution_count": 4,
     "metadata": {},
     "output_type": "execute_result"
    }
   ],
   "source": [
    "\n",
    "# Hierarchical Niche Space\n",
    "mns = HierarchicalNicheSpace(\n",
    "    observation_type=\"genome\",\n",
    "    feature_type=\"ko\",\n",
    "    class1_type=\"ani-cluster\",\n",
    "    class2_type=\"mfc-cluster\",\n",
    "    name=model_name,\n",
    "    n_jobs=-1,\n",
    "    verbose=3,\n",
    "    **optuna_study.best_params,\n",
    "\n",
    ")\n",
    "mns.fit(X, y1, y2)\n",
    "\n",
    "# Annotate\n",
    "n = 1000\n",
    "annotator = EmbeddingAnnotator(\n",
    "    estimator=DEFAULT_REGRESSOR, \n",
    "    param_space=DEFAULT_REGRESSOR_PARAM_SPACE, \n",
    "    n_trials=3, \n",
    "    n_iter=2, \n",
    "    n_concurrent_trials=1, \n",
    "    n_jobs=-1,\n",
    ")\n",
    "annotator.fit(\n",
    "    X=mns.X_.astype(int).iloc[:n], \n",
    "    Y=mns.diffusion_coordinates_initial_.iloc[:n,:4],\n",
    "    X_testing=mns.X1_.astype(int).iloc[:n],\n",
    "    Y_testing=mns.diffusion_coordinates_grouped_.iloc[:n,:4],\n",
    ")\n",
    "# model.fit(\n",
    "#     X=mns.X_.astype(int), \n",
    "#     Y=mns.diffusion_coordinates_initial_,\n",
    "#     X_testing=mns.X1_.astype(int),\n",
    "#     Y_testing=mns.diffusion_coordinates_grouped_,\n",
    "# )"
   ]
  },
  {
   "cell_type": "code",
   "execution_count": 5,
   "id": "f729f8de-912e-421c-b740-2395b0cb7acb",
   "metadata": {
    "tags": []
   },
   "outputs": [
    {
     "data": {
      "text/plain": [
       "{'n1': K01230    0.109162\n",
       " K05579    0.331470\n",
       " K24034    0.482158\n",
       " K02146    0.076600\n",
       " K03844    0.000610\n",
       " dtype: float64,\n",
       " 'n2': K01230    0.340492\n",
       " K05579    0.094207\n",
       " K24034    0.502870\n",
       " K14655    0.062085\n",
       " K03392    0.000346\n",
       " dtype: float64,\n",
       " 'n3': K02147    0.245633\n",
       " K24034    0.728959\n",
       " K00967    0.000026\n",
       " K00293    0.025383\n",
       " dtype: float64,\n",
       " 'n4': K03843    0.560723\n",
       " K11175    0.421203\n",
       " K05285    0.018074\n",
       " dtype: float64}"
      ]
     },
     "execution_count": 5,
     "metadata": {},
     "output_type": "execute_result"
    }
   ],
   "source": [
    "annotator.feature_weights_"
   ]
  },
  {
   "cell_type": "code",
   "execution_count": 7,
   "id": "6c445b97-38ec-4b37-b366-cacfe1a79d8c",
   "metadata": {
    "tags": []
   },
   "outputs": [
    {
     "ename": "NameError",
     "evalue": "name 'read_pickle' is not defined",
     "output_type": "error",
     "traceback": [
      "\u001b[0;31m---------------------------------------------------------------------------\u001b[0m",
      "\u001b[0;31mNameError\u001b[0m                                 Traceback (most recent call last)",
      "Cell \u001b[0;32mIn[7], line 2\u001b[0m\n\u001b[1;32m      1\u001b[0m \u001b[38;5;66;03m# annotator.to_file(\"test.pkl\")\u001b[39;00m\n\u001b[0;32m----> 2\u001b[0m annotator \u001b[38;5;241m=\u001b[39m \u001b[43mEmbeddingAnnotator\u001b[49m\u001b[38;5;241;43m.\u001b[39;49m\u001b[43mfrom_file\u001b[49m\u001b[43m(\u001b[49m\u001b[38;5;124;43m\"\u001b[39;49m\u001b[38;5;124;43mtest.pkl\u001b[39;49m\u001b[38;5;124;43m\"\u001b[39;49m\u001b[43m)\u001b[49m\n\u001b[1;32m      3\u001b[0m annotator\n",
      "File \u001b[0;32m~/SageMaker/environments/mns/lib/python3.9/site-packages/metabolic_niche_space/manifold.py:1609\u001b[0m, in \u001b[0;36mEmbeddingAnnotator.from_file\u001b[0;34m(cls, filepath)\u001b[0m\n\u001b[1;32m   1607\u001b[0m \u001b[38;5;129m@classmethod\u001b[39m\n\u001b[1;32m   1608\u001b[0m \u001b[38;5;28;01mdef\u001b[39;00m\u001b[38;5;250m \u001b[39m\u001b[38;5;21mfrom_file\u001b[39m(\u001b[38;5;28mcls\u001b[39m, filepath):\n\u001b[0;32m-> 1609\u001b[0m     \u001b[38;5;28mcls\u001b[39m \u001b[38;5;241m=\u001b[39m \u001b[43mread_pickle\u001b[49m(filepath)\n\u001b[1;32m   1610\u001b[0m     \u001b[38;5;28;01mreturn\u001b[39;00m \u001b[38;5;28mcls\u001b[39m\n",
      "\u001b[0;31mNameError\u001b[0m: name 'read_pickle' is not defined"
     ]
    }
   ],
   "source": [
    "# annotator.to_file(\"test.pkl\")\n",
    "annotator = EmbeddingAnnotator.from_file(\"test.pkl\")\n",
    "annotator"
   ]
  },
  {
   "cell_type": "code",
   "execution_count": 8,
   "id": "70775519-3871-41d4-a07f-1192474003e6",
   "metadata": {
    "tags": []
   },
   "outputs": [
    {
     "data": {
      "text/plain": [
       "===============================================================================================================================================\n",
       "HierarchicalNicheSpace(Name:NAL-GDB_MNS_v2.SLC-MFC, ObservationType: genome, FeatureType: ko, Class1Type: ani-cluster, Class2Type: mfc-cluster)\n",
       "===============================================================================================================================================\n",
       "    * kernel_distance_metric: jaccard\n",
       "    * scoring_distance_metric: euclidean\n",
       "    * niche_prefix: n\n",
       "    * checkpoint_directory: None\n",
       "    * n_neighbors: 18\n",
       "    * n_components: 42\n",
       "    * alpha: 0.3979238602380736\n",
       "    * score: 0.7021093680887902"
      ]
     },
     "execution_count": 8,
     "metadata": {},
     "output_type": "execute_result"
    }
   ],
   "source": [
    "mns"
   ]
  },
  {
   "cell_type": "code",
   "execution_count": null,
   "id": "69b7ae50-eca8-430d-8bce-459f1d907b7a",
   "metadata": {},
   "outputs": [],
   "source": []
  },
  {
   "cell_type": "code",
   "execution_count": 5,
   "id": "3f4519af-ef90-4526-8e5c-e04631b96581",
   "metadata": {
    "tags": []
   },
   "outputs": [],
   "source": [
    "# X_basis, y_basis = mns.get_basis()\n",
    "# qualitative = QualitativeSpace(\n",
    "#     observation_type=\"genome\",\n",
    "#     feature_type=\"mns\",\n",
    "#     class_type=\"mfc-cluster\",\n",
    "#     name=model_name,\n",
    "#     n_jobs=-1,\n",
    "#     verbose=0,\n",
    "#     n_trials=3,\n",
    "#     n_concurrent_trials=1,\n",
    "#     # n_neighbors=[int, 2,10],\n",
    "\n",
    "# )\n",
    "# qualitative.fit(X_basis, y_basis)\n",
    "# # qualitative.param_space\n",
    "\n",
    "# # from matplotlib.colors import LinearSegmentedColormap\n",
    "# # from itertools import cycle\n",
    "\n",
    "# # def create_color_list(n_colors):\n",
    "# #     # List of colormap names to cycle through\n",
    "# #     cmap_names = ['tab20', 'tab20b', 'tab20c', 'Set1', 'Set2', 'Set3', 'Paired']\n",
    "    \n",
    "# #     color_list = []\n",
    "# #     cmap_cycle = cycle(cmap_names)\n",
    "    \n",
    "# #     while len(color_list) < n_colors:\n",
    "# #         cmap = plt.cm.get_cmap(next(cmap_cycle))\n",
    "# #         n_colors_in_cmap = min(cmap.N, n_colors - len(color_list))\n",
    "# #         color_list.extend([cmap(i) for i in np.linspace(0, 1, n_colors_in_cmap)])\n",
    "    \n",
    "# #     return color_list[:n_colors]  # Ensure we return exactly n_colors\n",
    "\n",
    "# # mfc_to_color = dict(zip(y_basis.unique(), create_color_list(y_basis.nunique())))\n",
    "# # colors = y_basis.map(lambda x: mfc_to_color[x])\n",
    "# # qualitative.plot(c=colors)\n"
   ]
  },
  {
   "cell_type": "code",
   "execution_count": null,
   "id": "5562b93b-fb25-46b5-9ccc-142f6726b423",
   "metadata": {
    "tags": []
   },
   "outputs": [],
   "source": []
  },
  {
   "cell_type": "code",
   "execution_count": null,
   "id": "e50afe02-839e-4c20-8ece-cda0cc4bc03a",
   "metadata": {
    "tags": []
   },
   "outputs": [],
   "source": []
  },
  {
   "cell_type": "code",
   "execution_count": 6,
   "id": "f29b1af8-6458-406b-a222-ece61e7e20eb",
   "metadata": {
    "tags": []
   },
   "outputs": [],
   "source": [
    "# %%time\n",
    "# #     params = {\n",
    "# #         \"criterion\": trial.suggest_categorical(\"criterion\", [\"squared_error\", \"friedman_mse\", \"absolute_error\"]),\n",
    "# #         \"splitter\": trial.suggest_categorical(\"splitter\", [\"best\", \"random\"]),\n",
    "# #         \"max_depth\": trial.suggest_int(\"max_depth\", 5, 50, step=5),  # Limit depth to prevent overfitting\n",
    "# #         \"min_samples_split\": trial.suggest_int(\"min_samples_split\", 2, 50, step=2),  # Ensure enough samples in each split\n",
    "# #         \"min_samples_leaf\": trial.suggest_int(\"min_samples_leaf\", 1, 20),  # Prevent overfitting on sparse data\n",
    "# #         \"max_features\": trial.suggest_categorical(\"max_features\", [\"sqrt\", \"log2\", None]),  # Feature selection\n",
    "# #         \"min_impurity_decrease\": trial.suggest_loguniform(\"min_impurity_decrease\", 1e-7, 1e-2),  # Encourage meaningful splits\n",
    "# #         \"ccp_alpha\": trial.suggest_loguniform(\"ccp_alpha\", 1e-7, 1e-2)  # Pruning for tree regularization\n",
    "# #     }\n",
    "    \n",
    "# # Load modules\n",
    "# from sklearn.tree import DecisionTreeRegressor\n",
    "# from sklearn.model_selection import train_test_split\n",
    "# from sklearn.metrics import mean_squared_error\n",
    "# from clairvoyance.bayesian import BayesianClairvoyanceRegression\n",
    "# from sklearn.metrics import make_scorer\n",
    "# import warnings\n",
    "\n",
    "\n",
    "# # Let's fit the model but leave a held out testing set\n",
    "# id_niche = \"n1\"\n",
    "# X_training = mns.X_.astype(int)\n",
    "# y_training = mns.diffusion_coordinates_initial_[\"n1\"].copy()\n",
    "\n",
    "# X_testing = mns.X1_.astype(int)\n",
    "# y_testing = mns.diffusion_coordinates_grouped_[\"n1\"].copy()\n",
    "# assert np.all(X_training.index == y_training.index)\n",
    "# assert np.all(X_testing.index == y_testing.index)\n",
    "\n",
    "# # X_training, X_testing, y_training, y_testing = train_test_split(X.astype(int), y, random_state=0, test_size=0.1)\n",
    "\n",
    "# # Define the parameter space\n",
    "# estimator = DecisionTreeRegressor(random_state=0)\n",
    "# param_space = {\n",
    "#     \"criterion\":[\"categorical\", [\"squared_error\", \"friedman_mse\"]],\n",
    "#     \"min_samples_leaf\":[int, 2, 50], \n",
    "#     \"min_samples_split\": [float, 0.0, 0.5], \n",
    "#     \"max_features\":[\"categorical\", [\"sqrt\", \"log2\"]],\n",
    "#     \"max_depth\":[\"int\", 5, 50], \n",
    "#     \"min_impurity_decrease\": [float, 1e-5, 1e-2, {\"log\":True}],  # Pruning for tree regularization\n",
    "#     \"ccp_alpha\": [float, 1e-5, 1e-2, {\"log\":True}],  \n",
    "# }\n",
    "# scorer = make_scorer(mean_squared_error, greater_is_better=False)\n",
    "\n",
    "# # Fit the AutoML model\n",
    "# model = BayesianClairvoyanceRegression(estimator, param_space,  n_iter=3, n_trials=10, feature_selection_method=\"addition\", n_jobs=-1, verbose=0, feature_selection_performance_threshold=0.0)\n",
    "\n",
    "# with warnings.catch_warnings():\n",
    "#     warnings.simplefilter(\"ignore\", FutureWarning)\n",
    "#     # Code that triggers the warning\n",
    "#     df_results = model.fit_transform(X_training, y_training, cv=5, optimize_with_training_and_testing=\"auto\", X_testing=X_testing, y_testing=y_testing)\n"
   ]
  },
  {
   "cell_type": "code",
   "execution_count": null,
   "id": "b1f5fd4e-7a24-476d-89f2-fe0c6887267a",
   "metadata": {
    "tags": []
   },
   "outputs": [],
   "source": []
  },
  {
   "cell_type": "code",
   "execution_count": 7,
   "id": "bae27593-e2e7-4f27-9906-88138c8d4f08",
   "metadata": {
    "tags": []
   },
   "outputs": [],
   "source": [
    "# best_iter = model.results_.sort_values([\"feature_selected_training_score\", \"feature_selected_testing_score\"], ascending=[False, False]).iloc[0]\n",
    "# X_query = X.loc[:,best_iter[\"selected_features\"]].astype(int)\n",
    "# estimator = best_iter[\"best_estimator\"]\n",
    "# plt.scatter(estimator.predict(X_query), y)\n",
    "# best_iter"
   ]
  },
  {
   "cell_type": "code",
   "execution_count": null,
   "id": "740688f4-ace9-4cdc-8de4-569e62cb5180",
   "metadata": {
    "tags": []
   },
   "outputs": [],
   "source": []
  },
  {
   "cell_type": "code",
   "execution_count": 39,
   "id": "83344c5a-c6df-4127-8059-d2cf23110078",
   "metadata": {
    "tags": []
   },
   "outputs": [],
   "source": [
    "# import joblib\n",
    "# from sklearn.tree import DecisionTreeRegressor\n",
    "# from clairvoyance.bayesian import (\n",
    "#     BayesianClairvoyanceRegression,\n",
    "# )\n",
    "\n",
    "# # import os\n",
    "# # import sys\n",
    "# # import tempfile\n",
    "# # import contextlib\n",
    "\n",
    "# # class SuppressStderr:\n",
    "# #     def __enter__(self):\n",
    "# #         \"\"\"Redirect stderr to a temporary file to suppress it.\"\"\"\n",
    "# #         self.null_fd = os.open(os.devnull, os.O_WRONLY)  # Open /dev/null\n",
    "# #         self.saved_stderr = os.dup(sys.stderr.fileno())  # Backup stderr\n",
    "# #         os.dup2(self.null_fd, sys.stderr.fileno())  # Redirect stderr to /dev/null\n",
    "\n",
    "# #     def __exit__(self, exc_type, exc_value, traceback):\n",
    "# #         \"\"\"Restore stderr.\"\"\"\n",
    "# #         os.dup2(self.saved_stderr, sys.stderr.fileno())  # Restore stderr\n",
    "# #         os.close(self.saved_stderr)  # Close backup\n",
    "# #         os.close(self.null_fd)  # Close /dev/null\n",
    "\n",
    "# import functools\n",
    "# class Suppress(object):\n",
    "#     # Adapted from the following source:\n",
    "#     # https://stackoverflow.com/questions/50691545/how-to-use-a-with-statement-to-suppress-sys-stdout-or-sys-stderr\n",
    "#     def __init__(self, show_stdout=False, show_stderr=False):\n",
    "#         self.show_stdout = show_stdout\n",
    "#         self.show_stderr = show_stderr\n",
    "#         self.original_stdout = None\n",
    "#         self.original_stderr = None\n",
    "\n",
    "#     def __enter__(self):\n",
    "#         devnull = open(os.devnull, \"w\")\n",
    "\n",
    "#         # Suppress streams\n",
    "#         if not self.show_stdout:\n",
    "#             self.original_stdout = sys.stdout\n",
    "#             sys.stdout = devnull\n",
    "\n",
    "#         if not self.show_stderr:\n",
    "#             self.original_stderr = sys.stderr\n",
    "#             sys.stderr = devnull\n",
    "\n",
    "#     def __exit__(self, *args, **kwargs):\n",
    "#         # Restore streams\n",
    "#         if not self.show_stdout:\n",
    "#             sys.stdout = self.original_stdout\n",
    "\n",
    "#         if not self.show_stderr:\n",
    "#             sys.stderr = self.original_stderr\n",
    "            \n",
    "#     def __call__(self, func):\n",
    "#         @functools.wraps(func)\n",
    "#         def decorated(*args, **kwargs):\n",
    "#             with self:\n",
    "#                 return func(*args, **kwargs)\n",
    "#         return decorated\n",
    "    \n",
    "    \n",
    "# DEFAULT_REGRESSOR_PARAM_SPACE = {\n",
    "#     \"criterion\":[\"categorical\", [\"squared_error\", \"friedman_mse\"]],\n",
    "#     \"min_samples_leaf\":[int, 2, 50], \n",
    "#     \"min_samples_split\": [float, 0.0, 0.5], \n",
    "#     \"max_features\":[\"categorical\", [\"sqrt\", \"log2\"]],\n",
    "#     \"max_depth\":[\"int\", 5, 50], \n",
    "#     \"min_impurity_decrease\": [float, 1e-5, 1e-2, {\"log\":True}],  # Pruning for tree regularization\n",
    "#     \"ccp_alpha\": [float, 1e-5, 1e-2, {\"log\":True}],  \n",
    "# }\n",
    "# DEFAULT_REGRESSOR = DecisionTreeRegressor(random_state=0)\n",
    "\n",
    "# class EmbeddingAnnotator(object):\n",
    "#     def __init__(\n",
    "#         self, \n",
    "#         # Clairvoyance\n",
    "#         estimator=DEFAULT_REGRESSOR,\n",
    "#         param_space:dict=DEFAULT_REGRESSOR_PARAM_SPACE,\n",
    "#         scorer=None,\n",
    "#         n_iter=5,\n",
    "#         transformation=None,\n",
    "#         feature_selection_performance_threshold=0.0, \n",
    "#         training_testing_weights = [1.0,1.0],\n",
    "#         remove_zero_weighted_features=True,\n",
    "#         maximum_tries_to_remove_zero_weighted_features=100,\n",
    "\n",
    "#         # Labeling\n",
    "#         name:str=None,\n",
    "#         observation_type:str=None,\n",
    "#         feature_type:str=None,\n",
    "#         embedding_type:str=None,\n",
    "        \n",
    "#         # Optuna\n",
    "#         n_trials=50,\n",
    "#         n_concurrent_trials:int=1,\n",
    "#         objective_direction=\"maximize\",\n",
    "#         study_timeout=None,\n",
    "#         study_callbacks=None,\n",
    "        \n",
    "#         # Utility\n",
    "#         early_stopping=5,\n",
    "#         random_state=0,\n",
    "#         n_jobs=1,\n",
    "#         verbose=1,\n",
    "#         save_automl=False,\n",
    "#         ):\n",
    "\n",
    "#         # Clairvoyance\n",
    "#         self.estimator=estimator\n",
    "#         self.param_space=param_space\n",
    "#         self.scorer = scorer\n",
    "#         self.n_iter = n_iter\n",
    "#         self.transformation = transformation\n",
    "#         self.feature_selection_performance_threshold = feature_selection_performance_threshold\n",
    "#         self.training_testing_weights = training_testing_weights\n",
    "#         self.remove_zero_weighted_features = remove_zero_weighted_features\n",
    "#         self.maximum_tries_to_remove_zero_weighted_features = maximum_tries_to_remove_zero_weighted_features\n",
    "\n",
    "#         # Labeling\n",
    "#         self.name = name\n",
    "#         self.observation_type = observation_type\n",
    "#         self.feature_type = feature_type\n",
    "#         self.embedding_type = embedding_type\n",
    "        \n",
    "#         # Optuna\n",
    "#         self.n_trials = n_trials\n",
    "#         self.n_concurrent_trials = n_concurrent_trials\n",
    "\n",
    "#         self.objective_direction = objective_direction\n",
    "#         self.study_timeout = study_timeout\n",
    "#         self.study_callbacks = study_callbacks\n",
    "#         # self.stream = stream\n",
    "        \n",
    "#         # Utility\n",
    "#         self.early_stopping = early_stopping\n",
    "#         self.random_state = random_state\n",
    "#         self.n_jobs = n_jobs\n",
    "#         self.verbose = verbose\n",
    "#         self.save_automl = save_automl\n",
    "#         self.is_fitted = False\n",
    "\n",
    "#     def _run_regression_automl(\n",
    "#         self,\n",
    "#         X,\n",
    "#         Y,\n",
    "#         id_column,\n",
    "#         cv,\n",
    "#         X_testing,\n",
    "#         Y_testing,\n",
    "#         optimize_with_training_and_testing,\n",
    "#         **kws,\n",
    "#         ):\n",
    "#         y = Y[id_column]\n",
    "#         y_testing = None if Y_testing is None else Y_testing[id_column]\n",
    "        \n",
    "#         # Fit the AutoML model\n",
    "#         model = BayesianClairvoyanceRegression(\n",
    "#             estimator=self.estimator, \n",
    "#             param_space=self.param_space,  \n",
    "#             study_prefix=f\"{id_column}|n_iter=\",\n",
    "#             n_iter=self.n_iter, \n",
    "#             n_trials=self.n_trials, \n",
    "#             feature_selection_method=\"addition\", \n",
    "#             n_jobs=self.n_jobs, \n",
    "#             verbose=0,\n",
    "#             feature_selection_performance_threshold=self.feature_selection_performance_threshold,\n",
    "#             transformation=self.transformation,\n",
    "#             training_testing_weights=self.training_testing_weights,\n",
    "#             remove_zero_weighted_features=self.remove_zero_weighted_features,\n",
    "#             maximum_tries_to_remove_zero_weighted_features=self.maximum_tries_to_remove_zero_weighted_features,\n",
    "#             early_stopping=self.early_stopping,\n",
    "#             random_state=self.random_state,\n",
    "#             name=id_column,\n",
    "#             observation_type=self.observation_type,\n",
    "#             feature_type=self.feature_type,\n",
    "#             target_type=self.embedding_type,\n",
    "#         )\n",
    "\n",
    "#         # with SuppressStderr():\n",
    "#         #     with warnings.catch_warnings():\n",
    "#         #         warnings.simplefilter(\"ignore\", FutureWarning)\n",
    "#         #         warnings.filterwarnings(\"ignore\", message=\"is_sparse is deprecated\", category=DeprecationWarning)\n",
    "#         try:\n",
    "#             model.fit(\n",
    "#                 X=X, \n",
    "#                 y=y, \n",
    "#                 cv=cv, \n",
    "#                 optimize_with_training_and_testing=optimize_with_training_and_testing, \n",
    "#                 X_testing=X_testing, \n",
    "#                 y_testing=y_testing,\n",
    "#             )\n",
    "            \n",
    "#         except AssertionError as e:\n",
    "#             print(f\"Model[{id_column}] AutoML failed\", file=sys.stderr)\n",
    "            \n",
    "#         return model\n",
    "\n",
    "        \n",
    "#     def fit(\n",
    "#         self,\n",
    "#         X:pd.DataFrame,\n",
    "#         Y:pd.DataFrame,\n",
    "#         cv=3,\n",
    "#         X_testing:pd.DataFrame=None,\n",
    "#         Y_testing:pd.DataFrame=None,\n",
    "#         optimize_with_training_and_testing=\"auto\", \n",
    "#         sort_order = [\"testing\", \"training\"],\n",
    "#         **kws,\n",
    "#         ):\n",
    "#         # Copy\n",
    "#         self.X_ = X.copy()\n",
    "#         self.Y_ = Y.copy()\n",
    "#         if X_testing is not None:\n",
    "#             if Y_testing is None:\n",
    "#                 raise Exception(\"If X_testing is provided, user must provide Y_testing\")\n",
    "#             self.X_testing_ = X_testing.copy()\n",
    "#             self.Y_testing_ = Y_testing.copy()\n",
    "#         # Parallel(n_jobs=2)(delayed(sqrt)(i ** 2) for i in range(10))\n",
    "#         progressbar_message = f\"Running bayesian AutoML to identify relevant features\"\n",
    "#         # optuna.logging.set_verbosity(optuna.logging.CRITICAL + 1)\n",
    "\n",
    "#         # self.models_ = joblib.Parallel(n_jobs=self.n_concurrent_trials, prefer=\"threads\")(\n",
    "#         #         joblib.delayed(self._run_regression_automl)(X, Y, id_column, cv, X_testing, Y_testing, optimize_with_training_and_testing, **kws) for id_column in tqdm(Y.columns, desc=progressbar_message, total=Y.shape[1]) # , position=0, leave=True)\n",
    "#         #     )\n",
    "#         if set(sort_order) != set([\"testing\", \"training\"]):\n",
    "#             raise ValueError(\"sort_order must contain both [testing, training]\")\n",
    "            \n",
    "#         if self.save_automl:\n",
    "#             self.automl_models_ = dict()\n",
    "#         else:\n",
    "#             self.automl_results_ = dict()\n",
    "#         self.automl_status_ok_ = dict()\n",
    "#         self.best_iteration_ = dict()\n",
    "#         self.feature_weights_ = dict()\n",
    "#         self.selected_features_ = dict()\n",
    "#         self.estimators_ = dict()\n",
    "#         self.scores_ = defaultdict(dict)\n",
    "#         self.studies_ = dict()\n",
    "        \n",
    "\n",
    "#         for id_column in tqdm(Y.columns, desc=progressbar_message, total=Y.shape[1], position=0, leave=True):\n",
    "#             model_automl = self._run_regression_automl(\n",
    "#                 X=X, \n",
    "#                 Y=Y, \n",
    "#                 id_column=id_column, \n",
    "#                 cv=cv, \n",
    "#                 X_testing=X_testing, \n",
    "#                 Y_testing=Y_testing, \n",
    "#                 optimize_with_training_and_testing=optimize_with_training_and_testing, \n",
    "#                 **kws,\n",
    "#             )\n",
    "#             if self.save_automl:\n",
    "#                 self.automl_models_[id_column] = model_automl\n",
    "#             else:\n",
    "#                 self.automl_results_[id_column] = model_automl.results_.to_dict(into=OrderedDict)\n",
    "\n",
    "#             is_ok = model_automl.is_fitted\n",
    "#             self.automl_status_ok_[id_column] = is_ok\n",
    "#             if is_ok:\n",
    "#                 best_iteration = model_automl.results_.sort_values([f\"feature_selected_{sort_order[0]}_score\", f\"feature_selected_{sort_order[1]}_score\"], ascending=[False, False]).iloc[0]\n",
    "#                 self.selected_features_[id_column] = best_iteration[\"selected_features\"]\n",
    "#                 self.feature_weights_[id_column] = model_automl.feature_weights_[best_iteration.name]\n",
    "#                 self.estimators_[id_column] = best_iteration[\"best_estimator\"]\n",
    "#                 self.best_iteration_[id_column] = best_iteration.name\n",
    "#                 self.scores_[id_column][\"training\"] = best_iteration[\"feature_selected_training_score\"]\n",
    "#                 self.scores_[id_column][\"testing\"] = best_iteration[\"feature_selected_testing_score\"]\n",
    "#                 self.studies_[id_column] = model_automl.studies_\n",
    "#             del model_automl\n",
    "#         self.is_fitted = True\n",
    "#         return self\n",
    "\n",
    "#     @classmethod\n",
    "#     def from_file(cls, filepath):\n",
    "#         cls = read_pickle(filepath)\n",
    "#         return cls\n",
    "\n",
    "#     def to_file(self, filepath):\n",
    "#         write_pickle(self, filepath)\n",
    "\n",
    "#     # =======\n",
    "#     # Built-in\n",
    "#     # =======\n",
    "#     def __repr__(self):\n",
    "#         pad = 4\n",
    "#         header = format_header(f\"{self.__class__.__name__}(Name:{self.name}, ObservationType: {self.observation_type}, FeatureType: {self.feature_type}, EmbeddingType: {self.embedding_type})\", line_character=\"=\")\n",
    "\n",
    "#         n = len(header.split(\"\\n\")[0])\n",
    "#         fields = [\n",
    "#             header,\n",
    "#             pad*\" \" + \"* estimator: {}\".format(self.estimator),\n",
    "#             pad*\" \" + \"* param_space: {}\".format(self.param_space),\n",
    "#             pad*\" \" + \"* scorer: {}\".format(self.scorer),\n",
    "#             pad*\" \" + \"* n_iter: {}\".format(self.n_iter),\n",
    "#             pad*\" \" + \"* n_trials: {}\".format(self.n_trials),\n",
    "#             pad*\" \" + \"* transformation: {}\".format(self.transformation),\n",
    "\n",
    "\n",
    "#         ]\n",
    "                                                  \n",
    "#         if self.is_fitted:\n",
    "#             n_successful = sum(self.automl_status_ok_.values())\n",
    "#             n_failed = len(self.automl_status_ok_.values()) - n_successful\n",
    "\n",
    "#             fields += [\n",
    "#             pad*\" \" + \"* [X] m_features = {}\".format(self.X_.shape[1]),\n",
    "#             pad*\" \" + \"* [X] n_observations = {}\".format(self.X_.shape[0]),\n",
    "#             pad*\" \" + \"* [Y] p_embeddings = {}\".format(self.Y_.shape[1]),\n",
    "#             ]\n",
    "            \n",
    "#             if hasattr(self, \"X_testing_\"):\n",
    "#                 fields += [\n",
    "#                 pad*\" \" + \"* [X_testing] n_observations = {}\".format(self.X_testing_.shape[0]),\n",
    "#                 ]\n",
    "                \n",
    "#             fields += [\n",
    "#                 pad*\" \" + \"* [AutoML] successful = {}\".format(n_successful),\n",
    "#                 pad*\" \" + \"* [AutoML] failed = {}\".format(n_failed),\n",
    "\n",
    "#                 ]\n",
    "\n",
    "#         return \"\\n\".join(fields)\n",
    "    "
   ]
  },
  {
   "cell_type": "code",
   "execution_count": 40,
   "id": "ca70424b-33a0-476d-9257-357f7d28a984",
   "metadata": {
    "tags": []
   },
   "outputs": [],
   "source": [
    "#         # Clairvoyance\n",
    "#         estimator=DEFAUL_REGRESSOR,\n",
    "#         param_space:dict=DEFAULT_REGRESSOR_PARAM_SPACE,\n",
    "#         scorer=None,\n",
    "#         n_iter=5,\n",
    "#         transformation=None,\n",
    "#         feature_selection_performance_threshold=0.0, \n",
    "#         training_testing_weights = [1.0,1.0],\n",
    "#         remove_zero_weighted_features=True,\n",
    "#         maximum_tries_to_remove_zero_weighted_features=100,\n",
    "\n",
    "#         # Labeling\n",
    "#         name:str=None,\n",
    "#         observation_type:str=None,\n",
    "#         feature_type:str=None,\n",
    "#         embedding_type:str=None,\n",
    "        \n",
    "#         # Optuna\n",
    "#         n_trials=50,\n",
    "#         n_concurrent_trials:int=1,\n",
    "#         objective_direction=\"maximize\",\n",
    "#         study_timeout=None,\n",
    "#         study_callbacks=None,\n",
    "        \n",
    "#         # Utility\n",
    "#         early_stopping=5,\n",
    "#         random_state=0,\n",
    "#         n_jobs=1,\n",
    "#         verbose=1,\n",
    "#         save_automl=False,\n",
    "#         ):"
   ]
  },
  {
   "cell_type": "code",
   "execution_count": 41,
   "id": "c37d97ad-2735-4abf-8e08-2ea577fd4bff",
   "metadata": {
    "tags": []
   },
   "outputs": [
    {
     "name": "stderr",
     "output_type": "stream",
     "text": [
      "Running bayesian AutoML to identify relevant features:   0%|          | 0/4 [00:00<?, ?it/s]/home/ec2-user/SageMaker/environments/mns/lib/python3.9/site-packages/clairvoyance/feature_selection.py:811: UserWarning: remove_zero_weighted_features=True and removed 1616/1629 features\n",
      "  warnings.warn(\"remove_zero_weighted_features=True and removed {}/{} features\".format((n_features_initial - n_features_after_zero_removal), n_features_initial))\n"
     ]
    },
    {
     "name": "stdout",
     "output_type": "stream",
     "text": [
      "Synopsis[n1|n_iter=1] Input Features: 1629, Selected Features: 5\n",
      "Initial Training Score: -0.2650102266838029, Feature Selected Training Score: -0.06559781374544464\n",
      "Initial Testing Score: -0.32181051659836485, Feature Selected Testing Score: -0.16245599988811069\n",
      "\n"
     ]
    },
    {
     "name": "stderr",
     "output_type": "stream",
     "text": [
      "/home/ec2-user/SageMaker/environments/mns/lib/python3.9/site-packages/clairvoyance/feature_selection.py:811: UserWarning: remove_zero_weighted_features=True and removed 2/5 features\n",
      "  warnings.warn(\"remove_zero_weighted_features=True and removed {}/{} features\".format((n_features_initial - n_features_after_zero_removal), n_features_initial))\n",
      "Running bayesian AutoML to identify relevant features:  25%|██▌       | 1/4 [00:03<00:09,  3.26s/it]"
     ]
    },
    {
     "name": "stdout",
     "output_type": "stream",
     "text": [
      "Synopsis[n1|n_iter=2] Input Features: 5, Selected Features: 2\n",
      "Initial Training Score: -0.5881066016011288, Feature Selected Training Score: -0.6681123046066088\n",
      "Initial Testing Score: -0.16733930869836544, Feature Selected Testing Score: -0.5376962025434061\n",
      "\n"
     ]
    },
    {
     "name": "stderr",
     "output_type": "stream",
     "text": [
      "/home/ec2-user/SageMaker/environments/mns/lib/python3.9/site-packages/clairvoyance/feature_selection.py:811: UserWarning: remove_zero_weighted_features=True and removed 1608/1629 features\n",
      "  warnings.warn(\"remove_zero_weighted_features=True and removed {}/{} features\".format((n_features_initial - n_features_after_zero_removal), n_features_initial))\n"
     ]
    },
    {
     "name": "stdout",
     "output_type": "stream",
     "text": [
      "Synopsis[n2|n_iter=1] Input Features: 1629, Selected Features: 5\n",
      "Initial Training Score: -0.3007297478506938, Feature Selected Training Score: -0.1787697908351389\n",
      "Initial Testing Score: -0.5417649168174615, Feature Selected Testing Score: -0.35279306880066785\n",
      "\n"
     ]
    },
    {
     "name": "stderr",
     "output_type": "stream",
     "text": [
      "/home/ec2-user/SageMaker/environments/mns/lib/python3.9/site-packages/clairvoyance/feature_selection.py:811: UserWarning: remove_zero_weighted_features=True and removed 3/5 features\n",
      "  warnings.warn(\"remove_zero_weighted_features=True and removed {}/{} features\".format((n_features_initial - n_features_after_zero_removal), n_features_initial))\n",
      "Running bayesian AutoML to identify relevant features:  50%|█████     | 2/4 [00:06<00:06,  3.30s/it]"
     ]
    },
    {
     "name": "stdout",
     "output_type": "stream",
     "text": [
      "Synopsis[n2|n_iter=2] Input Features: 5, Selected Features: 2\n",
      "Initial Training Score: -0.5199372414441529, Feature Selected Training Score: -0.5408117949542893\n",
      "Initial Testing Score: -0.33812649452577737, Feature Selected Testing Score: -0.6554351830635403\n",
      "\n"
     ]
    },
    {
     "name": "stderr",
     "output_type": "stream",
     "text": [
      "/home/ec2-user/SageMaker/environments/mns/lib/python3.9/site-packages/clairvoyance/feature_selection.py:811: UserWarning: remove_zero_weighted_features=True and removed 1615/1629 features\n",
      "  warnings.warn(\"remove_zero_weighted_features=True and removed {}/{} features\".format((n_features_initial - n_features_after_zero_removal), n_features_initial))\n"
     ]
    },
    {
     "name": "stdout",
     "output_type": "stream",
     "text": [
      "Synopsis[n3|n_iter=1] Input Features: 1629, Selected Features: 4\n",
      "Initial Training Score: -0.22923422205250146, Feature Selected Training Score: -0.17492068278281067\n",
      "Initial Testing Score: -0.42290817999517444, Feature Selected Testing Score: -0.2547634634432442\n",
      "\n"
     ]
    },
    {
     "name": "stderr",
     "output_type": "stream",
     "text": [
      "/home/ec2-user/SageMaker/environments/mns/lib/python3.9/site-packages/clairvoyance/feature_selection.py:811: UserWarning: remove_zero_weighted_features=True and removed 1/4 features\n",
      "  warnings.warn(\"remove_zero_weighted_features=True and removed {}/{} features\".format((n_features_initial - n_features_after_zero_removal), n_features_initial))\n",
      "Running bayesian AutoML to identify relevant features:  75%|███████▌  | 3/4 [00:09<00:03,  3.29s/it]"
     ]
    },
    {
     "name": "stdout",
     "output_type": "stream",
     "text": [
      "Synopsis[n3|n_iter=2] Input Features: 4, Selected Features: 2\n",
      "Initial Training Score: -0.17846793071537062, Feature Selected Training Score: -0.23074910908297844\n",
      "Initial Testing Score: -0.24032967281760276, Feature Selected Testing Score: -0.43431851971805335\n",
      "\n"
     ]
    },
    {
     "name": "stderr",
     "output_type": "stream",
     "text": [
      "/home/ec2-user/SageMaker/environments/mns/lib/python3.9/site-packages/clairvoyance/feature_selection.py:811: UserWarning: remove_zero_weighted_features=True and removed 1612/1629 features\n",
      "  warnings.warn(\"remove_zero_weighted_features=True and removed {}/{} features\".format((n_features_initial - n_features_after_zero_removal), n_features_initial))\n"
     ]
    },
    {
     "name": "stdout",
     "output_type": "stream",
     "text": [
      "Synopsis[n4|n_iter=1] Input Features: 1629, Selected Features: 3\n",
      "Initial Training Score: -0.48578870302121, Feature Selected Training Score: -0.4420547962357597\n",
      "Initial Testing Score: -0.991392825971339, Feature Selected Testing Score: -0.9314446203930914\n",
      "\n"
     ]
    },
    {
     "name": "stderr",
     "output_type": "stream",
     "text": [
      "/home/ec2-user/SageMaker/environments/mns/lib/python3.9/site-packages/clairvoyance/feature_selection.py:811: UserWarning: remove_zero_weighted_features=True and removed 1/3 features\n",
      "  warnings.warn(\"remove_zero_weighted_features=True and removed {}/{} features\".format((n_features_initial - n_features_after_zero_removal), n_features_initial))\n",
      "Running bayesian AutoML to identify relevant features: 100%|██████████| 4/4 [00:13<00:00,  3.30s/it]"
     ]
    },
    {
     "name": "stdout",
     "output_type": "stream",
     "text": [
      "Synopsis[n4|n_iter=2] Input Features: 3, Selected Features: 1\n",
      "Initial Training Score: -0.8145018065431143, Feature Selected Training Score: -0.8218699570706413\n",
      "Initial Testing Score: -1.4415746656670565, Feature Selected Testing Score: -1.475122281876827\n",
      "\n"
     ]
    },
    {
     "name": "stderr",
     "output_type": "stream",
     "text": [
      "\n"
     ]
    },
    {
     "data": {
      "text/plain": [
       "============================================================================================\n",
       "EmbeddingAnnotator(Name:None, ObservationType: None, FeatureType: None, EmbeddingType: None)\n",
       "============================================================================================\n",
       "    * estimator: DecisionTreeRegressor(random_state=0)\n",
       "    * param_space: {'criterion': ['categorical', ['squared_error', 'friedman_mse']], 'min_samples_leaf': [<class 'int'>, 2, 50], 'min_samples_split': [<class 'float'>, 0.0, 0.5], 'max_features': ['categorical', ['sqrt', 'log2']], 'max_depth': ['int', 5, 50], 'min_impurity_decrease': [<class 'float'>, 1e-05, 0.01, {'log': True}], 'ccp_alpha': [<class 'float'>, 1e-05, 0.01, {'log': True}]}\n",
       "    * scorer: None\n",
       "    * n_iter: 2\n",
       "    * n_trials: 3\n",
       "    * transformation: None\n",
       "    * [X] m_features = 2124\n",
       "    * [X] n_observations = 1000\n",
       "    * [Y] p_embeddings = 4\n",
       "    * [X_testing] n_observations = 1000\n",
       "    * [AutoML] successful = 4\n",
       "    * [AutoML] failed = 0"
      ]
     },
     "execution_count": 41,
     "metadata": {},
     "output_type": "execute_result"
    }
   ],
   "source": [
    "# # Let's fit the model but leave a held out testing set\n",
    "# id_niche = \"n1\"\n",
    "# X_training = mns.X_.astype(int)\n",
    "# y_training = mns.diffusion_coordinates_initial_[\"n1\"].copy()\n",
    "\n",
    "# X_testing = mns.X1_.astype(int)\n",
    "# y_testing = mns.diffusion_coordinates_grouped_[\"n1\"].copy()\n",
    "# assert np.all(X_training.index == y_training.index)\n",
    "# assert np.all(X_testing.index == y_testing.index)\n",
    "\n",
    "DEFAULT_REGRESSOR_PARAM_SPACE = {\n",
    "    \"criterion\":[\"categorical\", [\"squared_error\", \"friedman_mse\"]],\n",
    "    \"min_samples_leaf\":[int, 2, 50], \n",
    "    \"min_samples_split\": [float, 0.0, 0.5], \n",
    "    \"max_features\":[\"categorical\", [\"sqrt\", \"log2\"]],\n",
    "    \"max_depth\":[\"int\", 5, 50], \n",
    "    \"min_impurity_decrease\": [float, 1e-5, 1e-2, {\"log\":True}],  # Pruning for tree regularization\n",
    "    \"ccp_alpha\": [float, 1e-5, 1e-2, {\"log\":True}],  \n",
    "}\n",
    "DEFAULT_REGRESSOR = DecisionTreeRegressor(random_state=0)\n",
    "\n",
    "\n",
    "n = 1000\n",
    "\n",
    "model = EmbeddingAnnotator(estimator=DEFAULT_REGRESSOR, param_space=DEFAULT_REGRESSOR_PARAM_SPACE, n_trials=3, n_iter=2, n_concurrent_trials=1, n_jobs=-1)\n",
    "model.fit(\n",
    "    X=mns.X_.astype(int).iloc[:n], \n",
    "    Y=mns.diffusion_coordinates_initial_.iloc[:n,:4],\n",
    "    X_testing=mns.X1_.astype(int).iloc[:n],\n",
    "    Y_testing=mns.diffusion_coordinates_grouped_.iloc[:n,:4],\n",
    ")\n",
    "# model.fit(\n",
    "#     X=mns.X_.astype(int), \n",
    "#     Y=mns.diffusion_coordinates_initial_,\n",
    "#     X_testing=mns.X1_.astype(int),\n",
    "#     Y_testing=mns.diffusion_coordinates_grouped_,\n",
    "# )\n",
    "\n",
    "    "
   ]
  },
  {
   "cell_type": "code",
   "execution_count": 48,
   "id": "0898f265-7268-4f70-9419-3eed4722e8eb",
   "metadata": {
    "tags": []
   },
   "outputs": [
    {
     "data": {
      "text/plain": [
       "True"
      ]
     },
     "execution_count": 48,
     "metadata": {},
     "output_type": "execute_result"
    }
   ],
   "source": [
    "np.all(mns.diffusion_coordinates_grouped_.index == mns.X1_.index)"
   ]
  },
  {
   "cell_type": "code",
   "execution_count": 25,
   "id": "a01aa05d-6602-4182-91b7-caa6c54e3fa0",
   "metadata": {
    "tags": []
   },
   "outputs": [
    {
     "data": {
      "text/plain": [
       "OrderedDict([('best_hyperparameters',\n",
       "              OrderedDict([('n1|n_iter=1',\n",
       "                            {'criterion': 'friedman_mse',\n",
       "                             'min_samples_leaf': 2,\n",
       "                             'min_samples_split': 0.15116628631591988,\n",
       "                             'max_features': 'sqrt',\n",
       "                             'max_depth': 13,\n",
       "                             'min_impurity_decrease': 0.00010881335003635877,\n",
       "                             'ccp_alpha': 0.00015498955191377127}),\n",
       "                           ('n1|n_iter=2',\n",
       "                            {'criterion': 'squared_error',\n",
       "                             'min_samples_leaf': 28,\n",
       "                             'min_samples_split': 0.21766119630913844,\n",
       "                             'max_features': 'sqrt',\n",
       "                             'max_depth': 14,\n",
       "                             'min_impurity_decrease': 0.0007207968815585899,\n",
       "                             'ccp_alpha': 7.924356787008144e-05})])),\n",
       "             ('best_estimator',\n",
       "              OrderedDict([('n1|n_iter=1',\n",
       "                            DecisionTreeRegressor(ccp_alpha=0.00015498955191377127,\n",
       "                                                  criterion='friedman_mse', max_depth=13,\n",
       "                                                  max_features='sqrt',\n",
       "                                                  min_impurity_decrease=0.00010881335003635877,\n",
       "                                                  min_samples_leaf=2, min_samples_split=0.15116628631591988,\n",
       "                                                  random_state=0)),\n",
       "                           ('n1|n_iter=2',\n",
       "                            DecisionTreeRegressor(ccp_alpha=7.924356787008144e-05, max_depth=14,\n",
       "                                                  max_features='sqrt',\n",
       "                                                  min_impurity_decrease=0.0007207968815585899,\n",
       "                                                  min_samples_leaf=28,\n",
       "                                                  min_samples_split=0.21766119630913844, random_state=0))])),\n",
       "             ('best_trial',\n",
       "              OrderedDict([('n1|n_iter=1',\n",
       "                            FrozenTrial(number=0, state=TrialState.COMPLETE, values=[-0.2650102266838029, -0.32181051659836485], datetime_start=datetime.datetime(2025, 2, 21, 21, 59, 24, 390202), datetime_complete=datetime.datetime(2025, 2, 21, 21, 59, 24, 589465), params={'criterion': 'friedman_mse', 'min_samples_leaf': 2, 'min_samples_split': 0.15116628631591988, 'max_features': 'sqrt', 'max_depth': 13, 'min_impurity_decrease': 0.00010881335003635877, 'ccp_alpha': 0.00015498955191377127}, user_attrs={}, system_attrs={}, intermediate_values={}, distributions={'criterion': CategoricalDistribution(choices=('squared_error', 'friedman_mse')), 'min_samples_leaf': IntDistribution(high=50, log=False, low=2, step=1), 'min_samples_split': FloatDistribution(high=0.5, log=False, low=0.0, step=None), 'max_features': CategoricalDistribution(choices=('sqrt', 'log2')), 'max_depth': IntDistribution(high=50, log=False, low=5, step=1), 'min_impurity_decrease': FloatDistribution(high=0.01, log=True, low=1e-05, step=None), 'ccp_alpha': FloatDistribution(high=0.01, log=True, low=1e-05, step=None)}, trial_id=0, value=None)),\n",
       "                           ('n1|n_iter=2',\n",
       "                            FrozenTrial(number=0, state=TrialState.COMPLETE, values=[-0.5881066016011288, -0.16733930869836544], datetime_start=datetime.datetime(2025, 2, 21, 21, 59, 25, 771040), datetime_complete=datetime.datetime(2025, 2, 21, 21, 59, 25, 786367), params={'criterion': 'squared_error', 'min_samples_leaf': 28, 'min_samples_split': 0.21766119630913844, 'max_features': 'sqrt', 'max_depth': 14, 'min_impurity_decrease': 0.0007207968815585899, 'ccp_alpha': 7.924356787008144e-05}, user_attrs={}, system_attrs={}, intermediate_values={}, distributions={'criterion': CategoricalDistribution(choices=('squared_error', 'friedman_mse')), 'min_samples_leaf': IntDistribution(high=50, log=False, low=2, step=1), 'min_samples_split': FloatDistribution(high=0.5, log=False, low=0.0, step=None), 'max_features': CategoricalDistribution(choices=('sqrt', 'log2')), 'max_depth': IntDistribution(high=50, log=False, low=5, step=1), 'min_impurity_decrease': FloatDistribution(high=0.01, log=True, low=1e-05, step=None), 'ccp_alpha': FloatDistribution(high=0.01, log=True, low=1e-05, step=None)}, trial_id=0, value=None))])),\n",
       "             ('number_of_initial_features',\n",
       "              OrderedDict([('n1|n_iter=1', 1629), ('n1|n_iter=2', 5)])),\n",
       "             ('initial_training_score',\n",
       "              OrderedDict([('n1|n_iter=1', -0.2650102266838029),\n",
       "                           ('n1|n_iter=2', -0.5881066016011288)])),\n",
       "             ('initial_testing_score',\n",
       "              OrderedDict([('n1|n_iter=1', -0.32181051659836485),\n",
       "                           ('n1|n_iter=2', -0.16733930869836544)])),\n",
       "             ('number_of_selected_features',\n",
       "              OrderedDict([('n1|n_iter=1', 5), ('n1|n_iter=2', 2)])),\n",
       "             ('feature_selected_training_score',\n",
       "              OrderedDict([('n1|n_iter=1', -0.06559781374544464),\n",
       "                           ('n1|n_iter=2', -0.6681123046066088)])),\n",
       "             ('feature_selected_testing_score',\n",
       "              OrderedDict([('n1|n_iter=1', -0.16245599988811069),\n",
       "                           ('n1|n_iter=2', -0.5376962025434061)])),\n",
       "             ('selected_features',\n",
       "              OrderedDict([('n1|n_iter=1',\n",
       "                            ['K01230',\n",
       "                             'K05579',\n",
       "                             'K24034',\n",
       "                             'K02146',\n",
       "                             'K03844']),\n",
       "                           ('n1|n_iter=2', ['K24034', 'K01230'])]))])"
      ]
     },
     "execution_count": 25,
     "metadata": {},
     "output_type": "execute_result"
    }
   ],
   "source": [
    "        # self.models_ = dict()\n",
    "        # self.models_status_ok_ = dict()\n",
    "        # self.best_iteration_ = dict()\n",
    "        # self.feature_weights_ = dict()\n",
    "        # self.selected_features_ = dict()\n",
    "        # self.estimators_ = dict()\n",
    "        # self.scores_ = defaultdict(dict)\n",
    "model.automl_results_[\"n1\"].to_dict(into=OrderedDict)\n"
   ]
  },
  {
   "cell_type": "code",
   "execution_count": 38,
   "id": "c0c5bd78-770a-4921-a3f9-cb79fa0eabe3",
   "metadata": {
    "tags": []
   },
   "outputs": [
    {
     "data": {
      "text/plain": [
       "{'n1': K01230    0.109162\n",
       " K05579    0.331470\n",
       " K24034    0.482158\n",
       " K02146    0.076600\n",
       " K03844    0.000610\n",
       " dtype: float64,\n",
       " 'n2': K01230    0.340492\n",
       " K05579    0.094207\n",
       " K24034    0.502870\n",
       " K14655    0.062085\n",
       " K03392    0.000346\n",
       " dtype: float64,\n",
       " 'n3': K02147    0.245633\n",
       " K24034    0.728959\n",
       " K00967    0.000026\n",
       " K00293    0.025383\n",
       " dtype: float64,\n",
       " 'n4': K03843    0.560723\n",
       " K11175    0.421203\n",
       " K05285    0.018074\n",
       " dtype: float64}"
      ]
     },
     "execution_count": 38,
     "metadata": {},
     "output_type": "execute_result"
    }
   ],
   "source": [
    "model.feature_weights_\n"
   ]
  },
  {
   "cell_type": "code",
   "execution_count": 4,
   "id": "7af857f2-32d3-46de-9bf6-ad9d7fcde1cd",
   "metadata": {
    "collapsed": true,
    "jupyter": {
     "outputs_hidden": true
    },
    "tags": []
   },
   "outputs": [
    {
     "name": "stderr",
     "output_type": "stream",
     "text": [
      "[I 2025-02-20 00:51:43,497] A new study created in memory with name: n_iter=1\n",
      "[I 2025-02-20 00:51:44,767] Trial 0 finished with values: [-68.04811145342009, -103.07136596722816] and parameters: {'min_samples_leaf': 21, 'min_samples_split': 0.36016224672107905, 'max_features': 'log2'}.\n",
      "[I 2025-02-20 00:51:46,064] Trial 1 finished with values: [-25.076820458547832, -44.444892297095045] and parameters: {'min_samples_leaf': 5, 'min_samples_split': 0.09313010568883545, 'max_features': None}.\n",
      "[I 2025-02-20 00:51:46,512] Trial 2 finished with values: [-68.48144905081675, -103.37456665267429] and parameters: {'min_samples_leaf': 21, 'min_samples_split': 0.34260975019837975, 'max_features': 'log2'}.\n",
      "[I 2025-02-20 00:51:46,974] Trial 3 finished with values: [-65.28730797449067, -105.30485197681762] and parameters: {'min_samples_leaf': 34, 'min_samples_split': 0.20865240118356349, 'max_features': 'sqrt'}.\n",
      "[I 2025-02-20 00:51:47,566] Trial 4 finished with values: [-34.01887297601735, -45.63873026826073] and parameters: {'min_samples_leaf': 41, 'min_samples_split': 0.48413078785969876, 'max_features': None}.\n",
      "[I 2025-02-20 00:51:48,201] Trial 5 finished with values: [-28.93777949397918, -44.03894851538734] and parameters: {'min_samples_leaf': 45, 'min_samples_split': 0.042522105684888956, 'max_features': None}.\n",
      "[I 2025-02-20 00:51:48,664] Trial 6 finished with values: [-71.14174332359224, -102.542024387015] and parameters: {'min_samples_leaf': 5, 'min_samples_split': 0.21055381250252608, 'max_features': 'sqrt'}.\n",
      "[I 2025-02-20 00:51:49,122] Trial 7 finished with values: [-65.2797898132276, -103.3612764665491] and parameters: {'min_samples_leaf': 16, 'min_samples_split': 0.34325046384079183, 'max_features': 'sqrt'}.\n",
      "[I 2025-02-20 00:51:49,570] Trial 8 finished with values: [-62.474473102741435, -96.05840417523284] and parameters: {'min_samples_leaf': 50, 'min_samples_split': 0.3740828271899197, 'max_features': 'log2'}.\n",
      "[I 2025-02-20 00:51:50,021] Trial 9 finished with values: [-63.290277210858186, -103.4394729707505] and parameters: {'min_samples_leaf': 23, 'min_samples_split': 0.4542977515465478, 'max_features': 'sqrt'}.\n",
      "Exception ignored in: <bound method IPythonKernel._clean_thread_parent_frames of <ipykernel.ipkernel.IPythonKernel object at 0x7f02882a8d00>>\n",
      "Traceback (most recent call last):\n",
      "  File \"/home/ec2-user/SageMaker/environments/mns/lib/python3.9/site-packages/ipykernel/ipkernel.py\", line 775, in _clean_thread_parent_frames\n",
      "    def _clean_thread_parent_frames(\n",
      "  File \"/home/ec2-user/SageMaker/environments/mns/lib/python3.9/site-packages/memory_profiler.py\", line 791, in trace_memory_usage\n",
      "    def trace_memory_usage(self, frame, event, arg):\n",
      "KeyboardInterrupt: \n",
      "/home/ec2-user/SageMaker/environments/mns/lib/python3.9/site-packages/clairvoyance/feature_selection.py:811: UserWarning: remove_zero_weighted_features=True and removed 946/1000 features\n",
      "  warnings.warn(\"remove_zero_weighted_features=True and removed {}/{} features\".format((n_features_initial - n_features_after_zero_removal), n_features_initial))\n",
      "Recursive feature addition: 100%|██████████| 53/53 [00:01<00:00, 46.28it/s]\n",
      "/home/ec2-user/SageMaker/environments/mns/lib/python3.9/site-packages/clairvoyance/feature_selection.py:319: UserWarning: Detected 2/14 zero-weighted features in final fitted model.  Refitting to remove zero-weighted features\n",
      "  warnings.warn(\"Detected {}/{} zero-weighted features in final fitted model.  Refitting to remove zero-weighted features\".format(initial_feature_importances_equal_zero.sum(), n_features))\n",
      "[Success][Iteration=0, Try=1]: Removed all zero weighted features but the new training score declined from -17.548105254800987 -> -17.548105254800987. The following 12/14 features remain: ['RM', 'LSTAT', 'CRIM', 'DIS', 'TAX', 'noise_657', 'noise_965', 'noise_711', 'noise_213', 'noise_930', 'noise_253', 'noise_484']\n",
      "[I 2025-02-20 00:51:52,310] A new study created in memory with name: n_iter=2\n"
     ]
    },
    {
     "name": "stdout",
     "output_type": "stream",
     "text": [
      "Synopsis[n_iter=1] Input Features: 1000, Selected Features: 12\n",
      "Initial Training Score: -25.076820458547832, Feature Selected Training Score: -17.548105254800987\n",
      "Initial Testing Score: -44.444892297095045, Feature Selected Testing Score: -42.22347614898246\n",
      "\n"
     ]
    },
    {
     "name": "stderr",
     "output_type": "stream",
     "text": [
      "[I 2025-02-20 00:51:53,088] Trial 0 finished with values: [-39.35882482719279, -70.63960205389475] and parameters: {'min_samples_leaf': 22, 'min_samples_split': 0.012963115913945666, 'max_features': 'sqrt'}.\n",
      "[I 2025-02-20 00:51:53,759] Trial 1 finished with values: [-32.273718574499604, -64.88444618471789] and parameters: {'min_samples_leaf': 17, 'min_samples_split': 0.10232431701892125, 'max_features': 'sqrt'}.\n",
      "[I 2025-02-20 00:51:53,905] Trial 2 finished with values: [-46.92897813405155, -67.42997685510235] and parameters: {'min_samples_leaf': 32, 'min_samples_split': 0.26457104713851953, 'max_features': 'log2'}.\n",
      "[I 2025-02-20 00:51:54,050] Trial 3 finished with values: [-42.92145201673487, -73.81671191739132] and parameters: {'min_samples_leaf': 40, 'min_samples_split': 0.4269876463197444, 'max_features': 'log2'}.\n",
      "[I 2025-02-20 00:51:54,199] Trial 4 finished with values: [-42.53209277243767, -73.0753723596378] and parameters: {'min_samples_leaf': 26, 'min_samples_split': 0.032643252193439054, 'max_features': 'sqrt'}.\n",
      "[I 2025-02-20 00:51:54,356] Trial 5 finished with values: [-25.340672608639228, -39.554864277128395] and parameters: {'min_samples_leaf': 30, 'min_samples_split': 0.11300600030211794, 'max_features': None}.\n",
      "[I 2025-02-20 00:51:54,514] Trial 6 finished with values: [-41.18643568987843, -73.10649985459604] and parameters: {'min_samples_leaf': 24, 'min_samples_split': 0.10087161313248266, 'max_features': 'sqrt'}.\n",
      "[I 2025-02-20 00:51:54,654] Trial 7 finished with values: [-33.474977232132105, -47.41365347203643] and parameters: {'min_samples_leaf': 20, 'min_samples_split': 0.39681872722078854, 'max_features': None}.\n",
      "[I 2025-02-20 00:51:54,791] Trial 8 finished with values: [-44.224252136995965, -67.42997685510235] and parameters: {'min_samples_leaf': 49, 'min_samples_split': 0.25000418058510837, 'max_features': 'sqrt'}.\n",
      "[I 2025-02-20 00:51:54,941] Trial 9 finished with values: [-28.450113421695228, -45.907929719491506] and parameters: {'min_samples_leaf': 22, 'min_samples_split': 0.2183736315133995, 'max_features': None}.\n",
      "/home/ec2-user/SageMaker/environments/mns/lib/python3.9/site-packages/clairvoyance/feature_selection.py:811: UserWarning: remove_zero_weighted_features=True and removed 6/12 features\n",
      "  warnings.warn(\"remove_zero_weighted_features=True and removed {}/{} features\".format((n_features_initial - n_features_after_zero_removal), n_features_initial))\n",
      "Recursive feature addition: 100%|██████████| 5/5 [00:00<00:00, 62.26it/s]\n",
      "[I 2025-02-20 00:51:55,204] A new study created in memory with name: n_iter=3\n",
      "[I 2025-02-20 00:51:55,219] Trial 0 finished with values: [-33.350442944524715, -46.10221752986571] and parameters: {'min_samples_leaf': 28, 'min_samples_split': 0.3540739113090524, 'max_features': None}.\n",
      "[I 2025-02-20 00:51:55,368] Trial 1 finished with values: [-27.80116614893752, -44.498958722459385] and parameters: {'min_samples_leaf': 45, 'min_samples_split': 0.06279265523191813, 'max_features': None}.\n"
     ]
    },
    {
     "name": "stdout",
     "output_type": "stream",
     "text": [
      "Synopsis[n_iter=2] Input Features: 12, Selected Features: 4\n",
      "Initial Training Score: -25.340672608639228, Feature Selected Training Score: -25.049609529544874\n",
      "Initial Testing Score: -39.554864277128395, Feature Selected Testing Score: -40.67181664082084\n",
      "\n"
     ]
    },
    {
     "name": "stderr",
     "output_type": "stream",
     "text": [
      "[I 2025-02-20 00:51:55,514] Trial 2 finished with values: [-27.714857635283863, -46.71443837050037] and parameters: {'min_samples_leaf': 2, 'min_samples_split': 0.22841661219735554, 'max_features': None}.\n",
      "[I 2025-02-20 00:51:55,662] Trial 3 finished with values: [-22.863310574733823, -57.23317818465574] and parameters: {'min_samples_leaf': 30, 'min_samples_split': 0.011990941188582682, 'max_features': 'sqrt'}.\n",
      "[I 2025-02-20 00:51:55,807] Trial 4 finished with values: [-33.33109219225766, -47.82131161372665] and parameters: {'min_samples_leaf': 15, 'min_samples_split': 0.34656895915649816, 'max_features': None}.\n",
      "[I 2025-02-20 00:51:55,949] Trial 5 finished with values: [-28.70999982512729, -44.16235843588871] and parameters: {'min_samples_leaf': 40, 'min_samples_split': 0.15318176618808987, 'max_features': None}.\n",
      "[I 2025-02-20 00:51:56,086] Trial 6 finished with values: [-40.11995767567866, -51.92664334497896] and parameters: {'min_samples_leaf': 49, 'min_samples_split': 0.33619183795640684, 'max_features': 'sqrt'}.\n",
      "[I 2025-02-20 00:51:56,225] Trial 7 finished with values: [-34.27796906042264, -48.16385689782334] and parameters: {'min_samples_leaf': 5, 'min_samples_split': 0.3267054512617681, 'max_features': 'sqrt'}.\n",
      "[I 2025-02-20 00:51:56,370] Trial 8 finished with values: [-27.599874356339093, -45.9079297194915] and parameters: {'min_samples_leaf': 21, 'min_samples_split': 0.23447012434958453, 'max_features': None}.\n",
      "[I 2025-02-20 00:51:56,511] Trial 9 finished with values: [-28.331181696398204, -44.71626959460735] and parameters: {'min_samples_leaf': 44, 'min_samples_split': 0.2931264522339107, 'max_features': None}.\n",
      "/home/ec2-user/SageMaker/environments/mns/lib/python3.9/site-packages/clairvoyance/feature_selection.py:811: UserWarning: remove_zero_weighted_features=True and removed 1/4 features\n",
      "  warnings.warn(\"remove_zero_weighted_features=True and removed {}/{} features\".format((n_features_initial - n_features_after_zero_removal), n_features_initial))\n",
      "Recursive feature addition: 100%|██████████| 2/2 [00:00<00:00, 63.01it/s]\n",
      "[I 2025-02-20 00:51:56,710] A new study created in memory with name: n_iter=4\n",
      "[I 2025-02-20 00:51:56,726] Trial 0 finished with values: [-39.97635075710899, -73.18410016984062] and parameters: {'min_samples_leaf': 49, 'min_samples_split': 0.27361612458786116, 'max_features': 'sqrt'}.\n",
      "[I 2025-02-20 00:51:56,868] Trial 1 finished with values: [-34.62351697803398, -46.40252324571332] and parameters: {'min_samples_leaf': 11, 'min_samples_split': 0.4881372273881209, 'max_features': None}.\n"
     ]
    },
    {
     "name": "stdout",
     "output_type": "stream",
     "text": [
      "Synopsis[n_iter=3] Input Features: 4, Selected Features: 3\n",
      "Initial Training Score: -27.80116614893752, Feature Selected Training Score: -27.801166148937522\n",
      "Initial Testing Score: -44.498958722459385, Feature Selected Testing Score: -44.498958722459385\n",
      "\n"
     ]
    },
    {
     "name": "stderr",
     "output_type": "stream",
     "text": [
      "[I 2025-02-20 00:51:57,012] Trial 2 finished with values: [-35.660273270462824, -68.92392250317194] and parameters: {'min_samples_leaf': 39, 'min_samples_split': 0.09884253730012654, 'max_features': 'log2'}.\n",
      "[I 2025-02-20 00:51:57,153] Trial 3 finished with values: [-25.339932613451936, -39.86138917409917] and parameters: {'min_samples_leaf': 30, 'min_samples_split': 0.004493048833777491, 'max_features': None}.\n",
      "[I 2025-02-20 00:51:57,289] Trial 4 finished with values: [-38.5891752641922, -75.78332285491456] and parameters: {'min_samples_leaf': 22, 'min_samples_split': 0.4744886533907814, 'max_features': 'log2'}.\n",
      "[I 2025-02-20 00:51:57,423] Trial 5 finished with values: [-39.75756744920085, -70.18870786297246] and parameters: {'min_samples_leaf': 4, 'min_samples_split': 0.30037136068888465, 'max_features': 'log2'}.\n",
      "[I 2025-02-20 00:51:57,556] Trial 6 finished with values: [-39.261685512275186, -75.78332285491456] and parameters: {'min_samples_leaf': 27, 'min_samples_split': 0.468785791975471, 'max_features': 'sqrt'}.\n",
      "[I 2025-02-20 00:51:57,690] Trial 7 finished with values: [-28.864612422535522, -44.442502463340155] and parameters: {'min_samples_leaf': 28, 'min_samples_split': 0.2622020400342367, 'max_features': None}.\n",
      "[I 2025-02-20 00:51:57,824] Trial 8 finished with values: [-38.09439246701119, -74.88805585503097] and parameters: {'min_samples_leaf': 20, 'min_samples_split': 0.31195805677411154, 'max_features': 'sqrt'}.\n",
      "[I 2025-02-20 00:51:57,959] Trial 9 finished with values: [-32.90063274453109, -44.653766801451034] and parameters: {'min_samples_leaf': 26, 'min_samples_split': 0.3433335399581729, 'max_features': None}.\n",
      "Recursive feature addition: 100%|██████████| 2/2 [00:00<00:00, 59.89it/s]"
     ]
    },
    {
     "name": "stdout",
     "output_type": "stream",
     "text": [
      "Synopsis[n_iter=4] Input Features: 3, Selected Features: 3\n",
      "Initial Training Score: -25.339932613451936, Feature Selected Training Score: -25.339932613451936\n",
      "Initial Testing Score: -39.86138917409917, Feature Selected Testing Score: -39.86138917409917\n",
      "\n",
      "Filename: /home/ec2-user/SageMaker/environments/mns/lib/python3.9/site-packages/clairvoyance/bayesian.py\n",
      "\n",
      "Line #    Mem usage    Increment  Occurrences   Line Contents\n",
      "=============================================================\n",
      "   586   1447.9 MiB   1447.9 MiB           1       @profile\n",
      "   587                                             def fit_transform(self, X, y, cv=3, X_testing=None, y_testing=None, optimize_with_training_and_testing=\"auto\", **study_kws):\n",
      "   588   1447.9 MiB      0.0 MiB           2           self._fit(\n",
      "   589   1447.9 MiB      0.0 MiB           1               X=X,\n",
      "   590   1447.9 MiB      0.0 MiB           1               y=y,\n",
      "   591   1447.9 MiB      0.0 MiB           1               cv=cv,\n",
      "   592   1447.9 MiB      0.0 MiB           1               X_testing=X_testing,\n",
      "   593   1447.9 MiB      0.0 MiB           1               y_testing=y_testing,\n",
      "   594   1447.9 MiB      0.0 MiB           1               optimize_with_training_and_testing=optimize_with_training_and_testing,\n",
      "   595   1447.9 MiB      0.0 MiB           1               **study_kws,\n",
      "   596                                                 )\n",
      "   597                                                 self.results_ = self._get_results()\n",
      "   598                                                 return self.results_\n",
      "\n",
      "\n"
     ]
    },
    {
     "name": "stderr",
     "output_type": "stream",
     "text": [
      "\n"
     ]
    }
   ],
   "source": [
    "# # Load modules\n",
    "# from sklearn.tree import DecisionTreeRegressor\n",
    "# from sklearn.model_selection import train_test_split\n",
    "# from sklearn.metrics import mean_squared_error\n",
    "# from clairvoyance.bayesian import BayesianClairvoyanceRegression\n",
    "# from sklearn.metrics import make_scorer\n",
    "\n",
    "# # Load Boston data\n",
    "# # from sklearn.datasets import load_boston; boston = load_boston() # Deprecated\n",
    "# data_url = \"http://lib.stat.cmu.edu/datasets/boston\"\n",
    "# raw_df = pd.read_csv(data_url, sep=\"\\s+\", skiprows=22, header=None)\n",
    "# data = np.hstack([raw_df.values[::2, :], raw_df.values[1::2, :2]])\n",
    "# target = raw_df.values[1::2, 2]\n",
    "# X = pd.DataFrame(data, columns=['CRIM', 'ZN', 'INDUS', 'CHAS', 'NOX', 'RM', 'AGE', 'DIS', 'RAD', 'TAX', 'PTRATIO', 'B', 'LSTAT'])\n",
    "# y = pd.Series(target)\n",
    "\n",
    "# # Add some noise features to total 1000 features\n",
    "# number_of_noise_features = 1000 - X.shape[1]\n",
    "# X_noise = pd.DataFrame(np.random.RandomState(0).normal(size=(X.shape[0], number_of_noise_features)),  columns=map(lambda j: f\"noise_{j}\", range(number_of_noise_features)))\n",
    "# X_boston_with_noise = pd.concat([X, X_noise], axis=1)\n",
    "# X_normalized = X_boston_with_noise - X_boston_with_noise.mean(axis=0).values\n",
    "# X_normalized = X_normalized/X_normalized.std(axis=0).values\n",
    "\n",
    "# # Let's fit the model but leave a held out testing set\n",
    "# X_training, X_testing, y_training, y_testing = train_test_split(X_normalized, y, random_state=0, test_size=0.1)\n",
    "\n",
    "# # Define the parameter space\n",
    "# estimator = DecisionTreeRegressor(random_state=0)\n",
    "# param_space = {\n",
    "#     \"min_samples_leaf\":[\"int\", 1, 50], \n",
    "#     \"min_samples_split\": [\"float\", 0.0, 0.5], \n",
    "#     \"max_features\":[\"categorical\", [\"sqrt\", \"log2\", None]],\n",
    "# }\n",
    "# scorer = make_scorer(mean_squared_error, greater_is_better=False)\n",
    "\n",
    "# # Fit the AutoML model\n",
    "# model = BayesianClairvoyanceRegression(estimator, param_space,  n_iter=4, scorer=scorer, n_trials=10, feature_selection_method=\"addition\", n_jobs=-1, verbose=1, feature_selection_performance_threshold=0.0)\n",
    "# df_results = model.fit_transform(X_training, y_training, cv=5, optimize_with_training_and_testing=\"auto\", X_testing=X_testing, y_testing=y_testing)\n"
   ]
  },
  {
   "cell_type": "code",
   "execution_count": null,
   "id": "3839a197-01c1-48a6-a568-728afc1967ec",
   "metadata": {
    "tags": []
   },
   "outputs": [],
   "source": [
    "model.models_"
   ]
  },
  {
   "cell_type": "code",
   "execution_count": 35,
   "id": "84e4dca3-9e12-4358-a954-d169255780e0",
   "metadata": {
    "tags": []
   },
   "outputs": [
    {
     "data": {
      "text/plain": [
       "best_hyperparameters               {'min_samples_leaf': 5, 'min_samples_split': 0...\n",
       "best_estimator                     DecisionTreeRegressor(min_samples_leaf=5, min_...\n",
       "best_trial                         FrozenTrial(number=1, state=TrialState.COMPLET...\n",
       "number_of_initial_features                                                      1000\n",
       "initial_training_score                                                     -25.07682\n",
       "initial_testing_score                                                     -44.444892\n",
       "number_of_selected_features                                                       12\n",
       "feature_selected_training_score                                           -17.548105\n",
       "feature_selected_testing_score                                            -42.223476\n",
       "selected_features                  [RM, LSTAT, CRIM, DIS, TAX, noise_657, noise_9...\n",
       "Name: n_iter=1, dtype: object"
      ]
     },
     "execution_count": 35,
     "metadata": {},
     "output_type": "execute_result"
    },
    {
     "data": {
      "image/png": "[encoded data removed]",
      "text/plain": [
       "<Figure size 640x480 with 1 Axes>"
      ]
     },
     "metadata": {},
     "output_type": "display_data"
    }
   ],
   "source": [
    "best_iter = model.results_.sort_values([\"feature_selected_training_score\", \"feature_selected_testing_score\"], ascending=[False, False]).iloc[0]\n",
    "X_query = X_normalized.loc[:,best_iter[\"selected_features\"]].astype(int)\n",
    "estimator = best_iter[\"best_estimator\"]\n",
    "plt.scatter(estimator.predict(X_query), y)\n",
    "best_iter"
   ]
  },
  {
   "cell_type": "code",
   "execution_count": 26,
   "id": "40468a70-9f8d-474e-b1df-9431b3a0e8d4",
   "metadata": {
    "tags": []
   },
   "outputs": [
    {
     "data": {
      "text/plain": [
       "best_hyperparameters               {'min_samples_leaf': 5, 'min_samples_split': 0...\n",
       "best_estimator                     DecisionTreeRegressor(min_samples_leaf=5, min_...\n",
       "best_trial                         FrozenTrial(number=1, state=TrialState.COMPLET...\n",
       "number_of_initial_features                                                      1000\n",
       "initial_training_score                                                     -4.971854\n",
       "initial_testing_score                                                        -6.6667\n",
       "number_of_selected_features                                                       12\n",
       "feature_selected_training_score                                            -4.167626\n",
       "feature_selected_testing_score                                             -6.497959\n",
       "selected_features                  [RM, LSTAT, CRIM, DIS, TAX, noise_657, noise_9...\n",
       "Name: n_iter=1, dtype: object"
      ]
     },
     "execution_count": 26,
     "metadata": {},
     "output_type": "execute_result"
    },
    {
     "data": {
      "image/png": "[encoded data removed]",
      "text/plain": [
       "<Figure size 640x480 with 1 Axes>"
      ]
     },
     "metadata": {},
     "output_type": "display_data"
    }
   ],
   "source": [
    "# Good one\n",
    "best_iter = model.results_.sort_values([\"feature_selected_training_score\", \"feature_selected_testing_score\"], ascending=[False, False]).iloc[0]\n",
    "X_query = X_normalized.loc[:,best_iter[\"selected_features\"]].astype(int)\n",
    "estimator = best_iter[\"best_estimator\"]\n",
    "plt.scatter(estimator.predict(X_query), y)\n",
    "best_iter"
   ]
  },
  {
   "cell_type": "code",
   "execution_count": null,
   "id": "d673980b-6f94-492b-8100-6dfd4618b318",
   "metadata": {},
   "outputs": [],
   "source": [
    "# df_checkm2 = pd.read_csv(\"/home/ec2-user/SageMaker/s3/newatlantis-case-studies-db-prod/PRJEB72453-Jimenez_2025-BarPeninsulaMangrove/Analysis/veba_output/essentials/quality/quality.prokaryotic.tsv.gz\", sep=\"\\t\", index_col=0)\n",
    "# # df_checkm2 = df_checkm2.query(\"Completeness>=90\").query(\"Contamination<=5\")\n",
    "# df_checkm2.index.map(lambda x: x.split(\"__\")[2]).value_counts()\n",
    "# # df_checkm2"
   ]
  }
 ],
 "metadata": {
  "kernelspec": {
   "display_name": "conda_mns",
   "language": "python",
   "name": "conda_mns"
  },
  "language_info": {
   "codemirror_mode": {
    "name": "ipython",
    "version": 3
   },
   "file_extension": ".py",
   "mimetype": "text/x-python",
   "name": "python",
   "nbconvert_exporter": "python",
   "pygments_lexer": "ipython3",
   "version": "3.9.21"
  }
 },
 "nbformat": 4,
 "nbformat_minor": 5
}
