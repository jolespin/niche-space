{
 "cells": [
  {
   "cell_type": "code",
   "execution_count": 18,
   "id": "ed2ae2d6-71d3-4695-bde9-6feb7c98ebf2",
   "metadata": {
    "tags": []
   },
   "outputs": [
    {
     "name": "stdout",
     "output_type": "stream",
     "text": [
      "The memory_profiler extension is already loaded. To reload it, use:\n",
      "  %reload_ext memory_profiler\n"
     ]
    }
   ],
   "source": [
    "import os\n",
    "import sys\n",
    "import warnings\n",
    "import uuid\n",
    "from collections import defaultdict\n",
    "from tqdm import tqdm\n",
    "import numpy as np # Can't install NumPy 2.2.2 which is what the pkls were saved with\n",
    "import pandas as pd # 'v2.2.3'\n",
    "# import anndata as ad\n",
    "\n",
    "import optuna\n",
    "import joblib\n",
    "import pacmap\n",
    "\n",
    "from scipy.spatial.distance import (\n",
    "    pdist, \n",
    "    squareform,\n",
    ")\n",
    "\n",
    "from sklearn.metrics import (\n",
    "    pairwise_distances,\n",
    "    silhouette_score, \n",
    ")\n",
    "\n",
    "from datafold.dynfold import (\n",
    "    DiffusionMaps, \n",
    "    Roseland,\n",
    ")\n",
    "\n",
    "from pyexeggutor import (\n",
    "    build_logger,\n",
    "    write_pickle,\n",
    "    # read_pickle,\n",
    "    format_header,\n",
    ")\n",
    "\n",
    "\n",
    "# Metabolic Niche Space\n",
    "# from metabolic_niche_space.manifold import GroupedNicheSpace\n",
    "from metabolic_niche_space.neighbors import KNeighborsKernel\n",
    "# from .utils import (\n",
    "#     fast_groupby,\n",
    "#     compile_parameter_space,\n",
    "#     stop_when_exceeding_trials,\n",
    "# )\n",
    "\n",
    "\n",
    "\n",
    "%load_ext memory_profiler"
   ]
  },
  {
   "cell_type": "code",
   "execution_count": 2,
   "id": "6866d8a8-6df6-4cfd-8346-1e4d26bda760",
   "metadata": {
    "tags": []
   },
   "outputs": [
    {
     "name": "stdout",
     "output_type": "stream",
     "text": [
      "Number of genomes: 20377, Number of features: 2124, Number of SLCs: 6719\n",
      "CPU times: user 3.71 s, sys: 306 ms, total: 4.01 s\n",
      "Wall time: 4.55 s\n"
     ]
    }
   ],
   "source": [
    "%%time\n",
    "# Data\n",
    "df_quality = pd.read_csv(\"../data/quality.tsv.gz\",sep=\"\\t\", index_col=0)\n",
    "\n",
    "quality_label=\"completeness_gte90.contamination_lt5\"\n",
    "# quality_label=\"completeness_gte50.contamination_lt10\"\n",
    "output_directory=f\"../data/cluster/mfc/{quality_label}\"\n",
    "os.makedirs(output_directory, exist_ok=True)\n",
    "\n",
    "genome_to_clusterani = pd.read_csv(f\"../data/training/{quality_label}/y.tsv.gz\", sep=\"\\t\", index_col=0, header=None).iloc[:,0].astype(\"category\")\n",
    "X_genomic_traits = pd.read_csv(f\"../data/training/{quality_label}/X.tsv.gz\", sep=\"\\t\", index_col=0).astype(bool)\n",
    "X_genomic_traits_clusterani = pd.read_csv(f\"../data/training/{quality_label}/X_grouped.tsv.gz\", sep=\"\\t\", index_col=0).astype(bool)\n",
    "eukaryotes = read_list(f\"../data/cluster/ani/eukaryotic/{quality_label}/organisms.list\", set)\n",
    "prokaryotes = read_list(f\"../data/cluster/ani/prokaryotic/{quality_label}/organisms.list\", set)\n",
    "\n",
    "genome_to_taxonomy = pd.read_csv(\"../data/taxonomy.tsv.gz\", sep=\"\\t\", index_col=0).iloc[:,0]\n",
    "clusterani_to_taxonomy = pd.read_csv(\"../data/cluster/ani/cluster-ani_to_taxonomy.tsv.gz\", sep=\"\\t\", index_col=0, header=None).iloc[:,0]\n",
    "df_meta_mfc__genomes = pd.read_csv(f\"../data/cluster/mfc/{quality_label}/identifier_mapping.mfc.genomes.with_openai.tsv.gz\", sep=\"\\t\", index_col=0)\n",
    "df_meta_mfc__slc = pd.read_csv(f\"../data/cluster/mfc/{quality_label}/identifier_mapping.mfc.genome_clusters.with_openai.tsv.gz\", sep=\"\\t\", index_col=0)\n",
    "\n",
    "X_genomic_traits_mfc = X_genomic_traits_clusterani.groupby(df_meta_mfc__slc[\"id_cluster-mfc\"]).sum() > 0\n",
    "df_kegg = pd.read_csv(\"/home/ec2-user/SageMaker/s3/newatlantis-raw-veba-db-prod/VDB_v8.1/Annotate/KOfam/kegg-ortholog_metadata.tsv\", sep=\"\\t\", index_col=0)\n",
    "ko_to_description = df_kegg[\"definition\"]\n",
    "\n",
    "print(\"Number of genomes: {}, Number of features: {}, Number of SLCs: {}\".format(*X_genomic_traits.shape, X_genomic_traits_clusterani.shape[0]))\n",
    "# Number of genomes: 20377, Number of features: 2124, Number of SLCs: 6719\n",
    "\n",
    "# CPU times: user 3.41 s, sys: 87.8 ms, total: 3.5 s\n",
    "# Wall time: 3.5 s"
   ]
  },
  {
   "cell_type": "code",
   "execution_count": 37,
   "id": "40689375-36da-43c7-9040-fd903310902c",
   "metadata": {
    "tags": []
   },
   "outputs": [
    {
     "name": "stdout",
     "output_type": "stream",
     "text": [
      "(20377, 2124)\n",
      "(20355, 2124)\n"
     ]
    }
   ],
   "source": [
    "X = X_genomic_traits\n",
    "print(X.shape)\n",
    "y1 = genome_to_clusterani.loc[X.index]\n",
    "y2 = df_meta_mfc__genomes[\"id_cluster-mfc\"].loc[X.index].dropna()\n",
    "y1 = y1.loc[y2.index]\n",
    "X = X.loc[y2.index]\n",
    "assert np.all(y1.notnull())\n",
    "assert np.all(y2.notnull())\n",
    "print(X.shape)\n",
    "\n",
    "# genomes_with_mfc = df_meta_mfc__genomes.index[df_meta_mfc__genomes[\"id_cluster-mfc\"].notnull()]\n",
    "# X = X_genomic_traits.loc[genomes_with_mfc]\n",
    "# y = df_meta_mfc__genomes.loc[genomes_with_mfc][\"id_cluster-mfc\"]\n",
    "# n, m = X.shape"
   ]
  },
  {
   "cell_type": "code",
   "execution_count": 13,
   "id": "812550a9-eabe-4fc6-89f4-c3a7e1d9ee1d",
   "metadata": {
    "tags": []
   },
   "outputs": [],
   "source": []
  },
  {
   "cell_type": "code",
   "execution_count": 33,
   "id": "c218fecf-8b8d-4703-98ef-daec3107f3b9",
   "metadata": {
    "tags": []
   },
   "outputs": [],
   "source": []
  },
  {
   "cell_type": "code",
   "execution_count": null,
   "id": "b32efaff-c9f3-4343-b851-a5b71e279b4d",
   "metadata": {
    "tags": []
   },
   "outputs": [],
   "source": []
  },
  {
   "cell_type": "code",
   "execution_count": 34,
   "id": "14d57144-499e-4d41-9436-1ae62d438b8b",
   "metadata": {
    "tags": []
   },
   "outputs": [
    {
     "name": "stdout",
     "output_type": "stream",
     "text": [
      "2025-02-18 19:09:15,020 - 4a62c720-c573-426e-83ea-9b855e130bf1 - INFO - [Start] Filtering observations and classes below feature threshold: 1\n",
      "2025-02-18 19:09:15,022 - 4a62c720-c573-426e-83ea-9b855e130bf1 - INFO - [Dropping] N = 0 observations\n",
      "2025-02-18 19:09:15,024 - 4a62c720-c573-426e-83ea-9b855e130bf1 - INFO - [Remaining] N = [2, 0, 1]\n",
      "Categories (3, int64): [0, 1, 2] classes\n",
      "2025-02-18 19:09:15,024 - 4a62c720-c573-426e-83ea-9b855e130bf1 - INFO - [Remaining] N = 1000 observations\n",
      "2025-02-18 19:09:15,025 - 4a62c720-c573-426e-83ea-9b855e130bf1 - INFO - [Remaining] N = 100 features\n",
      "2025-02-18 19:09:15,025 - 4a62c720-c573-426e-83ea-9b855e130bf1 - INFO - [End] Filtering observations and classes below feature threshold\n",
      "2025-02-18 19:09:15,026 - 4a62c720-c573-426e-83ea-9b855e130bf1 - INFO - [Start] Processing distance matrix\n",
      "2025-02-18 19:09:15,173 - 4a62c720-c573-426e-83ea-9b855e130bf1 - INFO - [End] Processing distance matrix\n",
      "2025-02-18 19:09:15,174 - 4a62c720-c573-426e-83ea-9b855e130bf1 - INFO - [Begin] Hyperparameter Tuning\n"
     ]
    },
    {
     "name": "stderr",
     "output_type": "stream",
     "text": [
      "[I 2025-02-18 19:09:15,176] A new study created in memory with name: 4a62c720-c573-426e-83ea-9b855e130bf1\n",
      "[I 2025-02-18 19:09:16,136] Trial 0 finished with value: 0.004204608013938112 and parameters: {'n_neighbors': 59, 'n_components': 75, 'alpha': 0.6027633760716439}. Best is trial 0 with value: 0.004204608013938112.\n",
      "[I 2025-02-18 19:09:17,046] Trial 1 finished with value: 0.011760174491523643 and parameters: {'n_neighbors': 59, 'n_components': 48, 'alpha': 0.6458941130666561}. Best is trial 1 with value: 0.011760174491523643.\n",
      "[I 2025-02-18 19:09:18,215] Trial 2 finished with value: 0.002436184049775515 and parameters: {'n_neighbors': 49, 'n_components': 91, 'alpha': 0.9636627605010293}. Best is trial 1 with value: 0.011760174491523643.\n"
     ]
    },
    {
     "name": "stdout",
     "output_type": "stream",
     "text": [
      "2025-02-18 19:09:18,377 - 4a62c720-c573-426e-83ea-9b855e130bf1 - INFO - Tuned parameters (Score=0.011760174491523643): {'n_neighbors': 59, 'n_components': 48, 'alpha': 0.6458941130666561}\n",
      "2025-02-18 19:09:18,378 - 4a62c720-c573-426e-83ea-9b855e130bf1 - INFO - [End] Hyperparameter Tuning\n"
     ]
    },
    {
     "name": "stderr",
     "output_type": "stream",
     "text": [
      "[Parallel Transformation] Initial data: 100%|██████████| 1000/1000 [00:01<00:00, 586.85it/s]"
     ]
    },
    {
     "name": "stdout",
     "output_type": "stream",
     "text": [
      "2025-02-18 19:09:20,811 - 4a62c720-c573-426e-83ea-9b855e130bf1 - INFO - Scaling embeddings by steady-state vector\n",
      "2025-02-18 19:09:20,813 - 4a62c720-c573-426e-83ea-9b855e130bf1 - INFO - Calculating silhouette score for initial data\n"
     ]
    },
    {
     "name": "stderr",
     "output_type": "stream",
     "text": [
      "\n"
     ]
    },
    {
     "data": {
      "text/plain": [
       "================================================================================================================\n",
       "NicheSpace(Name:4a62c720-c573-426e-83ea-9b855e130bf1, ObservationType: None, FeatureType: None, ClassType: None)\n",
       "================================================================================================================\n",
       "    * kernel_distance_metric: jaccard\n",
       "    * scoring_distance_metric: euclidean\n",
       "    * niche_prefix: n\n",
       "    * checkpoint_directory: checkpoints\n",
       "    * n_neighbors: 59\n",
       "    * n_components: 48\n",
       "    * alpha: 0.6458941130666561\n",
       "    * score: 0.015460333975544803"
      ]
     },
     "execution_count": 34,
     "metadata": {},
     "output_type": "execute_result"
    }
   ],
   "source": []
  },
  {
   "cell_type": "code",
   "execution_count": 36,
   "id": "86980e29-8be8-4d51-a988-62e901b8cfa4",
   "metadata": {
    "tags": []
   },
   "outputs": [],
   "source": []
  },
  {
   "cell_type": "code",
   "execution_count": null,
   "id": "e335417a-c64e-4899-bbb5-f4ca5fc50537",
   "metadata": {},
   "outputs": [],
   "source": [
    "%%memit\n",
    "\n",
    "n, m = X.shape\n",
    "model_name=\"test\"\n",
    "mns = HierarchicalNicheSpace(\n",
    "    observation_type=\"genome\",\n",
    "    feature_type=\"ko\",\n",
    "    class1_type=\"ani-cluster\",\n",
    "    class2_type=\"mfc-cluster\",\n",
    "    name=model_name,\n",
    "    n_neighbors=[int, int(np.log(n)), int(np.sqrt(n)/2)],\n",
    "    n_trials=100,\n",
    "    n_jobs=-1,\n",
    "    verbose=3,\n",
    "    checkpoint_directory=\"checkpoints\",\n",
    ")\n",
    "mns.fit(X, y1, y2)\n"
   ]
  },
  {
   "cell_type": "code",
   "execution_count": 38,
   "id": "61d29567-5362-4332-82e9-f4001a4cd959",
   "metadata": {
    "tags": []
   },
   "outputs": [
    {
     "data": {
      "text/plain": [
       "'/home/ec2-user/SageMaker/projects/metabolic_niche_space/notebooks'"
      ]
     },
     "execution_count": 38,
     "metadata": {},
     "output_type": "execute_result"
    }
   ],
   "source": [
    "pwd"
   ]
  },
  {
   "cell_type": "code",
   "execution_count": null,
   "id": "b672f325-6f58-4440-a00c-8668957cc1ec",
   "metadata": {},
   "outputs": [],
   "source": []
  },
  {
   "cell_type": "code",
   "execution_count": null,
   "id": "795777fd-586c-47c7-8997-330a66428c19",
   "metadata": {},
   "outputs": [],
   "source": []
  },
  {
   "cell_type": "code",
   "execution_count": null,
   "id": "31de3d6b-2b5a-4f12-b110-213579a40d67",
   "metadata": {},
   "outputs": [],
   "source": []
  },
  {
   "cell_type": "code",
   "execution_count": null,
   "id": "bb4d7ba6-d5ab-42f6-9066-6152ee47b335",
   "metadata": {},
   "outputs": [],
   "source": [
    "#     def qualitative_transform(\n",
    "#         self, \n",
    "#         n_components=3,\n",
    "#         n_neighbors=None,\n",
    "#         MN_ratio=0.5, \n",
    "#         FP_ratio=2.0,\n",
    "#         include_initial_data=True,\n",
    "#         ):\n",
    "#         if not self.is_fitted:\n",
    "#             raise Exception(\"Please run .fit to build DiffusionMap model before continuing\")\n",
    "            \n",
    "#         if hasattr(self, \"pacmap_embedding_\"):\n",
    "#             return self.pacmap_embedding_\n",
    "#         else:\n",
    "#             # initializing the pacmap instance\n",
    "#             # Setting n_neighbors to \"None\" leads to an automatic choice shown below in \"parameter\" section\n",
    "#             pacmap_model = pacmap.PaCMAP(\n",
    "#                 n_components=n_components, \n",
    "#                 n_neighbors=n_neighbors, \n",
    "#                 MN_ratio=MN_ratio, \n",
    "#                 FP_ratio=FP_ratio,\n",
    "#             ) \n",
    "#             dataframes = list()\n",
    "#             if include_initial_data:\n",
    "#                 dataframes.append(self.X_)\n",
    "\n",
    "#             X = pd.concat(dataframes, axis=0)\n",
    "\n",
    "#             if not self.scale_by_steadystate:\n",
    "#                 X = X.iloc[:,1:]\n",
    "\n",
    "#             # fit the data (The index of transformed data corresponds to the index of the original data)\n",
    "#             self.pacmap_embedding_ = pacmap_model.fit_transform(X, init=\"pca\")\n",
    "#             self.pacmap_embedding_ = pd.DataFrame(self.pacmap_embedding_, index=X.index)\n",
    "#             self.pacmap_embedding_.columns = self.pacmap_embedding_.columns.map(lambda i: f\"PaCMAP-{i+1}\")\n",
    "#             return self.pacmap_embedding_\n",
    "\n",
    "#     def plot_qualitative(\n",
    "#         self, \n",
    "#         n_dimensions:int=3,\n",
    "#         engine:str=\"matplotlib\",\n",
    "#         figsize=(8,8),\n",
    "#         title=None,\n",
    "#         **kws,\n",
    "#         ):\n",
    "#         if not hasattr(self, \"pacmap_embedding_\"):\n",
    "#             raise Exception(\"Please run .qualitative_transform to compute PaCMAP embeddings before continuing\")\n",
    "#         if engine == \"matplotlib\":\n",
    "#             import matplotlib.pyplot as plt\n",
    "#             from mpl_toolkits.mplot3d import Axes3D        \n",
    "            \n",
    "#             \"\"\"\n",
    "#             Plots a 3D scatter plot using matplotlib from a DataFrame with exactly three columns.\n",
    "\n",
    "#             Parameters:\n",
    "#             -----------\n",
    "#             df : pd.DataFrame\n",
    "#                 A DataFrame with three numerical columns representing X, Y, and Z coordinates.\n",
    "#             title : str, optional\n",
    "#                 Title of the plot (default is \"3D Scatter Plot\").\n",
    "#             \"\"\"\n",
    "#             fig = plt.figure(figsize=figsize)\n",
    "#             ax = fig.add_subplot(111, projection='3d')\n",
    "\n",
    "#             # Extract X, Y, Z from DataFrame\n",
    "#             df = self.pacmap_embedding_\n",
    "#             x, y, z = df.iloc[:, 0], df.iloc[:, 1], df.iloc[:, 2]\n",
    "            \n",
    "#             c = df.index.map(lambda x: {True:\"red\", False:\"black\"}[x in self.classes_])\n",
    "\n",
    "#             # Scatter plot\n",
    "#             ax.scatter(x, y, z, c=c, alpha=0.618, **kws)\n",
    "\n",
    "#             # Labels and title\n",
    "#             ax.set_xlabel(df.columns[0])\n",
    "#             ax.set_ylabel(df.columns[1])\n",
    "#             ax.set_zlabel(df.columns[2])\n",
    "#             if title:\n",
    "#                 ax.set_title(title)\n",
    "\n",
    "#             return fig, ax\n",
    "        \n",
    "    \n",
    "#     def qualitative_transform(\n",
    "#         self, \n",
    "#         n_components=3,\n",
    "#         n_neighbors=None,\n",
    "#         MN_ratio=0.5,  # Set up tuning here\n",
    "#         FP_ratio=2.0, # Set up tuning here\n",
    "#         include_initial_data=True,\n",
    "#         include_grouped_data=True,\n",
    "#         ):\n",
    "#         if not self.is_fitted:\n",
    "#             raise Exception(\"Please run .fit to build DiffusionMap model before continuing\")\n",
    "            \n",
    "#         if hasattr(self, \"pacmap_embedding_\"):\n",
    "#             return self.pacmap_embedding_\n",
    "#         else:\n",
    "#             # initializing the pacmap instance\n",
    "#             # Setting n_neighbors to \"None\" leads to an automatic choice shown below in \"parameter\" section\n",
    "#             pacmap_model = pacmap.PaCMAP(\n",
    "#                 n_components=n_components, \n",
    "#                 n_neighbors=n_neighbors, \n",
    "#                 MN_ratio=MN_ratio, \n",
    "#                 FP_ratio=FP_ratio,\n",
    "#             ) \n",
    "#             dataframes = list()\n",
    "#             if include_initial_data:\n",
    "#                 dataframes.append(self.X_)\n",
    "\n",
    "#             if include_grouped_data:\n",
    "#                 dataframes.append(self.X1_)\n",
    "\n",
    "#             X = pd.concat(dataframes, axis=0)\n",
    "\n",
    "#             if not self.scale_by_steadystate:\n",
    "#                 X = X.iloc[:,1:]\n",
    "\n",
    "#             # fit the data (The index of transformed data corresponds to the index of the original data)\n",
    "#             self.pacmap_embedding_ = pacmap_model.fit_transform(X, init=\"pca\")\n",
    "#             self.pacmap_embedding_ = pd.DataFrame(self.pacmap_embedding_, index=X.index)\n",
    "#             self.pacmap_embedding_.columns = self.pacmap_embedding_.columns.map(lambda i: f\"PaCMAP-{i+1}\")\n",
    "#             return self.pacmap_embedding_\n",
    "    \n",
    "        # def plot_qualitative(\n",
    "#         self, \n",
    "#         n_dimensions:int=3,\n",
    "#         engine:str=\"matplotlib\",\n",
    "#         figsize=(8,8),\n",
    "#         title=None,\n",
    "#         **kws,\n",
    "#         ):\n",
    "#         if not hasattr(self, \"pacmap_embedding_\"):\n",
    "#             raise Exception(\"Please run .qualitative_transform to compute PaCMAP embeddings before continuing\")\n",
    "#         if engine == \"matplotlib\":\n",
    "#             import matplotlib.pyplot as plt\n",
    "#             from mpl_toolkits.mplot3d import Axes3D        \n",
    "            \n",
    "#             \"\"\"\n",
    "#             Plots a 3D scatter plot using matplotlib from a DataFrame with exactly three columns.\n",
    "\n",
    "#             Parameters:\n",
    "#             -----------\n",
    "#             df : pd.DataFrame\n",
    "#                 A DataFrame with three numerical columns representing X, Y, and Z coordinates.\n",
    "#             title : str, optional\n",
    "#                 Title of the plot (default is \"3D Scatter Plot\").\n",
    "#             \"\"\"\n",
    "#             fig = plt.figure(figsize=figsize)\n",
    "#             ax = fig.add_subplot(111, projection='3d')\n",
    "\n",
    "#             # Extract X, Y, Z from DataFrame\n",
    "#             df = self.pacmap_embedding_\n",
    "#             x, y, z = df.iloc[:, 0], df.iloc[:, 1], df.iloc[:, 2]\n",
    "            \n",
    "#             c = df.index.map(lambda x: {True:\"red\", False:\"black\"}[x in self.classes1_])\n",
    "\n",
    "#             # Scatter plot\n",
    "#             ax.scatter(x, y, z, c=c, alpha=0.618, **kws)\n",
    "\n",
    "#             # Labels and title\n",
    "#             ax.set_xlabel(df.columns[0])\n",
    "#             ax.set_ylabel(df.columns[1])\n",
    "#             ax.set_zlabel(df.columns[2])\n",
    "#             if title:\n",
    "#                 ax.set_title(title)\n",
    "\n",
    "#             return fig, ax"
   ]
  },
  {
   "cell_type": "code",
   "execution_count": null,
   "id": "4ed493f4-6a80-49c9-9c20-1f79735f906e",
   "metadata": {},
   "outputs": [],
   "source": [
    "# "
   ]
  },
  {
   "cell_type": "code",
   "execution_count": null,
   "id": "24a29647-3f6c-4eb6-be88-8968bf1e1883",
   "metadata": {},
   "outputs": [],
   "source": []
  },
  {
   "cell_type": "code",
   "execution_count": null,
   "id": "ae97d4de-8498-4dab-89c0-b60ffb18d86d",
   "metadata": {
    "tags": []
   },
   "outputs": [
    {
     "name": "stderr",
     "output_type": "stream",
     "text": [
      "Grouping rows by: 100%|██████████| 2124/2124 [00:00<00:00, 7534.99 column/s]\n"
     ]
    },
    {
     "name": "stdout",
     "output_type": "stream",
     "text": [
      "2025-02-14 23:39:59,116 - NAL-GDB_MNS_v2.SLC-MFC - INFO - [Start] Filtering observations and classes below feature threshold: 100\n",
      "2025-02-14 23:39:59,427 - NAL-GDB_MNS_v2.SLC-MFC - INFO - [Dropping] N = 248 y1 classes\n",
      "2025-02-14 23:39:59,430 - NAL-GDB_MNS_v2.SLC-MFC - INFO - [Dropping] N = 609 observations\n",
      "2025-02-14 23:39:59,432 - NAL-GDB_MNS_v2.SLC-MFC - INFO - [Remaining] N = 6462 y1 classes\n",
      "2025-02-14 23:39:59,434 - NAL-GDB_MNS_v2.SLC-MFC - INFO - [Remaining] N = 65 y2 classes\n",
      "2025-02-14 23:39:59,435 - NAL-GDB_MNS_v2.SLC-MFC - INFO - [Remaining] N = 19746 observations\n",
      "2025-02-14 23:39:59,436 - NAL-GDB_MNS_v2.SLC-MFC - INFO - [Remaining] N = 2124 features\n",
      "2025-02-14 23:39:59,437 - NAL-GDB_MNS_v2.SLC-MFC - INFO - [End] Filtering observations and classes below feature threshold\n",
      "2025-02-14 23:39:59,520 - NAL-GDB_MNS_v2.SLC-MFC - INFO - [Start] Processing distance matrix\n",
      "2025-02-14 23:41:17,128 - NAL-GDB_MNS_v2.SLC-MFC - INFO - [End] Processing distance matrix\n",
      "2025-02-14 23:41:17,159 - NAL-GDB_MNS_v2.SLC-MFC - INFO - [Begin] Hyperparameter Tuning\n",
      "2025-02-14 23:41:17,162 - NAL-GDB_MNS_v2.SLC-MFC - INFO - [Creating] Checkpoint file: checkpoints/NAL-GDB_MNS_v2.SLC-MFC.pkl\n"
     ]
    },
    {
     "name": "stderr",
     "output_type": "stream",
     "text": [
      "[I 2025-02-14 23:41:17,163] A new study created in memory with name: NAL-GDB_MNS_v2.SLC-MFC\n",
      "  0%|          | 0/100 [00:00<?, ?it/s]"
     ]
    },
    {
     "name": "stdout",
     "output_type": "stream",
     "text": [
      "2025-02-14 23:41:17,167 - NAL-GDB_MNS_v2.SLC-MFC - INFO - [Trial 0] Fitting Diffision Map: n_neighbors=43, n_components=75, alpha=0.6027633760716439\n",
      "2025-02-14 23:41:20,871 - NAL-GDB_MNS_v2.SLC-MFC - INFO - [Trial 0] Transforming observations: n_neighbors=43, n_components=75, alpha=0.6027633760716439\n"
     ]
    },
    {
     "name": "stderr",
     "output_type": "stream",
     "text": [
      "[Trial 0] Projecting initial data into diffusion space: 100%|██████████| 19746/19746 [04:02<00:00, 81.59it/s]\n"
     ]
    },
    {
     "name": "stdout",
     "output_type": "stream",
     "text": [
      "2025-02-14 23:45:23,116 - NAL-GDB_MNS_v2.SLC-MFC - INFO - [Trial 0] Calculating silhouette score: n_neighbors=43, n_components=75, alpha=0.6027633760716439\n"
     ]
    },
    {
     "name": "stderr",
     "output_type": "stream",
     "text": [
      "Best trial: 0. Best value: 0.280766:   1%|          | 1/100 [04:09<6:52:06, 249.77s/it]"
     ]
    },
    {
     "name": "stdout",
     "output_type": "stream",
     "text": [
      "[I 2025-02-14 23:45:26,762] Trial 0 finished with value: 0.28076570723785577 and parameters: {'n_neighbors': 43, 'n_components': 75, 'alpha': 0.6027633760716439}. Best is trial 0 with value: 0.28076570723785577.\n",
      "2025-02-14 23:45:26,933 - NAL-GDB_MNS_v2.SLC-MFC - INFO - [Trial 1] Fitting Diffision Map: n_neighbors=43, n_components=48, alpha=0.6458941130666561\n",
      "2025-02-14 23:45:30,168 - NAL-GDB_MNS_v2.SLC-MFC - INFO - [Trial 1] Transforming observations: n_neighbors=43, n_components=48, alpha=0.6458941130666561\n"
     ]
    },
    {
     "name": "stderr",
     "output_type": "stream",
     "text": [
      "[Trial 1] Projecting initial data into diffusion space: 100%|██████████| 19746/19746 [03:59<00:00, 82.40it/s]\n"
     ]
    },
    {
     "name": "stdout",
     "output_type": "stream",
     "text": [
      "2025-02-14 23:49:30,017 - NAL-GDB_MNS_v2.SLC-MFC - INFO - [Trial 1] Calculating silhouette score: n_neighbors=43, n_components=48, alpha=0.6458941130666561\n"
     ]
    },
    {
     "name": "stderr",
     "output_type": "stream",
     "text": [
      "Best trial: 1. Best value: 0.384816:   2%|▏         | 2/100 [08:16<6:45:02, 247.99s/it]"
     ]
    },
    {
     "name": "stdout",
     "output_type": "stream",
     "text": [
      "[I 2025-02-14 23:49:33,564] Trial 1 finished with value: 0.38481572152753923 and parameters: {'n_neighbors': 43, 'n_components': 48, 'alpha': 0.6458941130666561}. Best is trial 1 with value: 0.38481572152753923.\n",
      "2025-02-14 23:49:33,677 - NAL-GDB_MNS_v2.SLC-MFC - INFO - [Trial 2] Fitting Diffision Map: n_neighbors=36, n_components=91, alpha=0.9636627605010293\n",
      "2025-02-14 23:49:37,176 - NAL-GDB_MNS_v2.SLC-MFC - INFO - [Trial 2] Transforming observations: n_neighbors=36, n_components=91, alpha=0.9636627605010293\n"
     ]
    },
    {
     "name": "stderr",
     "output_type": "stream",
     "text": [
      "[Trial 2] Projecting initial data into diffusion space: 100%|██████████| 19746/19746 [04:03<00:00, 81.02it/s]\n"
     ]
    },
    {
     "name": "stdout",
     "output_type": "stream",
     "text": [
      "2025-02-14 23:53:41,150 - NAL-GDB_MNS_v2.SLC-MFC - INFO - [Trial 2] Calculating silhouette score: n_neighbors=36, n_components=91, alpha=0.9636627605010293\n"
     ]
    },
    {
     "name": "stderr",
     "output_type": "stream",
     "text": [
      "Best trial: 1. Best value: 0.384816:   3%|▎         | 3/100 [12:28<6:43:34, 249.63s/it]"
     ]
    },
    {
     "name": "stdout",
     "output_type": "stream",
     "text": [
      "[I 2025-02-14 23:53:45,141] Trial 2 finished with value: 0.30093254860769597 and parameters: {'n_neighbors': 36, 'n_components': 91, 'alpha': 0.9636627605010293}. Best is trial 1 with value: 0.38481572152753923.\n",
      "2025-02-14 23:53:45,259 - NAL-GDB_MNS_v2.SLC-MFC - INFO - [Trial 3] Fitting Diffision Map: n_neighbors=33, n_components=82, alpha=0.5288949197529045\n",
      "2025-02-14 23:53:48,611 - NAL-GDB_MNS_v2.SLC-MFC - INFO - [Trial 3] Transforming observations: n_neighbors=33, n_components=82, alpha=0.5288949197529045\n"
     ]
    },
    {
     "name": "stderr",
     "output_type": "stream",
     "text": [
      "[Trial 3] Projecting initial data into diffusion space: 100%|██████████| 19746/19746 [04:03<00:00, 81.22it/s]\n"
     ]
    },
    {
     "name": "stdout",
     "output_type": "stream",
     "text": [
      "2025-02-14 23:57:51,945 - NAL-GDB_MNS_v2.SLC-MFC - INFO - [Trial 3] Calculating silhouette score: n_neighbors=33, n_components=82, alpha=0.5288949197529045\n"
     ]
    },
    {
     "name": "stderr",
     "output_type": "stream",
     "text": [
      "Best trial: 1. Best value: 0.384816:   4%|▍         | 4/100 [16:38<6:39:56, 249.96s/it]"
     ]
    },
    {
     "name": "stdout",
     "output_type": "stream",
     "text": [
      "[I 2025-02-14 23:57:55,603] Trial 3 finished with value: 0.34447618638860833 and parameters: {'n_neighbors': 33, 'n_components': 82, 'alpha': 0.5288949197529045}. Best is trial 1 with value: 0.38481572152753923.\n",
      "2025-02-14 23:57:55,728 - NAL-GDB_MNS_v2.SLC-MFC - INFO - [Trial 4] Fitting Diffision Map: n_neighbors=44, n_components=94, alpha=0.07103605819788694\n",
      "2025-02-14 23:57:59,529 - NAL-GDB_MNS_v2.SLC-MFC - INFO - [Trial 4] Transforming observations: n_neighbors=44, n_components=94, alpha=0.07103605819788694\n"
     ]
    },
    {
     "name": "stderr",
     "output_type": "stream",
     "text": [
      "[Trial 4] Projecting initial data into diffusion space: 100%|██████████| 19746/19746 [04:04<00:00, 80.60it/s]\n"
     ]
    },
    {
     "name": "stdout",
     "output_type": "stream",
     "text": [
      "2025-02-15 00:02:04,752 - NAL-GDB_MNS_v2.SLC-MFC - INFO - [Trial 4] Calculating silhouette score: n_neighbors=44, n_components=94, alpha=0.07103605819788694\n"
     ]
    },
    {
     "name": "stderr",
     "output_type": "stream",
     "text": [
      "Best trial: 1. Best value: 0.384816:   5%|▌         | 5/100 [20:51<6:37:25, 251.01s/it]"
     ]
    },
    {
     "name": "stdout",
     "output_type": "stream",
     "text": [
      "[I 2025-02-15 00:02:08,470] Trial 4 finished with value: 0.302305200623859 and parameters: {'n_neighbors': 44, 'n_components': 94, 'alpha': 0.07103605819788694}. Best is trial 1 with value: 0.38481572152753923.\n",
      "2025-02-15 00:02:08,586 - NAL-GDB_MNS_v2.SLC-MFC - INFO - [Trial 5] Fitting Diffision Map: n_neighbors=14, n_components=11, alpha=0.832619845547938\n",
      "2025-02-15 00:02:10,373 - NAL-GDB_MNS_v2.SLC-MFC - INFO - [Trial 5] Transforming observations: n_neighbors=14, n_components=11, alpha=0.832619845547938\n"
     ]
    },
    {
     "name": "stderr",
     "output_type": "stream",
     "text": [
      "[Trial 5] Projecting initial data into diffusion space: 100%|██████████| 19746/19746 [04:00<00:00, 81.97it/s]\n"
     ]
    },
    {
     "name": "stdout",
     "output_type": "stream",
     "text": [
      "2025-02-15 00:06:11,463 - NAL-GDB_MNS_v2.SLC-MFC - INFO - [Trial 5] Calculating silhouette score: n_neighbors=14, n_components=11, alpha=0.832619845547938\n"
     ]
    },
    {
     "name": "stderr",
     "output_type": "stream",
     "text": [
      "Best trial: 5. Best value: 0.406818:   6%|▌         | 6/100 [24:57<6:30:50, 249.48s/it]"
     ]
    },
    {
     "name": "stdout",
     "output_type": "stream",
     "text": [
      "[I 2025-02-15 00:06:14,964] Trial 5 finished with value: 0.4068183545556655 and parameters: {'n_neighbors': 14, 'n_components': 11, 'alpha': 0.832619845547938}. Best is trial 5 with value: 0.4068183545556655.\n",
      "2025-02-15 00:06:15,093 - NAL-GDB_MNS_v2.SLC-MFC - INFO - [Trial 6] Fitting Diffision Map: n_neighbors=58, n_components=89, alpha=0.978618342232764\n",
      "2025-02-15 00:06:19,413 - NAL-GDB_MNS_v2.SLC-MFC - INFO - [Trial 6] Transforming observations: n_neighbors=58, n_components=89, alpha=0.978618342232764\n"
     ]
    },
    {
     "name": "stderr",
     "output_type": "stream",
     "text": [
      "[Trial 6] Projecting initial data into diffusion space: 100%|██████████| 19746/19746 [04:05<00:00, 80.45it/s]\n"
     ]
    },
    {
     "name": "stdout",
     "output_type": "stream",
     "text": [
      "2025-02-15 00:10:25,098 - NAL-GDB_MNS_v2.SLC-MFC - INFO - [Trial 6] Calculating silhouette score: n_neighbors=58, n_components=89, alpha=0.978618342232764\n"
     ]
    },
    {
     "name": "stderr",
     "output_type": "stream",
     "text": [
      "Best trial: 5. Best value: 0.406818:   7%|▋         | 7/100 [29:11<6:28:52, 250.89s/it]"
     ]
    },
    {
     "name": "stdout",
     "output_type": "stream",
     "text": [
      "[I 2025-02-15 00:10:28,773] Trial 6 finished with value: 0.30859370067415265 and parameters: {'n_neighbors': 58, 'n_components': 89, 'alpha': 0.978618342232764}. Best is trial 5 with value: 0.4068183545556655.\n",
      "2025-02-15 00:10:28,885 - NAL-GDB_MNS_v2.SLC-MFC - INFO - [Trial 7] Fitting Diffision Map: n_neighbors=59, n_components=51, alpha=0.7805291762864555\n",
      "2025-02-15 00:10:32,598 - NAL-GDB_MNS_v2.SLC-MFC - INFO - [Trial 7] Transforming observations: n_neighbors=59, n_components=51, alpha=0.7805291762864555\n"
     ]
    },
    {
     "name": "stderr",
     "output_type": "stream",
     "text": [
      "[Trial 7] Projecting initial data into diffusion space: 100%|██████████| 19746/19746 [04:00<00:00, 82.26it/s]\n"
     ]
    },
    {
     "name": "stdout",
     "output_type": "stream",
     "text": [
      "2025-02-15 00:14:32,838 - NAL-GDB_MNS_v2.SLC-MFC - INFO - [Trial 7] Calculating silhouette score: n_neighbors=59, n_components=51, alpha=0.7805291762864555\n"
     ]
    },
    {
     "name": "stderr",
     "output_type": "stream",
     "text": [
      "Best trial: 5. Best value: 0.406818:   8%|▊         | 8/100 [33:19<6:23:06, 249.86s/it]"
     ]
    },
    {
     "name": "stdout",
     "output_type": "stream",
     "text": [
      "[I 2025-02-15 00:14:36,427] Trial 7 finished with value: 0.38602047542979173 and parameters: {'n_neighbors': 59, 'n_components': 51, 'alpha': 0.7805291762864555}. Best is trial 5 with value: 0.4068183545556655.\n",
      "2025-02-15 00:14:36,535 - NAL-GDB_MNS_v2.SLC-MFC - INFO - [Trial 8] Fitting Diffision Map: n_neighbors=16, n_components=68, alpha=0.1433532874090464\n",
      "2025-02-15 00:14:38,654 - NAL-GDB_MNS_v2.SLC-MFC - INFO - [Trial 8] Transforming observations: n_neighbors=16, n_components=68, alpha=0.1433532874090464\n"
     ]
    },
    {
     "name": "stderr",
     "output_type": "stream",
     "text": [
      "[Trial 8] Projecting initial data into diffusion space: 100%|██████████| 19746/19746 [04:01<00:00, 81.90it/s]\n"
     ]
    },
    {
     "name": "stdout",
     "output_type": "stream",
     "text": [
      "2025-02-15 00:18:39,998 - NAL-GDB_MNS_v2.SLC-MFC - INFO - [Trial 8] Calculating silhouette score: n_neighbors=16, n_components=68, alpha=0.1433532874090464\n"
     ]
    },
    {
     "name": "stderr",
     "output_type": "stream",
     "text": [
      "Best trial: 8. Best value: 0.569787:   9%|▉         | 9/100 [37:26<6:17:41, 249.03s/it]"
     ]
    },
    {
     "name": "stdout",
     "output_type": "stream",
     "text": [
      "[I 2025-02-15 00:18:43,634] Trial 8 finished with value: 0.569787088002823 and parameters: {'n_neighbors': 16, 'n_components': 68, 'alpha': 0.1433532874090464}. Best is trial 8 with value: 0.569787088002823.\n",
      "2025-02-15 00:18:43,754 - NAL-GDB_MNS_v2.SLC-MFC - INFO - [Trial 9] Fitting Diffision Map: n_neighbors=68, n_components=57, alpha=0.4146619399905236\n",
      "2025-02-15 00:18:47,761 - NAL-GDB_MNS_v2.SLC-MFC - INFO - [Trial 9] Transforming observations: n_neighbors=68, n_components=57, alpha=0.4146619399905236\n"
     ]
    },
    {
     "name": "stderr",
     "output_type": "stream",
     "text": [
      "[Trial 9] Projecting initial data into diffusion space: 100%|██████████| 19746/19746 [03:59<00:00, 82.29it/s]\n"
     ]
    },
    {
     "name": "stdout",
     "output_type": "stream",
     "text": [
      "2025-02-15 00:22:47,952 - NAL-GDB_MNS_v2.SLC-MFC - INFO - [Trial 9] Calculating silhouette score: n_neighbors=68, n_components=57, alpha=0.4146619399905236\n"
     ]
    },
    {
     "name": "stderr",
     "output_type": "stream",
     "text": [
      "Best trial: 8. Best value: 0.569787:  10%|█         | 10/100 [41:34<6:13:01, 248.69s/it]"
     ]
    },
    {
     "name": "stdout",
     "output_type": "stream",
     "text": [
      "[I 2025-02-15 00:22:51,536] Trial 9 finished with value: 0.3737599008472039 and parameters: {'n_neighbors': 68, 'n_components': 57, 'alpha': 0.4146619399905236}. Best is trial 8 with value: 0.569787088002823.\n",
      "2025-02-15 00:22:51,676 - NAL-GDB_MNS_v2.SLC-MFC - INFO - [Trial 10] Fitting Diffision Map: n_neighbors=10, n_components=25, alpha=0.020768834766933364\n",
      "2025-02-15 00:22:53,413 - NAL-GDB_MNS_v2.SLC-MFC - INFO - [Trial 10] Transforming observations: n_neighbors=10, n_components=25, alpha=0.020768834766933364\n"
     ]
    },
    {
     "name": "stderr",
     "output_type": "stream",
     "text": [
      "[Trial 10] Projecting initial data into diffusion space: 100%|██████████| 19746/19746 [03:59<00:00, 82.49it/s]\n"
     ]
    },
    {
     "name": "stdout",
     "output_type": "stream",
     "text": [
      "2025-02-15 00:26:53,010 - NAL-GDB_MNS_v2.SLC-MFC - INFO - [Trial 10] Calculating silhouette score: n_neighbors=10, n_components=25, alpha=0.020768834766933364\n"
     ]
    },
    {
     "name": "stderr",
     "output_type": "stream",
     "text": [
      "Best trial: 8. Best value: 0.569787:  11%|█         | 11/100 [45:39<6:07:11, 247.55s/it]"
     ]
    },
    {
     "name": "stdout",
     "output_type": "stream",
     "text": [
      "[I 2025-02-15 00:26:56,510] Trial 10 finished with value: 0.5429956254711731 and parameters: {'n_neighbors': 10, 'n_components': 25, 'alpha': 0.020768834766933364}. Best is trial 8 with value: 0.569787088002823.\n",
      "2025-02-15 00:26:56,639 - NAL-GDB_MNS_v2.SLC-MFC - INFO - [Trial 11] Fitting Diffision Map: n_neighbors=10, n_components=21, alpha=0.008275092186310534\n",
      "2025-02-15 00:26:58,396 - NAL-GDB_MNS_v2.SLC-MFC - INFO - [Trial 11] Transforming observations: n_neighbors=10, n_components=21, alpha=0.008275092186310534\n"
     ]
    },
    {
     "name": "stderr",
     "output_type": "stream",
     "text": [
      "[Trial 11] Projecting initial data into diffusion space: 100%|██████████| 19746/19746 [03:58<00:00, 82.72it/s]\n"
     ]
    },
    {
     "name": "stdout",
     "output_type": "stream",
     "text": [
      "2025-02-15 00:30:57,299 - NAL-GDB_MNS_v2.SLC-MFC - INFO - [Trial 11] Calculating silhouette score: n_neighbors=10, n_components=21, alpha=0.008275092186310534\n"
     ]
    },
    {
     "name": "stderr",
     "output_type": "stream",
     "text": [
      "Best trial: 8. Best value: 0.569787:  12%|█▏        | 12/100 [49:43<6:01:37, 246.56s/it]"
     ]
    },
    {
     "name": "stdout",
     "output_type": "stream",
     "text": [
      "[I 2025-02-15 00:31:00,819] Trial 11 finished with value: 0.4374556912844277 and parameters: {'n_neighbors': 10, 'n_components': 21, 'alpha': 0.008275092186310534}. Best is trial 8 with value: 0.569787088002823.\n",
      "2025-02-15 00:31:00,946 - NAL-GDB_MNS_v2.SLC-MFC - INFO - [Trial 12] Fitting Diffision Map: n_neighbors=23, n_components=34, alpha=0.23785187354887993\n",
      "2025-02-15 00:31:03,088 - NAL-GDB_MNS_v2.SLC-MFC - INFO - [Trial 12] Transforming observations: n_neighbors=23, n_components=34, alpha=0.23785187354887993\n"
     ]
    },
    {
     "name": "stderr",
     "output_type": "stream",
     "text": [
      "[Trial 12] Projecting initial data into diffusion space: 100%|██████████| 19746/19746 [03:59<00:00, 82.37it/s]\n"
     ]
    },
    {
     "name": "stdout",
     "output_type": "stream",
     "text": [
      "2025-02-15 00:35:03,017 - NAL-GDB_MNS_v2.SLC-MFC - INFO - [Trial 12] Calculating silhouette score: n_neighbors=23, n_components=34, alpha=0.23785187354887993\n"
     ]
    },
    {
     "name": "stderr",
     "output_type": "stream",
     "text": [
      "Best trial: 12. Best value: 0.601531:  13%|█▎        | 13/100 [53:49<5:57:08, 246.31s/it]"
     ]
    },
    {
     "name": "stdout",
     "output_type": "stream",
     "text": [
      "[I 2025-02-15 00:35:06,552] Trial 12 finished with value: 0.6015311054439123 and parameters: {'n_neighbors': 23, 'n_components': 34, 'alpha': 0.23785187354887993}. Best is trial 12 with value: 0.6015311054439123.\n",
      "2025-02-15 00:35:06,678 - NAL-GDB_MNS_v2.SLC-MFC - INFO - [Trial 13] Fitting Diffision Map: n_neighbors=21, n_components=35, alpha=0.23763876186552133\n",
      "2025-02-15 00:35:08,733 - NAL-GDB_MNS_v2.SLC-MFC - INFO - [Trial 13] Transforming observations: n_neighbors=21, n_components=35, alpha=0.23763876186552133\n"
     ]
    },
    {
     "name": "stderr",
     "output_type": "stream",
     "text": [
      "[Trial 34] Projecting initial data into diffusion space: 100%|██████████| 19746/19746 [20:56<00:00, 15.72it/s]\n"
     ]
    },
    {
     "name": "stdout",
     "output_type": "stream",
     "text": [
      "2025-02-15 04:14:16,609 - NAL-GDB_MNS_v2.SLC-MFC - INFO - [Trial 34] Calculating silhouette score: n_neighbors=40, n_components=42, alpha=0.6426762465938741\n"
     ]
    },
    {
     "name": "stderr",
     "output_type": "stream",
     "text": [
      "Best trial: 23. Best value: 0.698291:  35%|███▌      | 35/100 [4:33:04<21:38:48, 1198.89s/it]"
     ]
    },
    {
     "name": "stdout",
     "output_type": "stream",
     "text": [
      "[I 2025-02-15 04:14:21,406] Trial 34 finished with value: 0.4323190183088095 and parameters: {'n_neighbors': 40, 'n_components': 42, 'alpha': 0.6426762465938741}. Best is trial 23 with value: 0.6982913190341421.\n",
      "2025-02-15 04:14:21,529 - NAL-GDB_MNS_v2.SLC-MFC - INFO - [Trial 35] Fitting Diffision Map: n_neighbors=32, n_components=52, alpha=0.5230532227739966\n",
      "2025-02-15 04:14:31,080 - NAL-GDB_MNS_v2.SLC-MFC - INFO - [Trial 35] Transforming observations: n_neighbors=32, n_components=52, alpha=0.5230532227739966\n"
     ]
    },
    {
     "name": "stderr",
     "output_type": "stream",
     "text": [
      "[Trial 35] Projecting initial data into diffusion space:  39%|███▉      | 7664/19746 [08:05<12:29, 16.11it/s]"
     ]
    }
   ],
   "source": []
  },
  {
   "cell_type": "code",
   "execution_count": null,
   "id": "9540fe14-429b-4bf0-8484-90042ea1d2f0",
   "metadata": {
    "tags": []
   },
   "outputs": [],
   "source": [
    "\n",
    "mns = GroupedNicheSpace(\n",
    "    observation_type=\"genome\",\n",
    "    feature_type=\"ko\",\n",
    "    class1_type=\"ani-cluster\",\n",
    "    class2_type=\"mfc-cluster\",\n",
    "    name=model_name,\n",
    "    n_neighbors=[int, int(np.log(n)), int(np.sqrt(n)/2)],\n",
    "    n_trials=500,\n",
    "    n_jobs=-1,\n",
    "    verbose=3,\n",
    "    checkpoint_directory=\"checkpoints\",\n",
    ")\n",
    "mns.fit(X, y1, y2)\n",
    "mns_test.qualitative_transform()\n",
    "mns.to_file(mns, os.path.join(\"checkpoints\", f\"{model_name}.GroupedNicheSpace.n_trials-500.pkl\"))\n"
   ]
  },
  {
   "cell_type": "code",
   "execution_count": null,
   "id": "342258f3-931d-4521-91c2-91327d1ba905",
   "metadata": {
    "tags": []
   },
   "outputs": [],
   "source": [
    "0"
   ]
  },
  {
   "cell_type": "code",
   "execution_count": null,
   "id": "2d249305-0e63-4b21-af9a-c4ae3376685b",
   "metadata": {
    "tags": []
   },
   "outputs": [],
   "source": []
  },
  {
   "cell_type": "code",
   "execution_count": null,
   "id": "34ff7a08-fa14-481e-8688-dfe97ce5ab34",
   "metadata": {},
   "outputs": [],
   "source": []
  },
  {
   "cell_type": "code",
   "execution_count": null,
   "id": "65fe5627-e2a3-4473-b627-21b97d3ef7f5",
   "metadata": {},
   "outputs": [],
   "source": []
  },
  {
   "cell_type": "code",
   "execution_count": null,
   "id": "cecebf6b-a578-4cf4-b566-e7b41273bcf6",
   "metadata": {},
   "outputs": [],
   "source": []
  },
  {
   "cell_type": "code",
   "execution_count": null,
   "id": "56c8a0e5-b525-4d12-8c25-f55a7ca1b620",
   "metadata": {
    "tags": []
   },
   "outputs": [],
   "source": []
  },
  {
   "cell_type": "code",
   "execution_count": 14,
   "id": "01698a4a-1229-4a82-882e-2c11cab51f58",
   "metadata": {},
   "outputs": [],
   "source": []
  },
  {
   "cell_type": "code",
   "execution_count": null,
   "id": "1dc7932b-7ae5-4d43-808e-9b1af4aa567d",
   "metadata": {},
   "outputs": [],
   "source": []
  },
  {
   "cell_type": "code",
   "execution_count": null,
   "id": "5339d843-d9d7-41be-835a-1a02a40ec25e",
   "metadata": {},
   "outputs": [],
   "source": []
  },
  {
   "cell_type": "code",
   "execution_count": null,
   "id": "e7195a6f-4a19-4502-ac31-677ea6a60687",
   "metadata": {
    "tags": []
   },
   "outputs": [],
   "source": []
  },
  {
   "cell_type": "code",
   "execution_count": null,
   "id": "cb247c98-2564-4502-9c45-123fd0dc5bb8",
   "metadata": {
    "tags": []
   },
   "outputs": [],
   "source": []
  },
  {
   "cell_type": "code",
   "execution_count": null,
   "id": "712c5b3e-9f37-4662-8baa-f26f576e2897",
   "metadata": {
    "tags": []
   },
   "outputs": [],
   "source": []
  },
  {
   "cell_type": "code",
   "execution_count": null,
   "id": "87847b2a-37c9-449d-8433-b1383982b53c",
   "metadata": {},
   "outputs": [],
   "source": [
    "# class NicheSpace(object):\n",
    "#     \"\"\"\n",
    "#     Usage:\n",
    "#     import numpy as np\n",
    "#     import pandas as pd\n",
    "#     from sklearn.datasets import make_classification\n",
    "\n",
    "#     # Generate synthetic dataset\n",
    "#     X, y = make_classification(\n",
    "#         n_samples=1000,        # Number of samples\n",
    "#         n_features=100,        # Number of boolean features\n",
    "#         n_informative=50,      # Number of informative features\n",
    "#         n_redundant=25,        # Number of redundant features\n",
    "#         n_repeated=0,          # No repeated features\n",
    "#         n_classes=3,           # Number of classes\n",
    "#         n_clusters_per_class=1, # One cluster per class\n",
    "#         weights=[0.33, 0.33, 0.34],  # Balanced class distribution\n",
    "#         random_state=42        # For reproducibility\n",
    "#     )\n",
    "\n",
    "#     # Convert features to boolean (0 or 1) using a threshold at 0\n",
    "#     X_boolean = (X > 0).astype(int)\n",
    "\n",
    "#     # Create DataFrame\n",
    "#     df = pd.DataFrame(X_boolean, columns=[f'Feature_{i+1}' for i in range(100)])\n",
    "#     df['Class'] = y  # Add class labels\n",
    "\n",
    "#     y = df.pop(\"Class\")\n",
    "#     X = df > 0\n",
    "\n",
    "#     model = NicheSpace(n_trials=3, minimum_nfeatures=1)\n",
    "#     model.fit(X,y)\n",
    "#     X_pacmap = model.qualitative_transform()\n",
    "#     \"\"\"\n",
    "#     def __init__(\n",
    "#         self, \n",
    "#         # General\n",
    "#         name:str=None,\n",
    "#         observation_type:str=None,\n",
    "#         feature_type:str=None,\n",
    "#         class_type:str=None,\n",
    "#         minimum_nfeatures:int=100,\n",
    "\n",
    "#         # Diffusion Maps\n",
    "#         kernel_distance_metric:str=\"jaccard\",\n",
    "#         # scoring_method:str=\"silhouette\", # or IICR\n",
    "#         scoring_distance_metric:str=\"euclidean\",\n",
    "#         n_neighbors:int=\"auto\",\n",
    "#         n_components:int=\"auto\", # n_eigenpairs in DataFold. First diffusion map vector is steady-state so 1 is automatically added to any n_components value\n",
    "#         alpha:float=\"auto\",\n",
    "#         initial_diffusionmap_params:dict=None,\n",
    "\n",
    "#         scale_by_steadystate:bool=True,\n",
    "#         niche_prefix=\"n\",\n",
    "        \n",
    "#         # PaCMAP\n",
    "#         pacmap_n_components=3,\n",
    "#         pacmap_n_neighbors=None,\n",
    "#         pacmap_MN_ratio=0.5, \n",
    "#         pacmap_FP_ratio=2.0,\n",
    "\n",
    "#         # Optuna\n",
    "#         n_trials=50,\n",
    "#         n_jobs:int=1,\n",
    "#         n_concurrent_trials:int=1,\n",
    "#         objective_direction=\"maximize\",\n",
    "#         checkpoint_directory=None,\n",
    "#         study_timeout=None,\n",
    "#         study_callbacks=None,\n",
    "#         random_state=0,\n",
    "#         verbose=1,\n",
    "#         stream=sys.stdout,\n",
    "#         ):\n",
    "        \n",
    "#         # General\n",
    "#         if name is None:\n",
    "#             name = str(uuid.uuid4())\n",
    "            \n",
    "#         self.name = name\n",
    "#         self.observation_type = observation_type\n",
    "#         self.feature_type = feature_type\n",
    "#         self.class_type = class_type\n",
    "#         self.minimum_nfeatures = minimum_nfeatures\n",
    "        \n",
    "#         # Diffusion Maps\n",
    "#         self.initial_diffusionmap_params = initial_diffusionmap_params\n",
    "#         self.kernel_distance_metric = kernel_distance_metric\n",
    "#         # self.scoring_method = scoring_method\n",
    "#         self.scoring_distance_metric = scoring_distance_metric\n",
    "#         self.scale_by_steadystate = scale_by_steadystate\n",
    "#         self.niche_prefix = niche_prefix\n",
    "        \n",
    "#         # PaCMAP\n",
    "#         self.pacmap_n_components=pacmap_n_components\n",
    "#         self.pacmap_n_neighbors=pacmap_n_neighbors\n",
    "#         self.pacmap_MN_ratio=pacmap_MN_ratio\n",
    "#         self.pacmap_FP_ratio=pacmap_FP_ratio\n",
    "        \n",
    "#         # Optuna\n",
    "#         self.n_jobs = n_jobs\n",
    "#         self.n_trials = n_trials\n",
    "#         self.n_concurrent_trials = n_concurrent_trials\n",
    "#         self.checkpoint_directory = checkpoint_directory\n",
    "#         self.random_state = random_state\n",
    "#         self.study_timeout = study_timeout\n",
    "#         if study_callbacks is None:\n",
    "#             study_callbacks = []\n",
    "#         self.study_callbacks = study_callbacks\n",
    "#         self.objective_direction = objective_direction\n",
    "\n",
    "#         # Hyperparameters\n",
    "#         # ------------\n",
    "#         # DiffusionMap\n",
    "#         self.is_tuned = True\n",
    "#         if n_neighbors == \"auto\":\n",
    "#             n_neighbors = [int, 10, 100]\n",
    "#             self.is_tuned = False\n",
    "#         if isinstance(n_neighbors, list):\n",
    "#             self.is_tuned = False\n",
    "#         self.n_neighbors = n_neighbors\n",
    "        \n",
    "#         if n_components == \"auto\":\n",
    "#             n_components = [int, 10, 100]\n",
    "#             self.is_tuned = False\n",
    "#         if isinstance(n_components, list):\n",
    "#             self.is_tuned = False\n",
    "#         self.n_components = n_components\n",
    "        \n",
    "#         if alpha == \"auto\":\n",
    "#             alpha = [float, 0.0, 1.0]\n",
    "#             self.is_tuned = False\n",
    "#         if isinstance(alpha, list):\n",
    "#             self.is_tuned = False\n",
    "#         self.alpha = alpha\n",
    "        \n",
    "#         self._diffusionmap_param_space = dict(\n",
    "#             n_neighbors = self.n_neighbors,\n",
    "#             n_components = self.n_components,\n",
    "#             alpha = self.alpha,\n",
    "#         )\n",
    "        \n",
    "#         # ---------------\n",
    "#         # PacMAP\n",
    "        \n",
    "        \n",
    "#         self.logger = build_logger(self.name, stream=stream)\n",
    "#         self.verbose = verbose\n",
    "#         self.is_fitted = False\n",
    "        \n",
    "#     def tune_diffusionmap(\n",
    "#         self,\n",
    "#         X:pd.DataFrame,\n",
    "#         y:pd.Series,\n",
    "#         distance_matrix:np.array,\n",
    "#         sampler, \n",
    "#         **study_kws,\n",
    "#         ):\n",
    "\n",
    "#         def _objective(trial):\n",
    "#             try:\n",
    "\n",
    "#                 # Compile parameters\n",
    "#                 params = compile_parameter_space(\n",
    "#                     trial, \n",
    "#                     self._diffusionmap_param_space,\n",
    "#                 )\n",
    "\n",
    "#                 # Parameters\n",
    "#                 n_neighbors = params[\"n_neighbors\"]\n",
    "#                 n_components = params[\"n_components\"]\n",
    "#                 alpha = params[\"alpha\"]\n",
    "\n",
    "#                 if n_neighbors >= X.shape[0]:\n",
    "#                     return -1 #np.nan\n",
    "#                 else:\n",
    "#                     # Build kernel\n",
    "#                     kernel = KNeighborsKernel( \n",
    "#                         metric=self.kernel_distance_metric, \n",
    "#                         n_neighbors=n_neighbors, \n",
    "#                         distance_matrix=distance_matrix, \n",
    "#                         copy_distance_matrix=False,\n",
    "#                     )\n",
    "\n",
    "#                     # Calculate Diffusion Maps using KNeighbors\n",
    "#                     model = DiffusionMaps(kernel=kernel, n_eigenpairs=n_components+1, alpha=alpha)\n",
    "\n",
    "#                     if self.verbose > 1: self.logger.info(f\"[Trial {trial.number}] Fitting Diffision Map: n_neighbors={n_neighbors}, n_components={n_components}, alpha={alpha}\")\n",
    "#                     dmap = model.fit_transform(X)\n",
    "\n",
    "#                     # Score\n",
    "#                     if self.verbose > 1: self.logger.info(f\"[Trial {trial.number}] Calculating silhouette score: n_neighbors={n_neighbors}, n_components={n_components}, alpha={alpha}\")\n",
    "#                     score = silhouette_score(dmap[:,1:], y.values, metric=self.scoring_distance_metric, sample_size=None, random_state=None) # Ignore steady state vector\n",
    "\n",
    "#                     return score\n",
    "\n",
    "#             except Exception as e:\n",
    "#                 self.logger.error(f\"[Trial {trial.number}] Failed due to error: {e}. Marking as pruned.\")\n",
    "#                 raise optuna.TrialPruned()  # Prevents skipping trials\n",
    "\n",
    "#             finally:\n",
    "#                 if self.checkpoint_directory:\n",
    "#                     joblib.dump(study, os.path.join(self.checkpoint_directory, f\"{self.name}-diffusionmap.pkl\"))  # Save checkpoint\n",
    "\n",
    "                \n",
    "#         # Sampler\n",
    "#         if sampler is None:\n",
    "#             sampler = optuna.samplers.TPESampler(seed=self.random_state)\n",
    "        \n",
    "#         # Study\n",
    "#         study_params = {\n",
    "#             \"direction\":self.objective_direction, \n",
    "#             \"study_name\":self.name, \n",
    "#             \"sampler\":sampler, \n",
    "#             **study_kws,\n",
    "#         }\n",
    "        \n",
    "#         # Checkpoints\n",
    "#         study = None\n",
    "#         if self.checkpoint_directory:\n",
    "#             if not os.path.exists(self.checkpoint_directory):\n",
    "#                 if self.verbose > 1: self.logger.info(f\"Creating checkpoint directory: {self.checkpoint_directory}\")\n",
    "#                 os.makedirs(self.checkpoint_directory)\n",
    "#             # if self.verbose > 1: self.logger.info(\"Creating sqlite database: {}\".format(os.path.join(self.checkpoint_directory, f\"{self.name}.db\")))\n",
    "#             # study_params[\"storage\"] = \"sqlite:///\" + os.path.join(self.checkpoint_directory, f\"{self.name}.db\")\n",
    "#             # study_params[\"load_if_exists\"] = True\n",
    "        \n",
    "#             serialized_checkpoint_filepath = os.path.join(self.checkpoint_directory, f\"{self.name}-diffusionmap.pkl\")\n",
    "\n",
    "#             if os.path.exists(serialized_checkpoint_filepath):\n",
    "#                 if self.verbose > 1: self.logger.info(f\"[Loading] Checkpoint file: {serialized_checkpoint_filepath}\")\n",
    "#                 study = joblib.load(serialized_checkpoint_filepath)\n",
    "#             else:\n",
    "#                 if self.verbose > 1: self.logger.info(f\"[Creating] Checkpoint file: {serialized_checkpoint_filepath}\")\n",
    "\n",
    "#         if study is None:\n",
    "#             study = optuna.create_study(**study_params)\n",
    "\n",
    "#         if self.initial_diffusionmap_params:\n",
    "#             if self.verbose > 1: self.logger.info(f\"Adding initial parameters to study: {self.initial_diffusionmap_params}\")\n",
    "#             study.enqueue_trial(self.initial_diffusionmap_params, user_attrs={\"memo\": \"initial_diffusionmap_params\"}, skip_if_exists=True)\n",
    "            \n",
    "#         # Optimize\n",
    "#         callback_fn = stop_when_exceeding_trials(self.n_trials, self.logger)\n",
    "#         study.optimize(\n",
    "#             _objective, \n",
    "#             n_trials=self.n_trials, \n",
    "#             n_jobs=self.n_concurrent_trials,\n",
    "#             timeout=self.study_timeout, \n",
    "#             show_progress_bar=self.verbose >= 2, \n",
    "#             callbacks=self.study_callbacks + [_stop_when_exceeding_trials], \n",
    "#             gc_after_trial=True,\n",
    "#         )\n",
    "\n",
    "#         return study\n",
    "    \n",
    "#     def tune_pacmap(\n",
    "#         self,\n",
    "#         X:pd.DataFrame,\n",
    "#         y:pd.Series,\n",
    "#         distance_matrix:np.array,\n",
    "#         sampler, \n",
    "#         **study_kws,\n",
    "#         ):\n",
    "\n",
    "#         def _objective(trial):\n",
    "#             try:\n",
    "\n",
    "#                 # Compile parameters\n",
    "#                 params = compile_parameter_space(\n",
    "#                     trial, \n",
    "#                     self._param_space,\n",
    "#                 )\n",
    "\n",
    "#                 # Parameters\n",
    "#                 n_neighbors = params[\"n_neighbors\"]\n",
    "#                 n_components = params[\"n_components\"]\n",
    "#                 alpha = params[\"alpha\"]\n",
    "\n",
    "#                 if n_neighbors >= X.shape[0]:\n",
    "#                     return -1 #np.nan\n",
    "#                 else:\n",
    "#                     # Build kernel\n",
    "#                     kernel = KNeighborsKernel( \n",
    "#                         metric=self.kernel_distance_metric, \n",
    "#                         n_neighbors=n_neighbors, \n",
    "#                         distance_matrix=distance_matrix, \n",
    "#                         copy_distance_matrix=False,\n",
    "#                     )\n",
    "\n",
    "#                     # Calculate Diffusion Maps using KNeighbors\n",
    "#                     model = DiffusionMaps(kernel=kernel, n_eigenpairs=n_components+1, alpha=alpha)\n",
    "\n",
    "#                     if self.verbose > 1: self.logger.info(f\"[Trial {trial.number}] Fitting Diffision Map: n_neighbors={n_neighbors}, n_components={n_components}, alpha={alpha}\")\n",
    "#                     dmap = model.fit_transform(X)\n",
    "\n",
    "#                     # if self.verbose > 1: self.logger.info(f\"[Trial {trial.number}] Transforming observations: n_neighbors={n_neighbors}, n_components={n_components}, alpha={alpha}\")\n",
    "#                     # dmap = model.transform(X)\n",
    "#                     # dmap = self._parallel_transform(X, model, progressbar_message=f\"[Trial {trial.number}] Projecting initial data into diffusion space\")\n",
    "\n",
    "\n",
    "#                     # Score\n",
    "#                     if self.verbose > 1: self.logger.info(f\"[Trial {trial.number}] Calculating silhouette score: n_neighbors={n_neighbors}, n_components={n_components}, alpha={alpha}\")\n",
    "#                     score = silhouette_score(dmap[:,1:], y.values, metric=self.scoring_distance_metric, sample_size=None, random_state=None) # Ignore steady state vector\n",
    "\n",
    "#                     return score\n",
    "\n",
    "#             except Exception as e:\n",
    "#                 self.logger.error(f\"[Trial {trial.number}] Failed due to error: {e}. Marking as pruned.\")\n",
    "#                 raise optuna.TrialPruned()  # Prevents skipping trials\n",
    "\n",
    "#             finally:\n",
    "#                 if self.checkpoint_directory:\n",
    "#                     joblib.dump(study, os.path.join(self.checkpoint_directory, f\"{self.name}-diffusionmap.pkl\"))  # Save checkpoint\n",
    "\n",
    "                \n",
    "#         # Sampler\n",
    "#         if sampler is None:\n",
    "#             sampler = optuna.samplers.TPESampler(seed=self.random_state)\n",
    "        \n",
    "#         # Study\n",
    "#         study_params = {\n",
    "#             \"direction\":self.objective_direction, \n",
    "#             \"study_name\":self.name, \n",
    "#             \"sampler\":sampler, \n",
    "#             **study_kws,\n",
    "#         }\n",
    "        \n",
    "#         # Checkpoints\n",
    "#         study = None\n",
    "#         if self.checkpoint_directory:\n",
    "#             if not os.path.exists(self.checkpoint_directory):\n",
    "#                 if self.verbose > 1: self.logger.info(f\"Creating checkpoint directory: {self.checkpoint_directory}\")\n",
    "#                 os.makedirs(self.checkpoint_directory)\n",
    "#             # if self.verbose > 1: self.logger.info(\"Creating sqlite database: {}\".format(os.path.join(self.checkpoint_directory, f\"{self.name}.db\")))\n",
    "#             # study_params[\"storage\"] = \"sqlite:///\" + os.path.join(self.checkpoint_directory, f\"{self.name}.db\")\n",
    "#             # study_params[\"load_if_exists\"] = True\n",
    "        \n",
    "#             serialized_checkpoint_filepath = os.path.join(self.checkpoint_directory, f\"{self.name}-diffusionmap.pkl\")\n",
    "\n",
    "#             if os.path.exists(serialized_checkpoint_filepath):\n",
    "#                 if self.verbose > 1: self.logger.info(f\"[Loading] Checkpoint file: {serialized_checkpoint_filepath}\")\n",
    "#                 study = joblib.load(serialized_checkpoint_filepath)\n",
    "#             else:\n",
    "#                 if self.verbose > 1: self.logger.info(f\"[Creating] Checkpoint file: {serialized_checkpoint_filepath}\")\n",
    "\n",
    "#         if study is None:\n",
    "#             study = optuna.create_study(**study_params)\n",
    "\n",
    "#         if self.initial_params:\n",
    "#             if self.verbose > 1: self.logger.info(f\"Adding initial parameters to study: {self.initial_params}\")\n",
    "#             study.enqueue_trial(self.initial_params, user_attrs={\"memo\": \"initial_params\"}, skip_if_exists=True)\n",
    "            \n",
    "#         # Optimize\n",
    "#         callback_fn = stop_when_exceeding_trials(self.n_trials, self.logger)\n",
    "#         study.optimize(\n",
    "#             _objective, \n",
    "#             n_trials=self.n_trials, \n",
    "#             n_jobs=self.n_concurrent_trials,\n",
    "#             timeout=self.study_timeout, \n",
    "#             show_progress_bar=self.verbose >= 2, \n",
    "#             callbacks=self.study_callbacks + [_stop_when_exceeding_trials], \n",
    "#             gc_after_trial=True,\n",
    "#         )\n",
    "\n",
    "#         return study\n",
    "\n",
    "\n",
    "#     def fit(\n",
    "#         self,\n",
    "#         X:pd.DataFrame,\n",
    "#         y:pd.Series,\n",
    "#         distance_matrix:np.array=None,\n",
    "#         sampler=None,\n",
    "#         copy=True,\n",
    "#         **study_kws,\n",
    "#         ):\n",
    "#         def _scale_by_first_column(X: pd.DataFrame) -> pd.DataFrame:\n",
    "#             \"\"\"\n",
    "#             Scale all columns of a DataFrame (except the first one) by the first column.\n",
    "\n",
    "#             Parameters:\n",
    "#             -----------\n",
    "#             X : pd.DataFrame\n",
    "#                 Input DataFrame where the first column serves as the divisor.\n",
    "\n",
    "#             Returns:\n",
    "#             --------\n",
    "#             pd.DataFrame\n",
    "#                 A new DataFrame with the first column removed and the remaining columns scaled.\n",
    "#             \"\"\"\n",
    "#             values = X.values  # Convert to NumPy array for efficiency\n",
    "#             steady_state_vector = values[:, 0].reshape(-1, 1)  # Extract first column as divisor\n",
    "#             scaled_values = values[:, 1:] / steady_state_vector  # Perform element-wise division\n",
    "\n",
    "#             return pd.DataFrame(\n",
    "#                 scaled_values, \n",
    "#                 index=X.index, \n",
    "#                 columns=X.columns[1:]  # Remove first column name from new DataFrame\n",
    "#             )\n",
    "        \n",
    "#         # Check inputs\n",
    "#         if not np.all(X.shape[0] == y.size):\n",
    "#             raise IndexError(\"X.shape[0] must equal y.size\")\n",
    "#         if not np.all(X.index == y.index):\n",
    "#             raise IndexError(\"X.index must equal y.index\")\n",
    "#         if not isinstance(y, pd.CategoricalDtype):\n",
    "#             y = y.astype(\"category\")\n",
    "#         self.X_ = X.copy()\n",
    "#         self.y_ = y.copy()\n",
    "\n",
    "            \n",
    "#         # Minimum number of features\n",
    "#         if self.minimum_nfeatures > 0:\n",
    "#             if self.verbose > 0:\n",
    "#                 self.logger.info(f\"[Start] Filtering observations and classes below feature threshold: {self.minimum_nfeatures}\")\n",
    "\n",
    "#             number_of_features_per_observation = (X > 0).sum(axis=1)\n",
    "#             observations_passed_qc = number_of_features_per_observation.index[number_of_features_per_observation >= self.minimum_nfeatures]\n",
    "\n",
    "#             y = y.loc[observations_passed_qc]\n",
    "#             X = X.loc[observations_passed_qc]\n",
    "#             if self.verbose > 0:\n",
    "#                 self.logger.info(f\"[Dropping] N = {sum(number_of_features_per_observation < self.minimum_nfeatures)} observations\")\n",
    "#                 self.logger.info(f\"[Remaining] N = {y.unique()} classes\")\n",
    "#                 self.logger.info(f\"[Remaining] N = {X.shape[0]} observations\")\n",
    "#                 self.logger.info(f\"[Remaining] N = {X.shape[1]} features\")\n",
    "#                 self.logger.info(f\"[End] Filtering observations and classes below feature threshold\")\n",
    "            \n",
    "#         # Dtype\n",
    "#         if self.kernel_distance_metric == \"jaccard\":\n",
    "#             X = X.astype(bool)\n",
    "            \n",
    "#         # Distance matrix\n",
    "#         if distance_matrix is None:\n",
    "#             if self.verbose > 0:\n",
    "#                 self.logger.info(\"[Start] Processing distance matrix\")\n",
    "#             if self.kernel_distance_metric == \"euclidean\":\n",
    "#                 distance_matrix = squareform(pdist(X.values, metric=self.kernel_distance_metric))\n",
    "#             else:\n",
    "#                 distance_matrix = pairwise_distances(X=X.values, metric=self.kernel_distance_metric, n_jobs=self.n_jobs)\n",
    "            \n",
    "#         if len(distance_matrix.shape) == 1:\n",
    "#             distance_matrix = squareform(distance_matrix)\n",
    "#         if self.verbose > 0:\n",
    "#             self.logger.info(\"[End] Processing distance matrix\")\n",
    "\n",
    "#         # Store\n",
    "#         self.classes_ = y.cat.categories\n",
    "#         if copy:\n",
    "#             self.X_ = X.copy()\n",
    "#             self.y_ = y.copy()\n",
    "        \n",
    "#         # Tune\n",
    "#         if not self.is_tuned:\n",
    "#             if self.verbose > 0:\n",
    "#                 self.logger.info(\"[Begin] Hyperparameter Tuning\")\n",
    "#             self.study_ = self.tune_diffusionmap(\n",
    "#                 X=X,\n",
    "#                 y=y,\n",
    "#                 distance_matrix=distance_matrix,\n",
    "#                 sampler=sampler, \n",
    "#                 **study_kws,\n",
    "#                 )\n",
    "#             for k, v in self.study_.best_params.items():\n",
    "#                 setattr(self,k,v)\n",
    "#             if self.verbose > 0:\n",
    "#                 self.logger.info(f\"Tuned parameters (Score={self.study_.best_value}): {self.study_.best_params}\")\n",
    "#                 self.logger.info(\"[End] Hyperparameter Tuning\")\n",
    "#             self.is_tuned = True\n",
    "            \n",
    "#         # Build kernel\n",
    "#         self.kernel_ = KNeighborsKernel( \n",
    "#             metric=self.kernel_distance_metric, \n",
    "#             n_neighbors=self.n_neighbors, \n",
    "#             distance_matrix=distance_matrix, \n",
    "#             copy_distance_matrix=True,\n",
    "#         )\n",
    "\n",
    "#         # Calculate Diffusion Maps using KNeighbors\n",
    "#         self.dmap_model_ = DiffusionMaps(kernel=self.kernel_, n_eigenpairs=self.n_components+1, alpha=self.alpha)\n",
    "        \n",
    "#         # Fit\n",
    "#         dmap = self.dmap_model_.fit(X)\n",
    "\n",
    "#         # Complete\n",
    "#         dmap = self._parallel_transform(X, self.dmap_model_, progressbar_message=f\"[Parallel Transformation] Initial data\")\n",
    "#         self.diffusion_coordinates_ = pd.DataFrame(dmap, index=X.index)\n",
    "#         self.diffusion_coordinates_.columns = [f\"{self.niche_prefix}0_steady-state\"] + list(map(lambda i: f\"{self.niche_prefix}{i}\", range(1,dmap.shape[1])))\n",
    "#         self.diffusion_coordinates_.index.name = self.observation_type\n",
    "#         self.diffusion_coordinates_.columns.name = self.feature_type\n",
    "\n",
    "#         # Scale\n",
    "#         if self.scale_by_steadystate:\n",
    "#             if self.verbose > 0: self.logger.info(\"Scaling embeddings by steady-state vector\")\n",
    "#             self.diffusion_coordinates_ = _scale_by_first_column(self.diffusion_coordinates_)\n",
    "#             # Score\n",
    "#             if self.verbose > 0: self.logger.info(\"Calculating silhouette score for initial data\")\n",
    "#             self.score_ = silhouette_score(self.diffusion_coordinates_.values, y.values, metric=self.scoring_distance_metric, sample_size=None, random_state=self.random_state)\n",
    "#         else:\n",
    "#             # Score\n",
    "#             if self.verbose > 0: self.logger.info(\"Calculating silhouette score for initial data excluding steady-state vector\")\n",
    "#             self.score_ = silhouette_score(self.diffusion_coordinates_.values[:,1:], y.values, metric=self.scoring_distance_metric, sample_size=None, random_state=self.random_state)\n",
    "            \n",
    "# #         # Setting n_neighbors to \"None\" leads to an automatic choice shown below in \"parameter\" section\n",
    "# #         self.pacmap_model_ = pacmap.PaCMAP(\n",
    "# #             n_components=n_components, \n",
    "# #             n_neighbors=n_neighbors, \n",
    "# #             MN_ratio=MN_ratio, \n",
    "# #             FP_ratio=FP_ratio,\n",
    "# #         ) \n",
    "# #         dataframes = list()\n",
    "# #         if include_initial_data:\n",
    "# #             dataframes.append(self.X_)\n",
    "\n",
    "# #         X = pd.concat(dataframes, axis=0)\n",
    "\n",
    "# #         if not self.scale_by_steadystate:\n",
    "# #             X = X.iloc[:,1:]\n",
    "\n",
    "# #         # fit the data (The index of transformed data corresponds to the index of the original data)\n",
    "# #         self.pacmap_embedding_ = pacmap_model.fit_transform(X, init=\"pca\")\n",
    "# #         self.pacmap_embedding_ = pd.DataFrame(self.pacmap_embedding_, index=X.index)\n",
    "# #         self.pacmap_embedding_.columns = self.pacmap_embedding_.columns.map(lambda i: f\"PaCMAP-{i+1}\")\n",
    "        \n",
    "#         self.is_fitted = True\n",
    "\n",
    "#         return self\n",
    "    \n",
    "    \n",
    "#     def transform(\n",
    "#         self,\n",
    "#         X,\n",
    "#         progressbar_message=None,\n",
    "#         ):\n",
    "#         if not self.is_fitted:\n",
    "#             raise Exception(\"Please run .fit to build DiffusionMap model before continuing\")\n",
    "#         dmap = self._parallel_transform(self, X, dmap_model_, progressbar_message=progressbar_message)\n",
    "#         if isinstance(X, pd.DataFrame):\n",
    "#             X_dmap = pd.DataFrame(dmap, index=X.index)\n",
    "#             X_dmap.columns = [f\"{self.niche_prefix}0_steady-state\"] + list(map(lambda i: f\"{self.niche_prefix}{i}\", range(1,dmap.shape[1])))\n",
    "#             X_dmap.index.name = self.observation_type\n",
    "#             X_dmap.columns.name = self.feature_type\n",
    "#         else:\n",
    "#             return dmap\n",
    "    \n",
    "#     def qualitative_transform(\n",
    "#         self, \n",
    "#         n_components=3,\n",
    "#         n_neighbors=None,\n",
    "#         MN_ratio=0.5, \n",
    "#         FP_ratio=2.0,\n",
    "#         include_initial_data=True,\n",
    "#         ):\n",
    "#         if not self.is_fitted:\n",
    "#             raise Exception(\"Please run .fit to build DiffusionMap model before continuing\")\n",
    "            \n",
    "#         if hasattr(self, \"pacmap_embedding_\"):\n",
    "#             return self.pacmap_embedding_\n",
    "#         else:\n",
    "#             # initializing the pacmap instance\n",
    "#             # Setting n_neighbors to \"None\" leads to an automatic choice shown below in \"parameter\" section\n",
    "#             pacmap_model = pacmap.PaCMAP(\n",
    "#                 n_components=n_components, \n",
    "#                 n_neighbors=n_neighbors, \n",
    "#                 MN_ratio=MN_ratio, \n",
    "#                 FP_ratio=FP_ratio,\n",
    "#             ) \n",
    "#             dataframes = list()\n",
    "#             if include_initial_data:\n",
    "#                 dataframes.append(self.X_)\n",
    "\n",
    "#             X = pd.concat(dataframes, axis=0)\n",
    "\n",
    "#             if not self.scale_by_steadystate:\n",
    "#                 X = X.iloc[:,1:]\n",
    "\n",
    "#             # fit the data (The index of transformed data corresponds to the index of the original data)\n",
    "#             self.pacmap_embedding_ = pacmap_model.fit_transform(X, init=\"pca\")\n",
    "#             self.pacmap_embedding_ = pd.DataFrame(self.pacmap_embedding_, index=X.index)\n",
    "#             self.pacmap_embedding_.columns = self.pacmap_embedding_.columns.map(lambda i: f\"PaCMAP-{i+1}\")\n",
    "#             return self.pacmap_embedding_\n",
    "    \n",
    "#     def _process_row(self, model, row):\n",
    "#         \"\"\"Helper function to apply model.transform to a single row\"\"\"\n",
    "#         return model.transform(row.reshape(1, -1))\n",
    "\n",
    "#     def _parallel_transform(self, X, model, progressbar_message=None):\n",
    "#         \"\"\"Parallelizes the transformation using joblib\"\"\"\n",
    "#         with warnings.catch_warnings():\n",
    "#             warnings.filterwarnings(\"ignore\", category=UserWarning, message=\"X does not have valid feature names\")\n",
    "#             output = joblib.Parallel(n_jobs=self.n_jobs, prefer=\"threads\")(\n",
    "#                 joblib.delayed(self._process_row)(model, row.values) for id, row in tqdm(X.iterrows(), desc=progressbar_message, total=X.shape[0], position=0, leave=True)\n",
    "#             )\n",
    "#             return np.vstack(output)\n",
    "        \n",
    "#     def plot_qualitative(\n",
    "#         self, \n",
    "#         n_dimensions:int=3,\n",
    "#         engine:str=\"matplotlib\",\n",
    "#         figsize=(8,8),\n",
    "#         title=None,\n",
    "#         **kws,\n",
    "#         ):\n",
    "#         if not hasattr(self, \"pacmap_embedding_\"):\n",
    "#             raise Exception(\"Please run .qualitative_transform to compute PaCMAP embeddings before continuing\")\n",
    "#         if engine == \"matplotlib\":\n",
    "#             import matplotlib.pyplot as plt\n",
    "#             from mpl_toolkits.mplot3d import Axes3D        \n",
    "            \n",
    "#             \"\"\"\n",
    "#             Plots a 3D scatter plot using matplotlib from a DataFrame with exactly three columns.\n",
    "\n",
    "#             Parameters:\n",
    "#             -----------\n",
    "#             df : pd.DataFrame\n",
    "#                 A DataFrame with three numerical columns representing X, Y, and Z coordinates.\n",
    "#             title : str, optional\n",
    "#                 Title of the plot (default is \"3D Scatter Plot\").\n",
    "#             \"\"\"\n",
    "#             fig = plt.figure(figsize=figsize)\n",
    "#             ax = fig.add_subplot(111, projection='3d')\n",
    "\n",
    "#             # Extract X, Y, Z from DataFrame\n",
    "#             df = self.pacmap_embedding_\n",
    "#             x, y, z = df.iloc[:, 0], df.iloc[:, 1], df.iloc[:, 2]\n",
    "            \n",
    "#             c = df.index.map(lambda x: {True:\"red\", False:\"black\"}[x in self.classes_])\n",
    "\n",
    "#             # Scatter plot\n",
    "#             ax.scatter(x, y, z, c=c, alpha=0.618, **kws)\n",
    "\n",
    "#             # Labels and title\n",
    "#             ax.set_xlabel(df.columns[0])\n",
    "#             ax.set_ylabel(df.columns[1])\n",
    "#             ax.set_zlabel(df.columns[2])\n",
    "#             if title:\n",
    "#                 ax.set_title(title)\n",
    "\n",
    "#             return fig, ax\n",
    "        \n",
    "#     # def annotate(self):\n",
    "\n",
    "#     def to_file(self, filepath):\n",
    "#         write_pickle(self, filepath)\n"
   ]
  }
 ],
 "metadata": {
  "kernelspec": {
   "display_name": "conda_mns",
   "language": "python",
   "name": "conda_mns"
  },
  "language_info": {
   "codemirror_mode": {
    "name": "ipython",
    "version": 3
   },
   "file_extension": ".py",
   "mimetype": "text/x-python",
   "name": "python",
   "nbconvert_exporter": "python",
   "pygments_lexer": "ipython3",
   "version": "3.9.21"
  }
 },
 "nbformat": 4,
 "nbformat_minor": 5
}
