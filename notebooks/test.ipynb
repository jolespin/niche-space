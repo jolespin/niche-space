{
 "cells": [
  {
   "cell_type": "code",
   "execution_count": 3,
   "id": "c60662bf-2081-4a83-8c78-a4cb46f035fd",
   "metadata": {
    "tags": []
   },
   "outputs": [],
   "source": [
    "import numpy as np\n",
    "import pandas as pd\n",
    "from sklearn.model_selection import train_test_split\n",
    "from pyexeggutor import read_pickle\n",
    "from nichespace.neighbors import (\n",
    "    pairwise_distances_kneighbors,\n",
    "    KNeighborsLeidenClustering,\n",
    ")\n",
    "\n",
    "# # Load real boolean data and create toy dataset\n",
    "# n_observations = 500\n",
    "\n",
    "# X_grouped = pd.read_csv(\"../test/X_grouped.tsv.gz\", sep=\"\\t\", index_col=0) > 0\n",
    "# X_toy = X_grouped.iloc[:n_observations]\n",
    "# X_training, X_testing = train_test_split(X_toy, test_size=0.3)\n",
    "\n",
    "# # Precompute pairwise distances\n",
    "# metric=\"jaccard\"\n",
    "\n",
    "# distances = pairwise_distances_kneighbors(\n",
    "#     X=X_training,\n",
    "#     metric=metric, \n",
    "#     n_jobs=-1,\n",
    "#     redundant_form=True,\n",
    "# )\n",
    "\n",
    "# # Determine parameter range\n",
    "# n = distances.shape[0]\n",
    "# n_neighbors_params = [\n",
    "#     int,\n",
    "#     int(np.log(n)),\n",
    "#     int(np.sqrt(n)/2),\n",
    "# ]\n",
    "\n",
    "# # Bayesian-optimized KNN Leiden Clustering\n",
    "# clustering = KNeighborsLeidenClustering(\n",
    "#     name=\"jaccard_similarity_clustering\", \n",
    "#     feature_type=\"ko\", \n",
    "#     observation_type=\"ani-cluster\", \n",
    "#     class_type=\"LeidenCluster\", \n",
    "#     n_neighbors=n_neighbors_params, \n",
    "#     n_trials=5, \n",
    "#     n_jobs=-1,\n",
    "# )\n",
    "# clustering.fit(distances)\n",
    "# # 2025-02-26 20:32:48,057 - jaccard_similarity_clustering - INFO - [End] Processing distance matrix\n",
    "# # 2025-02-26 20:32:48,058 - jaccard_similarity_clustering - INFO - [Begin] Hyperparameter Tuning\n",
    "# # [I 2025-02-26 20:32:48,059] A new study created in memory with name: jaccard_similarity_clustering\n",
    "# # [I 2025-02-26 20:32:48,586] Trial 0 finished with value: 0.11658078543607725 and parameters: {'n_neighbors': 7}. Best is trial 0 with value: 0.11658078543607725.\n",
    "# # [I 2025-02-26 20:32:49,269] Trial 1 finished with value: 0.13545759217183717 and parameters: {'n_neighbors': 8}. Best is trial 1 with value: 0.13545759217183717.\n",
    "# # [I 2025-02-26 20:32:49,955] Trial 2 finished with value: 0.13545759217183717 and parameters: {'n_neighbors': 8}. Best is trial 1 with value: 0.13545759217183717.\n",
    "# # [I 2025-02-26 20:32:50,614] Trial 3 finished with value: 0.11658078543607725 and parameters: {'n_neighbors': 7}. Best is trial 1 with value: 0.13545759217183717.\n",
    "# # [I 2025-02-26 20:32:51,279] Trial 4 finished with value: 0.11658078543607725 and parameters: {'n_neighbors': 7}. Best is trial 1 with value: 0.13545759217183717.\n",
    "# # 2025-02-26 20:32:51,407 - jaccard_similarity_clustering - WARNING - [Callback] Stopping optimization: 5 trials reached (limit=5)\n",
    "# # 2025-02-26 20:32:51,408 - jaccard_similarity_clustering - INFO - Tuned parameters (Score=0.13545759217183717): {'n_neighbors': 8}\n",
    "# # 2025-02-26 20:32:51,408 - jaccard_similarity_clustering - INFO - [End] Hyperparameter Tuning\n",
    "# # Community detection: 100%|██████████| 10/10 [00:00<00:00, 53.60it/s]\n",
    "# # =============================================================================================================\n",
    "# # KNeighborsLeidenClustering(Name:jaccard_similarity_clustering, ObservationType: ani-cluster, FeatureType: ko)\n",
    "# # =============================================================================================================\n",
    "# #     * initial_distance_metric: precomputed\n",
    "# #     * scoring_distance_metric: euclidean\n",
    "# #     * cluster_prefix: c\n",
    "# #     * checkpoint_directory: None\n",
    "# #     * n_neighbors: 8\n",
    "# #     * score: 0.13545759217183717\n",
    "# #     * n_observations: 350\n",
    "# #     * n_clusters: 11\n",
    "# clustering.to_file(\"../test/objects/KNeighborsLeidenClustering.pkl\")\n",
    "clustering = KNeighborsLeidenClustering.from_file(\"../test/objects/KNeighborsLeidenClustering.pkl\")"
   ]
  },
  {
   "cell_type": "code",
   "execution_count": 6,
   "id": "c9d202d3-7885-4b80-8cf4-437ec0da0f26",
   "metadata": {
    "tags": []
   },
   "outputs": [],
   "source": [
    "# test = read_pickle(\"../data/training/completeness_gte90.contamination_lt5/NAL-GDB_MNS_v2.SLC-MFC.HierarchicalNicheSpace.pkl\")"
   ]
  },
  {
   "cell_type": "code",
   "execution_count": 9,
   "id": "f346ebc0-0866-4fbc-8f32-6a860e4c1a73",
   "metadata": {
    "tags": []
   },
   "outputs": [],
   "source": [
    "import numpy as np\n",
    "import pandas as pd\n",
    "from nichespace.manifold import HierarchicalNicheSpace\n",
    "\n",
    "# Load real boolean data\n",
    "n = 1000 # Just use a few samples for the test\n",
    "X = pd.read_csv(\"../test/X.tsv.gz\", sep=\"\\t\", index_col=0) > 0\n",
    "Y = pd.read_csv(\"../test/Y.tsv.gz\", sep=\"\\t\", index_col=0)\n",
    "X = X.iloc[:n]\n",
    "Y = Y.iloc[:n]\n",
    "y1 = Y[\"id_cluster-ani\"]\n",
    "y2 = Y[\"id_cluster-mfc\"]\n",
    "\n",
    "n, m = X.shape\n",
    "model_name=\"test\"\n",
    "# hns = HierarchicalNicheSpace(\n",
    "#     observation_type=\"genome\",\n",
    "#     feature_type=\"ko\",\n",
    "#     class1_type=\"ani-cluster\",\n",
    "#     class2_type=\"mfc-cluster\",\n",
    "#     name=model_name,\n",
    "#     n_neighbors=[int, int(np.log(n)), int(np.sqrt(n)/2)],\n",
    "#     n_trials=2,\n",
    "#     n_jobs=-1,\n",
    "#     verbose=3,\n",
    "# )\n",
    "# hns.fit(X, y1, y2)\n",
    "# # Grouping rows by: 100%|██████████| 2124/2124 [00:00<00:00, 5243.35 column/s]\n",
    "# # 2025-02-26 21:07:53,967 - test - INFO - [Start] Filtering observations and classes below feature threshold: 100\n",
    "# # 2025-02-26 21:07:53,974 - test - INFO - [Dropping] N = 6 y1 classes\n",
    "# # 2025-02-26 21:07:53,975 - test - INFO - [Dropping] N = 9 observations\n",
    "# # 2025-02-26 21:07:53,977 - test - INFO - [Remaining] N = 769 y1 classes\n",
    "# # 2025-02-26 21:07:53,978 - test - INFO - [Remaining] N = 48 y2 classes\n",
    "# # 2025-02-26 21:07:53,978 - test - INFO - [Remaining] N = 991 observations\n",
    "# # 2025-02-26 21:07:53,980 - test - INFO - [Remaining] N = 2124 features\n",
    "# # 2025-02-26 21:07:53,980 - test - INFO - [End] Filtering observations and classes below feature threshold\n",
    "# # 2025-02-26 21:07:53,986 - test - INFO - [Start] Processing distance matrix\n",
    "\n",
    "# # 2025-02-26 21:07:54,858 - test - INFO - [End] Processing distance matrix\n",
    "# # 2025-02-26 21:07:54,862 - test - INFO - [Begin] Hyperparameter Tuning\n",
    "# # [I 2025-02-26 21:07:54,864] A new study created in memory with name: test\n",
    "# #   0%|          | 0/2 [00:00<?, ?it/s]\n",
    "# # 2025-02-26 21:07:54,867 - test - INFO - [Trial 0] Fitting Diffision Map: n_neighbors=11, n_components=75, alpha=0.6027633760716439\n",
    "# # 2025-02-26 21:07:55,000 - test - INFO - [Trial 0] Transforming observations: n_neighbors=11, n_components=75, alpha=0.6027633760716439\n",
    "# # [Trial 0] Projecting initial data into diffusion space: 100%|██████████| 991/991 [00:04<00:00, 230.01it/s]\n",
    "# # 2025-02-26 21:07:59,395 - test - INFO - [Trial 0] Calculating silhouette score: n_neighbors=11, n_components=75, alpha=0.6027633760716439\n",
    "\n",
    "# #   0%|          | 0/2 [00:04<?, ?it/s]\n",
    "# # [I 2025-02-26 21:07:59,410] Trial 0 finished with value: 0.05362523711445728 and parameters: {'n_neighbors': 11, 'n_components': 75, 'alpha': 0.6027633760716439}. Best is trial 0 with value: 0.05362523711445728.\n",
    "# # Best trial: 0. Best value: 0.0536252:  50%|█████     | 1/2 [00:04<00:04,  4.88s/it]\n",
    "# # 2025-02-26 21:07:59,746 - test - INFO - [Trial 1] Fitting Diffision Map: n_neighbors=11, n_components=48, alpha=0.6458941130666561\n",
    "# # 2025-02-26 21:07:59,851 - test - INFO - [Trial 1] Transforming observations: n_neighbors=11, n_components=48, alpha=0.6458941130666561\n",
    "# # [Trial 1] Projecting initial data into diffusion space: 100%|██████████| 991/991 [00:03<00:00, 254.23it/s]\n",
    "# # 2025-02-26 21:08:03,821 - test - INFO - [Trial 1] Calculating silhouette score: n_neighbors=11, n_components=48, alpha=0.6458941130666561\n",
    "\n",
    "# # Best trial: 0. Best value: 0.0536252:  50%|█████     | 1/2 [00:08<00:04,  4.88s/it]\n",
    "# # [I 2025-02-26 21:08:03,843] Trial 1 finished with value: 0.030161153756859602 and parameters: {'n_neighbors': 11, 'n_components': 48, 'alpha': 0.6458941130666561}. Best is trial 0 with value: 0.05362523711445728.\n",
    "# # 2025-02-26 21:08:04,183 - test - WARNING - [Callback] Stopping optimization: 2 trials reached (limit=2)\n",
    "# # Best trial: 0. Best value: 0.0536252: 100%|██████████| 2/2 [00:09<00:00,  4.66s/it]\n",
    "# # 2025-02-26 21:08:04,186 - test - INFO - Tuned parameters (Score=0.05362523711445728): {'n_neighbors': 11, 'n_components': 75, 'alpha': 0.6027633760716439}\n",
    "# # 2025-02-26 21:08:04,187 - test - INFO - [End] Hyperparameter Tuning\n",
    "\n",
    "# # [Parallel Transformation] Grouped data: 100%|██████████| 769/769 [00:03<00:00, 253.23it/s]\n",
    "# # [Parallel Transformation] Initial data: 100%|██████████| 991/991 [00:03<00:00, 249.25it/s]\n",
    "# # 2025-02-26 21:08:11,519 - test - INFO - Scaling embeddings by steady-state vector\n",
    "# # 2025-02-26 21:08:11,521 - test - INFO - Calculating silhouette score for initial data\n",
    "# # =============================================================================================================================\n",
    "# # HierarchicalNicheSpace(Name:test, ObservationType: genome, FeatureType: ko, Class1Type: ani-cluster, Class2Type: mfc-cluster)\n",
    "# # =============================================================================================================================\n",
    "# #     * kernel_distance_metric: jaccard\n",
    "# #     * scoring_distance_metric: euclidean\n",
    "# #     * niche_prefix: n\n",
    "# #     * checkpoint_directory: None\n",
    "# #     * n_neighbors: 11\n",
    "# #     * n_components: 75\n",
    "# #     * alpha: 0.6027633760716439\n",
    "# #     * score: 0.030982796217236735\n",
    "\n",
    "# # Save to disk\n",
    "# hns.to_file(\"../test/objects/HierarchicalNicheSpace.pkl\")\n",
    "\n",
    "# Load from disk\n",
    "# hns = HierarchicalNicheSpace.from_file(\"../test/objects/HierarchicalNicheSpace.pkl\")\n",
    "\n"
   ]
  },
  {
   "cell_type": "code",
   "execution_count": 12,
   "id": "1d841b99-5a66-4995-95e1-5cd20fdf96c0",
   "metadata": {
    "tags": []
   },
   "outputs": [
    {
     "name": "stderr",
     "output_type": "stream",
     "text": [
      "Grouping rows by: 100%|██████████| 2124/2124 [00:00<00:00, 10703.53 column/s]"
     ]
    },
    {
     "name": "stdout",
     "output_type": "stream",
     "text": [
      "2025-03-06 05:55:23,064 - test - INFO - [Start] Filtering observations and classes below feature threshold: 100\n",
      "2025-03-06 05:55:23,079 - test - INFO - [Dropping] N = 6 y1 classes\n",
      "2025-03-06 05:55:23,095 - test - INFO - [Dropping] N = 9 observations\n",
      "2025-03-06 05:55:23,096 - test - INFO - [Remaining] N = 769 y1 classes\n",
      "2025-03-06 05:55:23,097 - test - INFO - [Remaining] N = 48 y2 classes\n",
      "2025-03-06 05:55:23,098 - test - INFO - [Remaining] N = 991 observations\n",
      "2025-03-06 05:55:23,099 - test - INFO - [Remaining] N = 2124 features\n",
      "2025-03-06 05:55:23,100 - test - INFO - [End] Filtering observations and classes below feature threshold\n",
      "2025-03-06 05:55:23,108 - test - INFO - [Start] Processing distance matrix\n"
     ]
    },
    {
     "name": "stderr",
     "output_type": "stream",
     "text": [
      "\n"
     ]
    },
    {
     "name": "stdout",
     "output_type": "stream",
     "text": [
      "2025-03-06 05:55:24,565 - test - INFO - [End] Processing distance matrix\n",
      "2025-03-06 05:55:24,570 - test - INFO - [Begin] Hyperparameter Tuning\n"
     ]
    },
    {
     "name": "stderr",
     "output_type": "stream",
     "text": [
      "[I 2025-03-06 05:55:24,574] A new study created in memory with name: test\n",
      "  0%|          | 0/2 [00:00<?, ?it/s]"
     ]
    },
    {
     "name": "stdout",
     "output_type": "stream",
     "text": [
      "2025-03-06 05:55:24,582 - test - INFO - [Trial 0] Fitting Diffision Map: n_neighbors=11, n_components=75, alpha=0.6027633760716439\n",
      "2025-03-06 05:55:30,068 - test - INFO - [Trial 0] Transforming observations: n_neighbors=11, n_components=75, alpha=0.6027633760716439\n"
     ]
    },
    {
     "name": "stderr",
     "output_type": "stream",
     "text": [
      "[Trial 0] Projecting initial data into diffusion space: 100%|██████████| 991/991 [00:10<00:00, 97.59it/s] \n"
     ]
    },
    {
     "name": "stdout",
     "output_type": "stream",
     "text": [
      "2025-03-06 05:55:40,562 - test - INFO - [Trial 0] Calculating silhouette score: n_neighbors=11, n_components=75, alpha=0.6027633760716439\n"
     ]
    },
    {
     "name": "stderr",
     "output_type": "stream",
     "text": [
      "  0%|          | 0/2 [00:16<?, ?it/s]"
     ]
    },
    {
     "name": "stdout",
     "output_type": "stream",
     "text": [
      "[I 2025-03-06 05:55:40,602] Trial 0 finished with value: 0.05365991273557324 and parameters: {'n_neighbors': 11, 'n_components': 75, 'alpha': 0.6027633760716439}. Best is trial 0 with value: 0.05365991273557324.\n"
     ]
    },
    {
     "name": "stderr",
     "output_type": "stream",
     "text": [
      "Best trial: 0. Best value: 0.0536599:  50%|█████     | 1/2 [00:16<00:16, 16.33s/it]"
     ]
    },
    {
     "name": "stdout",
     "output_type": "stream",
     "text": [
      "2025-03-06 05:55:40,914 - test - INFO - [Trial 1] Fitting Diffision Map: n_neighbors=11, n_components=48, alpha=0.6458941130666561\n",
      "2025-03-06 05:55:41,585 - test - INFO - [Trial 1] Transforming observations: n_neighbors=11, n_components=48, alpha=0.6458941130666561\n"
     ]
    },
    {
     "name": "stderr",
     "output_type": "stream",
     "text": [
      "[Trial 1] Projecting initial data into diffusion space: 100%|██████████| 991/991 [00:10<00:00, 96.28it/s] \n"
     ]
    },
    {
     "name": "stdout",
     "output_type": "stream",
     "text": [
      "2025-03-06 05:55:52,213 - test - INFO - [Trial 1] Calculating silhouette score: n_neighbors=11, n_components=48, alpha=0.6458941130666561\n"
     ]
    },
    {
     "name": "stderr",
     "output_type": "stream",
     "text": [
      "Best trial: 0. Best value: 0.0536599:  50%|█████     | 1/2 [00:27<00:16, 16.33s/it]"
     ]
    },
    {
     "name": "stdout",
     "output_type": "stream",
     "text": [
      "[I 2025-03-06 05:55:52,254] Trial 1 finished with value: -0.018726694200695056 and parameters: {'n_neighbors': 11, 'n_components': 48, 'alpha': 0.6458941130666561}. Best is trial 0 with value: 0.05365991273557324.\n",
      "2025-03-06 05:55:52,590 - test - WARNING - [Callback] Stopping optimization: 2 trials reached (limit=2)\n"
     ]
    },
    {
     "name": "stderr",
     "output_type": "stream",
     "text": [
      "Best trial: 0. Best value: 0.0536599: 100%|██████████| 2/2 [00:28<00:00, 14.01s/it]"
     ]
    },
    {
     "name": "stdout",
     "output_type": "stream",
     "text": [
      "2025-03-06 05:55:52,596 - test - INFO - Tuned parameters (Score=0.05365991273557324): {'n_neighbors': 11, 'n_components': 75, 'alpha': 0.6027633760716439}\n",
      "2025-03-06 05:55:52,597 - test - INFO - [End] Hyperparameter Tuning\n"
     ]
    },
    {
     "name": "stderr",
     "output_type": "stream",
     "text": [
      "\n",
      "[Parallel Transformation] Grouped data: 100%|██████████| 769/769 [00:08<00:00, 95.20it/s] \n",
      "[Parallel Transformation] Initial data: 100%|██████████| 991/991 [00:10<00:00, 96.22it/s] \n"
     ]
    },
    {
     "name": "stdout",
     "output_type": "stream",
     "text": [
      "2025-03-06 05:56:15,133 - test - INFO - Scaling embeddings by steady-state vector\n",
      "2025-03-06 05:56:15,136 - test - INFO - Calculating silhouette score for initial data\n"
     ]
    },
    {
     "name": "stderr",
     "output_type": "stream",
     "text": [
      "Grouping rows by: 100%|██████████| 2124/2124 [00:00<00:00, 10930.71 column/s]"
     ]
    },
    {
     "name": "stdout",
     "output_type": "stream",
     "text": [
      "2025-03-06 05:56:15,451 - test - INFO - [Start] Filtering observations and classes below feature threshold: 100\n",
      "2025-03-06 05:56:15,466 - test - INFO - [Dropping] N = 6 y1 classes\n",
      "2025-03-06 05:56:15,482 - test - INFO - [Dropping] N = 9 observations\n",
      "2025-03-06 05:56:15,484 - test - INFO - [Remaining] N = 769 y1 classes\n",
      "2025-03-06 05:56:15,485 - test - INFO - [Remaining] N = 48 y2 classes\n",
      "2025-03-06 05:56:15,485 - test - INFO - [Remaining] N = 991 observations\n",
      "2025-03-06 05:56:15,486 - test - INFO - [Remaining] N = 2124 features\n",
      "2025-03-06 05:56:15,487 - test - INFO - [End] Filtering observations and classes below feature threshold\n",
      "2025-03-06 05:56:15,496 - test - INFO - [Start] Processing distance matrix\n"
     ]
    },
    {
     "name": "stderr",
     "output_type": "stream",
     "text": [
      "\n"
     ]
    },
    {
     "name": "stdout",
     "output_type": "stream",
     "text": [
      "2025-03-06 05:56:16,987 - test - INFO - [End] Processing distance matrix\n"
     ]
    },
    {
     "name": "stderr",
     "output_type": "stream",
     "text": [
      "[Parallel Transformation] Grouped data: 100%|██████████| 769/769 [00:07<00:00, 98.05it/s] \n",
      "[Parallel Transformation] Initial data: 100%|██████████| 991/991 [00:10<00:00, 91.80it/s] \n"
     ]
    },
    {
     "name": "stdout",
     "output_type": "stream",
     "text": [
      "2025-03-06 05:56:43,621 - test - INFO - Scaling embeddings by steady-state vector\n",
      "2025-03-06 05:56:43,623 - test - INFO - Calculating silhouette score for initial data\n"
     ]
    },
    {
     "name": "stderr",
     "output_type": "stream",
     "text": [
      "Grouping rows by: 100%|██████████| 2124/2124 [00:00<00:00, 19935.07 column/s]"
     ]
    },
    {
     "name": "stdout",
     "output_type": "stream",
     "text": [
      "2025-03-06 05:56:43,868 - test - INFO - [Start] Filtering observations and classes below feature threshold: 100\n",
      "2025-03-06 05:56:43,883 - test - INFO - [Dropping] N = 6 y1 classes\n",
      "2025-03-06 05:56:43,884 - test - INFO - [Dropping] N = 9 observations\n",
      "2025-03-06 05:56:43,886 - test - INFO - [Remaining] N = 769 y1 classes\n",
      "2025-03-06 05:56:43,887 - test - INFO - [Remaining] N = 48 y2 classes\n",
      "2025-03-06 05:56:43,889 - test - INFO - [Remaining] N = 991 observations\n",
      "2025-03-06 05:56:43,889 - test - INFO - [Remaining] N = 2124 features\n",
      "2025-03-06 05:56:43,890 - test - INFO - [End] Filtering observations and classes below feature threshold\n",
      "2025-03-06 05:56:43,899 - test - INFO - [Start] Processing distance matrix\n"
     ]
    },
    {
     "name": "stderr",
     "output_type": "stream",
     "text": [
      "\n"
     ]
    },
    {
     "name": "stdout",
     "output_type": "stream",
     "text": [
      "2025-03-06 05:56:45,342 - test - INFO - [End] Processing distance matrix\n"
     ]
    },
    {
     "name": "stderr",
     "output_type": "stream",
     "text": [
      "[Parallel Transformation] Grouped data: 100%|██████████| 769/769 [00:08<00:00, 90.06it/s]\n",
      "[Parallel Transformation] Initial data: 100%|██████████| 991/991 [00:10<00:00, 94.83it/s] \n"
     ]
    },
    {
     "name": "stdout",
     "output_type": "stream",
     "text": [
      "2025-03-06 05:57:12,614 - test - INFO - Scaling embeddings by steady-state vector\n",
      "2025-03-06 05:57:12,616 - test - INFO - Calculating silhouette score for initial data\n"
     ]
    },
    {
     "name": "stderr",
     "output_type": "stream",
     "text": [
      "Grouping rows by: 100%|██████████| 2124/2124 [00:00<00:00, 16948.07 column/s]"
     ]
    },
    {
     "name": "stdout",
     "output_type": "stream",
     "text": [
      "2025-03-06 05:57:12,887 - test - INFO - [Start] Filtering observations and classes below feature threshold: 100\n",
      "2025-03-06 05:57:12,907 - test - INFO - [Dropping] N = 6 y1 classes\n",
      "2025-03-06 05:57:12,908 - test - INFO - [Dropping] N = 9 observations\n",
      "2025-03-06 05:57:12,910 - test - INFO - [Remaining] N = 769 y1 classes\n",
      "2025-03-06 05:57:12,911 - test - INFO - [Remaining] N = 48 y2 classes\n",
      "2025-03-06 05:57:12,912 - test - INFO - [Remaining] N = 991 observations\n",
      "2025-03-06 05:57:12,913 - test - INFO - [Remaining] N = 2124 features\n",
      "2025-03-06 05:57:12,914 - test - INFO - [End] Filtering observations and classes below feature threshold\n",
      "2025-03-06 05:57:12,924 - test - INFO - [Start] Processing distance matrix\n"
     ]
    },
    {
     "name": "stderr",
     "output_type": "stream",
     "text": [
      "\n"
     ]
    },
    {
     "name": "stdout",
     "output_type": "stream",
     "text": [
      "2025-03-06 05:57:14,355 - test - INFO - [End] Processing distance matrix\n"
     ]
    },
    {
     "name": "stderr",
     "output_type": "stream",
     "text": [
      "[Parallel Transformation] Grouped data: 100%|██████████| 769/769 [00:08<00:00, 92.93it/s] \n",
      "[Parallel Transformation] Initial data: 100%|██████████| 991/991 [00:10<00:00, 92.96it/s] \n"
     ]
    },
    {
     "name": "stdout",
     "output_type": "stream",
     "text": [
      "2025-03-06 05:57:40,761 - test - INFO - Scaling embeddings by steady-state vector\n",
      "2025-03-06 05:57:40,764 - test - INFO - Calculating silhouette score for initial data\n"
     ]
    },
    {
     "name": "stderr",
     "output_type": "stream",
     "text": [
      "Grouping rows by: 100%|██████████| 2124/2124 [00:00<00:00, 11380.37 column/s]\n"
     ]
    },
    {
     "name": "stdout",
     "output_type": "stream",
     "text": [
      "2025-03-06 05:57:41,072 - test - INFO - [Start] Filtering observations and classes below feature threshold: 100\n",
      "2025-03-06 05:57:41,094 - test - INFO - [Dropping] N = 6 y1 classes\n",
      "2025-03-06 05:57:41,110 - test - INFO - [Dropping] N = 9 observations\n",
      "2025-03-06 05:57:41,114 - test - INFO - [Remaining] N = 769 y1 classes\n",
      "2025-03-06 05:57:41,117 - test - INFO - [Remaining] N = 48 y2 classes\n",
      "2025-03-06 05:57:41,120 - test - INFO - [Remaining] N = 991 observations\n",
      "2025-03-06 05:57:41,123 - test - INFO - [Remaining] N = 2124 features\n",
      "2025-03-06 05:57:41,124 - test - INFO - [End] Filtering observations and classes below feature threshold\n",
      "2025-03-06 05:57:41,133 - test - INFO - [Start] Processing distance matrix\n",
      "2025-03-06 05:57:42,616 - test - INFO - [End] Processing distance matrix\n"
     ]
    },
    {
     "name": "stderr",
     "output_type": "stream",
     "text": [
      "[Parallel Transformation] Grouped data: 100%|██████████| 769/769 [00:08<00:00, 94.53it/s] \n",
      "[Parallel Transformation] Initial data: 100%|██████████| 991/991 [00:10<00:00, 92.80it/s] \n"
     ]
    },
    {
     "name": "stdout",
     "output_type": "stream",
     "text": [
      "2025-03-06 05:58:09,544 - test - INFO - Scaling embeddings by steady-state vector\n",
      "2025-03-06 05:58:09,547 - test - INFO - Calculating silhouette score for initial data\n"
     ]
    },
    {
     "name": "stderr",
     "output_type": "stream",
     "text": [
      "Grouping rows by: 100%|██████████| 2124/2124 [00:00<00:00, 23241.57 column/s]"
     ]
    },
    {
     "name": "stdout",
     "output_type": "stream",
     "text": [
      "2025-03-06 05:58:09,771 - test - INFO - [Start] Filtering observations and classes below feature threshold: 100\n",
      "2025-03-06 05:58:09,791 - test - INFO - [Dropping] N = 6 y1 classes\n",
      "2025-03-06 05:58:09,792 - test - INFO - [Dropping] N = 9 observations\n",
      "2025-03-06 05:58:09,794 - test - INFO - [Remaining] N = 769 y1 classes\n",
      "2025-03-06 05:58:09,795 - test - INFO - [Remaining] N = 48 y2 classes\n",
      "2025-03-06 05:58:09,796 - test - INFO - [Remaining] N = 991 observations\n",
      "2025-03-06 05:58:09,797 - test - INFO - [Remaining] N = 2124 features\n",
      "2025-03-06 05:58:09,798 - test - INFO - [End] Filtering observations and classes below feature threshold\n",
      "2025-03-06 05:58:09,806 - test - INFO - [Start] Processing distance matrix\n"
     ]
    },
    {
     "name": "stderr",
     "output_type": "stream",
     "text": [
      "\n"
     ]
    },
    {
     "name": "stdout",
     "output_type": "stream",
     "text": [
      "2025-03-06 05:58:11,236 - test - INFO - [End] Processing distance matrix\n"
     ]
    },
    {
     "name": "stderr",
     "output_type": "stream",
     "text": [
      "[Parallel Transformation] Grouped data: 100%|██████████| 769/769 [00:07<00:00, 96.97it/s] \n",
      "[Parallel Transformation] Initial data: 100%|██████████| 991/991 [00:10<00:00, 98.07it/s] \n"
     ]
    },
    {
     "name": "stdout",
     "output_type": "stream",
     "text": [
      "2025-03-06 05:58:36,415 - test - INFO - Scaling embeddings by steady-state vector\n",
      "2025-03-06 05:58:36,417 - test - INFO - Calculating silhouette score for initial data\n"
     ]
    },
    {
     "name": "stderr",
     "output_type": "stream",
     "text": [
      "Grouping rows by: 100%|██████████| 2124/2124 [00:00<00:00, 15715.99 column/s]"
     ]
    },
    {
     "name": "stdout",
     "output_type": "stream",
     "text": [
      "2025-03-06 05:58:36,666 - test - INFO - [Start] Filtering observations and classes below feature threshold: 100\n",
      "2025-03-06 05:58:36,693 - test - INFO - [Dropping] N = 6 y1 classes\n",
      "2025-03-06 05:58:36,695 - test - INFO - [Dropping] N = 9 observations\n",
      "2025-03-06 05:58:36,696 - test - INFO - [Remaining] N = 769 y1 classes\n",
      "2025-03-06 05:58:36,698 - test - INFO - [Remaining] N = 48 y2 classes\n",
      "2025-03-06 05:58:36,699 - test - INFO - [Remaining] N = 991 observations\n",
      "2025-03-06 05:58:36,715 - test - INFO - [Remaining] N = 2124 features\n",
      "2025-03-06 05:58:36,716 - test - INFO - [End] Filtering observations and classes below feature threshold\n"
     ]
    },
    {
     "name": "stderr",
     "output_type": "stream",
     "text": [
      "\n"
     ]
    },
    {
     "name": "stdout",
     "output_type": "stream",
     "text": [
      "2025-03-06 05:58:36,725 - test - INFO - [Start] Processing distance matrix\n",
      "2025-03-06 05:58:38,154 - test - INFO - [End] Processing distance matrix\n"
     ]
    },
    {
     "name": "stderr",
     "output_type": "stream",
     "text": [
      "[Parallel Transformation] Grouped data: 100%|██████████| 769/769 [00:07<00:00, 98.29it/s] \n",
      "[Parallel Transformation] Initial data: 100%|██████████| 991/991 [00:10<00:00, 92.50it/s] \n"
     ]
    },
    {
     "name": "stdout",
     "output_type": "stream",
     "text": [
      "2025-03-06 05:59:00,267 - test - INFO - Scaling embeddings by steady-state vector\n",
      "2025-03-06 05:59:00,271 - test - INFO - Calculating silhouette score for initial data\n"
     ]
    },
    {
     "name": "stderr",
     "output_type": "stream",
     "text": [
      "Grouping rows by: 100%|██████████| 2124/2124 [00:00<00:00, 23696.95 column/s]"
     ]
    },
    {
     "name": "stdout",
     "output_type": "stream",
     "text": [
      "2025-03-06 05:59:00,424 - test - INFO - [Start] Filtering observations and classes below feature threshold: 100\n",
      "2025-03-06 05:59:00,441 - test - INFO - [Dropping] N = 6 y1 classes\n",
      "2025-03-06 05:59:00,442 - test - INFO - [Dropping] N = 9 observations\n",
      "2025-03-06 05:59:00,444 - test - INFO - [Remaining] N = 769 y1 classes\n",
      "2025-03-06 05:59:00,445 - test - INFO - [Remaining] N = 48 y2 classes\n",
      "2025-03-06 05:59:00,446 - test - INFO - [Remaining] N = 991 observations\n",
      "2025-03-06 05:59:00,447 - test - INFO - [Remaining] N = 2124 features\n",
      "2025-03-06 05:59:00,448 - test - INFO - [End] Filtering observations and classes below feature threshold\n",
      "2025-03-06 05:59:00,457 - test - INFO - [Start] Processing distance matrix\n"
     ]
    },
    {
     "name": "stderr",
     "output_type": "stream",
     "text": [
      "\n"
     ]
    },
    {
     "name": "stdout",
     "output_type": "stream",
     "text": [
      "2025-03-06 05:59:01,916 - test - INFO - [End] Processing distance matrix\n"
     ]
    },
    {
     "name": "stderr",
     "output_type": "stream",
     "text": [
      "[Parallel Transformation] Grouped data: 100%|██████████| 769/769 [00:08<00:00, 93.35it/s] \n",
      "[Parallel Transformation] Initial data: 100%|██████████| 991/991 [00:10<00:00, 95.27it/s] \n"
     ]
    },
    {
     "name": "stdout",
     "output_type": "stream",
     "text": [
      "2025-03-06 05:59:24,674 - test - INFO - Scaling embeddings by steady-state vector\n",
      "2025-03-06 05:59:24,676 - test - INFO - Calculating silhouette score for initial data\n",
      "27.1 s ± 1.98 s per loop (mean ± std. dev. of 7 runs, 1 loop each)\n"
     ]
    }
   ],
   "source": [
    "hns = HierarchicalNicheSpace(\n",
    "    observation_type=\"genome\",\n",
    "    feature_type=\"ko\",\n",
    "    class1_type=\"ani-cluster\",\n",
    "    class2_type=\"mfc-cluster\",\n",
    "    name=model_name,\n",
    "    n_neighbors=[int, int(np.log(n)), int(np.sqrt(n)/2)],\n",
    "    n_trials=2,\n",
    "    n_jobs=-1,\n",
    "    verbose=3,\n",
    "    parallel_backend=\"threads\",\n",
    ")\n",
    "%timeit hns.fit(X, y1, y2)"
   ]
  },
  {
   "cell_type": "code",
   "execution_count": 13,
   "id": "2b7444fb-eca7-4ab8-b0b1-b0ef75ff9f84",
   "metadata": {
    "tags": []
   },
   "outputs": [
    {
     "name": "stderr",
     "output_type": "stream",
     "text": [
      "Grouping rows by: 100%|██████████| 2124/2124 [00:00<00:00, 15413.49 column/s]"
     ]
    },
    {
     "name": "stdout",
     "output_type": "stream",
     "text": [
      "2025-03-06 05:59:24,932 - test - INFO - [Start] Filtering observations and classes below feature threshold: 100\n",
      "2025-03-06 05:59:24,948 - test - INFO - [Dropping] N = 6 y1 classes\n",
      "2025-03-06 05:59:24,949 - test - INFO - [Dropping] N = 9 observations\n",
      "2025-03-06 05:59:24,951 - test - INFO - [Remaining] N = 769 y1 classes\n",
      "2025-03-06 05:59:24,952 - test - INFO - [Remaining] N = 48 y2 classes\n",
      "2025-03-06 05:59:24,953 - test - INFO - [Remaining] N = 991 observations\n",
      "2025-03-06 05:59:24,954 - test - INFO - [Remaining] N = 2124 features\n",
      "2025-03-06 05:59:24,955 - test - INFO - [End] Filtering observations and classes below feature threshold\n",
      "2025-03-06 05:59:24,964 - test - INFO - [Start] Processing distance matrix\n"
     ]
    },
    {
     "name": "stderr",
     "output_type": "stream",
     "text": [
      "\n"
     ]
    },
    {
     "name": "stdout",
     "output_type": "stream",
     "text": [
      "2025-03-06 05:59:26,458 - test - INFO - [End] Processing distance matrix\n",
      "2025-03-06 05:59:26,464 - test - INFO - [Begin] Hyperparameter Tuning\n"
     ]
    },
    {
     "name": "stderr",
     "output_type": "stream",
     "text": [
      "[I 2025-03-06 05:59:26,466] A new study created in memory with name: test\n",
      "  0%|          | 0/2 [00:00<?, ?it/s]"
     ]
    },
    {
     "name": "stdout",
     "output_type": "stream",
     "text": [
      "2025-03-06 05:59:26,470 - test - INFO - [Trial 0] Fitting Diffision Map: n_neighbors=11, n_components=75, alpha=0.6027633760716439\n",
      "2025-03-06 05:59:33,995 - test - INFO - [Trial 0] Transforming observations: n_neighbors=11, n_components=75, alpha=0.6027633760716439\n",
      "2025-03-06 05:59:33,997 - test - ERROR - [Trial 0] Failed due to error: prefer=loky is not a valid backend hint, expected one of ('processes', 'threads', None). Marking as pruned.\n"
     ]
    },
    {
     "name": "stderr",
     "output_type": "stream",
     "text": [
      "  0%|          | 0/2 [00:07<?, ?it/s]"
     ]
    },
    {
     "name": "stdout",
     "output_type": "stream",
     "text": [
      "[I 2025-03-06 05:59:33,998] Trial 0 pruned. \n"
     ]
    },
    {
     "name": "stderr",
     "output_type": "stream",
     "text": [
      " 50%|█████     | 1/2 [00:07<00:07,  7.90s/it]"
     ]
    },
    {
     "name": "stdout",
     "output_type": "stream",
     "text": [
      "2025-03-06 05:59:34,372 - test - INFO - [Trial 1] Fitting Diffision Map: n_neighbors=11, n_components=48, alpha=0.6458941130666561\n",
      "2025-03-06 05:59:39,392 - test - INFO - [Trial 1] Transforming observations: n_neighbors=11, n_components=48, alpha=0.6458941130666561\n",
      "2025-03-06 05:59:39,394 - test - ERROR - [Trial 1] Failed due to error: prefer=loky is not a valid backend hint, expected one of ('processes', 'threads', None). Marking as pruned.\n"
     ]
    },
    {
     "name": "stderr",
     "output_type": "stream",
     "text": [
      " 50%|█████     | 1/2 [00:12<00:07,  7.90s/it]"
     ]
    },
    {
     "name": "stdout",
     "output_type": "stream",
     "text": [
      "[I 2025-03-06 05:59:39,396] Trial 1 pruned. \n"
     ]
    },
    {
     "name": "stderr",
     "output_type": "stream",
     "text": [
      "100%|██████████| 2/2 [00:13<00:00,  6.65s/it]\n"
     ]
    },
    {
     "ename": "ValueError",
     "evalue": "No trials are completed yet.",
     "output_type": "error",
     "traceback": [
      "\u001b[0;31m---------------------------------------------------------------------------\u001b[0m",
      "\u001b[0;31mValueError\u001b[0m                                Traceback (most recent call last)",
      "Cell \u001b[0;32mIn[13], line 13\u001b[0m\n\u001b[1;32m      1\u001b[0m hns \u001b[38;5;241m=\u001b[39m HierarchicalNicheSpace(\n\u001b[1;32m      2\u001b[0m     observation_type\u001b[38;5;241m=\u001b[39m\u001b[38;5;124m\"\u001b[39m\u001b[38;5;124mgenome\u001b[39m\u001b[38;5;124m\"\u001b[39m,\n\u001b[1;32m      3\u001b[0m     feature_type\u001b[38;5;241m=\u001b[39m\u001b[38;5;124m\"\u001b[39m\u001b[38;5;124mko\u001b[39m\u001b[38;5;124m\"\u001b[39m,\n\u001b[0;32m   (...)\u001b[0m\n\u001b[1;32m     11\u001b[0m     parallel_backend\u001b[38;5;241m=\u001b[39m\u001b[38;5;124m\"\u001b[39m\u001b[38;5;124mloky\u001b[39m\u001b[38;5;124m\"\u001b[39m,\n\u001b[1;32m     12\u001b[0m )\n\u001b[0;32m---> 13\u001b[0m \u001b[43mget_ipython\u001b[49m\u001b[43m(\u001b[49m\u001b[43m)\u001b[49m\u001b[38;5;241;43m.\u001b[39;49m\u001b[43mrun_line_magic\u001b[49m\u001b[43m(\u001b[49m\u001b[38;5;124;43m'\u001b[39;49m\u001b[38;5;124;43mtimeit\u001b[39;49m\u001b[38;5;124;43m'\u001b[39;49m\u001b[43m,\u001b[49m\u001b[43m \u001b[49m\u001b[38;5;124;43m'\u001b[39;49m\u001b[38;5;124;43mhns.fit(X, y1, y2)\u001b[39;49m\u001b[38;5;124;43m'\u001b[39;49m\u001b[43m)\u001b[49m\n",
      "File \u001b[0;32m~/SageMaker/environments/mns/lib/python3.9/site-packages/IPython/core/interactiveshell.py:2456\u001b[0m, in \u001b[0;36mInteractiveShell.run_line_magic\u001b[0;34m(self, magic_name, line, _stack_depth)\u001b[0m\n\u001b[1;32m   2454\u001b[0m     kwargs[\u001b[38;5;124m'\u001b[39m\u001b[38;5;124mlocal_ns\u001b[39m\u001b[38;5;124m'\u001b[39m] \u001b[38;5;241m=\u001b[39m \u001b[38;5;28mself\u001b[39m\u001b[38;5;241m.\u001b[39mget_local_scope(stack_depth)\n\u001b[1;32m   2455\u001b[0m \u001b[38;5;28;01mwith\u001b[39;00m \u001b[38;5;28mself\u001b[39m\u001b[38;5;241m.\u001b[39mbuiltin_trap:\n\u001b[0;32m-> 2456\u001b[0m     result \u001b[38;5;241m=\u001b[39m \u001b[43mfn\u001b[49m\u001b[43m(\u001b[49m\u001b[38;5;241;43m*\u001b[39;49m\u001b[43margs\u001b[49m\u001b[43m,\u001b[49m\u001b[43m \u001b[49m\u001b[38;5;241;43m*\u001b[39;49m\u001b[38;5;241;43m*\u001b[39;49m\u001b[43mkwargs\u001b[49m\u001b[43m)\u001b[49m\n\u001b[1;32m   2458\u001b[0m \u001b[38;5;66;03m# The code below prevents the output from being displayed\u001b[39;00m\n\u001b[1;32m   2459\u001b[0m \u001b[38;5;66;03m# when using magics with decorator @output_can_be_silenced\u001b[39;00m\n\u001b[1;32m   2460\u001b[0m \u001b[38;5;66;03m# when the last Python token in the expression is a ';'.\u001b[39;00m\n\u001b[1;32m   2461\u001b[0m \u001b[38;5;28;01mif\u001b[39;00m \u001b[38;5;28mgetattr\u001b[39m(fn, magic\u001b[38;5;241m.\u001b[39mMAGIC_OUTPUT_CAN_BE_SILENCED, \u001b[38;5;28;01mFalse\u001b[39;00m):\n",
      "File \u001b[0;32m~/SageMaker/environments/mns/lib/python3.9/site-packages/IPython/core/magics/execution.py:1185\u001b[0m, in \u001b[0;36mExecutionMagics.timeit\u001b[0;34m(self, line, cell, local_ns)\u001b[0m\n\u001b[1;32m   1183\u001b[0m \u001b[38;5;28;01mfor\u001b[39;00m index \u001b[38;5;129;01min\u001b[39;00m \u001b[38;5;28mrange\u001b[39m(\u001b[38;5;241m0\u001b[39m, \u001b[38;5;241m10\u001b[39m):\n\u001b[1;32m   1184\u001b[0m     number \u001b[38;5;241m=\u001b[39m \u001b[38;5;241m10\u001b[39m \u001b[38;5;241m*\u001b[39m\u001b[38;5;241m*\u001b[39m index\n\u001b[0;32m-> 1185\u001b[0m     time_number \u001b[38;5;241m=\u001b[39m \u001b[43mtimer\u001b[49m\u001b[38;5;241;43m.\u001b[39;49m\u001b[43mtimeit\u001b[49m\u001b[43m(\u001b[49m\u001b[43mnumber\u001b[49m\u001b[43m)\u001b[49m\n\u001b[1;32m   1186\u001b[0m     \u001b[38;5;28;01mif\u001b[39;00m time_number \u001b[38;5;241m>\u001b[39m\u001b[38;5;241m=\u001b[39m \u001b[38;5;241m0.2\u001b[39m:\n\u001b[1;32m   1187\u001b[0m         \u001b[38;5;28;01mbreak\u001b[39;00m\n",
      "File \u001b[0;32m~/SageMaker/environments/mns/lib/python3.9/site-packages/IPython/core/magics/execution.py:173\u001b[0m, in \u001b[0;36mTimer.timeit\u001b[0;34m(self, number)\u001b[0m\n\u001b[1;32m    171\u001b[0m gc\u001b[38;5;241m.\u001b[39mdisable()\n\u001b[1;32m    172\u001b[0m \u001b[38;5;28;01mtry\u001b[39;00m:\n\u001b[0;32m--> 173\u001b[0m     timing \u001b[38;5;241m=\u001b[39m \u001b[38;5;28;43mself\u001b[39;49m\u001b[38;5;241;43m.\u001b[39;49m\u001b[43minner\u001b[49m\u001b[43m(\u001b[49m\u001b[43mit\u001b[49m\u001b[43m,\u001b[49m\u001b[43m \u001b[49m\u001b[38;5;28;43mself\u001b[39;49m\u001b[38;5;241;43m.\u001b[39;49m\u001b[43mtimer\u001b[49m\u001b[43m)\u001b[49m\n\u001b[1;32m    174\u001b[0m \u001b[38;5;28;01mfinally\u001b[39;00m:\n\u001b[1;32m    175\u001b[0m     \u001b[38;5;28;01mif\u001b[39;00m gcold:\n",
      "File \u001b[0;32m<magic-timeit>:1\u001b[0m, in \u001b[0;36minner\u001b[0;34m(_it, _timer)\u001b[0m\n",
      "File \u001b[0;32m~/SageMaker/environments/mns/lib/python3.9/site-packages/nichespace/manifold.py:876\u001b[0m, in \u001b[0;36mHierarchicalNicheSpace.fit\u001b[0;34m(self, X, y1, y2, distance_matrix, sampler, copy, **study_kws)\u001b[0m\n\u001b[1;32m    866\u001b[0m     \u001b[38;5;28mself\u001b[39m\u001b[38;5;241m.\u001b[39mlogger\u001b[38;5;241m.\u001b[39minfo(\u001b[38;5;124m\"\u001b[39m\u001b[38;5;124m[Begin] Hyperparameter Tuning\u001b[39m\u001b[38;5;124m\"\u001b[39m)\n\u001b[1;32m    868\u001b[0m \u001b[38;5;28mself\u001b[39m\u001b[38;5;241m.\u001b[39mstudy_ \u001b[38;5;241m=\u001b[39m \u001b[38;5;28mself\u001b[39m\u001b[38;5;241m.\u001b[39mtune(\n\u001b[1;32m    869\u001b[0m     X\u001b[38;5;241m=\u001b[39mX,\n\u001b[1;32m    870\u001b[0m     y\u001b[38;5;241m=\u001b[39my,\n\u001b[0;32m   (...)\u001b[0m\n\u001b[1;32m    874\u001b[0m     \u001b[38;5;241m*\u001b[39m\u001b[38;5;241m*\u001b[39mstudy_kws,\n\u001b[1;32m    875\u001b[0m     )\n\u001b[0;32m--> 876\u001b[0m \u001b[38;5;28;01mfor\u001b[39;00m k, v \u001b[38;5;129;01min\u001b[39;00m \u001b[38;5;28;43mself\u001b[39;49m\u001b[38;5;241;43m.\u001b[39;49m\u001b[43mstudy_\u001b[49m\u001b[38;5;241;43m.\u001b[39;49m\u001b[43mbest_params\u001b[49m\u001b[38;5;241m.\u001b[39mitems():\n\u001b[1;32m    877\u001b[0m     \u001b[38;5;28msetattr\u001b[39m(\u001b[38;5;28mself\u001b[39m,k,v)\n\u001b[1;32m    878\u001b[0m \u001b[38;5;28;01mif\u001b[39;00m \u001b[38;5;28mself\u001b[39m\u001b[38;5;241m.\u001b[39mverbose \u001b[38;5;241m>\u001b[39m \u001b[38;5;241m0\u001b[39m:\n",
      "File \u001b[0;32m~/SageMaker/environments/mns/lib/python3.9/site-packages/optuna/study/study.py:119\u001b[0m, in \u001b[0;36mStudy.best_params\u001b[0;34m(self)\u001b[0m\n\u001b[1;32m    107\u001b[0m \u001b[38;5;129m@property\u001b[39m\n\u001b[1;32m    108\u001b[0m \u001b[38;5;28;01mdef\u001b[39;00m\u001b[38;5;250m \u001b[39m\u001b[38;5;21mbest_params\u001b[39m(\u001b[38;5;28mself\u001b[39m) \u001b[38;5;241m-\u001b[39m\u001b[38;5;241m>\u001b[39m \u001b[38;5;28mdict\u001b[39m[\u001b[38;5;28mstr\u001b[39m, Any]:\n\u001b[1;32m    109\u001b[0m \u001b[38;5;250m    \u001b[39m\u001b[38;5;124;03m\"\"\"Return parameters of the best trial in the study.\u001b[39;00m\n\u001b[1;32m    110\u001b[0m \n\u001b[1;32m    111\u001b[0m \u001b[38;5;124;03m    .. note::\u001b[39;00m\n\u001b[0;32m   (...)\u001b[0m\n\u001b[1;32m    116\u001b[0m \n\u001b[1;32m    117\u001b[0m \u001b[38;5;124;03m    \"\"\"\u001b[39;00m\n\u001b[0;32m--> 119\u001b[0m     \u001b[38;5;28;01mreturn\u001b[39;00m \u001b[38;5;28;43mself\u001b[39;49m\u001b[38;5;241;43m.\u001b[39;49m\u001b[43mbest_trial\u001b[49m\u001b[38;5;241m.\u001b[39mparams\n",
      "File \u001b[0;32m~/SageMaker/environments/mns/lib/python3.9/site-packages/optuna/study/study.py:162\u001b[0m, in \u001b[0;36mStudy.best_trial\u001b[0;34m(self)\u001b[0m\n\u001b[1;32m    156\u001b[0m \u001b[38;5;28;01mif\u001b[39;00m \u001b[38;5;28mself\u001b[39m\u001b[38;5;241m.\u001b[39m_is_multi_objective():\n\u001b[1;32m    157\u001b[0m     \u001b[38;5;28;01mraise\u001b[39;00m \u001b[38;5;167;01mRuntimeError\u001b[39;00m(\n\u001b[1;32m    158\u001b[0m         \u001b[38;5;124m\"\u001b[39m\u001b[38;5;124mA single best trial cannot be retrieved from a multi-objective study. Consider \u001b[39m\u001b[38;5;124m\"\u001b[39m\n\u001b[1;32m    159\u001b[0m         \u001b[38;5;124m\"\u001b[39m\u001b[38;5;124musing Study.best_trials to retrieve a list containing the best trials.\u001b[39m\u001b[38;5;124m\"\u001b[39m\n\u001b[1;32m    160\u001b[0m     )\n\u001b[0;32m--> 162\u001b[0m best_trial \u001b[38;5;241m=\u001b[39m \u001b[38;5;28;43mself\u001b[39;49m\u001b[38;5;241;43m.\u001b[39;49m\u001b[43m_storage\u001b[49m\u001b[38;5;241;43m.\u001b[39;49m\u001b[43mget_best_trial\u001b[49m\u001b[43m(\u001b[49m\u001b[38;5;28;43mself\u001b[39;49m\u001b[38;5;241;43m.\u001b[39;49m\u001b[43m_study_id\u001b[49m\u001b[43m)\u001b[49m\n\u001b[1;32m    164\u001b[0m \u001b[38;5;66;03m# If the trial with the best value is infeasible, select the best trial from all feasible\u001b[39;00m\n\u001b[1;32m    165\u001b[0m \u001b[38;5;66;03m# trials. Note that the behavior is undefined when constrained optimization without the\u001b[39;00m\n\u001b[1;32m    166\u001b[0m \u001b[38;5;66;03m# violation value in the best-valued trial.\u001b[39;00m\n\u001b[1;32m    167\u001b[0m constraints \u001b[38;5;241m=\u001b[39m best_trial\u001b[38;5;241m.\u001b[39msystem_attrs\u001b[38;5;241m.\u001b[39mget(_CONSTRAINTS_KEY)\n",
      "File \u001b[0;32m~/SageMaker/environments/mns/lib/python3.9/site-packages/optuna/storages/_in_memory.py:249\u001b[0m, in \u001b[0;36mInMemoryStorage.get_best_trial\u001b[0;34m(self, study_id)\u001b[0m\n\u001b[1;32m    246\u001b[0m best_trial_id \u001b[38;5;241m=\u001b[39m \u001b[38;5;28mself\u001b[39m\u001b[38;5;241m.\u001b[39m_studies[study_id]\u001b[38;5;241m.\u001b[39mbest_trial_id\n\u001b[1;32m    248\u001b[0m \u001b[38;5;28;01mif\u001b[39;00m best_trial_id \u001b[38;5;129;01mis\u001b[39;00m \u001b[38;5;28;01mNone\u001b[39;00m:\n\u001b[0;32m--> 249\u001b[0m     \u001b[38;5;28;01mraise\u001b[39;00m \u001b[38;5;167;01mValueError\u001b[39;00m(\u001b[38;5;124m\"\u001b[39m\u001b[38;5;124mNo trials are completed yet.\u001b[39m\u001b[38;5;124m\"\u001b[39m)\n\u001b[1;32m    250\u001b[0m \u001b[38;5;28;01melif\u001b[39;00m \u001b[38;5;28mlen\u001b[39m(\u001b[38;5;28mself\u001b[39m\u001b[38;5;241m.\u001b[39m_studies[study_id]\u001b[38;5;241m.\u001b[39mdirections) \u001b[38;5;241m>\u001b[39m \u001b[38;5;241m1\u001b[39m:\n\u001b[1;32m    251\u001b[0m     \u001b[38;5;28;01mraise\u001b[39;00m \u001b[38;5;167;01mRuntimeError\u001b[39;00m(\n\u001b[1;32m    252\u001b[0m         \u001b[38;5;124m\"\u001b[39m\u001b[38;5;124mBest trial can be obtained only for single-objective optimization.\u001b[39m\u001b[38;5;124m\"\u001b[39m\n\u001b[1;32m    253\u001b[0m     )\n",
      "\u001b[0;31mValueError\u001b[0m: No trials are completed yet."
     ]
    }
   ],
   "source": [
    "hns = HierarchicalNicheSpace(\n",
    "    observation_type=\"genome\",\n",
    "    feature_type=\"ko\",\n",
    "    class1_type=\"ani-cluster\",\n",
    "    class2_type=\"mfc-cluster\",\n",
    "    name=model_name,\n",
    "    n_neighbors=[int, int(np.log(n)), int(np.sqrt(n)/2)],\n",
    "    n_trials=2,\n",
    "    n_jobs=-1,\n",
    "    verbose=3,\n",
    "    parallel_backend=\"loky\",\n",
    ")\n",
    "%timeit hns.fit(X, y1, y2)"
   ]
  },
  {
   "cell_type": "code",
   "execution_count": 3,
   "id": "66da05fb-54fb-44a3-9766-2dede2f81f16",
   "metadata": {
    "tags": []
   },
   "outputs": [],
   "source": [
    "from metabolic_niche_space.manifold import QualitativeSpace\n",
    "\n",
    "# X_basis, y_basis = hns.get_basis()\n",
    "\n",
    "# qualitative_hns = QualitativeSpace(\n",
    "#     observation_type=\"genome\",\n",
    "#     feature_type=\"ko\",\n",
    "#     class_type=\"mfc-cluster\",\n",
    "#     name=hns.name,\n",
    "#     n_trials=3,\n",
    "#     verbose=0,\n",
    "#     n_neighbors=hns.n_neighbors, \n",
    "# )\n",
    "# qualitative_hns.fit(X_basis, y_basis)\n",
    "# # [I 2025-02-26 21:13:17,124] A new study created in memory with name: test\n",
    "# # Warning: random state is set to 0.\n",
    "# # [I 2025-02-26 21:13:21,918] Trial 0 finished with value: 0.3292269706726074 and parameters: {'MN_ratio': 0.5488135039273248, 'FP_ratio': 4, 'lr': 0.9081174303467494}. Best is trial 0 with value: 0.3292269706726074.\n",
    "# # Warning: random state is set to 0.\n",
    "# # [I 2025-02-26 21:13:26,384] Trial 1 finished with value: 0.3461191952228546 and parameters: {'MN_ratio': 0.5448831829968969, 'FP_ratio': 3, 'lr': 0.9723822284693177}. Best is trial 1 with value: 0.3461191952228546.\n",
    "# # Warning: random state is set to 0.\n",
    "# # [I 2025-02-26 21:13:32,108] Trial 2 finished with value: 0.30728310346603394 and parameters: {'MN_ratio': 0.4375872112626925, 'FP_ratio': 5, 'lr': 1.4458575131465337}. Best is trial 1 with value: 0.3461191952228546.\n",
    "# # Warning: random state is set to 0.\n",
    "# # =============================================================================================\n",
    "# # QualitativeSpace(Name:test, ObservationType: genome, FeatureType: ko, ClassType: mfc-cluster)\n",
    "# # =============================================================================================\n",
    "# #     * scoring_distance_metric: euclidean\n",
    "# #     * checkpoint_directory: None\n",
    "# #     * n_neighbors: 43\n",
    "# #     * n_components: 3\n",
    "# #     * MN_ratio: 0.5448831829968969\n",
    "# #     * FP_ratio: 3\n",
    "# #     * score: 0.3461191952228546\n",
    "\n",
    "# # Save to disk\n",
    "# qualitative_hns.to_file(\"../test/objects/QualitativeSpace.pkl\")\n",
    "\n",
    "# Load from disk\n",
    "qualitative_hns = QualitativeSpace.from_file(\"../test/objects/QualitativeSpace.pkl\")\n",
    "\n"
   ]
  },
  {
   "cell_type": "code",
   "execution_count": 4,
   "id": "5b2e881b-4701-4d2b-a416-ed5ef32ed176",
   "metadata": {
    "tags": []
   },
   "outputs": [
    {
     "name": "stderr",
     "output_type": "stream",
     "text": [
      "Running bayesian AutoML to identify relevant features:   0%|          | 0/5 [00:00<?, ?it/s]"
     ]
    },
    {
     "name": "stdout",
     "output_type": "stream",
     "text": [
      "2025-02-26 21:50:24,304 - test - INFO - [Loading] Checkpoint file: checkpoints/test.BayesianClairvoyanceRegression.n1.pkl\n",
      "2025-02-26 21:50:24,322 - test - INFO - [Loading] Checkpoint file: checkpoints/test.BayesianClairvoyanceRegression.n2.pkl\n",
      "2025-02-26 21:50:24,335 - test - INFO - [Loading] Checkpoint file: checkpoints/test.BayesianClairvoyanceRegression.n3.pkl\n",
      "2025-02-26 21:50:24,343 - test - INFO - [Creating] Checkpoint file: checkpoints/test.BayesianClairvoyanceRegression.n4.pkl\n",
      "Dropping 496 constant features based on 1 threshold: ['K00002', 'K00139', 'K00149', 'K00152', 'K00360', 'K00361', 'K00410', 'K00431', 'K00454', 'K00462', 'K00487', 'K00489', 'K00501', 'K00502', 'K00503', 'K00512', 'K00542', 'K00552', 'K00579', 'K00580', 'K00581', 'K00582', 'K00583', 'K00588', 'K00608', 'K00629', 'K00659', 'K00660', 'K00727', 'K00734', 'K00736', 'K00746', 'K00747', 'K00771', 'K00841', 'K00911', 'K00933', 'K00944', 'K00983', 'K01019', 'K01080', 'K01086', 'K01106', 'K01107', 'K01109', 'K01116', 'K01132', 'K01137', 'K01197', 'K01217', 'K01231', 'K01441', 'K01492', 'K01587', 'K01636', 'K01780', 'K01853', 'K01859', 'K01954', 'K01988', 'K02129', 'K02131', 'K02191', 'K02256', 'K02268', 'K02318', 'K02366', 'K02367', 'K02370', 'K02615', 'K02642', 'K02826', 'K02827', 'K02828', 'K02829', 'K03148', 'K03340', 'K03662', 'K03739', 'K03740', 'K03880', 'K03883', 'K03884', 'K03888', 'K03944', 'K03947', 'K03951', 'K03954', 'K03957', 'K03960', 'K03961', 'K03962', 'K03968', 'K04041', 'K04122', 'K04480', 'K04710', 'K05551', 'K05552', 'K05553', 'K05554', 'K05556', 'K05708', 'K05709', 'K05711', 'K05822', 'K05823', 'K05857', 'K05858', 'K05860', 'K06209', 'K07431', 'K07434', 'K07514', 'K07534', 'K07536', 'K07539', 'K07540', 'K07545', 'K07548', 'K07549', 'K07819', 'K07964', 'K08074', 'K08168', 'K08170', 'K08265', 'K08689', 'K08690', 'K08693', 'K08721', 'K08969', 'K09473', 'K09476', 'K09479', 'K09591', 'K09654', 'K09753', 'K09754', 'K09778', 'K09840', 'K09841', 'K10105', 'K10158', 'K10214', 'K10222', 'K10247', 'K10249', 'K10250', 'K10525', 'K10616', 'K10618', 'K10619', 'K10620', 'K10621', 'K10622', 'K10623', 'K10931', 'K10934', 'K10944', 'K10945', 'K10946', 'K10952', 'K10962', 'K10965', 'K10978', 'K11002', 'K11023', 'K11351', 'K11440', 'K11539', 'K11540', 'K11787', 'K12109', 'K12250', 'K12309', 'K12343', 'K12348', 'K12420', 'K12526', 'K12673', 'K12674', 'K12675', 'K12676', 'K12691', 'K12977', 'K13037', 'K13065', 'K13222', 'K13260', 'K13273', 'K13310', 'K13312', 'K13313', 'K13316', 'K13318', 'K13327', 'K13328', 'K13329', 'K13370', 'K13380', 'K13402', 'K13403', 'K13479', 'K13480', 'K13497', 'K13499', 'K13508', 'K13523', 'K13543', 'K13632', 'K13712', 'K13713', 'K13767', 'K13809', 'K13853', 'K13937', 'K13942', 'K13997', 'K14028', 'K14029', 'K14073', 'K14074', 'K14081', 'K14156', 'K14188', 'K14250', 'K14251', 'K14253', 'K14254', 'K14268', 'K14423', 'K14465', 'K14468', 'K14469', 'K14578', 'K14579', 'K14580', 'K14581', 'K14582', 'K14583', 'K14585', 'K14627', 'K14628', 'K14629', 'K14631', 'K14632', 'K14659', 'K14974', 'K15019', 'K15020', 'K15052', 'K15230', 'K15231', 'K15357', 'K15359', 'K15579', 'K15680', 'K15737', 'K15739', 'K15750', 'K15751', 'K15752', 'K15754', 'K15755', 'K15756', 'K15757', 'K15758', 'K15760', 'K15761', 'K15762', 'K15763', 'K15764', 'K15765', 'K15884', 'K15885', 'K15941', 'K15942', 'K15943', 'K15944', 'K15968', 'K15991', 'K16153', 'K16157', 'K16158', 'K16159', 'K16160', 'K16162', 'K16303', 'K16304', 'K16436', 'K16438', 'K16593', 'K16838', 'K17216', 'K17217', 'K17462', 'K17463', 'K17547', 'K17755', 'K17835', 'K18056', 'K18067', 'K18069', 'K18072', 'K18073', 'K18074', 'K18075', 'K18076', 'K18077', 'K18087', 'K18091', 'K18093', 'K18094', 'K18095', 'K18104', 'K18126', 'K18129', 'K18131', 'K18140', 'K18141', 'K18142', 'K18145', 'K18147', 'K18207', 'K18240', 'K18242', 'K18243', 'K18248', 'K18252', 'K18256', 'K18276', 'K18284', 'K18287', 'K18304', 'K18344', 'K18345', 'K18347', 'K18348', 'K18349', 'K18350', 'K18373', 'K18374', 'K18380', 'K18381', 'K18556', 'K18652', 'K18653', 'K18654', 'K18793', 'K18856', 'K18866', 'K18898', 'K18899', 'K18901', 'K18902', 'K18906', 'K18907', 'K18908', 'K18909', 'K18978', 'K19007', 'K19077', 'K19078', 'K19079', 'K19080', 'K19104', 'K19280', 'K19281', 'K19316', 'K19318', 'K19320', 'K19322', 'K19515', 'K19516', 'K19546', 'K19547', 'K19549', 'K19550', 'K19561', 'K19563', 'K19569', 'K19593', 'K19819', 'K19820', 'K19856', 'K19970', 'K19974', 'K19981', 'K19982', 'K20076', 'K20078', 'K20081', 'K20082', 'K20156', 'K20158', 'K20169', 'K20170', 'K20260', 'K20262', 'K20421', 'K20423', 'K20424', 'K20426', 'K20427', 'K20430', 'K20431', 'K20432', 'K20433', 'K20435', 'K20437', 'K20667', 'K20861', 'K20934', 'K21063', 'K21103', 'K21160', 'K21161', 'K21165', 'K21166', 'K21167', 'K21168', 'K21169', 'K21170', 'K21171', 'K21172', 'K21173', 'K21174', 'K21177', 'K21183', 'K21224', 'K21255', 'K21277', 'K21297', 'K21479', 'K21610', 'K21611', 'K21721', 'K21723', 'K21724', 'K21977', 'K22012', 'K22015', 'K22101', 'K22113', 'K22114', 'K22478', 'K22481', 'K22501', 'K22540', 'K22849', 'K22850', 'K22906', 'K22917', 'K22921', 'K22922', 'K22923', 'K22980', 'K22997', 'K22998', 'K23120', 'K23122', 'K23372', 'K23373', 'K23374', 'K23375', 'K23446', 'K23447', 'K23558', 'K23669', 'K23670', 'K23671', 'K23727', 'K23977', 'K23987', 'K23999', 'K24257', 'K24258', 'K24259', 'K24292', 'K24530', 'K24556', 'K25528', 'K25570', 'K25597', 'K25824', 'K26176', 'K26178', 'K26208', 'K26210', 'K27093', 'K27196', 'K27394', 'K27539', 'K27542', 'K27675']\n"
     ]
    },
    {
     "name": "stderr",
     "output_type": "stream",
     "text": [
      "[I 2025-02-26 21:50:25,329] A new study created in memory with name: n4|n_iter=1\n",
      "\n",
      "  0%|          | 0/3 [00:00<?, ?it/s]\u001b[A\n",
      " 33%|███▎      | 1/3 [00:01<00:02,  1.11s/it]\u001b[A\n",
      " 67%|██████▋   | 2/3 [00:01<00:00,  1.05it/s]\u001b[A\n",
      "100%|██████████| 3/3 [00:02<00:00,  1.08it/s]\u001b[A\n",
      "/home/ec2-user/SageMaker/environments/mns/lib/python3.9/site-packages/clairvoyance/feature_selection.py:811: UserWarning: remove_zero_weighted_features=True and removed 1600/1628 features\n",
      "  warnings.warn(\"remove_zero_weighted_features=True and removed {}/{} features\".format((n_features_initial - n_features_after_zero_removal), n_features_initial))\n",
      "\n",
      "Recursive feature addition:   0%|          | 0/27 [00:00<?, ?it/s]\u001b[A\n",
      "Recursive feature addition:  37%|███▋      | 10/27 [00:00<00:00, 97.66it/s]\u001b[A\n",
      "Recursive feature addition: 100%|██████████| 27/27 [00:00<00:00, 97.82it/s]\u001b[A\n",
      "/home/ec2-user/SageMaker/environments/mns/lib/python3.9/site-packages/clairvoyance/feature_selection.py:319: UserWarning: Detected 2/5 zero-weighted features in final fitted model.  Refitting to remove zero-weighted features\n",
      "  warnings.warn(\"Detected {}/{} zero-weighted features in final fitted model.  Refitting to remove zero-weighted features\".format(initial_feature_importances_equal_zero.sum(), n_features))\n",
      "[Success][Iteration=0, Try=1]: Removed all zero weighted features but the new training score declined from -0.23622476813235704 -> -0.23622476813235704. The following 3/5 features remain: ['K09838', 'K11205', 'K10245']\n"
     ]
    },
    {
     "name": "stdout",
     "output_type": "stream",
     "text": [
      "Synopsis[n4|n_iter=1] Input Features: 1628, Selected Features: 3\n",
      "Initial Training Score: -0.42405523103469217, Feature Selected Training Score: -0.23622476813235704\n",
      "Initial Testing Score: -0.5370863559581389, Feature Selected Testing Score: -0.2979406948319703\n",
      "\n"
     ]
    },
    {
     "name": "stderr",
     "output_type": "stream",
     "text": [
      "\n",
      "  0%|          | 0/3 [00:00<?, ?it/s]\u001b[A\n",
      " 33%|███▎      | 1/3 [00:00<00:00,  7.21it/s]\u001b[A\n",
      " 67%|██████▋   | 2/3 [00:00<00:00,  7.07it/s]\u001b[A\n",
      "100%|██████████| 3/3 [00:00<00:00,  7.04it/s]\u001b[A\n",
      "/home/ec2-user/SageMaker/environments/mns/lib/python3.9/site-packages/clairvoyance/feature_selection.py:811: UserWarning: remove_zero_weighted_features=True and removed 2/3 features\n",
      "  warnings.warn(\"remove_zero_weighted_features=True and removed {}/{} features\".format((n_features_initial - n_features_after_zero_removal), n_features_initial))\n",
      "\n",
      "Recursive feature addition: 0it [00:00, ?it/s]\u001b[A\n",
      "Running bayesian AutoML to identify relevant features:  80%|████████  | 4/5 [00:04<00:01,  1.19s/it]"
     ]
    },
    {
     "name": "stdout",
     "output_type": "stream",
     "text": [
      "Synopsis[n4|n_iter=2] Input Features: 3, Selected Features: 1\n",
      "Initial Training Score: -0.8885818799205075, Feature Selected Training Score: -0.8885818799205075\n",
      "Initial Testing Score: -0.9627911702539732, Feature Selected Testing Score: -0.9627911702539732\n",
      "\n",
      "2025-02-26 21:50:29,072 - test - INFO - [Creating] Checkpoint file: checkpoints/test.BayesianClairvoyanceRegression.n5.pkl\n",
      "Dropping 496 constant features based on 1 threshold: ['K00002', 'K00139', 'K00149', 'K00152', 'K00360', 'K00361', 'K00410', 'K00431', 'K00454', 'K00462', 'K00487', 'K00489', 'K00501', 'K00502', 'K00503', 'K00512', 'K00542', 'K00552', 'K00579', 'K00580', 'K00581', 'K00582', 'K00583', 'K00588', 'K00608', 'K00629', 'K00659', 'K00660', 'K00727', 'K00734', 'K00736', 'K00746', 'K00747', 'K00771', 'K00841', 'K00911', 'K00933', 'K00944', 'K00983', 'K01019', 'K01080', 'K01086', 'K01106', 'K01107', 'K01109', 'K01116', 'K01132', 'K01137', 'K01197', 'K01217', 'K01231', 'K01441', 'K01492', 'K01587', 'K01636', 'K01780', 'K01853', 'K01859', 'K01954', 'K01988', 'K02129', 'K02131', 'K02191', 'K02256', 'K02268', 'K02318', 'K02366', 'K02367', 'K02370', 'K02615', 'K02642', 'K02826', 'K02827', 'K02828', 'K02829', 'K03148', 'K03340', 'K03662', 'K03739', 'K03740', 'K03880', 'K03883', 'K03884', 'K03888', 'K03944', 'K03947', 'K03951', 'K03954', 'K03957', 'K03960', 'K03961', 'K03962', 'K03968', 'K04041', 'K04122', 'K04480', 'K04710', 'K05551', 'K05552', 'K05553', 'K05554', 'K05556', 'K05708', 'K05709', 'K05711', 'K05822', 'K05823', 'K05857', 'K05858', 'K05860', 'K06209', 'K07431', 'K07434', 'K07514', 'K07534', 'K07536', 'K07539', 'K07540', 'K07545', 'K07548', 'K07549', 'K07819', 'K07964', 'K08074', 'K08168', 'K08170', 'K08265', 'K08689', 'K08690', 'K08693', 'K08721', 'K08969', 'K09473', 'K09476', 'K09479', 'K09591', 'K09654', 'K09753', 'K09754', 'K09778', 'K09840', 'K09841', 'K10105', 'K10158', 'K10214', 'K10222', 'K10247', 'K10249', 'K10250', 'K10525', 'K10616', 'K10618', 'K10619', 'K10620', 'K10621', 'K10622', 'K10623', 'K10931', 'K10934', 'K10944', 'K10945', 'K10946', 'K10952', 'K10962', 'K10965', 'K10978', 'K11002', 'K11023', 'K11351', 'K11440', 'K11539', 'K11540', 'K11787', 'K12109', 'K12250', 'K12309', 'K12343', 'K12348', 'K12420', 'K12526', 'K12673', 'K12674', 'K12675', 'K12676', 'K12691', 'K12977', 'K13037', 'K13065', 'K13222', 'K13260', 'K13273', 'K13310', 'K13312', 'K13313', 'K13316', 'K13318', 'K13327', 'K13328', 'K13329', 'K13370', 'K13380', 'K13402', 'K13403', 'K13479', 'K13480', 'K13497', 'K13499', 'K13508', 'K13523', 'K13543', 'K13632', 'K13712', 'K13713', 'K13767', 'K13809', 'K13853', 'K13937', 'K13942', 'K13997', 'K14028', 'K14029', 'K14073', 'K14074', 'K14081', 'K14156', 'K14188', 'K14250', 'K14251', 'K14253', 'K14254', 'K14268', 'K14423', 'K14465', 'K14468', 'K14469', 'K14578', 'K14579', 'K14580', 'K14581', 'K14582', 'K14583', 'K14585', 'K14627', 'K14628', 'K14629', 'K14631', 'K14632', 'K14659', 'K14974', 'K15019', 'K15020', 'K15052', 'K15230', 'K15231', 'K15357', 'K15359', 'K15579', 'K15680', 'K15737', 'K15739', 'K15750', 'K15751', 'K15752', 'K15754', 'K15755', 'K15756', 'K15757', 'K15758', 'K15760', 'K15761', 'K15762', 'K15763', 'K15764', 'K15765', 'K15884', 'K15885', 'K15941', 'K15942', 'K15943', 'K15944', 'K15968', 'K15991', 'K16153', 'K16157', 'K16158', 'K16159', 'K16160', 'K16162', 'K16303', 'K16304', 'K16436', 'K16438', 'K16593', 'K16838', 'K17216', 'K17217', 'K17462', 'K17463', 'K17547', 'K17755', 'K17835', 'K18056', 'K18067', 'K18069', 'K18072', 'K18073', 'K18074', 'K18075', 'K18076', 'K18077', 'K18087', 'K18091', 'K18093', 'K18094', 'K18095', 'K18104', 'K18126', 'K18129', 'K18131', 'K18140', 'K18141', 'K18142', 'K18145', 'K18147', 'K18207', 'K18240', 'K18242', 'K18243', 'K18248', 'K18252', 'K18256', 'K18276', 'K18284', 'K18287', 'K18304', 'K18344', 'K18345', 'K18347', 'K18348', 'K18349', 'K18350', 'K18373', 'K18374', 'K18380', 'K18381', 'K18556', 'K18652', 'K18653', 'K18654', 'K18793', 'K18856', 'K18866', 'K18898', 'K18899', 'K18901', 'K18902', 'K18906', 'K18907', 'K18908', 'K18909', 'K18978', 'K19007', 'K19077', 'K19078', 'K19079', 'K19080', 'K19104', 'K19280', 'K19281', 'K19316', 'K19318', 'K19320', 'K19322', 'K19515', 'K19516', 'K19546', 'K19547', 'K19549', 'K19550', 'K19561', 'K19563', 'K19569', 'K19593', 'K19819', 'K19820', 'K19856', 'K19970', 'K19974', 'K19981', 'K19982', 'K20076', 'K20078', 'K20081', 'K20082', 'K20156', 'K20158', 'K20169', 'K20170', 'K20260', 'K20262', 'K20421', 'K20423', 'K20424', 'K20426', 'K20427', 'K20430', 'K20431', 'K20432', 'K20433', 'K20435', 'K20437', 'K20667', 'K20861', 'K20934', 'K21063', 'K21103', 'K21160', 'K21161', 'K21165', 'K21166', 'K21167', 'K21168', 'K21169', 'K21170', 'K21171', 'K21172', 'K21173', 'K21174', 'K21177', 'K21183', 'K21224', 'K21255', 'K21277', 'K21297', 'K21479', 'K21610', 'K21611', 'K21721', 'K21723', 'K21724', 'K21977', 'K22012', 'K22015', 'K22101', 'K22113', 'K22114', 'K22478', 'K22481', 'K22501', 'K22540', 'K22849', 'K22850', 'K22906', 'K22917', 'K22921', 'K22922', 'K22923', 'K22980', 'K22997', 'K22998', 'K23120', 'K23122', 'K23372', 'K23373', 'K23374', 'K23375', 'K23446', 'K23447', 'K23558', 'K23669', 'K23670', 'K23671', 'K23727', 'K23977', 'K23987', 'K23999', 'K24257', 'K24258', 'K24259', 'K24292', 'K24530', 'K24556', 'K25528', 'K25570', 'K25597', 'K25824', 'K26176', 'K26178', 'K26208', 'K26210', 'K27093', 'K27196', 'K27394', 'K27539', 'K27542', 'K27675']\n"
     ]
    },
    {
     "name": "stderr",
     "output_type": "stream",
     "text": [
      "\n",
      "  0%|          | 0/3 [00:00<?, ?it/s]\u001b[A\n",
      " 33%|███▎      | 1/3 [00:00<00:00,  3.22it/s]\u001b[A\n",
      " 67%|██████▋   | 2/3 [00:00<00:00,  3.15it/s]\u001b[A\n",
      "100%|██████████| 3/3 [00:00<00:00,  3.16it/s]\u001b[A\n",
      "/home/ec2-user/SageMaker/environments/mns/lib/python3.9/site-packages/clairvoyance/feature_selection.py:811: UserWarning: remove_zero_weighted_features=True and removed 1595/1628 features\n",
      "  warnings.warn(\"remove_zero_weighted_features=True and removed {}/{} features\".format((n_features_initial - n_features_after_zero_removal), n_features_initial))\n",
      "\n",
      "Recursive feature addition:   0%|          | 0/32 [00:00<?, ?it/s]\u001b[A\n",
      "Recursive feature addition:  31%|███▏      | 10/32 [00:00<00:00, 99.63it/s]\u001b[A\n",
      "Recursive feature addition:  62%|██████▎   | 20/32 [00:00<00:00, 98.92it/s]\u001b[A\n",
      "Recursive feature addition: 100%|██████████| 32/32 [00:00<00:00, 98.19it/s]\u001b[A\n"
     ]
    },
    {
     "name": "stdout",
     "output_type": "stream",
     "text": [
      "Synopsis[n5|n_iter=1] Input Features: 1628, Selected Features: 6\n",
      "Initial Training Score: -0.4117511779320573, Feature Selected Training Score: -0.4687372291773901\n",
      "Initial Testing Score: -0.3898005456827142, Feature Selected Testing Score: -0.4953916194875987\n",
      "\n"
     ]
    },
    {
     "name": "stderr",
     "output_type": "stream",
     "text": [
      "\n",
      "  0%|          | 0/3 [00:00<?, ?it/s]\u001b[A\n",
      " 33%|███▎      | 1/3 [00:00<00:00,  7.38it/s]\u001b[A\n",
      " 67%|██████▋   | 2/3 [00:00<00:00,  7.50it/s]\u001b[A\n",
      "100%|██████████| 3/3 [00:00<00:00,  7.32it/s]\u001b[A\n",
      "/home/ec2-user/SageMaker/environments/mns/lib/python3.9/site-packages/clairvoyance/feature_selection.py:811: UserWarning: remove_zero_weighted_features=True and removed 4/6 features\n",
      "  warnings.warn(\"remove_zero_weighted_features=True and removed {}/{} features\".format((n_features_initial - n_features_after_zero_removal), n_features_initial))\n",
      "\n",
      "Recursive feature addition: 100%|██████████| 1/1 [00:00<00:00, 92.41it/s]\n",
      "Running bayesian AutoML to identify relevant features: 100%|██████████| 5/5 [00:07<00:00,  1.52s/it]"
     ]
    },
    {
     "name": "stdout",
     "output_type": "stream",
     "text": [
      "Synopsis[n5|n_iter=2] Input Features: 6, Selected Features: 2\n",
      "Initial Training Score: -0.9351419239311268, Feature Selected Training Score: -0.9132294157735279\n",
      "Initial Testing Score: -0.5985545420867351, Feature Selected Testing Score: -0.981147886984271\n",
      "\n"
     ]
    },
    {
     "name": "stderr",
     "output_type": "stream",
     "text": [
      "\n"
     ]
    }
   ],
   "source": [
    "from metabolic_niche_space.manifold import (\n",
    "    EmbeddingAnnotator,\n",
    "    DEFAULT_REGRESSOR, \n",
    "    DEFAULT_REGRESSOR_PARAM_SPACE,\n",
    ")\n",
    "\n",
    "m = 5 # Just annotate a few dimensions for the test\n",
    "annotator = EmbeddingAnnotator(\n",
    "    name=hns.name,\n",
    "    observation_type=hns.observation_type,\n",
    "    feature_type=hns.feature_type,\n",
    "    embedding_type=\"HNS\",\n",
    "    estimator=DEFAULT_REGRESSOR,\n",
    "    param_space=DEFAULT_REGRESSOR_PARAM_SPACE,\n",
    "    n_trials=3,\n",
    "    n_iter=2,\n",
    "    n_concurrent_trials=1, # Not ready for > 1\n",
    "    n_jobs=-1,\n",
    "    verbose=1,\n",
    "    checkpoint_directory=\"checkpoints\",\n",
    ")\n",
    "\n",
    "annotator.fit(\n",
    "    X=hns.X_.astype(int), \n",
    "    Y=hns.diffusion_coordinates_initial_.iloc[:,:m],\n",
    "    X_testing=hns.X1_.astype(int),\n",
    "    Y_testing=hns.diffusion_coordinates_grouped_.iloc[:,:m],\n",
    ")\n",
    "# Running bayesian AutoML to identify relevant features:   0%|          | 0/5 [00:00<?, ?it/s][I 2025-02-26 21:38:15,381] A new study created in memory with name: n1|n_iter=1\n",
    "# /home/ec2-user/SageMaker/environments/mns/lib/python3.9/site-packages/clairvoyance/feature_selection.py:811: UserWarning: remove_zero_weighted_features=True and removed 1615/1628 features\n",
    "#   warnings.warn(\"remove_zero_weighted_features=True and removed {}/{} features\".format((n_features_initial - n_features_after_zero_removal), n_features_initial))\n",
    "# Synopsis[n1|n_iter=1] Input Features: 1628, Selected Features: 5\n",
    "# Initial Training Score: -0.19783516568223325, Feature Selected Training Score: -0.06881325145571217\n",
    "# Initial Testing Score: -0.23928107781121563, Feature Selected Testing Score: -0.08284976073989164\n",
    "# ...\n",
    "# home/ec2-user/SageMaker/environments/mns/lib/python3.9/site-packages/clairvoyance/feature_selection.py:811: UserWarning: remove_zero_weighted_features=True and removed 4/6 features\n",
    "#   warnings.warn(\"remove_zero_weighted_features=True and removed {}/{} features\".format((n_features_initial - n_features_after_zero_removal), n_features_initial))\n",
    "# Running bayesian AutoML to identify relevant features: 100%|██████████| 5/5 [00:15<00:00,  3.03s/it]\n",
    "# Synopsis[n5|n_iter=2] Input Features: 6, Selected Features: 2\n",
    "# Initial Training Score: -0.9351419239311268, Feature Selected Training Score: -0.9132294157735279\n",
    "# Initial Testing Score: -0.5985545420867351, Feature Selected Testing Score: -0.981147886984271\n",
    "# ===========================================================================================\n",
    "# EmbeddingAnnotator(Name:test, ObservationType: genome, FeatureType: ko, EmbeddingType: HNS)\n",
    "# ===========================================================================================\n",
    "#     * estimator: DecisionTreeRegressor(random_state=0)\n",
    "#     * param_space: {'criterion': ['categorical', ['squared_error', 'friedman_mse']], 'min_samples_leaf': [<class 'int'>, 2, 50], 'min_samples_split': [<class 'float'>, 0.0, 0.5], 'max_features': ['categorical', ['sqrt', 'log2']], 'max_depth': ['int', 5, 50], 'min_impurity_decrease': [<class 'float'>, 1e-05, 0.01, {'log': True}], 'ccp_alpha': [<class 'float'>, 1e-05, 0.01, {'log': True}]}\n",
    "#     * scorer: None\n",
    "#     * n_iter: 2\n",
    "#     * n_trials: 3\n",
    "#     * transformation: None\n",
    "#     * [X] m_features = 2124\n",
    "#     * [X] n_observations = 991\n",
    "#     * [Y] p_embeddings = 5\n",
    "#     * [X_testing] n_observations = 769\n",
    "#     * [AutoML] successful = 5\n",
    "#     * [AutoML] failed = 0\n",
    "\n",
    "# Save to disk\n",
    "annotator.to_file(\"../test/objects/EmbeddingAnnotator.pkl\")\n",
    "\n",
    "# Load from disk\n",
    "annotator = EmbeddingAnnotator.from_file(\"../test/objects/EmbeddingAnnotator.pkl\")\n",
    "\n"
   ]
  },
  {
   "cell_type": "code",
   "execution_count": 6,
   "id": "5cb758cb-a49d-40e5-a9d4-aceb0e40aeff",
   "metadata": {
    "tags": []
   },
   "outputs": [
    {
     "data": {
      "text/plain": [
       "===========================================================================================\n",
       "EmbeddingAnnotator(Name:test, ObservationType: genome, FeatureType: ko, EmbeddingType: HNS)\n",
       "===========================================================================================\n",
       "    * estimator: DecisionTreeRegressor(random_state=0)\n",
       "    * param_space: {'criterion': ['categorical', ['squared_error', 'friedman_mse']], 'min_samples_leaf': [<class 'int'>, 2, 50], 'min_samples_split': [<class 'float'>, 0.0, 0.5], 'max_features': ['categorical', ['sqrt', 'log2']], 'max_depth': ['int', 5, 50], 'min_impurity_decrease': [<class 'float'>, 1e-05, 0.01, {'log': True}], 'ccp_alpha': [<class 'float'>, 1e-05, 0.01, {'log': True}]}\n",
       "    * scorer: None\n",
       "    * n_iter: 2\n",
       "    * n_trials: 3\n",
       "    * transformation: None\n",
       "    * [X] m_features = 2124\n",
       "    * [X] n_observations = 991\n",
       "    * [Y] p_embeddings = 5\n",
       "    * [X_testing] n_observations = 769\n",
       "    * [AutoML] successful = 5\n",
       "    * [AutoML] failed = 0"
      ]
     },
     "execution_count": 6,
     "metadata": {},
     "output_type": "execute_result"
    }
   ],
   "source": [
    "annotator"
   ]
  },
  {
   "cell_type": "code",
   "execution_count": 10,
   "id": "d0b723cc-68f4-4d2f-ae8a-47e3f075f341",
   "metadata": {
    "tags": []
   },
   "outputs": [],
   "source": []
  },
  {
   "cell_type": "code",
   "execution_count": null,
   "id": "45dd2604-f68f-4276-b11a-8e2ae41c98c7",
   "metadata": {},
   "outputs": [],
   "source": []
  }
 ],
 "metadata": {
  "kernelspec": {
   "display_name": "conda_mns",
   "language": "python",
   "name": "conda_mns"
  },
  "language_info": {
   "codemirror_mode": {
    "name": "ipython",
    "version": 3
   },
   "file_extension": ".py",
   "mimetype": "text/x-python",
   "name": "python",
   "nbconvert_exporter": "python",
   "pygments_lexer": "ipython3",
   "version": "3.9.10"
  }
 },
 "nbformat": 4,
 "nbformat_minor": 5
}
